{
  "nbformat": 4,
  "nbformat_minor": 0,
  "metadata": {
    "colab": {
      "provenance": [],
      "collapsed_sections": [],
      "authorship_tag": "ABX9TyOGQ8MjN4n9npVoBbmOJac3",
      "include_colab_link": true
    },
    "kernelspec": {
      "name": "python3",
      "display_name": "Python 3"
    },
    "language_info": {
      "name": "python"
    },
    "widgets": {
      "application/vnd.jupyter.widget-state+json": {
        "9d6ba7f0f4c641409c904b374ea555ae": {
          "model_module": "@jupyter-widgets/controls",
          "model_name": "VBoxModel",
          "model_module_version": "1.5.0",
          "state": {
            "_dom_classes": [],
            "_model_module": "@jupyter-widgets/controls",
            "_model_module_version": "1.5.0",
            "_model_name": "VBoxModel",
            "_view_count": null,
            "_view_module": "@jupyter-widgets/controls",
            "_view_module_version": "1.5.0",
            "_view_name": "VBoxView",
            "box_style": "",
            "children": [
              "IPY_MODEL_7175bb4ac0a343b397158432db755149",
              "IPY_MODEL_5f7daa18f39f49c8a1a505477ee92a43"
            ],
            "layout": "IPY_MODEL_690480b7164f45d4843c449dd92407dc"
          }
        },
        "7175bb4ac0a343b397158432db755149": {
          "model_module": "@jupyter-widgets/controls",
          "model_name": "LabelModel",
          "model_module_version": "1.5.0",
          "state": {
            "_dom_classes": [],
            "_model_module": "@jupyter-widgets/controls",
            "_model_module_version": "1.5.0",
            "_model_name": "LabelModel",
            "_view_count": null,
            "_view_module": "@jupyter-widgets/controls",
            "_view_module_version": "1.5.0",
            "_view_name": "LabelView",
            "description": "",
            "description_tooltip": null,
            "layout": "IPY_MODEL_c84e757def4f4267b9420d68b08a1a3b",
            "placeholder": "​",
            "style": "IPY_MODEL_088233a0be1c459ab10735f90df86213",
            "value": "28.485 MB of 28.485 MB uploaded (0.000 MB deduped)\r"
          }
        },
        "5f7daa18f39f49c8a1a505477ee92a43": {
          "model_module": "@jupyter-widgets/controls",
          "model_name": "FloatProgressModel",
          "model_module_version": "1.5.0",
          "state": {
            "_dom_classes": [],
            "_model_module": "@jupyter-widgets/controls",
            "_model_module_version": "1.5.0",
            "_model_name": "FloatProgressModel",
            "_view_count": null,
            "_view_module": "@jupyter-widgets/controls",
            "_view_module_version": "1.5.0",
            "_view_name": "ProgressView",
            "bar_style": "",
            "description": "",
            "description_tooltip": null,
            "layout": "IPY_MODEL_8118679a2b1249c6ae31c58e1ec7076e",
            "max": 1,
            "min": 0,
            "orientation": "horizontal",
            "style": "IPY_MODEL_6eb87e3bbb5b46e8b8fb978c81c9156e",
            "value": 1
          }
        },
        "690480b7164f45d4843c449dd92407dc": {
          "model_module": "@jupyter-widgets/base",
          "model_name": "LayoutModel",
          "model_module_version": "1.2.0",
          "state": {
            "_model_module": "@jupyter-widgets/base",
            "_model_module_version": "1.2.0",
            "_model_name": "LayoutModel",
            "_view_count": null,
            "_view_module": "@jupyter-widgets/base",
            "_view_module_version": "1.2.0",
            "_view_name": "LayoutView",
            "align_content": null,
            "align_items": null,
            "align_self": null,
            "border": null,
            "bottom": null,
            "display": null,
            "flex": null,
            "flex_flow": null,
            "grid_area": null,
            "grid_auto_columns": null,
            "grid_auto_flow": null,
            "grid_auto_rows": null,
            "grid_column": null,
            "grid_gap": null,
            "grid_row": null,
            "grid_template_areas": null,
            "grid_template_columns": null,
            "grid_template_rows": null,
            "height": null,
            "justify_content": null,
            "justify_items": null,
            "left": null,
            "margin": null,
            "max_height": null,
            "max_width": null,
            "min_height": null,
            "min_width": null,
            "object_fit": null,
            "object_position": null,
            "order": null,
            "overflow": null,
            "overflow_x": null,
            "overflow_y": null,
            "padding": null,
            "right": null,
            "top": null,
            "visibility": null,
            "width": null
          }
        },
        "c84e757def4f4267b9420d68b08a1a3b": {
          "model_module": "@jupyter-widgets/base",
          "model_name": "LayoutModel",
          "model_module_version": "1.2.0",
          "state": {
            "_model_module": "@jupyter-widgets/base",
            "_model_module_version": "1.2.0",
            "_model_name": "LayoutModel",
            "_view_count": null,
            "_view_module": "@jupyter-widgets/base",
            "_view_module_version": "1.2.0",
            "_view_name": "LayoutView",
            "align_content": null,
            "align_items": null,
            "align_self": null,
            "border": null,
            "bottom": null,
            "display": null,
            "flex": null,
            "flex_flow": null,
            "grid_area": null,
            "grid_auto_columns": null,
            "grid_auto_flow": null,
            "grid_auto_rows": null,
            "grid_column": null,
            "grid_gap": null,
            "grid_row": null,
            "grid_template_areas": null,
            "grid_template_columns": null,
            "grid_template_rows": null,
            "height": null,
            "justify_content": null,
            "justify_items": null,
            "left": null,
            "margin": null,
            "max_height": null,
            "max_width": null,
            "min_height": null,
            "min_width": null,
            "object_fit": null,
            "object_position": null,
            "order": null,
            "overflow": null,
            "overflow_x": null,
            "overflow_y": null,
            "padding": null,
            "right": null,
            "top": null,
            "visibility": null,
            "width": null
          }
        },
        "088233a0be1c459ab10735f90df86213": {
          "model_module": "@jupyter-widgets/controls",
          "model_name": "DescriptionStyleModel",
          "model_module_version": "1.5.0",
          "state": {
            "_model_module": "@jupyter-widgets/controls",
            "_model_module_version": "1.5.0",
            "_model_name": "DescriptionStyleModel",
            "_view_count": null,
            "_view_module": "@jupyter-widgets/base",
            "_view_module_version": "1.2.0",
            "_view_name": "StyleView",
            "description_width": ""
          }
        },
        "8118679a2b1249c6ae31c58e1ec7076e": {
          "model_module": "@jupyter-widgets/base",
          "model_name": "LayoutModel",
          "model_module_version": "1.2.0",
          "state": {
            "_model_module": "@jupyter-widgets/base",
            "_model_module_version": "1.2.0",
            "_model_name": "LayoutModel",
            "_view_count": null,
            "_view_module": "@jupyter-widgets/base",
            "_view_module_version": "1.2.0",
            "_view_name": "LayoutView",
            "align_content": null,
            "align_items": null,
            "align_self": null,
            "border": null,
            "bottom": null,
            "display": null,
            "flex": null,
            "flex_flow": null,
            "grid_area": null,
            "grid_auto_columns": null,
            "grid_auto_flow": null,
            "grid_auto_rows": null,
            "grid_column": null,
            "grid_gap": null,
            "grid_row": null,
            "grid_template_areas": null,
            "grid_template_columns": null,
            "grid_template_rows": null,
            "height": null,
            "justify_content": null,
            "justify_items": null,
            "left": null,
            "margin": null,
            "max_height": null,
            "max_width": null,
            "min_height": null,
            "min_width": null,
            "object_fit": null,
            "object_position": null,
            "order": null,
            "overflow": null,
            "overflow_x": null,
            "overflow_y": null,
            "padding": null,
            "right": null,
            "top": null,
            "visibility": null,
            "width": null
          }
        },
        "6eb87e3bbb5b46e8b8fb978c81c9156e": {
          "model_module": "@jupyter-widgets/controls",
          "model_name": "ProgressStyleModel",
          "model_module_version": "1.5.0",
          "state": {
            "_model_module": "@jupyter-widgets/controls",
            "_model_module_version": "1.5.0",
            "_model_name": "ProgressStyleModel",
            "_view_count": null,
            "_view_module": "@jupyter-widgets/base",
            "_view_module_version": "1.2.0",
            "_view_name": "StyleView",
            "bar_color": null,
            "description_width": ""
          }
        }
      }
    }
  },
  "cells": [
    {
      "cell_type": "markdown",
      "metadata": {
        "id": "view-in-github",
        "colab_type": "text"
      },
      "source": [
        "<a href=\"https://colab.research.google.com/github/hy30n80/KERC2022/blob/main/Model5-testsubmission.ipynb\" target=\"_parent\"><img src=\"https://colab.research.google.com/assets/colab-badge.svg\" alt=\"Open In Colab\"/></a>"
      ]
    },
    {
      "cell_type": "code",
      "execution_count": 1,
      "metadata": {
        "colab": {
          "base_uri": "https://localhost:8080/"
        },
        "id": "8E_ObtXeJEMC",
        "outputId": "7a6588a0-9c5a-442f-afd6-9bea2407a397"
      },
      "outputs": [
        {
          "output_type": "stream",
          "name": "stdout",
          "text": [
            "--2022-09-20 11:04:38--  https://www.dropbox.com/s/9xls0tgtf3edgns/mecab-0.996-ko-0.9.2.tar.gz?dl=1\n",
            "Resolving www.dropbox.com (www.dropbox.com)... 162.125.3.18, 2620:100:6018:18::a27d:312\n",
            "Connecting to www.dropbox.com (www.dropbox.com)|162.125.3.18|:443... connected.\n",
            "HTTP request sent, awaiting response... 302 Found\n",
            "Location: /s/dl/9xls0tgtf3edgns/mecab-0.996-ko-0.9.2.tar.gz [following]\n",
            "--2022-09-20 11:04:39--  https://www.dropbox.com/s/dl/9xls0tgtf3edgns/mecab-0.996-ko-0.9.2.tar.gz\n",
            "Reusing existing connection to www.dropbox.com:443.\n",
            "HTTP request sent, awaiting response... 302 Found\n",
            "Location: https://uce88bdbc8a89b0cab69535350d5.dl.dropboxusercontent.com/cd/0/get/BtRcA2BYYehvJgNVWJKOTN9Ei5KQXxtt0Uj9ro9YBE51cDcO1zMVfT5_drJm2fbjyJR6oNuw8ulugfeotDATBtlMGrKTg_mMIHCs8JVAVlZnCQY-Lpu4Qh7GianffLmx38a__8aj6heC_-n6B4MtGFxiMgOByF0RcKvg_TrnHDWF0qGxTuGE8Ptt_9l8oZ9XDWA/file?dl=1# [following]\n",
            "--2022-09-20 11:04:39--  https://uce88bdbc8a89b0cab69535350d5.dl.dropboxusercontent.com/cd/0/get/BtRcA2BYYehvJgNVWJKOTN9Ei5KQXxtt0Uj9ro9YBE51cDcO1zMVfT5_drJm2fbjyJR6oNuw8ulugfeotDATBtlMGrKTg_mMIHCs8JVAVlZnCQY-Lpu4Qh7GianffLmx38a__8aj6heC_-n6B4MtGFxiMgOByF0RcKvg_TrnHDWF0qGxTuGE8Ptt_9l8oZ9XDWA/file?dl=1\n",
            "Resolving uce88bdbc8a89b0cab69535350d5.dl.dropboxusercontent.com (uce88bdbc8a89b0cab69535350d5.dl.dropboxusercontent.com)... 162.125.5.15, 2620:100:6018:15::a27d:30f\n",
            "Connecting to uce88bdbc8a89b0cab69535350d5.dl.dropboxusercontent.com (uce88bdbc8a89b0cab69535350d5.dl.dropboxusercontent.com)|162.125.5.15|:443... connected.\n",
            "HTTP request sent, awaiting response... 200 OK\n",
            "Length: 1414979 (1.3M) [application/binary]\n",
            "Saving to: ‘mecab-0.996-ko-0.9.2.tar.gz?dl=1’\n",
            "\n",
            "mecab-0.996-ko-0.9. 100%[===================>]   1.35M  4.46MB/s    in 0.3s    \n",
            "\n",
            "2022-09-20 11:04:40 (4.46 MB/s) - ‘mecab-0.996-ko-0.9.2.tar.gz?dl=1’ saved [1414979/1414979]\n",
            "\n",
            "mecab-0.996-ko-0.9.2/\n",
            "mecab-0.996-ko-0.9.2/example/\n",
            "mecab-0.996-ko-0.9.2/example/example.cpp\n",
            "mecab-0.996-ko-0.9.2/example/example_lattice.cpp\n",
            "mecab-0.996-ko-0.9.2/example/example_lattice.c\n",
            "mecab-0.996-ko-0.9.2/example/example.c\n",
            "mecab-0.996-ko-0.9.2/example/thread_test.cpp\n",
            "mecab-0.996-ko-0.9.2/mecab-config.in\n",
            "mecab-0.996-ko-0.9.2/man/\n",
            "mecab-0.996-ko-0.9.2/man/Makefile.am\n",
            "mecab-0.996-ko-0.9.2/man/mecab.1\n",
            "mecab-0.996-ko-0.9.2/man/Makefile.in\n",
            "mecab-0.996-ko-0.9.2/mecab.iss.in\n",
            "mecab-0.996-ko-0.9.2/config.guess\n",
            "mecab-0.996-ko-0.9.2/README\n",
            "mecab-0.996-ko-0.9.2/COPYING\n",
            "mecab-0.996-ko-0.9.2/CHANGES.md\n",
            "mecab-0.996-ko-0.9.2/README.md\n",
            "mecab-0.996-ko-0.9.2/INSTALL\n",
            "mecab-0.996-ko-0.9.2/config.sub\n",
            "mecab-0.996-ko-0.9.2/configure.in\n",
            "mecab-0.996-ko-0.9.2/swig/\n",
            "mecab-0.996-ko-0.9.2/swig/Makefile\n",
            "mecab-0.996-ko-0.9.2/swig/version.h.in\n",
            "mecab-0.996-ko-0.9.2/swig/version.h\n",
            "mecab-0.996-ko-0.9.2/swig/MeCab.i\n",
            "mecab-0.996-ko-0.9.2/aclocal.m4\n",
            "mecab-0.996-ko-0.9.2/LGPL\n",
            "mecab-0.996-ko-0.9.2/Makefile.am\n",
            "mecab-0.996-ko-0.9.2/configure\n",
            "mecab-0.996-ko-0.9.2/tests/\n",
            "mecab-0.996-ko-0.9.2/tests/autolink/\n",
            "mecab-0.996-ko-0.9.2/tests/autolink/unk.def\n",
            "mecab-0.996-ko-0.9.2/tests/autolink/dicrc\n",
            "mecab-0.996-ko-0.9.2/tests/autolink/dic.csv\n",
            "mecab-0.996-ko-0.9.2/tests/autolink/test\n",
            "mecab-0.996-ko-0.9.2/tests/autolink/char.def\n",
            "mecab-0.996-ko-0.9.2/tests/autolink/matrix.def\n",
            "mecab-0.996-ko-0.9.2/tests/autolink/test.gld\n",
            "mecab-0.996-ko-0.9.2/tests/t9/\n",
            "mecab-0.996-ko-0.9.2/tests/t9/unk.def\n",
            "mecab-0.996-ko-0.9.2/tests/t9/ipadic.pl\n",
            "mecab-0.996-ko-0.9.2/tests/t9/dicrc\n",
            "mecab-0.996-ko-0.9.2/tests/t9/dic.csv\n",
            "mecab-0.996-ko-0.9.2/tests/t9/test\n",
            "mecab-0.996-ko-0.9.2/tests/t9/char.def\n",
            "mecab-0.996-ko-0.9.2/tests/t9/matrix.def\n",
            "mecab-0.996-ko-0.9.2/tests/t9/mkdic.pl\n",
            "mecab-0.996-ko-0.9.2/tests/t9/test.gld\n",
            "mecab-0.996-ko-0.9.2/tests/cost-train/\n",
            "mecab-0.996-ko-0.9.2/tests/cost-train/ipa.train\n",
            "mecab-0.996-ko-0.9.2/tests/cost-train/ipa.test\n",
            "mecab-0.996-ko-0.9.2/tests/cost-train/seed/\n",
            "mecab-0.996-ko-0.9.2/tests/cost-train/seed/rewrite.def\n",
            "mecab-0.996-ko-0.9.2/tests/cost-train/seed/feature.def\n",
            "mecab-0.996-ko-0.9.2/tests/cost-train/seed/unk.def\n",
            "mecab-0.996-ko-0.9.2/tests/cost-train/seed/dicrc\n",
            "mecab-0.996-ko-0.9.2/tests/cost-train/seed/dic.csv\n",
            "mecab-0.996-ko-0.9.2/tests/cost-train/seed/char.def\n",
            "mecab-0.996-ko-0.9.2/tests/cost-train/seed/matrix.def\n",
            "mecab-0.996-ko-0.9.2/tests/run-eval.sh\n",
            "mecab-0.996-ko-0.9.2/tests/run-cost-train.sh\n",
            "mecab-0.996-ko-0.9.2/tests/Makefile.am\n",
            "mecab-0.996-ko-0.9.2/tests/katakana/\n",
            "mecab-0.996-ko-0.9.2/tests/katakana/unk.def\n",
            "mecab-0.996-ko-0.9.2/tests/katakana/dicrc\n",
            "mecab-0.996-ko-0.9.2/tests/katakana/dic.csv\n",
            "mecab-0.996-ko-0.9.2/tests/katakana/test\n",
            "mecab-0.996-ko-0.9.2/tests/katakana/char.def\n",
            "mecab-0.996-ko-0.9.2/tests/katakana/matrix.def\n",
            "mecab-0.996-ko-0.9.2/tests/katakana/test.gld\n",
            "mecab-0.996-ko-0.9.2/tests/eval/\n",
            "mecab-0.996-ko-0.9.2/tests/eval/answer\n",
            "mecab-0.996-ko-0.9.2/tests/eval/system\n",
            "mecab-0.996-ko-0.9.2/tests/eval/test.gld\n",
            "mecab-0.996-ko-0.9.2/tests/shiin/\n",
            "mecab-0.996-ko-0.9.2/tests/shiin/unk.def\n",
            "mecab-0.996-ko-0.9.2/tests/shiin/dicrc\n",
            "mecab-0.996-ko-0.9.2/tests/shiin/dic.csv\n",
            "mecab-0.996-ko-0.9.2/tests/shiin/test\n",
            "mecab-0.996-ko-0.9.2/tests/shiin/char.def\n",
            "mecab-0.996-ko-0.9.2/tests/shiin/matrix.def\n",
            "mecab-0.996-ko-0.9.2/tests/shiin/mkdic.pl\n",
            "mecab-0.996-ko-0.9.2/tests/shiin/test.gld\n",
            "mecab-0.996-ko-0.9.2/tests/latin/\n",
            "mecab-0.996-ko-0.9.2/tests/latin/unk.def\n",
            "mecab-0.996-ko-0.9.2/tests/latin/dicrc\n",
            "mecab-0.996-ko-0.9.2/tests/latin/dic.csv\n",
            "mecab-0.996-ko-0.9.2/tests/latin/test\n",
            "mecab-0.996-ko-0.9.2/tests/latin/char.def\n",
            "mecab-0.996-ko-0.9.2/tests/latin/matrix.def\n",
            "mecab-0.996-ko-0.9.2/tests/latin/test.gld\n",
            "mecab-0.996-ko-0.9.2/tests/chartype/\n",
            "mecab-0.996-ko-0.9.2/tests/chartype/unk.def\n",
            "mecab-0.996-ko-0.9.2/tests/chartype/dicrc\n",
            "mecab-0.996-ko-0.9.2/tests/chartype/dic.csv\n",
            "mecab-0.996-ko-0.9.2/tests/chartype/test\n",
            "mecab-0.996-ko-0.9.2/tests/chartype/char.def\n",
            "mecab-0.996-ko-0.9.2/tests/chartype/matrix.def\n",
            "mecab-0.996-ko-0.9.2/tests/chartype/test.gld\n",
            "mecab-0.996-ko-0.9.2/tests/run-dics.sh\n",
            "mecab-0.996-ko-0.9.2/tests/ngram/\n",
            "mecab-0.996-ko-0.9.2/tests/ngram/unk.def\n",
            "mecab-0.996-ko-0.9.2/tests/ngram/dicrc\n",
            "mecab-0.996-ko-0.9.2/tests/ngram/dic.csv\n",
            "mecab-0.996-ko-0.9.2/tests/ngram/test\n",
            "mecab-0.996-ko-0.9.2/tests/ngram/char.def\n",
            "mecab-0.996-ko-0.9.2/tests/ngram/matrix.def\n",
            "mecab-0.996-ko-0.9.2/tests/ngram/test.gld\n",
            "mecab-0.996-ko-0.9.2/tests/Makefile.in\n",
            "mecab-0.996-ko-0.9.2/ltmain.sh\n",
            "mecab-0.996-ko-0.9.2/config.rpath\n",
            "mecab-0.996-ko-0.9.2/config.h.in\n",
            "mecab-0.996-ko-0.9.2/mecabrc.in\n",
            "mecab-0.996-ko-0.9.2/GPL\n",
            "mecab-0.996-ko-0.9.2/Makefile.train\n",
            "mecab-0.996-ko-0.9.2/ChangeLog\n",
            "mecab-0.996-ko-0.9.2/install-sh\n",
            "mecab-0.996-ko-0.9.2/AUTHORS\n",
            "mecab-0.996-ko-0.9.2/doc/\n",
            "mecab-0.996-ko-0.9.2/doc/bindings.html\n",
            "mecab-0.996-ko-0.9.2/doc/posid.html\n",
            "mecab-0.996-ko-0.9.2/doc/unk.html\n",
            "mecab-0.996-ko-0.9.2/doc/learn.html\n",
            "mecab-0.996-ko-0.9.2/doc/format.html\n",
            "mecab-0.996-ko-0.9.2/doc/libmecab.html\n",
            "mecab-0.996-ko-0.9.2/doc/mecab.css\n",
            "mecab-0.996-ko-0.9.2/doc/feature.html\n",
            "mecab-0.996-ko-0.9.2/doc/Makefile.am\n",
            "mecab-0.996-ko-0.9.2/doc/soft.html\n",
            "mecab-0.996-ko-0.9.2/doc/en/\n",
            "mecab-0.996-ko-0.9.2/doc/en/bindings.html\n",
            "mecab-0.996-ko-0.9.2/doc/dic-detail.html\n",
            "mecab-0.996-ko-0.9.2/doc/flow.png\n",
            "mecab-0.996-ko-0.9.2/doc/mecab.html\n",
            "mecab-0.996-ko-0.9.2/doc/index.html\n",
            "mecab-0.996-ko-0.9.2/doc/result.png\n",
            "mecab-0.996-ko-0.9.2/doc/doxygen/\n",
            "mecab-0.996-ko-0.9.2/doc/doxygen/tab_a.png\n",
            "mecab-0.996-ko-0.9.2/doc/doxygen/globals_eval.html\n",
            "mecab-0.996-ko-0.9.2/doc/doxygen/classMeCab_1_1Tagger-members.html\n",
            "mecab-0.996-ko-0.9.2/doc/doxygen/functions_vars.html\n",
            "mecab-0.996-ko-0.9.2/doc/doxygen/doxygen.css\n",
            "mecab-0.996-ko-0.9.2/doc/doxygen/tab_r.gif\n",
            "mecab-0.996-ko-0.9.2/doc/doxygen/classMeCab_1_1Lattice.html\n",
            "mecab-0.996-ko-0.9.2/doc/doxygen/functions.html\n",
            "mecab-0.996-ko-0.9.2/doc/doxygen/classMeCab_1_1Tagger.html\n",
            "mecab-0.996-ko-0.9.2/doc/doxygen/mecab_8h_source.html\n",
            "mecab-0.996-ko-0.9.2/doc/doxygen/tabs.css\n",
            "mecab-0.996-ko-0.9.2/doc/doxygen/nav_f.png\n",
            "mecab-0.996-ko-0.9.2/doc/doxygen/tab_b.png\n",
            "mecab-0.996-ko-0.9.2/doc/doxygen/globals.html\n",
            "mecab-0.996-ko-0.9.2/doc/doxygen/nav_h.png\n",
            "mecab-0.996-ko-0.9.2/doc/doxygen/tab_h.png\n",
            "mecab-0.996-ko-0.9.2/doc/doxygen/classMeCab_1_1Model.html\n",
            "mecab-0.996-ko-0.9.2/doc/doxygen/globals_func.html\n",
            "mecab-0.996-ko-0.9.2/doc/doxygen/closed.png\n",
            "mecab-0.996-ko-0.9.2/doc/doxygen/tab_l.gif\n",
            "mecab-0.996-ko-0.9.2/doc/doxygen/structmecab__path__t-members.html\n",
            "mecab-0.996-ko-0.9.2/doc/doxygen/functions_func.html\n",
            "mecab-0.996-ko-0.9.2/doc/doxygen/globals_type.html\n",
            "mecab-0.996-ko-0.9.2/doc/doxygen/classMeCab_1_1Lattice-members.html\n",
            "mecab-0.996-ko-0.9.2/doc/doxygen/structmecab__node__t.html\n",
            "mecab-0.996-ko-0.9.2/doc/doxygen/namespacemembers_func.html\n",
            "mecab-0.996-ko-0.9.2/doc/doxygen/tab_s.png\n",
            "mecab-0.996-ko-0.9.2/doc/doxygen/structmecab__dictionary__info__t-members.html\n",
            "mecab-0.996-ko-0.9.2/doc/doxygen/namespacemembers_type.html\n",
            "mecab-0.996-ko-0.9.2/doc/doxygen/classMeCab_1_1Model-members.html\n",
            "mecab-0.996-ko-0.9.2/doc/doxygen/structmecab__dictionary__info__t.html\n",
            "mecab-0.996-ko-0.9.2/doc/doxygen/namespaces.html\n",
            "mecab-0.996-ko-0.9.2/doc/doxygen/namespacemembers.html\n",
            "mecab-0.996-ko-0.9.2/doc/doxygen/namespaceMeCab.html\n",
            "mecab-0.996-ko-0.9.2/doc/doxygen/structmecab__path__t.html\n",
            "mecab-0.996-ko-0.9.2/doc/doxygen/files.html\n",
            "mecab-0.996-ko-0.9.2/doc/doxygen/structmecab__node__t-members.html\n",
            "mecab-0.996-ko-0.9.2/doc/doxygen/index.html\n",
            "mecab-0.996-ko-0.9.2/doc/doxygen/annotated.html\n",
            "mecab-0.996-ko-0.9.2/doc/doxygen/globals_defs.html\n",
            "mecab-0.996-ko-0.9.2/doc/doxygen/classes.html\n",
            "mecab-0.996-ko-0.9.2/doc/doxygen/mecab_8h-source.html\n",
            "mecab-0.996-ko-0.9.2/doc/doxygen/doxygen.png\n",
            "mecab-0.996-ko-0.9.2/doc/doxygen/tab_b.gif\n",
            "mecab-0.996-ko-0.9.2/doc/doxygen/bc_s.png\n",
            "mecab-0.996-ko-0.9.2/doc/doxygen/open.png\n",
            "mecab-0.996-ko-0.9.2/doc/doxygen/mecab_8h.html\n",
            "mecab-0.996-ko-0.9.2/doc/dic.html\n",
            "mecab-0.996-ko-0.9.2/doc/partial.html\n",
            "mecab-0.996-ko-0.9.2/doc/feature.png\n",
            "mecab-0.996-ko-0.9.2/doc/Makefile.in\n",
            "mecab-0.996-ko-0.9.2/missing\n",
            "mecab-0.996-ko-0.9.2/BSD\n",
            "mecab-0.996-ko-0.9.2/NEWS\n",
            "mecab-0.996-ko-0.9.2/mkinstalldirs\n",
            "mecab-0.996-ko-0.9.2/src/\n",
            "mecab-0.996-ko-0.9.2/src/dictionary.h\n",
            "mecab-0.996-ko-0.9.2/src/writer.h\n",
            "mecab-0.996-ko-0.9.2/src/utils.h\n",
            "mecab-0.996-ko-0.9.2/src/string_buffer.cpp\n",
            "mecab-0.996-ko-0.9.2/src/tokenizer.cpp\n",
            "mecab-0.996-ko-0.9.2/src/make.bat\n",
            "mecab-0.996-ko-0.9.2/src/mecab.h\n",
            "mecab-0.996-ko-0.9.2/src/freelist.h\n",
            "mecab-0.996-ko-0.9.2/src/string_buffer.h\n",
            "mecab-0.996-ko-0.9.2/src/learner_tagger.h\n",
            "mecab-0.996-ko-0.9.2/src/dictionary_compiler.cpp\n",
            "mecab-0.996-ko-0.9.2/src/eval.cpp\n",
            "mecab-0.996-ko-0.9.2/src/mecab-system-eval.cpp\n",
            "mecab-0.996-ko-0.9.2/src/darts.h\n",
            "mecab-0.996-ko-0.9.2/src/param.h\n",
            "mecab-0.996-ko-0.9.2/src/char_property.h\n",
            "mecab-0.996-ko-0.9.2/src/learner_node.h\n",
            "mecab-0.996-ko-0.9.2/src/mecab-dict-gen.cpp\n",
            "mecab-0.996-ko-0.9.2/src/mecab-dict-index.cpp\n",
            "mecab-0.996-ko-0.9.2/src/winmain.h\n",
            "mecab-0.996-ko-0.9.2/src/thread.h\n",
            "mecab-0.996-ko-0.9.2/src/context_id.cpp\n",
            "mecab-0.996-ko-0.9.2/src/Makefile.am\n",
            "mecab-0.996-ko-0.9.2/src/connector.h\n",
            "mecab-0.996-ko-0.9.2/src/common.h\n",
            "mecab-0.996-ko-0.9.2/src/dictionary_rewriter.cpp\n",
            "mecab-0.996-ko-0.9.2/src/Makefile.msvc.in\n",
            "mecab-0.996-ko-0.9.2/src/dictionary_rewriter.h\n",
            "mecab-0.996-ko-0.9.2/src/feature_index.h\n",
            "mecab-0.996-ko-0.9.2/src/iconv_utils.cpp\n",
            "mecab-0.996-ko-0.9.2/src/char_property.cpp\n",
            "mecab-0.996-ko-0.9.2/src/mecab-test-gen.cpp\n",
            "mecab-0.996-ko-0.9.2/src/tagger.cpp\n",
            "mecab-0.996-ko-0.9.2/src/mecab-cost-train.cpp\n",
            "mecab-0.996-ko-0.9.2/src/learner.cpp\n",
            "mecab-0.996-ko-0.9.2/src/dictionary.cpp\n",
            "mecab-0.996-ko-0.9.2/src/lbfgs.cpp\n",
            "mecab-0.996-ko-0.9.2/src/ucs.h\n",
            "mecab-0.996-ko-0.9.2/src/writer.cpp\n",
            "mecab-0.996-ko-0.9.2/src/learner_tagger.cpp\n",
            "mecab-0.996-ko-0.9.2/src/lbfgs.h\n",
            "mecab-0.996-ko-0.9.2/src/libmecab.cpp\n",
            "mecab-0.996-ko-0.9.2/src/tokenizer.h\n",
            "mecab-0.996-ko-0.9.2/src/mecab.cpp\n",
            "mecab-0.996-ko-0.9.2/src/utils.cpp\n",
            "mecab-0.996-ko-0.9.2/src/dictionary_generator.cpp\n",
            "mecab-0.996-ko-0.9.2/src/param.cpp\n",
            "mecab-0.996-ko-0.9.2/src/context_id.h\n",
            "mecab-0.996-ko-0.9.2/src/mmap.h\n",
            "mecab-0.996-ko-0.9.2/src/viterbi.h\n",
            "mecab-0.996-ko-0.9.2/src/viterbi.cpp\n",
            "mecab-0.996-ko-0.9.2/src/stream_wrapper.h\n",
            "mecab-0.996-ko-0.9.2/src/feature_index.cpp\n",
            "mecab-0.996-ko-0.9.2/src/nbest_generator.h\n",
            "mecab-0.996-ko-0.9.2/src/ucstable.h\n",
            "mecab-0.996-ko-0.9.2/src/nbest_generator.cpp\n",
            "mecab-0.996-ko-0.9.2/src/iconv_utils.h\n",
            "mecab-0.996-ko-0.9.2/src/connector.cpp\n",
            "mecab-0.996-ko-0.9.2/src/Makefile.in\n",
            "mecab-0.996-ko-0.9.2/src/scoped_ptr.h\n",
            "mecab-0.996-ko-0.9.2/Makefile.in\n",
            "checking for a BSD-compatible install... /usr/bin/install -c\n",
            "checking whether build environment is sane... yes\n",
            "checking for a thread-safe mkdir -p... /bin/mkdir -p\n",
            "checking for gawk... no\n",
            "checking for mawk... mawk\n",
            "checking whether make sets $(MAKE)... yes\n",
            "checking for gcc... gcc\n",
            "checking whether the C compiler works... yes\n",
            "checking for C compiler default output file name... a.out\n",
            "checking for suffix of executables... \n",
            "checking whether we are cross compiling... no\n",
            "checking for suffix of object files... o\n",
            "checking whether we are using the GNU C compiler... yes\n",
            "checking whether gcc accepts -g... yes\n",
            "checking for gcc option to accept ISO C89... none needed\n",
            "checking for style of include used by make... GNU\n",
            "checking dependency style of gcc... none\n",
            "checking for g++... g++\n",
            "checking whether we are using the GNU C++ compiler... yes\n",
            "checking whether g++ accepts -g... yes\n",
            "checking dependency style of g++... none\n",
            "checking how to run the C preprocessor... gcc -E\n",
            "checking for grep that handles long lines and -e... /bin/grep\n",
            "checking for egrep... /bin/grep -E\n",
            "checking whether gcc needs -traditional... no\n",
            "checking whether make sets $(MAKE)... (cached) yes\n",
            "checking build system type... x86_64-unknown-linux-gnu\n",
            "checking host system type... x86_64-unknown-linux-gnu\n",
            "checking how to print strings... printf\n",
            "checking for a sed that does not truncate output... /bin/sed\n",
            "checking for fgrep... /bin/grep -F\n",
            "checking for ld used by gcc... /usr/bin/ld\n",
            "checking if the linker (/usr/bin/ld) is GNU ld... yes\n",
            "checking for BSD- or MS-compatible name lister (nm)... /usr/bin/nm -B\n",
            "checking the name lister (/usr/bin/nm -B) interface... BSD nm\n",
            "checking whether ln -s works... yes\n",
            "checking the maximum length of command line arguments... 1572864\n",
            "checking whether the shell understands some XSI constructs... yes\n",
            "checking whether the shell understands \"+=\"... yes\n",
            "checking how to convert x86_64-unknown-linux-gnu file names to x86_64-unknown-linux-gnu format... func_convert_file_noop\n",
            "checking how to convert x86_64-unknown-linux-gnu file names to toolchain format... func_convert_file_noop\n",
            "checking for /usr/bin/ld option to reload object files... -r\n",
            "checking for objdump... objdump\n",
            "checking how to recognize dependent libraries... pass_all\n",
            "checking for dlltool... dlltool\n",
            "checking how to associate runtime and link libraries... printf %s\\n\n",
            "checking for ar... ar\n",
            "checking for archiver @FILE support... @\n",
            "checking for strip... strip\n",
            "checking for ranlib... ranlib\n",
            "checking command to parse /usr/bin/nm -B output from gcc object... ok\n",
            "checking for sysroot... no\n",
            "./configure: line 7378: /usr/bin/file: No such file or directory\n",
            "checking for mt... no\n",
            "checking if : is a manifest tool... no\n",
            "checking for ANSI C header files... yes\n",
            "checking for sys/types.h... yes\n",
            "checking for sys/stat.h... yes\n",
            "checking for stdlib.h... yes\n",
            "checking for string.h... yes\n",
            "checking for memory.h... yes\n",
            "checking for strings.h... yes\n",
            "checking for inttypes.h... yes\n",
            "checking for stdint.h... yes\n",
            "checking for unistd.h... yes\n",
            "checking for dlfcn.h... yes\n",
            "checking for objdir... .libs\n",
            "checking if gcc supports -fno-rtti -fno-exceptions... no\n",
            "checking for gcc option to produce PIC... -fPIC -DPIC\n",
            "checking if gcc PIC flag -fPIC -DPIC works... yes\n",
            "checking if gcc static flag -static works... yes\n",
            "checking if gcc supports -c -o file.o... yes\n",
            "checking if gcc supports -c -o file.o... (cached) yes\n",
            "checking whether the gcc linker (/usr/bin/ld) supports shared libraries... yes\n",
            "checking whether -lc should be explicitly linked in... no\n",
            "checking dynamic linker characteristics... GNU/Linux ld.so\n",
            "checking how to hardcode library paths into programs... immediate\n",
            "checking whether stripping libraries is possible... yes\n",
            "checking if libtool supports shared libraries... yes\n",
            "checking whether to build shared libraries... yes\n",
            "checking whether to build static libraries... yes\n",
            "checking how to run the C++ preprocessor... g++ -E\n",
            "checking for ld used by g++... /usr/bin/ld\n",
            "checking if the linker (/usr/bin/ld) is GNU ld... yes\n",
            "checking whether the g++ linker (/usr/bin/ld) supports shared libraries... yes\n",
            "checking for g++ option to produce PIC... -fPIC -DPIC\n",
            "checking if g++ PIC flag -fPIC -DPIC works... yes\n",
            "checking if g++ static flag -static works... yes\n",
            "checking if g++ supports -c -o file.o... yes\n",
            "checking if g++ supports -c -o file.o... (cached) yes\n",
            "checking whether the g++ linker (/usr/bin/ld) supports shared libraries... yes\n",
            "checking dynamic linker characteristics... (cached) GNU/Linux ld.so\n",
            "checking how to hardcode library paths into programs... immediate\n",
            "checking for library containing strerror... none required\n",
            "checking whether byte ordering is bigendian... no\n",
            "checking for ld used by GCC... /usr/bin/ld\n",
            "checking if the linker (/usr/bin/ld) is GNU ld... yes\n",
            "checking for shared library run path origin... done\n",
            "checking for iconv... yes\n",
            "checking for working iconv... yes\n",
            "checking for iconv declaration... \n",
            "         extern size_t iconv (iconv_t cd, char * *inbuf, size_t *inbytesleft, char * *outbuf, size_t *outbytesleft);\n",
            "checking for ANSI C header files... (cached) yes\n",
            "checking for an ANSI C-conforming const... yes\n",
            "checking whether byte ordering is bigendian... (cached) no\n",
            "checking for string.h... (cached) yes\n",
            "checking for stdlib.h... (cached) yes\n",
            "checking for unistd.h... (cached) yes\n",
            "checking fcntl.h usability... yes\n",
            "checking fcntl.h presence... yes\n",
            "checking for fcntl.h... yes\n",
            "checking for stdint.h... (cached) yes\n",
            "checking for sys/stat.h... (cached) yes\n",
            "checking sys/mman.h usability... yes\n",
            "checking sys/mman.h presence... yes\n",
            "checking for sys/mman.h... yes\n",
            "checking sys/times.h usability... yes\n",
            "checking sys/times.h presence... yes\n",
            "checking for sys/times.h... yes\n",
            "checking for sys/types.h... (cached) yes\n",
            "checking dirent.h usability... yes\n",
            "checking dirent.h presence... yes\n",
            "checking for dirent.h... yes\n",
            "checking ctype.h usability... yes\n",
            "checking ctype.h presence... yes\n",
            "checking for ctype.h... yes\n",
            "checking for sys/types.h... (cached) yes\n",
            "checking io.h usability... no\n",
            "checking io.h presence... no\n",
            "checking for io.h... no\n",
            "checking windows.h usability... no\n",
            "checking windows.h presence... no\n",
            "checking for windows.h... no\n",
            "checking pthread.h usability... yes\n",
            "checking pthread.h presence... yes\n",
            "checking for pthread.h... yes\n",
            "checking for off_t... yes\n",
            "checking for size_t... yes\n",
            "checking size of char... 1\n",
            "checking size of short... 2\n",
            "checking size of int... 4\n",
            "checking size of long... 8\n",
            "checking size of long long... 8\n",
            "checking size of size_t... 8\n",
            "checking for size_t... (cached) yes\n",
            "checking for unsigned long long int... yes\n",
            "checking for stdlib.h... (cached) yes\n",
            "checking for unistd.h... (cached) yes\n",
            "checking for sys/param.h... yes\n",
            "checking for getpagesize... yes\n",
            "checking for working mmap... yes\n",
            "checking for main in -lstdc++... yes\n",
            "checking for pthread_create in -lpthread... yes\n",
            "checking for pthread_join in -lpthread... yes\n",
            "checking for getenv... yes\n",
            "checking for opendir... yes\n",
            "checking whether make is GNU Make... yes\n",
            "checking if g++ supports stl <vector> (required)... yes\n",
            "checking if g++ supports stl <list> (required)... yes\n",
            "checking if g++ supports stl <map> (required)... yes\n",
            "checking if g++ supports stl <set> (required)... yes\n",
            "checking if g++ supports stl <queue> (required)... yes\n",
            "checking if g++ supports stl <functional> (required)... yes\n",
            "checking if g++ supports stl <algorithm> (required)... yes\n",
            "checking if g++ supports stl <string> (required)... yes\n",
            "checking if g++ supports stl <iostream> (required)... yes\n",
            "checking if g++ supports stl <sstream> (required)... yes\n",
            "checking if g++ supports stl <fstream> (required)... yes\n",
            "checking if g++ supports template <class T> (required)... yes\n",
            "checking if g++ supports const_cast<> (required)... yes\n",
            "checking if g++ supports static_cast<> (required)... yes\n",
            "checking if g++ supports reinterpret_cast<> (required)... yes\n",
            "checking if g++ supports namespaces (required) ... yes\n",
            "checking if g++ supports __thread (optional)... yes\n",
            "checking if g++ supports template <class T> (required)... yes\n",
            "checking if g++ supports GCC native atomic operations (optional)... yes\n",
            "checking if g++ supports OSX native atomic operations (optional)... no\n",
            "checking if g++ environment provides all required features... yes\n",
            "configure: creating ./config.status\n",
            "config.status: creating Makefile\n",
            "config.status: creating src/Makefile\n",
            "config.status: creating src/Makefile.msvc\n",
            "config.status: creating man/Makefile\n",
            "config.status: creating doc/Makefile\n",
            "config.status: creating tests/Makefile\n",
            "config.status: creating swig/version.h\n",
            "config.status: creating mecab.iss\n",
            "config.status: creating mecab-config\n",
            "config.status: creating mecabrc\n",
            "config.status: creating config.h\n",
            "config.status: executing depfiles commands\n",
            "config.status: executing libtool commands\n",
            "config.status: executing default commands\n",
            "make  all-recursive\n",
            "make[1]: Entering directory '/tmp/mecab-0.996-ko-0.9.2'\n",
            "Making all in src\n",
            "make[2]: Entering directory '/tmp/mecab-0.996-ko-0.9.2/src'\n",
            "/bin/bash ../libtool --tag=CXX   --mode=compile g++ -DHAVE_CONFIG_H -I. -I.. -DDIC_VERSION=102   -DMECAB_DEFAULT_RC=\"\\\"/usr/local/etc/mecabrc\\\"\"    -O3 -Wall  -c -o viterbi.lo viterbi.cpp\n",
            "libtool: compile:  g++ -DHAVE_CONFIG_H -I. -I.. -DDIC_VERSION=102 -DMECAB_DEFAULT_RC=\\\"/usr/local/etc/mecabrc\\\" -O3 -Wall -c viterbi.cpp  -fPIC -DPIC -o .libs/viterbi.o\n",
            "In file included from \u001b[01m\u001b[Kviterbi.cpp:14:0\u001b[m\u001b[K:\n",
            "\u001b[01m\u001b[Kparam.h:30:13:\u001b[m\u001b[K \u001b[01;35m\u001b[Kwarning: \u001b[m\u001b[K'\u001b[01m\u001b[KTarget {anonymous}::lexical_cast(Source) [with Target = std::__cxx11::basic_string<char>; Source = std::__cxx11::basic_string<char>]\u001b[m\u001b[K' defined but not used [\u001b[01;35m\u001b[K-Wunused-function\u001b[m\u001b[K]\n",
            " std::string \u001b[01;35m\u001b[Klexical_cast<std::string, std::string>\u001b[m\u001b[K(std::string arg) {\n",
            "             \u001b[01;35m\u001b[K^~~~~~~~~~~~~~~~~~~~~~~~~~~~~~~~~~~~~~\u001b[m\u001b[K\n",
            "libtool: compile:  g++ -DHAVE_CONFIG_H -I. -I.. -DDIC_VERSION=102 -DMECAB_DEFAULT_RC=\\\"/usr/local/etc/mecabrc\\\" -O3 -Wall -c viterbi.cpp -o viterbi.o >/dev/null 2>&1\n",
            "/bin/bash ../libtool --tag=CXX   --mode=compile g++ -DHAVE_CONFIG_H -I. -I.. -DDIC_VERSION=102   -DMECAB_DEFAULT_RC=\"\\\"/usr/local/etc/mecabrc\\\"\"    -O3 -Wall  -c -o tagger.lo tagger.cpp\n",
            "libtool: compile:  g++ -DHAVE_CONFIG_H -I. -I.. -DDIC_VERSION=102 -DMECAB_DEFAULT_RC=\\\"/usr/local/etc/mecabrc\\\" -O3 -Wall -c tagger.cpp  -fPIC -DPIC -o .libs/tagger.o\n",
            "libtool: compile:  g++ -DHAVE_CONFIG_H -I. -I.. -DDIC_VERSION=102 -DMECAB_DEFAULT_RC=\\\"/usr/local/etc/mecabrc\\\" -O3 -Wall -c tagger.cpp -o tagger.o >/dev/null 2>&1\n",
            "/bin/bash ../libtool --tag=CXX   --mode=compile g++ -DHAVE_CONFIG_H -I. -I.. -DDIC_VERSION=102   -DMECAB_DEFAULT_RC=\"\\\"/usr/local/etc/mecabrc\\\"\"    -O3 -Wall  -c -o utils.lo utils.cpp\n",
            "libtool: compile:  g++ -DHAVE_CONFIG_H -I. -I.. -DDIC_VERSION=102 -DMECAB_DEFAULT_RC=\\\"/usr/local/etc/mecabrc\\\" -O3 -Wall -c utils.cpp  -fPIC -DPIC -o .libs/utils.o\n",
            "libtool: compile:  g++ -DHAVE_CONFIG_H -I. -I.. -DDIC_VERSION=102 -DMECAB_DEFAULT_RC=\\\"/usr/local/etc/mecabrc\\\" -O3 -Wall -c utils.cpp -o utils.o >/dev/null 2>&1\n",
            "/bin/bash ../libtool --tag=CXX   --mode=compile g++ -DHAVE_CONFIG_H -I. -I.. -DDIC_VERSION=102   -DMECAB_DEFAULT_RC=\"\\\"/usr/local/etc/mecabrc\\\"\"    -O3 -Wall  -c -o eval.lo eval.cpp\n",
            "libtool: compile:  g++ -DHAVE_CONFIG_H -I. -I.. -DDIC_VERSION=102 -DMECAB_DEFAULT_RC=\\\"/usr/local/etc/mecabrc\\\" -O3 -Wall -c eval.cpp  -fPIC -DPIC -o .libs/eval.o\n",
            "libtool: compile:  g++ -DHAVE_CONFIG_H -I. -I.. -DDIC_VERSION=102 -DMECAB_DEFAULT_RC=\\\"/usr/local/etc/mecabrc\\\" -O3 -Wall -c eval.cpp -o eval.o >/dev/null 2>&1\n",
            "/bin/bash ../libtool --tag=CXX   --mode=compile g++ -DHAVE_CONFIG_H -I. -I.. -DDIC_VERSION=102   -DMECAB_DEFAULT_RC=\"\\\"/usr/local/etc/mecabrc\\\"\"    -O3 -Wall  -c -o iconv_utils.lo iconv_utils.cpp\n",
            "libtool: compile:  g++ -DHAVE_CONFIG_H -I. -I.. -DDIC_VERSION=102 -DMECAB_DEFAULT_RC=\\\"/usr/local/etc/mecabrc\\\" -O3 -Wall -c iconv_utils.cpp  -fPIC -DPIC -o .libs/iconv_utils.o\n",
            "libtool: compile:  g++ -DHAVE_CONFIG_H -I. -I.. -DDIC_VERSION=102 -DMECAB_DEFAULT_RC=\\\"/usr/local/etc/mecabrc\\\" -O3 -Wall -c iconv_utils.cpp -o iconv_utils.o >/dev/null 2>&1\n",
            "/bin/bash ../libtool --tag=CXX   --mode=compile g++ -DHAVE_CONFIG_H -I. -I.. -DDIC_VERSION=102   -DMECAB_DEFAULT_RC=\"\\\"/usr/local/etc/mecabrc\\\"\"    -O3 -Wall  -c -o dictionary_rewriter.lo dictionary_rewriter.cpp\n",
            "libtool: compile:  g++ -DHAVE_CONFIG_H -I. -I.. -DDIC_VERSION=102 -DMECAB_DEFAULT_RC=\\\"/usr/local/etc/mecabrc\\\" -O3 -Wall -c dictionary_rewriter.cpp  -fPIC -DPIC -o .libs/dictionary_rewriter.o\n",
            "libtool: compile:  g++ -DHAVE_CONFIG_H -I. -I.. -DDIC_VERSION=102 -DMECAB_DEFAULT_RC=\\\"/usr/local/etc/mecabrc\\\" -O3 -Wall -c dictionary_rewriter.cpp -o dictionary_rewriter.o >/dev/null 2>&1\n",
            "/bin/bash ../libtool --tag=CXX   --mode=compile g++ -DHAVE_CONFIG_H -I. -I.. -DDIC_VERSION=102   -DMECAB_DEFAULT_RC=\"\\\"/usr/local/etc/mecabrc\\\"\"    -O3 -Wall  -c -o dictionary_generator.lo dictionary_generator.cpp\n",
            "libtool: compile:  g++ -DHAVE_CONFIG_H -I. -I.. -DDIC_VERSION=102 -DMECAB_DEFAULT_RC=\\\"/usr/local/etc/mecabrc\\\" -O3 -Wall -c dictionary_generator.cpp  -fPIC -DPIC -o .libs/dictionary_generator.o\n",
            "libtool: compile:  g++ -DHAVE_CONFIG_H -I. -I.. -DDIC_VERSION=102 -DMECAB_DEFAULT_RC=\\\"/usr/local/etc/mecabrc\\\" -O3 -Wall -c dictionary_generator.cpp -o dictionary_generator.o >/dev/null 2>&1\n",
            "/bin/bash ../libtool --tag=CXX   --mode=compile g++ -DHAVE_CONFIG_H -I. -I.. -DDIC_VERSION=102   -DMECAB_DEFAULT_RC=\"\\\"/usr/local/etc/mecabrc\\\"\"    -O3 -Wall  -c -o dictionary_compiler.lo dictionary_compiler.cpp\n",
            "libtool: compile:  g++ -DHAVE_CONFIG_H -I. -I.. -DDIC_VERSION=102 -DMECAB_DEFAULT_RC=\\\"/usr/local/etc/mecabrc\\\" -O3 -Wall -c dictionary_compiler.cpp  -fPIC -DPIC -o .libs/dictionary_compiler.o\n",
            "libtool: compile:  g++ -DHAVE_CONFIG_H -I. -I.. -DDIC_VERSION=102 -DMECAB_DEFAULT_RC=\\\"/usr/local/etc/mecabrc\\\" -O3 -Wall -c dictionary_compiler.cpp -o dictionary_compiler.o >/dev/null 2>&1\n",
            "/bin/bash ../libtool --tag=CXX   --mode=compile g++ -DHAVE_CONFIG_H -I. -I.. -DDIC_VERSION=102   -DMECAB_DEFAULT_RC=\"\\\"/usr/local/etc/mecabrc\\\"\"    -O3 -Wall  -c -o context_id.lo context_id.cpp\n",
            "libtool: compile:  g++ -DHAVE_CONFIG_H -I. -I.. -DDIC_VERSION=102 -DMECAB_DEFAULT_RC=\\\"/usr/local/etc/mecabrc\\\" -O3 -Wall -c context_id.cpp  -fPIC -DPIC -o .libs/context_id.o\n",
            "libtool: compile:  g++ -DHAVE_CONFIG_H -I. -I.. -DDIC_VERSION=102 -DMECAB_DEFAULT_RC=\\\"/usr/local/etc/mecabrc\\\" -O3 -Wall -c context_id.cpp -o context_id.o >/dev/null 2>&1\n",
            "/bin/bash ../libtool --tag=CXX   --mode=compile g++ -DHAVE_CONFIG_H -I. -I.. -DDIC_VERSION=102   -DMECAB_DEFAULT_RC=\"\\\"/usr/local/etc/mecabrc\\\"\"    -O3 -Wall  -c -o connector.lo connector.cpp\n",
            "libtool: compile:  g++ -DHAVE_CONFIG_H -I. -I.. -DDIC_VERSION=102 -DMECAB_DEFAULT_RC=\\\"/usr/local/etc/mecabrc\\\" -O3 -Wall -c connector.cpp  -fPIC -DPIC -o .libs/connector.o\n",
            "libtool: compile:  g++ -DHAVE_CONFIG_H -I. -I.. -DDIC_VERSION=102 -DMECAB_DEFAULT_RC=\\\"/usr/local/etc/mecabrc\\\" -O3 -Wall -c connector.cpp -o connector.o >/dev/null 2>&1\n",
            "/bin/bash ../libtool --tag=CXX   --mode=compile g++ -DHAVE_CONFIG_H -I. -I.. -DDIC_VERSION=102   -DMECAB_DEFAULT_RC=\"\\\"/usr/local/etc/mecabrc\\\"\"    -O3 -Wall  -c -o nbest_generator.lo nbest_generator.cpp\n",
            "libtool: compile:  g++ -DHAVE_CONFIG_H -I. -I.. -DDIC_VERSION=102 -DMECAB_DEFAULT_RC=\\\"/usr/local/etc/mecabrc\\\" -O3 -Wall -c nbest_generator.cpp  -fPIC -DPIC -o .libs/nbest_generator.o\n",
            "libtool: compile:  g++ -DHAVE_CONFIG_H -I. -I.. -DDIC_VERSION=102 -DMECAB_DEFAULT_RC=\\\"/usr/local/etc/mecabrc\\\" -O3 -Wall -c nbest_generator.cpp -o nbest_generator.o >/dev/null 2>&1\n",
            "/bin/bash ../libtool --tag=CXX   --mode=compile g++ -DHAVE_CONFIG_H -I. -I.. -DDIC_VERSION=102   -DMECAB_DEFAULT_RC=\"\\\"/usr/local/etc/mecabrc\\\"\"    -O3 -Wall  -c -o writer.lo writer.cpp\n",
            "libtool: compile:  g++ -DHAVE_CONFIG_H -I. -I.. -DDIC_VERSION=102 -DMECAB_DEFAULT_RC=\\\"/usr/local/etc/mecabrc\\\" -O3 -Wall -c writer.cpp  -fPIC -DPIC -o .libs/writer.o\n",
            "libtool: compile:  g++ -DHAVE_CONFIG_H -I. -I.. -DDIC_VERSION=102 -DMECAB_DEFAULT_RC=\\\"/usr/local/etc/mecabrc\\\" -O3 -Wall -c writer.cpp -o writer.o >/dev/null 2>&1\n",
            "/bin/bash ../libtool --tag=CXX   --mode=compile g++ -DHAVE_CONFIG_H -I. -I.. -DDIC_VERSION=102   -DMECAB_DEFAULT_RC=\"\\\"/usr/local/etc/mecabrc\\\"\"    -O3 -Wall  -c -o string_buffer.lo string_buffer.cpp\n",
            "libtool: compile:  g++ -DHAVE_CONFIG_H -I. -I.. -DDIC_VERSION=102 -DMECAB_DEFAULT_RC=\\\"/usr/local/etc/mecabrc\\\" -O3 -Wall -c string_buffer.cpp  -fPIC -DPIC -o .libs/string_buffer.o\n",
            "libtool: compile:  g++ -DHAVE_CONFIG_H -I. -I.. -DDIC_VERSION=102 -DMECAB_DEFAULT_RC=\\\"/usr/local/etc/mecabrc\\\" -O3 -Wall -c string_buffer.cpp -o string_buffer.o >/dev/null 2>&1\n",
            "/bin/bash ../libtool --tag=CXX   --mode=compile g++ -DHAVE_CONFIG_H -I. -I.. -DDIC_VERSION=102   -DMECAB_DEFAULT_RC=\"\\\"/usr/local/etc/mecabrc\\\"\"    -O3 -Wall  -c -o param.lo param.cpp\n",
            "libtool: compile:  g++ -DHAVE_CONFIG_H -I. -I.. -DDIC_VERSION=102 -DMECAB_DEFAULT_RC=\\\"/usr/local/etc/mecabrc\\\" -O3 -Wall -c param.cpp  -fPIC -DPIC -o .libs/param.o\n",
            "libtool: compile:  g++ -DHAVE_CONFIG_H -I. -I.. -DDIC_VERSION=102 -DMECAB_DEFAULT_RC=\\\"/usr/local/etc/mecabrc\\\" -O3 -Wall -c param.cpp -o param.o >/dev/null 2>&1\n",
            "/bin/bash ../libtool --tag=CXX   --mode=compile g++ -DHAVE_CONFIG_H -I. -I.. -DDIC_VERSION=102   -DMECAB_DEFAULT_RC=\"\\\"/usr/local/etc/mecabrc\\\"\"    -O3 -Wall  -c -o tokenizer.lo tokenizer.cpp\n",
            "libtool: compile:  g++ -DHAVE_CONFIG_H -I. -I.. -DDIC_VERSION=102 -DMECAB_DEFAULT_RC=\\\"/usr/local/etc/mecabrc\\\" -O3 -Wall -c tokenizer.cpp  -fPIC -DPIC -o .libs/tokenizer.o\n",
            "libtool: compile:  g++ -DHAVE_CONFIG_H -I. -I.. -DDIC_VERSION=102 -DMECAB_DEFAULT_RC=\\\"/usr/local/etc/mecabrc\\\" -O3 -Wall -c tokenizer.cpp -o tokenizer.o >/dev/null 2>&1\n",
            "/bin/bash ../libtool --tag=CXX   --mode=compile g++ -DHAVE_CONFIG_H -I. -I.. -DDIC_VERSION=102   -DMECAB_DEFAULT_RC=\"\\\"/usr/local/etc/mecabrc\\\"\"    -O3 -Wall  -c -o char_property.lo char_property.cpp\n",
            "libtool: compile:  g++ -DHAVE_CONFIG_H -I. -I.. -DDIC_VERSION=102 -DMECAB_DEFAULT_RC=\\\"/usr/local/etc/mecabrc\\\" -O3 -Wall -c char_property.cpp  -fPIC -DPIC -o .libs/char_property.o\n",
            "libtool: compile:  g++ -DHAVE_CONFIG_H -I. -I.. -DDIC_VERSION=102 -DMECAB_DEFAULT_RC=\\\"/usr/local/etc/mecabrc\\\" -O3 -Wall -c char_property.cpp -o char_property.o >/dev/null 2>&1\n",
            "/bin/bash ../libtool --tag=CXX   --mode=compile g++ -DHAVE_CONFIG_H -I. -I.. -DDIC_VERSION=102   -DMECAB_DEFAULT_RC=\"\\\"/usr/local/etc/mecabrc\\\"\"    -O3 -Wall  -c -o dictionary.lo dictionary.cpp\n",
            "libtool: compile:  g++ -DHAVE_CONFIG_H -I. -I.. -DDIC_VERSION=102 -DMECAB_DEFAULT_RC=\\\"/usr/local/etc/mecabrc\\\" -O3 -Wall -c dictionary.cpp  -fPIC -DPIC -o .libs/dictionary.o\n",
            "libtool: compile:  g++ -DHAVE_CONFIG_H -I. -I.. -DDIC_VERSION=102 -DMECAB_DEFAULT_RC=\\\"/usr/local/etc/mecabrc\\\" -O3 -Wall -c dictionary.cpp -o dictionary.o >/dev/null 2>&1\n",
            "/bin/bash ../libtool --tag=CXX   --mode=compile g++ -DHAVE_CONFIG_H -I. -I.. -DDIC_VERSION=102   -DMECAB_DEFAULT_RC=\"\\\"/usr/local/etc/mecabrc\\\"\"    -O3 -Wall  -c -o feature_index.lo feature_index.cpp\n",
            "libtool: compile:  g++ -DHAVE_CONFIG_H -I. -I.. -DDIC_VERSION=102 -DMECAB_DEFAULT_RC=\\\"/usr/local/etc/mecabrc\\\" -O3 -Wall -c feature_index.cpp  -fPIC -DPIC -o .libs/feature_index.o\n",
            "libtool: compile:  g++ -DHAVE_CONFIG_H -I. -I.. -DDIC_VERSION=102 -DMECAB_DEFAULT_RC=\\\"/usr/local/etc/mecabrc\\\" -O3 -Wall -c feature_index.cpp -o feature_index.o >/dev/null 2>&1\n",
            "/bin/bash ../libtool --tag=CXX   --mode=compile g++ -DHAVE_CONFIG_H -I. -I.. -DDIC_VERSION=102   -DMECAB_DEFAULT_RC=\"\\\"/usr/local/etc/mecabrc\\\"\"    -O3 -Wall  -c -o lbfgs.lo lbfgs.cpp\n",
            "libtool: compile:  g++ -DHAVE_CONFIG_H -I. -I.. -DDIC_VERSION=102 -DMECAB_DEFAULT_RC=\\\"/usr/local/etc/mecabrc\\\" -O3 -Wall -c lbfgs.cpp  -fPIC -DPIC -o .libs/lbfgs.o\n",
            "libtool: compile:  g++ -DHAVE_CONFIG_H -I. -I.. -DDIC_VERSION=102 -DMECAB_DEFAULT_RC=\\\"/usr/local/etc/mecabrc\\\" -O3 -Wall -c lbfgs.cpp -o lbfgs.o >/dev/null 2>&1\n",
            "/bin/bash ../libtool --tag=CXX   --mode=compile g++ -DHAVE_CONFIG_H -I. -I.. -DDIC_VERSION=102   -DMECAB_DEFAULT_RC=\"\\\"/usr/local/etc/mecabrc\\\"\"    -O3 -Wall  -c -o learner_tagger.lo learner_tagger.cpp\n",
            "libtool: compile:  g++ -DHAVE_CONFIG_H -I. -I.. -DDIC_VERSION=102 -DMECAB_DEFAULT_RC=\\\"/usr/local/etc/mecabrc\\\" -O3 -Wall -c learner_tagger.cpp  -fPIC -DPIC -o .libs/learner_tagger.o\n",
            "\u001b[01m\u001b[Klearner_tagger.cpp:25:7:\u001b[m\u001b[K \u001b[01;35m\u001b[Kwarning: \u001b[m\u001b[K'\u001b[01m\u001b[Kchar* MeCab::{anonymous}::mystrdup(const string&)\u001b[m\u001b[K' defined but not used [\u001b[01;35m\u001b[K-Wunused-function\u001b[m\u001b[K]\n",
            " char *\u001b[01;35m\u001b[Kmystrdup\u001b[m\u001b[K(const std::string &str) {\n",
            "       \u001b[01;35m\u001b[K^~~~~~~~\u001b[m\u001b[K\n",
            "libtool: compile:  g++ -DHAVE_CONFIG_H -I. -I.. -DDIC_VERSION=102 -DMECAB_DEFAULT_RC=\\\"/usr/local/etc/mecabrc\\\" -O3 -Wall -c learner_tagger.cpp -o learner_tagger.o >/dev/null 2>&1\n",
            "/bin/bash ../libtool --tag=CXX   --mode=compile g++ -DHAVE_CONFIG_H -I. -I.. -DDIC_VERSION=102   -DMECAB_DEFAULT_RC=\"\\\"/usr/local/etc/mecabrc\\\"\"    -O3 -Wall  -c -o learner.lo learner.cpp\n",
            "libtool: compile:  g++ -DHAVE_CONFIG_H -I. -I.. -DDIC_VERSION=102 -DMECAB_DEFAULT_RC=\\\"/usr/local/etc/mecabrc\\\" -O3 -Wall -c learner.cpp  -fPIC -DPIC -o .libs/learner.o\n",
            "libtool: compile:  g++ -DHAVE_CONFIG_H -I. -I.. -DDIC_VERSION=102 -DMECAB_DEFAULT_RC=\\\"/usr/local/etc/mecabrc\\\" -O3 -Wall -c learner.cpp -o learner.o >/dev/null 2>&1\n",
            "/bin/bash ../libtool --tag=CXX   --mode=compile g++ -DHAVE_CONFIG_H -I. -I.. -DDIC_VERSION=102   -DMECAB_DEFAULT_RC=\"\\\"/usr/local/etc/mecabrc\\\"\"    -O3 -Wall  -c -o libmecab.lo libmecab.cpp\n",
            "libtool: compile:  g++ -DHAVE_CONFIG_H -I. -I.. -DDIC_VERSION=102 -DMECAB_DEFAULT_RC=\\\"/usr/local/etc/mecabrc\\\" -O3 -Wall -c libmecab.cpp  -fPIC -DPIC -o .libs/libmecab.o\n",
            "libtool: compile:  g++ -DHAVE_CONFIG_H -I. -I.. -DDIC_VERSION=102 -DMECAB_DEFAULT_RC=\\\"/usr/local/etc/mecabrc\\\" -O3 -Wall -c libmecab.cpp -o libmecab.o >/dev/null 2>&1\n",
            "/bin/bash ../libtool --tag=CXX   --mode=link g++  -O3 -Wall  -no-undefined -version-info 2:0:0  -o libmecab.la -rpath /usr/local/lib viterbi.lo tagger.lo utils.lo eval.lo iconv_utils.lo dictionary_rewriter.lo dictionary_generator.lo dictionary_compiler.lo context_id.lo connector.lo nbest_generator.lo writer.lo string_buffer.lo param.lo tokenizer.lo char_property.lo dictionary.lo feature_index.lo lbfgs.lo learner_tagger.lo learner.lo libmecab.lo  -lpthread -lpthread  -lstdc++ \n",
            "libtool: link: g++  -fPIC -DPIC -shared -nostdlib /usr/lib/gcc/x86_64-linux-gnu/7/../../../x86_64-linux-gnu/crti.o /usr/lib/gcc/x86_64-linux-gnu/7/crtbeginS.o  .libs/viterbi.o .libs/tagger.o .libs/utils.o .libs/eval.o .libs/iconv_utils.o .libs/dictionary_rewriter.o .libs/dictionary_generator.o .libs/dictionary_compiler.o .libs/context_id.o .libs/connector.o .libs/nbest_generator.o .libs/writer.o .libs/string_buffer.o .libs/param.o .libs/tokenizer.o .libs/char_property.o .libs/dictionary.o .libs/feature_index.o .libs/lbfgs.o .libs/learner_tagger.o .libs/learner.o .libs/libmecab.o   -lpthread -L/usr/lib/gcc/x86_64-linux-gnu/7 -L/usr/lib/gcc/x86_64-linux-gnu/7/../../../x86_64-linux-gnu -L/usr/lib/gcc/x86_64-linux-gnu/7/../../../../lib -L/lib/x86_64-linux-gnu -L/lib/../lib -L/usr/lib/x86_64-linux-gnu -L/usr/lib/../lib -L/usr/local/cuda/lib64/stubs -L/usr/lib/gcc/x86_64-linux-gnu/7/../../.. -lstdc++ -lm -lc -lgcc_s /usr/lib/gcc/x86_64-linux-gnu/7/crtendS.o /usr/lib/gcc/x86_64-linux-gnu/7/../../../x86_64-linux-gnu/crtn.o  -O3   -Wl,-soname -Wl,libmecab.so.2 -o .libs/libmecab.so.2.0.0\n",
            "libtool: link: (cd \".libs\" && rm -f \"libmecab.so.2\" && ln -s \"libmecab.so.2.0.0\" \"libmecab.so.2\")\n",
            "libtool: link: (cd \".libs\" && rm -f \"libmecab.so\" && ln -s \"libmecab.so.2.0.0\" \"libmecab.so\")\n",
            "libtool: link: ar cru .libs/libmecab.a  viterbi.o tagger.o utils.o eval.o iconv_utils.o dictionary_rewriter.o dictionary_generator.o dictionary_compiler.o context_id.o connector.o nbest_generator.o writer.o string_buffer.o param.o tokenizer.o char_property.o dictionary.o feature_index.o lbfgs.o learner_tagger.o learner.o libmecab.o\n",
            "ar: `u' modifier ignored since `D' is the default (see `U')\n",
            "libtool: link: ranlib .libs/libmecab.a\n",
            "libtool: link: ( cd \".libs\" && rm -f \"libmecab.la\" && ln -s \"../libmecab.la\" \"libmecab.la\" )\n",
            "g++ -DHAVE_CONFIG_H -I. -I.. -DDIC_VERSION=102   -DMECAB_DEFAULT_RC=\"\\\"/usr/local/etc/mecabrc\\\"\"    -O3 -Wall  -c -o mecab.o mecab.cpp\n",
            "/bin/bash ../libtool --tag=CXX   --mode=link g++  -O3 -Wall    -o mecab mecab.o libmecab.la -lpthread -lpthread  -lstdc++ \n",
            "libtool: link: g++ -O3 -Wall -o .libs/mecab mecab.o  ./.libs/libmecab.so -lpthread -lstdc++\n",
            "g++ -DHAVE_CONFIG_H -I. -I.. -DDIC_VERSION=102   -DMECAB_DEFAULT_RC=\"\\\"/usr/local/etc/mecabrc\\\"\"    -O3 -Wall  -c -o mecab-dict-index.o mecab-dict-index.cpp\n",
            "/bin/bash ../libtool --tag=CXX   --mode=link g++  -O3 -Wall    -o mecab-dict-index mecab-dict-index.o libmecab.la -lpthread -lpthread  -lstdc++ \n",
            "libtool: link: g++ -O3 -Wall -o .libs/mecab-dict-index mecab-dict-index.o  ./.libs/libmecab.so -lpthread -lstdc++\n",
            "g++ -DHAVE_CONFIG_H -I. -I.. -DDIC_VERSION=102   -DMECAB_DEFAULT_RC=\"\\\"/usr/local/etc/mecabrc\\\"\"    -O3 -Wall  -c -o mecab-dict-gen.o mecab-dict-gen.cpp\n",
            "/bin/bash ../libtool --tag=CXX   --mode=link g++  -O3 -Wall    -o mecab-dict-gen mecab-dict-gen.o libmecab.la -lpthread -lpthread  -lstdc++ \n",
            "libtool: link: g++ -O3 -Wall -o .libs/mecab-dict-gen mecab-dict-gen.o  ./.libs/libmecab.so -lpthread -lstdc++\n",
            "g++ -DHAVE_CONFIG_H -I. -I.. -DDIC_VERSION=102   -DMECAB_DEFAULT_RC=\"\\\"/usr/local/etc/mecabrc\\\"\"    -O3 -Wall  -c -o mecab-cost-train.o mecab-cost-train.cpp\n",
            "/bin/bash ../libtool --tag=CXX   --mode=link g++  -O3 -Wall    -o mecab-cost-train mecab-cost-train.o libmecab.la -lpthread -lpthread  -lstdc++ \n",
            "libtool: link: g++ -O3 -Wall -o .libs/mecab-cost-train mecab-cost-train.o  ./.libs/libmecab.so -lpthread -lstdc++\n",
            "g++ -DHAVE_CONFIG_H -I. -I.. -DDIC_VERSION=102   -DMECAB_DEFAULT_RC=\"\\\"/usr/local/etc/mecabrc\\\"\"    -O3 -Wall  -c -o mecab-system-eval.o mecab-system-eval.cpp\n",
            "/bin/bash ../libtool --tag=CXX   --mode=link g++  -O3 -Wall    -o mecab-system-eval mecab-system-eval.o libmecab.la -lpthread -lpthread  -lstdc++ \n",
            "libtool: link: g++ -O3 -Wall -o .libs/mecab-system-eval mecab-system-eval.o  ./.libs/libmecab.so -lpthread -lstdc++\n",
            "g++ -DHAVE_CONFIG_H -I. -I.. -DDIC_VERSION=102   -DMECAB_DEFAULT_RC=\"\\\"/usr/local/etc/mecabrc\\\"\"    -O3 -Wall  -c -o mecab-test-gen.o mecab-test-gen.cpp\n",
            "/bin/bash ../libtool --tag=CXX   --mode=link g++  -O3 -Wall    -o mecab-test-gen mecab-test-gen.o libmecab.la -lpthread -lpthread  -lstdc++ \n",
            "libtool: link: g++ -O3 -Wall -o .libs/mecab-test-gen mecab-test-gen.o  ./.libs/libmecab.so -lpthread -lstdc++\n",
            "make[2]: Leaving directory '/tmp/mecab-0.996-ko-0.9.2/src'\n",
            "Making all in man\n",
            "make[2]: Entering directory '/tmp/mecab-0.996-ko-0.9.2/man'\n",
            "make[2]: Nothing to be done for 'all'.\n",
            "make[2]: Leaving directory '/tmp/mecab-0.996-ko-0.9.2/man'\n",
            "Making all in doc\n",
            "make[2]: Entering directory '/tmp/mecab-0.996-ko-0.9.2/doc'\n",
            "make[2]: Nothing to be done for 'all'.\n",
            "make[2]: Leaving directory '/tmp/mecab-0.996-ko-0.9.2/doc'\n",
            "Making all in tests\n",
            "make[2]: Entering directory '/tmp/mecab-0.996-ko-0.9.2/tests'\n",
            "make[2]: Nothing to be done for 'all'.\n",
            "make[2]: Leaving directory '/tmp/mecab-0.996-ko-0.9.2/tests'\n",
            "make[2]: Entering directory '/tmp/mecab-0.996-ko-0.9.2'\n",
            "make[2]: Leaving directory '/tmp/mecab-0.996-ko-0.9.2'\n",
            "make[1]: Leaving directory '/tmp/mecab-0.996-ko-0.9.2'\n",
            "Making check in src\n",
            "make[1]: Entering directory '/tmp/mecab-0.996-ko-0.9.2/src'\n",
            "make[1]: Nothing to be done for 'check'.\n",
            "make[1]: Leaving directory '/tmp/mecab-0.996-ko-0.9.2/src'\n",
            "Making check in man\n",
            "make[1]: Entering directory '/tmp/mecab-0.996-ko-0.9.2/man'\n",
            "make[1]: Nothing to be done for 'check'.\n",
            "make[1]: Leaving directory '/tmp/mecab-0.996-ko-0.9.2/man'\n",
            "Making check in doc\n",
            "make[1]: Entering directory '/tmp/mecab-0.996-ko-0.9.2/doc'\n",
            "make[1]: Nothing to be done for 'check'.\n",
            "make[1]: Leaving directory '/tmp/mecab-0.996-ko-0.9.2/doc'\n",
            "Making check in tests\n",
            "make[1]: Entering directory '/tmp/mecab-0.996-ko-0.9.2/tests'\n",
            "make  check-TESTS\n",
            "make[2]: Entering directory '/tmp/mecab-0.996-ko-0.9.2/tests'\n",
            "./pos-id.def is not found. minimum setting is used\n",
            "reading ./unk.def ... 2\n",
            "emitting double-array: 100% |###########################################| \n",
            "./model.def is not found. skipped.\n",
            "./pos-id.def is not found. minimum setting is used\n",
            "reading ./dic.csv ... 177\n",
            "emitting double-array: 100% |###########################################| \n",
            "reading ./matrix.def ... 178x178\n",
            "emitting matrix      : 100% |###########################################| \n",
            "\n",
            "done!\n",
            "./pos-id.def is not found. minimum setting is used\n",
            "reading ./unk.def ... 2\n",
            "emitting double-array: 100% |###########################################| \n",
            "./model.def is not found. skipped.\n",
            "./pos-id.def is not found. minimum setting is used\n",
            "reading ./dic.csv ... 83\n",
            "emitting double-array: 100% |###########################################| \n",
            "reading ./matrix.def ... 84x84\n",
            "emitting matrix      : 100% |###########################################| \n",
            "\n",
            "done!\n",
            "./pos-id.def is not found. minimum setting is used\n",
            "reading ./unk.def ... 2\n",
            "emitting double-array: 100% |###########################################| \n",
            "./model.def is not found. skipped.\n",
            "./pos-id.def is not found. minimum setting is used\n",
            "reading ./dic.csv ... 450\n",
            "emitting double-array: 100% |###########################################| \n",
            "reading ./matrix.def ... 1x1\n",
            "\n",
            "done!\n",
            "./pos-id.def is not found. minimum setting is used\n",
            "reading ./unk.def ... 2\n",
            "emitting double-array: 100% |###########################################| \n",
            "./model.def is not found. skipped.\n",
            "./pos-id.def is not found. minimum setting is used\n",
            "reading ./dic.csv ... 162\n",
            "emitting double-array: 100% |###########################################| \n",
            "reading ./matrix.def ... 3x3\n",
            "emitting matrix      : 100% |###########################################| \n",
            "\n",
            "done!\n",
            "./pos-id.def is not found. minimum setting is used\n",
            "reading ./unk.def ... 2\n",
            "emitting double-array: 100% |###########################################| \n",
            "./model.def is not found. skipped.\n",
            "./pos-id.def is not found. minimum setting is used\n",
            "reading ./dic.csv ... 4\n",
            "emitting double-array: 100% |###########################################| \n",
            "reading ./matrix.def ... 1x1\n",
            "\n",
            "done!\n",
            "./pos-id.def is not found. minimum setting is used\n",
            "reading ./unk.def ... 11\n",
            "emitting double-array: 100% |###########################################| \n",
            "./model.def is not found. skipped.\n",
            "./pos-id.def is not found. minimum setting is used\n",
            "reading ./dic.csv ... 1\n",
            "reading ./matrix.def ... 1x1\n",
            "\n",
            "done!\n",
            "./pos-id.def is not found. minimum setting is used\n",
            "reading ./unk.def ... 2\n",
            "emitting double-array: 100% |###########################################| \n",
            "./model.def is not found. skipped.\n",
            "./pos-id.def is not found. minimum setting is used\n",
            "reading ./dic.csv ... 1\n",
            "reading ./matrix.def ... 1x1\n",
            "\n",
            "done!\n",
            "PASS: run-dics.sh\n",
            "PASS: run-eval.sh\n",
            "seed/pos-id.def is not found. minimum setting is used\n",
            "reading seed/unk.def ... 40\n",
            "emitting double-array: 100% |###########################################| \n",
            "seed/model.def is not found. skipped.\n",
            "seed/pos-id.def is not found. minimum setting is used\n",
            "reading seed/dic.csv ... 4335\n",
            "emitting double-array: 100% |###########################################| \n",
            "reading seed/matrix.def ... 1x1\n",
            "\n",
            "done!\n",
            "reading corpus ...\n",
            "Number of sentences: 34\n",
            "Number of features:  64108\n",
            "eta:                 0.00005\n",
            "freq:                1\n",
            "eval-size:           6\n",
            "unk-eval-size:       4\n",
            "threads:             1\n",
            "charset:             EUC-JP\n",
            "C(sigma^2):          1.00000\n",
            "\n",
            "iter=0 err=1.00000 F=0.35771 target=2406.28355 diff=1.00000\n",
            "iter=1 err=0.97059 F=0.65652 target=1484.25231 diff=0.38318\n",
            "iter=2 err=0.91176 F=0.79331 target=863.32765 diff=0.41834\n",
            "iter=3 err=0.85294 F=0.89213 target=596.72480 diff=0.30881\n",
            "iter=4 err=0.61765 F=0.95467 target=336.30744 diff=0.43641\n",
            "iter=5 err=0.50000 F=0.96702 target=246.53039 diff=0.26695\n",
            "iter=6 err=0.35294 F=0.95472 target=188.93963 diff=0.23361\n",
            "iter=7 err=0.20588 F=0.99106 target=168.62665 diff=0.10751\n",
            "iter=8 err=0.05882 F=0.99777 target=158.64865 diff=0.05917\n",
            "iter=9 err=0.08824 F=0.99665 target=154.14530 diff=0.02839\n",
            "iter=10 err=0.08824 F=0.99665 target=151.94257 diff=0.01429\n",
            "iter=11 err=0.02941 F=0.99888 target=147.20825 diff=0.03116\n",
            "iter=12 err=0.00000 F=1.00000 target=147.34956 diff=0.00096\n",
            "iter=13 err=0.02941 F=0.99888 target=146.32592 diff=0.00695\n",
            "iter=14 err=0.00000 F=1.00000 target=145.77299 diff=0.00378\n",
            "iter=15 err=0.02941 F=0.99888 target=145.24641 diff=0.00361\n",
            "iter=16 err=0.00000 F=1.00000 target=144.96490 diff=0.00194\n",
            "iter=17 err=0.02941 F=0.99888 target=144.90246 diff=0.00043\n",
            "iter=18 err=0.00000 F=1.00000 target=144.75959 diff=0.00099\n",
            "iter=19 err=0.00000 F=1.00000 target=144.71727 diff=0.00029\n",
            "iter=20 err=0.00000 F=1.00000 target=144.66337 diff=0.00037\n",
            "iter=21 err=0.00000 F=1.00000 target=144.61349 diff=0.00034\n",
            "iter=22 err=0.00000 F=1.00000 target=144.62987 diff=0.00011\n",
            "iter=23 err=0.00000 F=1.00000 target=144.60060 diff=0.00020\n",
            "iter=24 err=0.00000 F=1.00000 target=144.59125 diff=0.00006\n",
            "iter=25 err=0.00000 F=1.00000 target=144.58619 diff=0.00004\n",
            "iter=26 err=0.00000 F=1.00000 target=144.58219 diff=0.00003\n",
            "iter=27 err=0.00000 F=1.00000 target=144.58059 diff=0.00001\n",
            "\n",
            "Done! writing model file ... \n",
            "model-ipadic.c1.0.f1.model is not a binary model. reopen it as text mode...\n",
            "reading seed/unk.def ... 40\n",
            "reading seed/dic.csv ... 4335\n",
            "emitting model-ipadic.c1.0.f1.dic/left-id.def/ model-ipadic.c1.0.f1.dic/right-id.def\n",
            "emitting model-ipadic.c1.0.f1.dic/unk.def ... 40\n",
            "emitting model-ipadic.c1.0.f1.dic/dic.csv ... 4335\n",
            "emitting matrix      : 100% |###########################################| \n",
            "copying seed/char.def to model-ipadic.c1.0.f1.dic/char.def\n",
            "copying seed/rewrite.def to model-ipadic.c1.0.f1.dic/rewrite.def\n",
            "copying seed/dicrc to model-ipadic.c1.0.f1.dic/dicrc\n",
            "copying seed/feature.def to model-ipadic.c1.0.f1.dic/feature.def\n",
            "copying model-ipadic.c1.0.f1.model to model-ipadic.c1.0.f1.dic/model.def\n",
            "\n",
            "done!\n",
            "model-ipadic.c1.0.f1.dic/pos-id.def is not found. minimum setting is used\n",
            "reading model-ipadic.c1.0.f1.dic/unk.def ... 40\n",
            "emitting double-array: 100% |###########################################| \n",
            "model-ipadic.c1.0.f1.dic/pos-id.def is not found. minimum setting is used\n",
            "reading model-ipadic.c1.0.f1.dic/dic.csv ... 4335\n",
            "emitting double-array: 100% |###########################################| \n",
            "reading model-ipadic.c1.0.f1.dic/matrix.def ... 346x346\n",
            "emitting matrix      : 100% |###########################################| \n",
            "\n",
            "done!\n",
            "              precision          recall         F\n",
            "LEVEL 0:    12.8959(57/442) 11.8998(57/479) 12.3779\n",
            "LEVEL 1:    12.2172(54/442) 11.2735(54/479) 11.7264\n",
            "LEVEL 2:    11.7647(52/442) 10.8559(52/479) 11.2921\n",
            "LEVEL 4:    11.7647(52/442) 10.8559(52/479) 11.2921\n",
            "PASS: run-cost-train.sh\n",
            "==================\n",
            "All 3 tests passed\n",
            "==================\n",
            "make[2]: Leaving directory '/tmp/mecab-0.996-ko-0.9.2/tests'\n",
            "make[1]: Leaving directory '/tmp/mecab-0.996-ko-0.9.2/tests'\n",
            "make[1]: Entering directory '/tmp/mecab-0.996-ko-0.9.2'\n",
            "make[1]: Leaving directory '/tmp/mecab-0.996-ko-0.9.2'\n",
            "Making install in src\n",
            "make[1]: Entering directory '/tmp/mecab-0.996-ko-0.9.2/src'\n",
            "make[2]: Entering directory '/tmp/mecab-0.996-ko-0.9.2/src'\n",
            "test -z \"/usr/local/lib\" || /bin/mkdir -p \"/usr/local/lib\"\n",
            " /bin/bash ../libtool   --mode=install /usr/bin/install -c   libmecab.la '/usr/local/lib'\n",
            "libtool: install: /usr/bin/install -c .libs/libmecab.so.2.0.0 /usr/local/lib/libmecab.so.2.0.0\n",
            "libtool: install: (cd /usr/local/lib && { ln -s -f libmecab.so.2.0.0 libmecab.so.2 || { rm -f libmecab.so.2 && ln -s libmecab.so.2.0.0 libmecab.so.2; }; })\n",
            "libtool: install: (cd /usr/local/lib && { ln -s -f libmecab.so.2.0.0 libmecab.so || { rm -f libmecab.so && ln -s libmecab.so.2.0.0 libmecab.so; }; })\n",
            "libtool: install: /usr/bin/install -c .libs/libmecab.lai /usr/local/lib/libmecab.la\n",
            "libtool: install: /usr/bin/install -c .libs/libmecab.a /usr/local/lib/libmecab.a\n",
            "libtool: install: chmod 644 /usr/local/lib/libmecab.a\n",
            "libtool: install: ranlib /usr/local/lib/libmecab.a\n",
            "libtool: finish: PATH=\"/opt/bin:/usr/local/nvidia/bin:/usr/local/cuda/bin:/usr/local/sbin:/usr/local/bin:/usr/sbin:/usr/bin:/sbin:/bin:/tools/node/bin:/tools/google-cloud-sdk/bin:/sbin\" ldconfig -n /usr/local/lib\n",
            "----------------------------------------------------------------------\n",
            "Libraries have been installed in:\n",
            "   /usr/local/lib\n",
            "\n",
            "If you ever happen to want to link against installed libraries\n",
            "in a given directory, LIBDIR, you must either use libtool, and\n",
            "specify the full pathname of the library, or use the `-LLIBDIR'\n",
            "flag during linking and do at least one of the following:\n",
            "   - add LIBDIR to the `LD_LIBRARY_PATH' environment variable\n",
            "     during execution\n",
            "   - add LIBDIR to the `LD_RUN_PATH' environment variable\n",
            "     during linking\n",
            "   - use the `-Wl,-rpath -Wl,LIBDIR' linker flag\n",
            "   - have your system administrator add LIBDIR to `/etc/ld.so.conf'\n",
            "\n",
            "See any operating system documentation about shared libraries for\n",
            "more information, such as the ld(1) and ld.so(8) manual pages.\n",
            "----------------------------------------------------------------------\n",
            "test -z \"/usr/local/bin\" || /bin/mkdir -p \"/usr/local/bin\"\n",
            "  /bin/bash ../libtool   --mode=install /usr/bin/install -c mecab '/usr/local/bin'\n",
            "libtool: install: /usr/bin/install -c .libs/mecab /usr/local/bin/mecab\n",
            "test -z \"/usr/local/libexec/mecab\" || /bin/mkdir -p \"/usr/local/libexec/mecab\"\n",
            "  /bin/bash ../libtool   --mode=install /usr/bin/install -c mecab-dict-index mecab-dict-gen mecab-cost-train mecab-system-eval mecab-test-gen '/usr/local/libexec/mecab'\n",
            "libtool: install: /usr/bin/install -c .libs/mecab-dict-index /usr/local/libexec/mecab/mecab-dict-index\n",
            "libtool: install: /usr/bin/install -c .libs/mecab-dict-gen /usr/local/libexec/mecab/mecab-dict-gen\n",
            "libtool: install: /usr/bin/install -c .libs/mecab-cost-train /usr/local/libexec/mecab/mecab-cost-train\n",
            "libtool: install: /usr/bin/install -c .libs/mecab-system-eval /usr/local/libexec/mecab/mecab-system-eval\n",
            "libtool: install: /usr/bin/install -c .libs/mecab-test-gen /usr/local/libexec/mecab/mecab-test-gen\n",
            "test -z \"/usr/local/include\" || /bin/mkdir -p \"/usr/local/include\"\n",
            " /usr/bin/install -c -m 644 mecab.h '/usr/local/include'\n",
            "make[2]: Leaving directory '/tmp/mecab-0.996-ko-0.9.2/src'\n",
            "make[1]: Leaving directory '/tmp/mecab-0.996-ko-0.9.2/src'\n",
            "Making install in man\n",
            "make[1]: Entering directory '/tmp/mecab-0.996-ko-0.9.2/man'\n",
            "make[2]: Entering directory '/tmp/mecab-0.996-ko-0.9.2/man'\n",
            "make[2]: Nothing to be done for 'install-exec-am'.\n",
            "test -z \"/usr/local/share/man/man1\" || /bin/mkdir -p \"/usr/local/share/man/man1\"\n",
            " /usr/bin/install -c -m 644 mecab.1 '/usr/local/share/man/man1'\n",
            "make[2]: Leaving directory '/tmp/mecab-0.996-ko-0.9.2/man'\n",
            "make[1]: Leaving directory '/tmp/mecab-0.996-ko-0.9.2/man'\n",
            "Making install in doc\n",
            "make[1]: Entering directory '/tmp/mecab-0.996-ko-0.9.2/doc'\n",
            "make[2]: Entering directory '/tmp/mecab-0.996-ko-0.9.2/doc'\n",
            "make[2]: Nothing to be done for 'install-exec-am'.\n",
            "make[2]: Nothing to be done for 'install-data-am'.\n",
            "make[2]: Leaving directory '/tmp/mecab-0.996-ko-0.9.2/doc'\n",
            "make[1]: Leaving directory '/tmp/mecab-0.996-ko-0.9.2/doc'\n",
            "Making install in tests\n",
            "make[1]: Entering directory '/tmp/mecab-0.996-ko-0.9.2/tests'\n",
            "make[2]: Entering directory '/tmp/mecab-0.996-ko-0.9.2/tests'\n",
            "make[2]: Nothing to be done for 'install-exec-am'.\n",
            "make[2]: Nothing to be done for 'install-data-am'.\n",
            "make[2]: Leaving directory '/tmp/mecab-0.996-ko-0.9.2/tests'\n",
            "make[1]: Leaving directory '/tmp/mecab-0.996-ko-0.9.2/tests'\n",
            "make[1]: Entering directory '/tmp/mecab-0.996-ko-0.9.2'\n",
            "make[2]: Entering directory '/tmp/mecab-0.996-ko-0.9.2'\n",
            "test -z \"/usr/local/bin\" || /bin/mkdir -p \"/usr/local/bin\"\n",
            " /usr/bin/install -c mecab-config '/usr/local/bin'\n",
            "test -z \"/usr/local/etc\" || /bin/mkdir -p \"/usr/local/etc\"\n",
            " /usr/bin/install -c -m 644 mecabrc '/usr/local/etc'\n",
            "make[2]: Leaving directory '/tmp/mecab-0.996-ko-0.9.2'\n",
            "make[1]: Leaving directory '/tmp/mecab-0.996-ko-0.9.2'\n",
            "--2022-09-20 11:06:43--  https://www.dropbox.com/s/i8girnk5p80076c/mecab-ko-dic-2.1.1-20180720.tar.gz?dl=1\n",
            "Resolving www.dropbox.com (www.dropbox.com)... 162.125.3.18, 2620:100:6018:18::a27d:312\n",
            "Connecting to www.dropbox.com (www.dropbox.com)|162.125.3.18|:443... connected.\n",
            "HTTP request sent, awaiting response... 302 Found\n",
            "Location: /s/dl/i8girnk5p80076c/mecab-ko-dic-2.1.1-20180720.tar.gz [following]\n",
            "--2022-09-20 11:06:43--  https://www.dropbox.com/s/dl/i8girnk5p80076c/mecab-ko-dic-2.1.1-20180720.tar.gz\n",
            "Reusing existing connection to www.dropbox.com:443.\n",
            "HTTP request sent, awaiting response... 302 Found\n",
            "Location: https://uca999ee81ce0712b9e7daf35ab8.dl.dropboxusercontent.com/cd/0/get/BtRNklbUPEPfx2bGQ5I17EOClB30vZETMUa8tNylQUVorHpdfcWCV1tvPpMKEmFs8W5I1JfSz4VnD8ToAMhPJ0sGWN9hyOsjrjgeuNSNrA_H7fMR07IFeloK8hF5RLRgdKSHKGd9i2aqp08TfejIAIt3DU88yiWrULSMWNDqDxmZXnjWyywyevnpsFmj6J7StF0/file?dl=1# [following]\n",
            "--2022-09-20 11:06:44--  https://uca999ee81ce0712b9e7daf35ab8.dl.dropboxusercontent.com/cd/0/get/BtRNklbUPEPfx2bGQ5I17EOClB30vZETMUa8tNylQUVorHpdfcWCV1tvPpMKEmFs8W5I1JfSz4VnD8ToAMhPJ0sGWN9hyOsjrjgeuNSNrA_H7fMR07IFeloK8hF5RLRgdKSHKGd9i2aqp08TfejIAIt3DU88yiWrULSMWNDqDxmZXnjWyywyevnpsFmj6J7StF0/file?dl=1\n",
            "Resolving uca999ee81ce0712b9e7daf35ab8.dl.dropboxusercontent.com (uca999ee81ce0712b9e7daf35ab8.dl.dropboxusercontent.com)... 162.125.3.15, 2620:100:6018:15::a27d:30f\n",
            "Connecting to uca999ee81ce0712b9e7daf35ab8.dl.dropboxusercontent.com (uca999ee81ce0712b9e7daf35ab8.dl.dropboxusercontent.com)|162.125.3.15|:443... connected.\n",
            "HTTP request sent, awaiting response... 200 OK\n",
            "Length: 49775061 (47M) [application/binary]\n",
            "Saving to: ‘mecab-ko-dic-2.1.1-20180720.tar.gz?dl=1’\n",
            "\n",
            "mecab-ko-dic-2.1.1- 100%[===================>]  47.47M  76.5MB/s    in 0.6s    \n",
            "\n",
            "2022-09-20 11:06:45 (76.5 MB/s) - ‘mecab-ko-dic-2.1.1-20180720.tar.gz?dl=1’ saved [49775061/49775061]\n",
            "\n",
            "Reading package lists... Done\n",
            "Building dependency tree       \n",
            "Reading state information... Done\n",
            "The following package was automatically installed and is no longer required:\n",
            "  libnvidia-common-460\n",
            "Use 'apt autoremove' to remove it.\n",
            "The following additional packages will be installed:\n",
            "  automake autotools-dev libsigsegv2 m4\n",
            "Suggested packages:\n",
            "  autoconf-archive gnu-standards autoconf-doc libtool gettext m4-doc\n",
            "The following NEW packages will be installed:\n",
            "  autoconf automake autotools-dev libsigsegv2 m4\n",
            "0 upgraded, 5 newly installed, 0 to remove and 20 not upgraded.\n",
            "Need to get 1,082 kB of archives.\n",
            "After this operation, 3,994 kB of additional disk space will be used.\n",
            "Get:1 http://archive.ubuntu.com/ubuntu bionic/main amd64 libsigsegv2 amd64 2.12-1 [14.7 kB]\n",
            "Get:2 http://archive.ubuntu.com/ubuntu bionic/main amd64 m4 amd64 1.4.18-1 [197 kB]\n",
            "Get:3 http://archive.ubuntu.com/ubuntu bionic/main amd64 autoconf all 2.69-11 [322 kB]\n",
            "Get:4 http://archive.ubuntu.com/ubuntu bionic/main amd64 autotools-dev all 20180224.1 [39.6 kB]\n",
            "Get:5 http://archive.ubuntu.com/ubuntu bionic/main amd64 automake all 1:1.15.1-3ubuntu2 [509 kB]\n",
            "Fetched 1,082 kB in 0s (3,061 kB/s)\n",
            "Selecting previously unselected package libsigsegv2:amd64.\n",
            "(Reading database ... 155569 files and directories currently installed.)\n",
            "Preparing to unpack .../libsigsegv2_2.12-1_amd64.deb ...\n",
            "Unpacking libsigsegv2:amd64 (2.12-1) ...\n",
            "Selecting previously unselected package m4.\n",
            "Preparing to unpack .../archives/m4_1.4.18-1_amd64.deb ...\n",
            "Unpacking m4 (1.4.18-1) ...\n",
            "Selecting previously unselected package autoconf.\n",
            "Preparing to unpack .../autoconf_2.69-11_all.deb ...\n",
            "Unpacking autoconf (2.69-11) ...\n",
            "Selecting previously unselected package autotools-dev.\n",
            "Preparing to unpack .../autotools-dev_20180224.1_all.deb ...\n",
            "Unpacking autotools-dev (20180224.1) ...\n",
            "Selecting previously unselected package automake.\n",
            "Preparing to unpack .../automake_1%3a1.15.1-3ubuntu2_all.deb ...\n",
            "Unpacking automake (1:1.15.1-3ubuntu2) ...\n",
            "Setting up libsigsegv2:amd64 (2.12-1) ...\n",
            "Setting up m4 (1.4.18-1) ...\n",
            "Setting up autotools-dev (20180224.1) ...\n",
            "Setting up autoconf (2.69-11) ...\n",
            "Setting up automake (1:1.15.1-3ubuntu2) ...\n",
            "update-alternatives: using /usr/bin/automake-1.15 to provide /usr/bin/automake (automake) in auto mode\n",
            "Processing triggers for libc-bin (2.27-3ubuntu1.5) ...\n",
            "Processing triggers for man-db (2.8.3-2ubuntu0.1) ...\n",
            "mecab-ko-dic-2.1.1-20180720/\n",
            "mecab-ko-dic-2.1.1-20180720/configure\n",
            "mecab-ko-dic-2.1.1-20180720/COPYING\n",
            "mecab-ko-dic-2.1.1-20180720/autogen.sh\n",
            "mecab-ko-dic-2.1.1-20180720/Place-station.csv\n",
            "mecab-ko-dic-2.1.1-20180720/NNG.csv\n",
            "mecab-ko-dic-2.1.1-20180720/README\n",
            "mecab-ko-dic-2.1.1-20180720/EF.csv\n",
            "mecab-ko-dic-2.1.1-20180720/MAG.csv\n",
            "mecab-ko-dic-2.1.1-20180720/Preanalysis.csv\n",
            "mecab-ko-dic-2.1.1-20180720/NNB.csv\n",
            "mecab-ko-dic-2.1.1-20180720/Person-actor.csv\n",
            "mecab-ko-dic-2.1.1-20180720/VV.csv\n",
            "mecab-ko-dic-2.1.1-20180720/Makefile.in\n",
            "mecab-ko-dic-2.1.1-20180720/matrix.def\n",
            "mecab-ko-dic-2.1.1-20180720/EC.csv\n",
            "mecab-ko-dic-2.1.1-20180720/NNBC.csv\n",
            "mecab-ko-dic-2.1.1-20180720/clean\n",
            "mecab-ko-dic-2.1.1-20180720/ChangeLog\n",
            "mecab-ko-dic-2.1.1-20180720/J.csv\n",
            "mecab-ko-dic-2.1.1-20180720/.keep\n",
            "mecab-ko-dic-2.1.1-20180720/feature.def\n",
            "mecab-ko-dic-2.1.1-20180720/Foreign.csv\n",
            "mecab-ko-dic-2.1.1-20180720/XPN.csv\n",
            "mecab-ko-dic-2.1.1-20180720/EP.csv\n",
            "mecab-ko-dic-2.1.1-20180720/NR.csv\n",
            "mecab-ko-dic-2.1.1-20180720/left-id.def\n",
            "mecab-ko-dic-2.1.1-20180720/Place.csv\n",
            "mecab-ko-dic-2.1.1-20180720/Symbol.csv\n",
            "mecab-ko-dic-2.1.1-20180720/dicrc\n",
            "mecab-ko-dic-2.1.1-20180720/NP.csv\n",
            "mecab-ko-dic-2.1.1-20180720/ETM.csv\n",
            "mecab-ko-dic-2.1.1-20180720/IC.csv\n",
            "mecab-ko-dic-2.1.1-20180720/Place-address.csv\n",
            "mecab-ko-dic-2.1.1-20180720/Group.csv\n",
            "mecab-ko-dic-2.1.1-20180720/model.def\n",
            "mecab-ko-dic-2.1.1-20180720/XSN.csv\n",
            "mecab-ko-dic-2.1.1-20180720/INSTALL\n",
            "mecab-ko-dic-2.1.1-20180720/rewrite.def\n",
            "mecab-ko-dic-2.1.1-20180720/Inflect.csv\n",
            "mecab-ko-dic-2.1.1-20180720/configure.ac\n",
            "mecab-ko-dic-2.1.1-20180720/NNP.csv\n",
            "mecab-ko-dic-2.1.1-20180720/CoinedWord.csv\n",
            "mecab-ko-dic-2.1.1-20180720/XSV.csv\n",
            "mecab-ko-dic-2.1.1-20180720/pos-id.def\n",
            "mecab-ko-dic-2.1.1-20180720/Makefile.am\n",
            "mecab-ko-dic-2.1.1-20180720/unk.def\n",
            "mecab-ko-dic-2.1.1-20180720/missing\n",
            "mecab-ko-dic-2.1.1-20180720/VCP.csv\n",
            "mecab-ko-dic-2.1.1-20180720/install-sh\n",
            "mecab-ko-dic-2.1.1-20180720/Hanja.csv\n",
            "mecab-ko-dic-2.1.1-20180720/MAJ.csv\n",
            "mecab-ko-dic-2.1.1-20180720/XSA.csv\n",
            "mecab-ko-dic-2.1.1-20180720/Wikipedia.csv\n",
            "mecab-ko-dic-2.1.1-20180720/tools/\n",
            "mecab-ko-dic-2.1.1-20180720/tools/add-userdic.sh\n",
            "mecab-ko-dic-2.1.1-20180720/tools/mecab-bestn.sh\n",
            "mecab-ko-dic-2.1.1-20180720/tools/convert_for_using_store.sh\n",
            "mecab-ko-dic-2.1.1-20180720/user-dic/\n",
            "mecab-ko-dic-2.1.1-20180720/user-dic/nnp.csv\n",
            "mecab-ko-dic-2.1.1-20180720/user-dic/place.csv\n",
            "mecab-ko-dic-2.1.1-20180720/user-dic/person.csv\n",
            "mecab-ko-dic-2.1.1-20180720/user-dic/README.md\n",
            "mecab-ko-dic-2.1.1-20180720/NorthKorea.csv\n",
            "mecab-ko-dic-2.1.1-20180720/VX.csv\n",
            "mecab-ko-dic-2.1.1-20180720/right-id.def\n",
            "mecab-ko-dic-2.1.1-20180720/VA.csv\n",
            "mecab-ko-dic-2.1.1-20180720/char.def\n",
            "mecab-ko-dic-2.1.1-20180720/NEWS\n",
            "mecab-ko-dic-2.1.1-20180720/MM.csv\n",
            "mecab-ko-dic-2.1.1-20180720/ETN.csv\n",
            "mecab-ko-dic-2.1.1-20180720/AUTHORS\n",
            "mecab-ko-dic-2.1.1-20180720/Person.csv\n",
            "mecab-ko-dic-2.1.1-20180720/XR.csv\n",
            "mecab-ko-dic-2.1.1-20180720/VCN.csv\n",
            "Looking in current directory for macros.\n",
            "configure.ac:2: warning: AM_INIT_AUTOMAKE: two- and three-arguments forms are deprecated.  For more info, see:\n",
            "configure.ac:2: http://www.gnu.org/software/automake/manual/automake.html#Modernize-AM_005fINIT_005fAUTOMAKE-invocation\n",
            "checking for a BSD-compatible install... /usr/bin/install -c\n",
            "checking whether build environment is sane... yes\n",
            "/tmp/mecab-ko-dic-2.1.1-20180720/missing: Unknown `--is-lightweight' option\n",
            "Try `/tmp/mecab-ko-dic-2.1.1-20180720/missing --help' for more information\n",
            "configure: WARNING: 'missing' script is too old or missing\n",
            "checking for a thread-safe mkdir -p... /bin/mkdir -p\n",
            "checking for gawk... no\n",
            "checking for mawk... mawk\n",
            "checking whether make sets $(MAKE)... yes\n",
            "checking whether make supports nested variables... yes\n",
            "checking for mecab-config... /usr/local/bin/mecab-config\n",
            "checking that generated files are newer than configure... done\n",
            "configure: creating ./config.status\n",
            "config.status: creating Makefile\n",
            "/usr/local/libexec/mecab/mecab-dict-index -d . -o . -f UTF-8 -t UTF-8\n",
            "reading ./unk.def ... 13\n",
            "emitting double-array: 100% |###########################################| \n",
            "reading ./Place-address.csv ... 19301\n",
            "reading ./VV.csv ... 7331\n",
            "reading ./Place.csv ... 30303\n",
            "reading ./ETN.csv ... 14\n",
            "reading ./NNBC.csv ... 677\n",
            "reading ./EF.csv ... 1820\n",
            "reading ./NNP.csv ... 2371\n",
            "reading ./IC.csv ... 1305\n",
            "reading ./Person.csv ... 196459\n",
            "reading ./XSA.csv ... 19\n",
            "reading ./NR.csv ... 482\n",
            "reading ./Person-actor.csv ... 99230\n",
            "reading ./EC.csv ... 2547\n",
            "reading ./VCN.csv ... 7\n",
            "reading ./MM.csv ... 453\n",
            "reading ./Place-station.csv ... 1145\n",
            "reading ./MAG.csv ... 14242\n",
            "reading ./XR.csv ... 3637\n",
            "reading ./VCP.csv ... 9\n",
            "reading ./MAJ.csv ... 240\n",
            "reading ./Preanalysis.csv ... 5\n",
            "reading ./Symbol.csv ... 16\n",
            "reading ./Hanja.csv ... 125750\n",
            "reading ./NorthKorea.csv ... 3\n",
            "reading ./J.csv ... 416\n",
            "reading ./NNG.csv ... 208524\n",
            "reading ./EP.csv ... 51\n",
            "reading ./VA.csv ... 2360\n",
            "reading ./XPN.csv ... 83\n",
            "reading ./NP.csv ... 342\n",
            "reading ./ETM.csv ... 133\n",
            "reading ./CoinedWord.csv ... 148\n",
            "reading ./NNB.csv ... 140\n",
            "reading ./Inflect.csv ... 44820\n",
            "reading ./VX.csv ... 125\n",
            "reading ./XSV.csv ... 23\n",
            "reading ./Foreign.csv ... 11690\n",
            "reading ./Group.csv ... 3176\n",
            "reading ./XSN.csv ... 124\n",
            "reading ./Wikipedia.csv ... 36762\n",
            "emitting double-array: 100% |###########################################| \n",
            "reading ./matrix.def ... 3822x2693\n",
            "emitting matrix      : 100% |###########################################| \n",
            "\n",
            "done!\n",
            "echo To enable dictionary, rewrite /usr/local/etc/mecabrc as \\\"dicdir = /usr/local/lib/mecab/dic/mecab-ko-dic\\\"\n",
            "To enable dictionary, rewrite /usr/local/etc/mecabrc as \"dicdir = /usr/local/lib/mecab/dic/mecab-ko-dic\"\n",
            "make[1]: Entering directory '/tmp/mecab-ko-dic-2.1.1-20180720'\n",
            "make[1]: Nothing to be done for 'install-exec-am'.\n",
            " /bin/mkdir -p '/usr/local/lib/mecab/dic/mecab-ko-dic'\n",
            " /usr/bin/install -c -m 644 model.bin matrix.bin char.bin sys.dic unk.dic left-id.def right-id.def rewrite.def pos-id.def dicrc '/usr/local/lib/mecab/dic/mecab-ko-dic'\n",
            "make[1]: Leaving directory '/tmp/mecab-ko-dic-2.1.1-20180720'\n",
            "Cloning into 'mecab-python-0.996'...\n",
            "Unpacking objects: 100% (17/17), done.\n",
            "running build\n",
            "running build_py\n",
            "creating build\n",
            "creating build/lib.linux-x86_64-3.7\n",
            "copying MeCab.py -> build/lib.linux-x86_64-3.7\n",
            "running build_ext\n",
            "building '_MeCab' extension\n",
            "creating build/temp.linux-x86_64-3.7\n",
            "x86_64-linux-gnu-gcc -pthread -Wno-unused-result -Wsign-compare -DNDEBUG -g -fwrapv -O2 -Wall -g -fstack-protector-strong -Wformat -Werror=format-security -g -fwrapv -O2 -g -fstack-protector-strong -Wformat -Werror=format-security -Wdate-time -D_FORTIFY_SOURCE=2 -fPIC -I/usr/local/include -I/usr/include/python3.7m -c MeCab_wrap.cxx -o build/temp.linux-x86_64-3.7/MeCab_wrap.o\n",
            "x86_64-linux-gnu-g++ -pthread -shared -Wl,-O1 -Wl,-Bsymbolic-functions -Wl,-Bsymbolic-functions -g -fwrapv -O2 -Wl,-Bsymbolic-functions -g -fwrapv -O2 -g -fstack-protector-strong -Wformat -Werror=format-security -Wdate-time -D_FORTIFY_SOURCE=2 build/temp.linux-x86_64-3.7/MeCab_wrap.o -L/usr/local/lib -lmecab -lstdc++ -o build/lib.linux-x86_64-3.7/_MeCab.cpython-37m-x86_64-linux-gnu.so\n",
            "running install\n",
            "running build\n",
            "running build_py\n",
            "running build_ext\n",
            "running install_lib\n",
            "copying build/lib.linux-x86_64-3.7/_MeCab.cpython-37m-x86_64-linux-gnu.so -> /usr/local/lib/python3.7/dist-packages\n",
            "copying build/lib.linux-x86_64-3.7/MeCab.py -> /usr/local/lib/python3.7/dist-packages\n",
            "byte-compiling /usr/local/lib/python3.7/dist-packages/MeCab.py to MeCab.cpython-37.pyc\n",
            "running install_egg_info\n",
            "Writing /usr/local/lib/python3.7/dist-packages/mecab_python-0.996_ko_0.9.2.egg-info\n",
            "Looking in indexes: https://pypi.org/simple, https://us-python.pkg.dev/colab-wheels/public/simple/\n",
            "Collecting konlpy\n",
            "  Downloading konlpy-0.6.0-py2.py3-none-any.whl (19.4 MB)\n",
            "\u001b[K     |████████████████████████████████| 19.4 MB 1.4 MB/s \n",
            "\u001b[?25hCollecting JPype1>=0.7.0\n",
            "  Downloading JPype1-1.4.0-cp37-cp37m-manylinux_2_5_x86_64.manylinux1_x86_64.whl (453 kB)\n",
            "\u001b[K     |████████████████████████████████| 453 kB 46.0 MB/s \n",
            "\u001b[?25hRequirement already satisfied: lxml>=4.1.0 in /usr/local/lib/python3.7/dist-packages (from konlpy) (4.9.1)\n",
            "Requirement already satisfied: numpy>=1.6 in /usr/local/lib/python3.7/dist-packages (from konlpy) (1.21.6)\n",
            "Requirement already satisfied: typing-extensions in /usr/local/lib/python3.7/dist-packages (from JPype1>=0.7.0->konlpy) (4.1.1)\n",
            "Installing collected packages: JPype1, konlpy\n",
            "Successfully installed JPype1-1.4.0 konlpy-0.6.0\n"
          ]
        }
      ],
      "source": [
        "!curl -s https://raw.githubusercontent.com/teddylee777/machine-learning/master/99-Misc/01-Colab/mecab-colab.sh | bash\n",
        "\n"
      ]
    },
    {
      "cell_type": "code",
      "source": [
        "from google.colab import drive\n",
        "drive.mount('/content/drive')\n",
        "\n",
        "from konlpy.tag import Okt, Mecab\n",
        "from gensim.models.word2vec import Word2Vec\n",
        "from tqdm import tqdm\n",
        "from tensorflow.keras.layers import(Input, Dense, Bidirectional, LSTM, Concatenate, concatenate, Embedding, Dropout)\n",
        "import urllib.request\n",
        "import matplotlib.pyplot as plt\n",
        "import numpy as np\n",
        "import tensorflow as tf\n",
        "import pandas as pd\n",
        "import sklearn"
      ],
      "metadata": {
        "colab": {
          "base_uri": "https://localhost:8080/"
        },
        "id": "Tc3vKLnyJHBT",
        "outputId": "a647979f-a410-475b-ecd6-b51d7354b563"
      },
      "execution_count": 2,
      "outputs": [
        {
          "output_type": "stream",
          "name": "stdout",
          "text": [
            "Mounted at /content/drive\n"
          ]
        }
      ]
    },
    {
      "cell_type": "code",
      "source": [
        "!pip install wandb\n",
        "!wandb login 5bcaa9827ad3815cd50d74dc7a2d2c6a80bd9e9a\n",
        "import wandb\n",
        "# !wandb login\n",
        "    \n",
        "wandb.init(project=\"kerc_wandb_test\",\n",
        "           config={\n",
        "                  \"layer_1_activation\":\"relu\", \n",
        "                  \"layer_1\":128,\n",
        "                   \"learning_rate\":0.01,\n",
        "                   \"dropout_rate\": 0.2\n",
        "            })"
      ],
      "metadata": {
        "colab": {
          "base_uri": "https://localhost:8080/",
          "height": 934,
          "referenced_widgets": [
            "9d6ba7f0f4c641409c904b374ea555ae",
            "7175bb4ac0a343b397158432db755149",
            "5f7daa18f39f49c8a1a505477ee92a43",
            "690480b7164f45d4843c449dd92407dc",
            "c84e757def4f4267b9420d68b08a1a3b",
            "088233a0be1c459ab10735f90df86213",
            "8118679a2b1249c6ae31c58e1ec7076e",
            "6eb87e3bbb5b46e8b8fb978c81c9156e"
          ]
        },
        "id": "mGKKqNgGkfqA",
        "outputId": "ef34ea6d-9e30-46e0-8cc5-0550ef571e09"
      },
      "execution_count": 38,
      "outputs": [
        {
          "output_type": "stream",
          "name": "stdout",
          "text": [
            "Looking in indexes: https://pypi.org/simple, https://us-python.pkg.dev/colab-wheels/public/simple/\n",
            "Requirement already satisfied: wandb in /usr/local/lib/python3.7/dist-packages (0.13.3)\n",
            "Requirement already satisfied: docker-pycreds>=0.4.0 in /usr/local/lib/python3.7/dist-packages (from wandb) (0.4.0)\n",
            "Requirement already satisfied: promise<3,>=2.0 in /usr/local/lib/python3.7/dist-packages (from wandb) (2.3)\n",
            "Requirement already satisfied: requests<3,>=2.0.0 in /usr/local/lib/python3.7/dist-packages (from wandb) (2.23.0)\n",
            "Requirement already satisfied: six>=1.13.0 in /usr/local/lib/python3.7/dist-packages (from wandb) (1.15.0)\n",
            "Requirement already satisfied: sentry-sdk>=1.0.0 in /usr/local/lib/python3.7/dist-packages (from wandb) (1.9.0)\n",
            "Requirement already satisfied: shortuuid>=0.5.0 in /usr/local/lib/python3.7/dist-packages (from wandb) (1.0.9)\n",
            "Requirement already satisfied: protobuf<4.0dev,>=3.12.0 in /usr/local/lib/python3.7/dist-packages (from wandb) (3.17.3)\n",
            "Requirement already satisfied: pathtools in /usr/local/lib/python3.7/dist-packages (from wandb) (0.1.2)\n",
            "Requirement already satisfied: setproctitle in /usr/local/lib/python3.7/dist-packages (from wandb) (1.3.2)\n",
            "Requirement already satisfied: setuptools in /usr/local/lib/python3.7/dist-packages (from wandb) (57.4.0)\n",
            "Requirement already satisfied: GitPython>=1.0.0 in /usr/local/lib/python3.7/dist-packages (from wandb) (3.1.27)\n",
            "Requirement already satisfied: PyYAML in /usr/local/lib/python3.7/dist-packages (from wandb) (6.0)\n",
            "Requirement already satisfied: psutil>=5.0.0 in /usr/local/lib/python3.7/dist-packages (from wandb) (5.4.8)\n",
            "Requirement already satisfied: Click!=8.0.0,>=7.0 in /usr/local/lib/python3.7/dist-packages (from wandb) (7.1.2)\n",
            "Requirement already satisfied: typing-extensions>=3.7.4.3 in /usr/local/lib/python3.7/dist-packages (from GitPython>=1.0.0->wandb) (4.1.1)\n",
            "Requirement already satisfied: gitdb<5,>=4.0.1 in /usr/local/lib/python3.7/dist-packages (from GitPython>=1.0.0->wandb) (4.0.9)\n",
            "Requirement already satisfied: smmap<6,>=3.0.1 in /usr/local/lib/python3.7/dist-packages (from gitdb<5,>=4.0.1->GitPython>=1.0.0->wandb) (5.0.0)\n",
            "Requirement already satisfied: certifi>=2017.4.17 in /usr/local/lib/python3.7/dist-packages (from requests<3,>=2.0.0->wandb) (2022.6.15)\n",
            "Requirement already satisfied: chardet<4,>=3.0.2 in /usr/local/lib/python3.7/dist-packages (from requests<3,>=2.0.0->wandb) (3.0.4)\n",
            "Requirement already satisfied: idna<3,>=2.5 in /usr/local/lib/python3.7/dist-packages (from requests<3,>=2.0.0->wandb) (2.10)\n",
            "Requirement already satisfied: urllib3!=1.25.0,!=1.25.1,<1.26,>=1.21.1 in /usr/local/lib/python3.7/dist-packages (from requests<3,>=2.0.0->wandb) (1.24.3)\n",
            "\u001b[34m\u001b[1mwandb\u001b[0m: Appending key for api.wandb.ai to your netrc file: /root/.netrc\n"
          ]
        },
        {
          "output_type": "display_data",
          "data": {
            "text/plain": [
              "<IPython.core.display.HTML object>"
            ],
            "text/html": [
              "Finishing last run (ID:1vnswpok) before initializing another..."
            ]
          },
          "metadata": {}
        },
        {
          "output_type": "display_data",
          "data": {
            "text/plain": [
              "<IPython.core.display.HTML object>"
            ],
            "text/html": [
              "Waiting for W&B process to finish... <strong style=\"color:green\">(success).</strong>"
            ]
          },
          "metadata": {}
        },
        {
          "output_type": "display_data",
          "data": {
            "text/plain": [
              "VBox(children=(Label(value='16.220 MB of 28.166 MB uploaded (0.000 MB deduped)\\r'), FloatProgress(value=0.5758…"
            ],
            "application/vnd.jupyter.widget-view+json": {
              "version_major": 2,
              "version_minor": 0,
              "model_id": "9d6ba7f0f4c641409c904b374ea555ae"
            }
          },
          "metadata": {}
        },
        {
          "output_type": "display_data",
          "data": {
            "text/plain": [
              "<IPython.core.display.HTML object>"
            ],
            "text/html": [
              "<style>\n",
              "    table.wandb td:nth-child(1) { padding: 0 10px; text-align: left ; width: auto;} td:nth-child(2) {text-align: left ; width: 100%}\n",
              "    .wandb-row { display: flex; flex-direction: row; flex-wrap: wrap; justify-content: flex-start; width: 100% }\n",
              "    .wandb-col { display: flex; flex-direction: column; flex-basis: 100%; flex: 1; padding: 10px; }\n",
              "    </style>\n",
              "<div class=\"wandb-row\"><div class=\"wandb-col\"><h3>Run history:</h3><br/><table class=\"wandb\"><tr><td>accuracy</td><td>▁▁▁▁▁▃▅▆▆▇███</td></tr><tr><td>epoch</td><td>▁▂▂▃▃▄▅▅▆▆▇▇█</td></tr><tr><td>loss</td><td>█▇▇▆▅▅▄▃▃▂▂▁▁</td></tr><tr><td>lr</td><td>▁▁▁▁▂▂▂▃▄▄▅▆█</td></tr><tr><td>val_accuracy</td><td>▁▁▁▁▂▄▄▅▆▅▇▄█</td></tr><tr><td>val_loss</td><td>█▇▇▆▅▅▄▃▃▂▃▃▁</td></tr></table><br/></div><div class=\"wandb-col\"><h3>Run summary:</h3><br/><table class=\"wandb\"><tr><td>GFLOPs</td><td>0.0</td></tr><tr><td>accuracy</td><td>0.77199</td></tr><tr><td>best_epoch</td><td>12</td></tr><tr><td>best_val_loss</td><td>0.60957</td></tr><tr><td>epoch</td><td>12</td></tr><tr><td>loss</td><td>0.54426</td></tr><tr><td>lr</td><td>0.00158</td></tr><tr><td>val_accuracy</td><td>0.76294</td></tr><tr><td>val_loss</td><td>0.60957</td></tr></table><br/></div></div>"
            ]
          },
          "metadata": {}
        },
        {
          "output_type": "display_data",
          "data": {
            "text/plain": [
              "<IPython.core.display.HTML object>"
            ],
            "text/html": [
              "Synced <strong style=\"color:#cdcd00\">fallen-cherry-5</strong>: <a href=\"https://wandb.ai/kerc/wandb-tutorial/runs/1vnswpok\" target=\"_blank\">https://wandb.ai/kerc/wandb-tutorial/runs/1vnswpok</a><br/>Synced 5 W&B file(s), 1 media file(s), 4 artifact file(s) and 1 other file(s)"
            ]
          },
          "metadata": {}
        },
        {
          "output_type": "display_data",
          "data": {
            "text/plain": [
              "<IPython.core.display.HTML object>"
            ],
            "text/html": [
              "Find logs at: <code>/content/wandb/run-20220920_111040-1vnswpok/logs</code>"
            ]
          },
          "metadata": {}
        },
        {
          "output_type": "display_data",
          "data": {
            "text/plain": [
              "<IPython.core.display.HTML object>"
            ],
            "text/html": [
              "Successfully finished last run (ID:1vnswpok). Initializing new run:<br/>"
            ]
          },
          "metadata": {}
        },
        {
          "output_type": "display_data",
          "data": {
            "text/plain": [
              "<IPython.core.display.HTML object>"
            ],
            "text/html": [
              "Tracking run with wandb version 0.13.3"
            ]
          },
          "metadata": {}
        },
        {
          "output_type": "display_data",
          "data": {
            "text/plain": [
              "<IPython.core.display.HTML object>"
            ],
            "text/html": [
              "Run data is saved locally in <code>/content/wandb/run-20220920_112054-14oravkz</code>"
            ]
          },
          "metadata": {}
        },
        {
          "output_type": "display_data",
          "data": {
            "text/plain": [
              "<IPython.core.display.HTML object>"
            ],
            "text/html": [
              "Syncing run <strong><a href=\"https://wandb.ai/kerc/kerc_wandb_test/runs/14oravkz\" target=\"_blank\">super-jazz-1</a></strong> to <a href=\"https://wandb.ai/kerc/kerc_wandb_test\" target=\"_blank\">Weights & Biases</a> (<a href=\"https://wandb.me/run\" target=\"_blank\">docs</a>)<br/>"
            ]
          },
          "metadata": {}
        },
        {
          "output_type": "execute_result",
          "data": {
            "text/html": [
              "<button onClick=\"this.nextSibling.style.display='block';this.style.display='none';\">Display W&B run</button><iframe src=\"https://wandb.ai/kerc/kerc_wandb_test/runs/14oravkz?jupyter=true\" style=\"border:none;width:100%;height:420px;display:none;\"></iframe>"
            ],
            "text/plain": [
              "<wandb.sdk.wandb_run.Run at 0x7f827b627bd0>"
            ]
          },
          "metadata": {},
          "execution_count": 38
        }
      ]
    },
    {
      "cell_type": "code",
      "source": [
        "train_x_path = './drive/MyDrive/KERC2022/KERC22Dataset_PublicTest/train_data.tsv'\n",
        "train_y_path = './drive/MyDrive/KERC2022/KERC22Dataset_PublicTest/train_labels.csv'"
      ],
      "metadata": {
        "id": "vTW-5TjiJMuc"
      },
      "execution_count": 8,
      "outputs": []
    },
    {
      "cell_type": "code",
      "source": [
        "EMBEDDING_DIM=100\n",
        "MAXLEN = 30\n",
        "TRUNCATING = 'post'\n",
        "PADDING = 'pre'\n",
        "OOV_TOKEN = '<OOV>'\n",
        "NUM_WORDS = 15000\n",
        "SPLIT_SIZE = 0.9"
      ],
      "metadata": {
        "id": "2JKkyHdHJVDk"
      },
      "execution_count": 9,
      "outputs": []
    },
    {
      "cell_type": "code",
      "source": [
        "train_data = pd.read_csv(train_x_path, sep='\\t')\n",
        "labels = pd.read_csv(train_y_path)\n",
        "#label csv 를 train_data에 병합\n",
        "train_data['label'] = labels['label']\n",
        "print(train_data[:5])\n",
        "print(len(train_data))\n",
        "print(train_data.isnull().sum())"
      ],
      "metadata": {
        "colab": {
          "base_uri": "https://localhost:8080/"
        },
        "id": "kI37L8WdJy1P",
        "outputId": "3461b636-7c58-4da8-e14c-2b723f8081fb"
      },
      "execution_count": 10,
      "outputs": [
        {
          "output_type": "stream",
          "name": "stdout",
          "text": [
            "   sentence_id person                                           sentence  \\\n",
            "0            1     어영  야! 전화 받아. 아무리 바빠도 내전화는 받아야 되는거 아냐? 약속 하나도 못지키는...   \n",
            "1            2     어영     우리 아무래도 안되겠다. 이게 최선인거 같애. 평생 잊지 않을게. 행복하길 바란다.   \n",
            "2            3    지구대                          김경사님, 아직 안가셨어요? 시간 다됐을텐데.   \n",
            "3            4     순경                                         근무중인데 어딜가?   \n",
            "4            5    지구대    다녀오세요. 이런날은 무조건 가서 축하해주셔야죠. 이순경이 대신 근무선다고 나온대요.   \n",
            "\n",
            "   scene                                          context      label  \n",
            "0  S0104                                              NaN  dysphoria  \n",
            "1  S0108         포기한듯 탁 일어서는데, 띵동 문자. 후다닥 보는 어영. 기막혀 읽어보는  dysphoria  \n",
            "2  S0109  초조하게 시계보면서 왔다갔다 서성이는 김순경. 순찰차(경차)와서 멈추고 내리는 지구대    neutral  \n",
            "3  S0109  초조하게 시계보면서 왔다갔다 서성이는 김순경. 순찰차(경차)와서 멈추고 내리는 지구대  dysphoria  \n",
            "4  S0109  초조하게 시계보면서 왔다갔다 서성이는 김순경. 순찰차(경차)와서 멈추고 내리는 지구대   euphoria  \n",
            "7339\n",
            "sentence_id       0\n",
            "person            0\n",
            "sentence          0\n",
            "scene             0\n",
            "context        2017\n",
            "label             0\n",
            "dtype: int64\n"
          ]
        }
      ]
    },
    {
      "cell_type": "code",
      "source": [
        "#context null 값 '결측' 으로 채우기\n",
        "train_data['context'].fillna('결측', inplace=True)\n",
        "print(train_data.isnull().sum())"
      ],
      "metadata": {
        "colab": {
          "base_uri": "https://localhost:8080/"
        },
        "id": "zxvj2fa6S3C8",
        "outputId": "865c014b-b308-4e73-b42d-7599e7a4170e"
      },
      "execution_count": 11,
      "outputs": [
        {
          "output_type": "stream",
          "name": "stdout",
          "text": [
            "sentence_id    0\n",
            "person         0\n",
            "sentence       0\n",
            "scene          0\n",
            "context        0\n",
            "label          0\n",
            "dtype: int64\n"
          ]
        }
      ]
    },
    {
      "cell_type": "code",
      "source": [
        "# person, scene category 변형\n",
        "train_data['person'].value_counts()\n",
        "train_data['scene'].value_counts()\n",
        "\n",
        "\n",
        "train_data['person'] = train_data['person'].astype('category')\n",
        "train_data['scene'] = train_data['scene'].astype('category')\n",
        "\n",
        "\n",
        "train_data['person']= train_data['person'].cat.codes\n",
        "train_data['scene']= train_data['scene'].cat.codes\n",
        "print(train_data[:5])"
      ],
      "metadata": {
        "colab": {
          "base_uri": "https://localhost:8080/"
        },
        "id": "0sgYlEk7YTM-",
        "outputId": "16eaeed7-b271-442a-b98e-a97e6895c5cd"
      },
      "execution_count": 12,
      "outputs": [
        {
          "output_type": "stream",
          "name": "stdout",
          "text": [
            "   sentence_id  person                                           sentence  \\\n",
            "0            1      42  야! 전화 받아. 아무리 바빠도 내전화는 받아야 되는거 아냐? 약속 하나도 못지키는...   \n",
            "1            2      42     우리 아무래도 안되겠다. 이게 최선인거 같애. 평생 잊지 않을게. 행복하길 바란다.   \n",
            "2            3      69                          김경사님, 아직 안가셨어요? 시간 다됐을텐데.   \n",
            "3            4      36                                         근무중인데 어딜가?   \n",
            "4            5      69    다녀오세요. 이런날은 무조건 가서 축하해주셔야죠. 이순경이 대신 근무선다고 나온대요.   \n",
            "\n",
            "   scene                                          context      label  \n",
            "0      0                                               결측  dysphoria  \n",
            "1      1         포기한듯 탁 일어서는데, 띵동 문자. 후다닥 보는 어영. 기막혀 읽어보는  dysphoria  \n",
            "2      2  초조하게 시계보면서 왔다갔다 서성이는 김순경. 순찰차(경차)와서 멈추고 내리는 지구대    neutral  \n",
            "3      2  초조하게 시계보면서 왔다갔다 서성이는 김순경. 순찰차(경차)와서 멈추고 내리는 지구대  dysphoria  \n",
            "4      2  초조하게 시계보면서 왔다갔다 서성이는 김순경. 순찰차(경차)와서 멈추고 내리는 지구대   euphoria  \n"
          ]
        }
      ]
    },
    {
      "cell_type": "code",
      "source": [
        "#전체 data 셔플\n",
        "\n",
        "train_data=sklearn.utils.shuffle(train_data)\n",
        "print(train_data)\n"
      ],
      "metadata": {
        "colab": {
          "base_uri": "https://localhost:8080/"
        },
        "id": "syZ1EBYyubAq",
        "outputId": "759b3dc0-3b60-4150-ed2b-0b36e19a2648"
      },
      "execution_count": 13,
      "outputs": [
        {
          "output_type": "stream",
          "name": "stdout",
          "text": [
            "      sentence_id  person                                  sentence  scene  \\\n",
            "1523         2525      31           주말에 웨딩드레스 보러 같이 가. 턱시도도 같이 맞추고.    191   \n",
            "301           527       5                    맞다. 수상 아파트 3동 303호. 참,     42   \n",
            "3621         6043      83  돈벌기가 쉬워? 당신 나가서 돈 벌어봐! 입에서 쓴내가 난다 쓴내가 나.    446   \n",
            "881          1487      42                                        왜?    123   \n",
            "6690        11214       1                 현찰아, 오늘만은 암말도 말아주라. 부탁한다.    813   \n",
            "...           ...     ...                                       ...    ...   \n",
            "3679         6147      72               그러게. 내가 열낼 필요없죠? 얼른 시작해 오빠.    457   \n",
            "6984        11679      55                          여긴 경찰서보다 더 바쁘네요.    851   \n",
            "7278        12180      36                              옷입고 잠깐 나와봐라.    896   \n",
            "1857         3162      55                          우리 계급장 떼고 한판 붙자.    233   \n",
            "3459         5800       5                                      내말이.    427   \n",
            "\n",
            "                                                context      label  \n",
            "1523                 문자 전송하는데, 입구에 들어서는 지성미. 반갑게 손드는 재수   euphoria  \n",
            "301                                       띵동. 기겁하는 솔이우미    neutral  \n",
            "3621                                                 결측  dysphoria  \n",
            "881                      일하는 어영. 핸펀 울리고. 보고 잠시 망설이는. 받고    neutral  \n",
            "6690                                                 결측  dysphoria  \n",
            "...                                                 ...        ...  \n",
            "3679  테이블 이어붙여 불판셋팅된. 가운데 케익 놓였고. 건강청난 얌전히 앉았고. 과자 우...  dysphoria  \n",
            "6984  취객으로 엉망인 지구대. 싸우는 놈들. 노래하고 자빠진 놈. 여자들끼지 머리끄뎅이잡...  dysphoria  \n",
            "7278                          나오는 순경. 잠시 허공보는... 건강방쪽으로  dysphoria  \n",
            "1857  문 탕 열리고, 뭔가 하다 놀라는 재수. 그 기세로 그대로 들어와 재수 멱살잡아 주...  dysphoria  \n",
            "3459                                둘러앉은 순경과자 건강청난 현찰우미  dysphoria  \n",
            "\n",
            "[7339 rows x 6 columns]\n"
          ]
        }
      ]
    },
    {
      "cell_type": "code",
      "source": [
        "# Stopwords 는 우선 고려하지 않고 실행\n",
        "# sentence , context 문자열 데이터로 처리\n",
        "\n",
        "\n",
        "\n",
        "okt = Okt()\n",
        "mecab = Mecab()\n",
        "\n",
        "tok_sentences = []\n",
        "for sen in tqdm(train_data['sentence']):\n",
        "  tok_sen = mecab.morphs(sen)\n",
        "  tok_sentences.append(tok_sen)\n",
        "\n",
        "tok_contexts = []\n",
        "for con in tqdm(train_data['context']):\n",
        "  tok_con = mecab.morphs(con)\n",
        "  tok_contexts.append(tok_con)"
      ],
      "metadata": {
        "colab": {
          "base_uri": "https://localhost:8080/"
        },
        "id": "Hc0IDAZiJYLB",
        "outputId": "0f211e22-1c7d-41e0-e495-4dd08f5eaa45"
      },
      "execution_count": 15,
      "outputs": [
        {
          "output_type": "stream",
          "name": "stderr",
          "text": [
            "100%|██████████| 7339/7339 [00:01<00:00, 3698.43it/s]\n",
            "100%|██████████| 7339/7339 [00:01<00:00, 5601.68it/s]\n"
          ]
        }
      ]
    },
    {
      "cell_type": "code",
      "source": [
        "print(tok_sentences[:5])\n",
        "\n",
        "print('문장 최대 길이: ', max(len(sen) for sen in tok_sentences))\n",
        "print('문장 평균 길이: ', sum(map(len, tok_sentences))/len(tok_sentences))\n",
        "plt.hist([len(sen) for sen in tok_sentences], bins=50)\n",
        "plt.xlabel('length of samples')\n",
        "plt.ylabel('number of samples')\n",
        "plt.show()\n",
        "\n",
        "print('문맥 최대 길이: ', max(len(con) for sen in tok_contexts))\n",
        "print('문맥 평균 길이: ', sum(map(len, tok_contexts))/len(tok_contexts))\n",
        "plt.hist([len(con) for con in tok_contexts], bins=50)\n",
        "plt.xlabel('length of samples')\n",
        "plt.ylabel('number of samples')\n",
        "plt.show()\n",
        "\n"
      ],
      "metadata": {
        "colab": {
          "base_uri": "https://localhost:8080/",
          "height": 650
        },
        "id": "orXlACs5MDbG",
        "outputId": "cc4556d5-fca1-4bbf-dfd8-8bea08402046"
      },
      "execution_count": 16,
      "outputs": [
        {
          "output_type": "stream",
          "name": "stdout",
          "text": [
            "[['주말', '에', '웨딩', '드레스', '보', '러', '같이', '가', '.', '턱시도', '도', '같이', '맞추', '고', '.'], ['맞', '다', '.', '수상', '아파트', '3', '동', '303', '호', '.', '참', ','], ['돈', '벌기', '가', '쉬워', '?', '당신', '나가', '서', '돈', '벌', '어', '봐', '!', '입', '에서', '쓴', '내', '가', '난다', '쓴', '내', '가', '나', '.'], ['왜', '?'], ['현찰', '아', ',', '오늘', '만', '은', '암말도', '말', '아', '주', '라', '.', '부탁', '한다', '.']]\n",
            "문장 최대 길이:  81\n",
            "문장 평균 길이:  15.150837988826815\n"
          ]
        },
        {
          "output_type": "display_data",
          "data": {
            "text/plain": [
              "<Figure size 432x288 with 1 Axes>"
            ],
            "image/png": "[encoded data removed]"
          },
          "metadata": {
            "needs_background": "light"
          }
        },
        {
          "output_type": "stream",
          "name": "stdout",
          "text": [
            "문맥 최대 길이:  19\n",
            "문맥 평균 길이:  12.907344324839896\n"
          ]
        },
        {
          "output_type": "display_data",
          "data": {
            "text/plain": [
              "<Figure size 432x288 with 1 Axes>"
            ],
            "image/png": "[encoded data removed]"
          },
          "metadata": {
            "needs_background": "light"
          }
        }
      ]
    },
    {
      "cell_type": "code",
      "source": [
        "# sentence, context 을 통재로 묶어서 tokenize 만들고, 각각 적용\n",
        "from tensorflow.keras.preprocessing.text import Tokenizer\n",
        "from tensorflow.keras.preprocessing.sequence import pad_sequences\n",
        "\n",
        "def tokenize(train_sentences, train_contexts, oov_token):\n",
        "  train_set = np.concatenate((train_sentences, train_contexts), axis=0)\n",
        "  tokenizer = Tokenizer(oov_token = oov_token)\n",
        "  tokenizer.fit_on_texts(train_set)\n",
        "  return tokenizer\n",
        "\n",
        "def fit_and_seq(train_sentences, train_contexts, maxlen, padding, truncating, tokenizer):\n",
        "  sen_seq= tokenizer.texts_to_sequences(train_sentences)\n",
        "  con_seq = tokenizer.texts_to_sequences(train_contexts)\n",
        "  pad_sen_sequences= pad_sequences(sen_seq, maxlen=maxlen, padding=padding, truncating=truncating)\n",
        "  pad_con_sequences= pad_sequences(con_seq, maxlen=maxlen, padding=padding, truncating=truncating)\n",
        "\n",
        "  return pad_sen_sequences, pad_con_sequences\n",
        "\n",
        "\"\"\"\n",
        "def tokenize_label(labels):\n",
        "\n",
        "  label_tokenizer = Tokenizer()\n",
        "  label_tokenizer.fit_on_texts(labels)\n",
        "\n",
        "  label_seq = label_tokenizer.texts_to_sequences(labels)\n",
        "  label_seq_np = np.array(label_seq)-1\n",
        "\n",
        "  return label_seq_np, label_tokenizer\n",
        "\"\"\"\n"
      ],
      "metadata": {
        "id": "wNQfwtu3SSEf",
        "colab": {
          "base_uri": "https://localhost:8080/",
          "height": 72
        },
        "outputId": "1c6024c3-06ce-4dd0-e86e-10558d09da1d"
      },
      "execution_count": 60,
      "outputs": [
        {
          "output_type": "execute_result",
          "data": {
            "text/plain": [
              "'\\ndef tokenize_label(labels):\\n\\n  label_tokenizer = Tokenizer()\\n  label_tokenizer.fit_on_texts(labels)\\n\\n  label_seq = label_tokenizer.texts_to_sequences(labels)\\n  label_seq_np = np.array(label_seq)-1\\n\\n  return label_seq_np, label_tokenizer\\n'"
            ],
            "application/vnd.google.colaboratory.intrinsic+json": {
              "type": "string"
            }
          },
          "metadata": {},
          "execution_count": 60
        }
      ]
    },
    {
      "cell_type": "code",
      "source": [
        "tokenizer = tokenize(tok_sentences, tok_contexts, OOV_TOKEN)\n",
        "train_sentence_seq, train_context_seq = fit_and_seq(tok_sentences, tok_contexts, MAXLEN, PADDING, TRUNCATING, tokenizer)\n",
        "word_index = tokenizer.word_index\n",
        "\n",
        "print(train_sentence_seq.shape)\n",
        "print(train_context_seq.shape)\n",
        "print(train_sentence_seq[3])\n",
        "print(train_context_seq[3])\n",
        "\n",
        "print(word_index.items())"
      ],
      "metadata": {
        "id": "BVAi0U7_X_jy",
        "colab": {
          "base_uri": "https://localhost:8080/"
        },
        "outputId": "16a21e62-8b01-4a21-9985-2a84a9d76df3"
      },
      "execution_count": 61,
      "outputs": [
        {
          "output_type": "stream",
          "name": "stdout",
          "text": [
            "(20169, 30)\n",
            "(20169, 30)\n",
            "[ 0  0  0  0  0  0  0  0  0  0  0  0  0  0  0  0  0  0  0  0  0  0  0  0\n",
            "  0  0  0  0 69  5]\n",
            "[   0    0    0    0    0    0    0    0    0    0    0    0   60    6\n",
            "    3   31    2  129  185  351    4    2   18    4 1033 2503    3    2\n",
            "   98    4]\n",
            "dict_items([('<OOV>', 1), ('.', 2), ('는', 3), ('고', 4), ('?', 5), ('하', 6), ('이', 7), (',', 8), ('에', 9), ('가', 10), ('측', 11), ('결', 12), ('은', 13), ('도', 14), ('어', 15), ('들', 16), ('다', 17), ('보', 18), ('지', 19), ('이상', 20), ('게', 21), ('안', 22), ('해', 23), ('우미', 24), ('면', 25), ('거', 26), ('난', 27), ('앉', 28), ('있', 29), ('나', 30), ('어영', 31), ('들오', 32), ('을', 33), ('에서', 34), ('현찰', 35), ('건강', 36), ('청', 37), ('아', 38), ('말', 39), ('며', 40), ('한', 41), ('과자', 42), ('서', 43), ('는데', 44), ('순경', 45), ('오', 46), ('겠', 47), ('야', 48), ('없', 49), ('내', 50), ('먹', 51), ('사람', 52), ('나오', 53), ('뭐', 54), ('으로', 55), ('좋', 56), ('만', 57), ('니', 58), ('솔', 59), ('일', 60), ('알', 61), ('주', 62), ('좀', 63), ('했', 64), ('범인', 65), ('로', 66), ('냐', 67), ('못', 68), ('왜', 69), ('어요', 70), ('연희', 71), ('님', 72), ('그', 73), ('놓', 74), ('남', 75), ('잘', 76), ('아니', 77), ('던', 78), ('자', 79), ('너', 80), ('들어오', 81), ('소리', 82), ('요', 83), ('앞', 84), ('우리', 85), ('한테', 86), ('었', 87), ('되', 88), ('마', 89), ('애', 90), ('아부지', 91), ('집', 92), ('탄', 93), ('얼른', 94), ('차', 95), ('부영', 96), ('엄마', 97), ('받', 98), ('종', 99), ('네', 100), ('형', 101), ('할', 102), ('았', 103), ('기다리', 104), ('시', 105), ('살', 106), ('생각', 107), ('재수', 108), ('두', 109), ('뒤따라', 110), ('세요', 111), ('..', 112), ('그러', 113), ('습니다', 114), ('기', 115), ('급히', 116), ('저', 117), ('들어서', 118), ('같', 119), ('경찰', 120), ('예', 121), ('까지', 122), ('아서', 123), ('그런', 124), ('줄', 125), ('죠', 126), ('라고', 127), ('으면', 128), ('핸', 129), ('마시', 130), ('지금', 131), ('대', 132), ('혼수', 133), ('무슨', 134), ('으며', 135), ('봐', 136), ('때', 137), ('옷', 138), ('됐', 139), ('돈', 140), ('사', 141), ('죽', 142), ('인', 143), ('중', 144), ('의', 145), ('않', 146), ('어디', 147), ('와', 148), ('어머니', 149), ('건', 150), ('어서', 151), ('뛰', 152), ('막', 153), ('라', 154), ('밥', 155), ('그래', 156), ('마주', 157), ('여자', 158), ('그럼', 159), ('어떻게', 160), ('제', 161), ('면서', 162), ('결혼', 163), ('그렇게', 164), ('랑', 165), ('선', 166), ('번', 167), ('싶', 168), ('상태', 169), ('셨', 170), ('잔', 171), ('내리', 172), ('수', 173), ('책상', 174), ('데', 175), ('뭔가', 176), ('잡', 177), ('날', 178), ('라도', 179), ('방', 180), ('지만', 181), ('그냥', 182), ('다고', 183), ('입', 184), ('펀', 185), ('맞', 186), ('오빠', 187), ('놀라', 188), ('타', 189), ('주방', 190), ('과', 191), ('나란히', 192), ('!', 193), ('다가', 194), ('해서', 195), ('큰', 196), ('둘러앉', 197), ('서류', 198), ('열', 199), ('니까', 200), ('이런', 201), ('나가', 202), ('얘기', 203), ('하나', 204), ('해요', 205), ('문', 206), ('잖아', 207), ('둘', 208), ('더', 209), ('듯', 210), ('를', 211), ('갖', 212), ('물', 213), ('언니', 214), ('같이', 215), ('돼', 216), ('치', 217), ('끌', 218), ('모르', 219), ('오늘', 220), ('그렇', 221), ('태백', 222), ('러', 223), ('는지', 224), ('응', 225), ('이렇게', 226), ('사중', 227), ('그래도', 228), ('쪽', 229), ('인사', 230), ('웃', 231), ('쓰', 232), ('봤', 233), ('똑똑', 234), ('왔', 235), ('것', 236), ('에요', 237), ('치장', 238), ('혼자', 239), ('걸어오', 240), ('부터', 241), ('많이', 242), ('전', 243), ('넣', 244), ('채', 245), ('그대로', 246), ('전화', 247), ('닦', 248), ('시간', 249), ('분', 250), ('가방', 251), ('이나', 252), ('다시', 253), ('돌아보', 254), ('분위기', 255), ('네요', 256), ('침대', 257), ('만나', 258), ('들어가', 259), ('놈', 260), ('적', 261), ('김', 262), ('줘', 263), ('현관', 264), ('어떡', 265), ('또', 266), ('뭘', 267), ('담', 268), ('손', 269), ('누운', 270), ('범용', 271), ('술', 272), ('갔', 273), ('머리', 274), ('많', 275), ('이불', 276), ('사장', 277), ('얼마나', 278), ('부딪히', 279), ('아요', 280), ('누가', 281), ('바닥', 282), ('준비', 283), ('눈', 284), ('대문', 285), ('일어나', 286), ('국', 287), ('해도', 288), ('당신', 289), ('너무', 290), ('뒤', 291), ('딴', 292), ('인데', 293), ('여기', 294), ('초콜릿', 295), ('진짜', 296), ('자리', 297), ('고개', 298), ('자기', 299), ('아주', 300), ('언제', 301), ('운전', 302), ('식구', 303), ('보이', 304), ('열리', 305), ('앞서', 306), ('그게', 307), ('이거', 308), ('아줌마', 309), ('탁자', 310), ('와서', 311), ('서장', 312), ('자식', 313), ('울', 314), ('싫', 315), ('넌', 316), ('여', 317), ('든', 318), ('불', 319), ('등', 320), ('몇', 321), ('옆', 322), ('낑낑', 323), ('합니다', 324), ('설거지', 325), ('정리', 326), ('씩', 327), ('계란', 328), ('뜨', 329), ('난리', 330), ('싸', 331), ('동서', 332), ('죄송', 333), ('아무', 334), ('찾', 335), ('참', 336), ('구석', 337), ('찜질방', 338), ('말씀', 339), ('얼굴', 340), ('걸', 341), ('여기저기', 342), ('맘', 343), ('청소', 344), ('상황', 345), ('그랬', 346), ('바로', 347), ('듣', 348), ('한쪽', 349), ('탁', 350), ('울리', 351), ('저쪽', 352), ('기분', 353), ('속', 354), ('잠깐', 355), ('앞치마', 356), ('땜', 357), ('버리', 358), ('아직', 359), ('세', 360), ('남자', 361), ('몸', 362), ('부부', 363), ('아빠', 364), ('폰', 365), ('한다', 366), ('키', 367), ('탕탕', 368), ('시계', 369), ('서로', 370), ('다니', 371), ('다리', 372), ('정도', 373), ('나와', 374), ('괜찮', 375), ('모양', 376), ('꼭', 377), ('일단', 378), ('꺼내', 379), ('출근', 380), ('냄비', 381), ('저만치', 382), ('돌', 383), ('느라', 384), ('이쁘', 385), ('바다', 386), ('멋지', 387), ('놀', 388), ('마다', 389), ('차려입', 390), ('누구', 391), ('외면', 392), ('신경', 393), ('빼', 394), ('부르', 395), ('벗', 396), ('이러', 397), ('검사', 398), ('겨울', 399), ('식사', 400), ('각자', 401), ('잠든', 402), ('어라', 403), ('통화', 404), ('이미', 405), ('아파트', 406), ('나중', 407), ('먼저', 408), ('없이', 409), ('짓', 410), ('스럽', 411), ('긴', 412), ('몰라', 413), ('미', 414), ('호호', 415), ('드라', 416), ('과일', 417), ('딱', 418), ('아냐', 419), ('힘들', 420), ('눈치보', 421), ('기겁', 422), ('그거', 423), ('달', 424), ('모습', 425), ('조서', 426), ('짐', 427), ('빨리', 428), ('접시', 429), ('허공', 430), ('식', 431), ('유치장', 432), ('온', 433), ('찻잔', 434), ('벌', 435), ('걱정', 436), ('년', 437), ('찢', 438), ('이제', 439), ('잘못', 440), ('될', 441), ('이번', 442), ('아침', 443), ('하고', 444), ('무조건', 445), ('맛있', 446), ('끝', 447), ('앉혀', 448), ('차려진', 449), ('손질', 450), ('어도', 451), ('미안', 452), ('근데', 453), ('사랑', 454), ('느이', 455), ('적당히', 456), ('다른', 457), ('밖', 458), ('놔주', 459), ('뛰어오', 460), ('정말', 461), ('저녁', 462), ('봐요', 463), ('사진', 464), ('친구', 465), ('엉망', 466), ('용', 467), ('전부', 468), ('지구대', 469), ('작', 470), ('오골계', 471), ('요즘', 472), ('젊', 473), ('바람', 474), ('수건', 475), ('서랍', 476), ('더니', 477), ('엔', 478), ('해야', 479), ('경과', 480), ('계단', 481), ('세상', 482), ('당장', 483), ('대로', 484), ('라면', 485), ('휠', 486), ('멈추', 487), ('위', 488), ('신', 489), ('된', 490), ('췌어', 491), ('갈', 492), ('늦', 493), ('보다', 494), ('갈아입', 495), ('공부', 496), ('못하', 497), ('노트북', 498), ('오토바이', 499), ('예쁘', 500), ('그만', 501), ('잖아요', 502), ('부모', 503), ('바쁘', 504), ('구', 505), ('은데', 506), ('아버님', 507), ('연락', 508), ('드', 509), ('방범', 510), ('이게', 511), ('따로', 512), ('어쩔', 513), ('올라오', 514), ('긴장', 515), ('혀', 516), ('커플', 517), ('으니까', 518), ('척', 519), ('커다란', 520), ('와인', 521), ('문자', 522), ('구요', 523), ('래', 524), ('형수', 525), ('에게', 526), ('걔', 527), ('...', 528), ('밝', 529), ('노래', 530), ('손님', 531), ('연애', 532), ('간', 533), ('세우', 534), ('절', 535), ('그럴', 536), ('나온', 537), ('정복', 538), ('처럼', 539), ('푹', 540), ('꽃병', 541), ('하트', 542), ('돼요', 543), ('그것', 544), ('따', 545), ('창문', 546), ('떨어져', 547), ('행사', 548), ('숙이', 549), ('잔치', 550), ('삼', 551), ('한대', 552), ('음악', 553), ('단상', 554), ('예복', 555), ('일반', 556), ('흥겹', 557), ('떠들썩', 558), ('해야지', 559), ('진동', 560), ('그릇', 561), ('성미', 562), ('그때', 563), ('깨진', 564), ('길', 565), ('나왔', 566), ('다는', 567), ('노크', 568), ('장본', 569), ('해라', 570), ('거실', 571), ('한데', 572), ('웃음', 573), ('어영차', 574), ('꾸며진', 575), ('뒷자리', 576), ('예쁜', 577), ('두른', 578), ('뛰어나오', 579), ('쌩', 580), ('아주버님', 581), ('먹여', 582), ('봐라', 583), ('실', 584), ('잠', 585), ('본', 586), ('팔', 587), ('의식', 588), ('3', 589), ('고급', 590), ('우당탕', 591), ('땐', 592), ('열심히', 593), ('마당', 594), ('다며', 595), ('택시', 596), ('허락', 597), ('(', 598), (')', 599), ('맞은편', 600), ('선녀', 601), ('보고', 602), ('인지', 603), ('들여다보', 604), ('퍼뜩', 605), ('십시요', 606), ('음', 607), ('초조', 608), ('결혼식', 609), ('나이', 610), ('일어서', 611), ('서성이', 612), ('삑삑', 613), ('음식', 614), ('드리', 615), ('소주', 616), ('계속', 617), ('벤', 618), ('벽', 619), ('요리', 620), ('그래요', 621), ('고생', 622), ('젤', 623), ('경감', 624), ('문제', 625), ('식탁', 626), ('널부러져', 627), ('몰리', 628), ('취', 629), ('설거지통', 630), ('이부영', 631), ('이쁜', 632), ('작성', 633), ('내려놓', 634), ('그래서', 635), ('마세요', 636), ('까먹', 637), ('팀장', 638), ('개', 639), ('끊', 640), ('델', 641), ('내려가', 642), ('고맙', 643), ('무릎', 644), ('탕', 645), ('두리번대', 646), ('이부자리', 647), ('형제', 648), ('이건', 649), ('챙겨', 650), ('거든요', 651), ('박사장', 652), ('장난치', 653), ('눈물', 654), ('잔뜩', 655), ('골라', 656), ('살피', 657), ('테', 658), ('데리', 659), ('깨', 660), ('내미', 661), ('란', 662), ('원', 663), ('숨', 664), ('본다', 665), ('장바구니', 666), ('아무리', 667), ('그건', 668), ('이랑', 669), ('신문', 670), ('살살', 671), ('데우', 672), ('거기', 673), ('가슴', 674), ('배', 675), ('놓인', 676), ('엉망진창', 677), ('괜히', 678), ('혹시', 679), ('몰랐', 680), ('텐데', 681), ('멈칫', 682), ('필요', 683), ('이럴', 684), ('준', 685), ('벌떡', 686), ('흔들', 687), ('밀', 688), ('말없이', 689), ('부탁', 690), ('벌써', 691), ('장', 692), ('보내', 693), ('자고', 694), ('쫓아가', 695), ('습니까', 696), ('현관문', 697), ('조수석', 698), ('내려서', 699), ('들어와', 700), ('잖', 701), ('의자', 702), ('창가', 703), ('그놈', 704), ('어야', 705), ('불편', 706), ('확', 707), ('떡국', 708), ('우르르', 709), ('영차', 710), ('샐쭉', 711), ('입니다', 712), ('넘어가', 713), ('낼', 714), ('떼', 715), ('몰라도', 716), ('솔직히', 717), ('제수씨', 718), ('도련', 719), ('한잔', 720), ('애기', 721), ('일찍', 722), ('내려오', 723), ('소꼬리', 724), ('입구', 725), ('구대', 726), ('지나가', 727), ('별', 728), ('상', 729), ('평생', 730), ('좁', 731), ('이리저리', 732), ('창밖', 733), ('피곤', 734), ('꼴', 735), ('어떻', 736), ('섭섭', 737), ('이기', 738), ('펴', 739), ('싸우', 740), ('아까', 741), ('할게', 742), ('국물', 743), ('엎드려', 744), ('차림', 745), ('선가', 746), ('마악', 747), ('시선', 748), ('수저', 749), ('절대', 750), ('마땅', 751), ('밥상', 752), ('펼쳐', 753), ('동생', 754), ('털', 755), ('어쩌', 756), ('어딨', 757), ('꾸', 758), ('불안', 759), ('튀', 760), ('내부', 761), ('라는', 762), ('한텐', 763), ('아니요', 764), ('횟집', 765), ('격투기', 766), ('걸터앉', 767), ('뒤쫓', 768), ('놓여', 769), ('딸', 770), ('그려', 771), ('건데', 772), ('발', 773), ('비척', 774), ('으니', 775), ('씻', 776), ('놓였', 777), ('잠바', 778), ('쇼핑백', 779), ('훤히', 780), ('한경애', 781), ('흐르', 782), ('아들', 783), ('경사', 784), ('셋', 785), ('혀서', 786), ('깎', 787), ('속상해', 788), ('백', 789), ('봐야', 790), ('한다고', 791), ('이혼', 792), ('둘째', 793), ('금방', 794), ('챙기', 795), ('나갈', 796), ('친정', 797), ('입히', 798), ('볼', 799), ('성질', 800), ('며느리', 801), ('울엄마', 802), ('만났', 803), ('하루', 804), ('카드', 805), ('연거푸', 806), ('일동', 807), ('이름', 808), ('웬일', 809), ('는다', 810), ('난자', 811), ('도착', 812), ('안방', 813), ('가만히', 814), ('거울', 815), ('층', 816), ('분가', 817), ('겄', 818), ('병원', 819), ('팀', 820), ('형수님', 821), ('한번', 822), ('빵', 823), ('빨래', 824), ('끓이', 825), ('벼르', 826), ('뤄', 827), ('강순경', 828), ('지내', 829), ('거나', 830), ('정신', 831), ('밖에', 832), ('든가', 833), ('걸레', 834), ('뻗', 835), ('깨끗', 836), ('노른자', 837), ('쉬', 838), ('는데요', 839), ('든지', 840), ('크', 841), ('따라', 842), ('쯤', 843), ('연습', 844), ('고추장', 845), ('쟁반', 846), ('상마', 847), ('디', 848), ('첨', 849), ('겨우', 850), ('신부', 851), ('어제', 852), ('믿', 853), ('쥬스', 854), ('덤비', 855), ('달려가', 856), ('커피', 857), ('주식', 858), ('끼', 859), ('베', 860), ('손잡', 861), ('빵빵', 862), ('약간', 863), ('라니', 864), ('정신없', 865), ('옛날', 866), ('라니까', 867), ('어려서', 868), ('어영부영', 869), ('진짜로', 870), ('마침', 871), ('허름', 872), ('아프', 873), ('차리', 874), ('에다', 875), ('세워졌', 876), ('강변', 877), ('써', 878), ('눈치', 879), ('그걸', 880), ('술상', 881), ('케익', 882), ('금고', 883), ('려던', 884), ('얘', 885), ('까', 886), ('구나', 887), ('차라리', 888), ('만들', 889), ('집구석', 890), ('어차피', 891), ('유', 892), ('걸렸', 893), ('둘러보', 894), ('인부', 895), ('야지', 896), ('일부러', 897), ('쉽', 898), ('시키', 899), ('유경', 900), ('제대로', 901), ('올', 902), ('약속', 903), ('우', 904), ('널', 905), ('저기', 906), ('확인', 907), ('어딜', 908), ('사정', 909), ('아닙니다', 910), ('그쪽', 911), ('낳', 912), ('나눠', 913), ('도와', 914), ('냉면', 915), ('찐', 916), ('원장', 917), ('운전석', 918), ('살림', 919), ('으세요', 920), ('시유', 921), ('볼려고', 922), ('였', 923), ('돌아서', 924), ('반대', 925), ('눌러', 926), ('때리', 927), ('두리번', 928), ('장독대', 929), ('엎어진', 930), ('겨자', 931), ('식초', 932), ('난의', 933), ('로보트', 934), ('안고', 935), ('고구마', 936), ('딸깍', 937), ('힉', 938), ('자꾸', 939), ('최고', 940), ('맨날', 941), ('다음', 942), ('삐딱', 943), ('집안', 944), ('퇴근', 945), ('장남', 946), ('이것저것', 947), ('먼', 948), ('떨구', 949), ('십', 950), ('가만', 951), ('만큼', 952), ('신고', 953), ('와요', 954), ('대요', 955), ('서방', 956), ('났', 957), ('심란', 958), ('후다닥', 959), ('겁니다', 960), ('태실', 961), ('밑', 962), ('2', 963), ('경찰서', 964), ('얼마', 965), ('증거', 966), ('다시피', 967), ('애쓰', 968), ('살짝', 969), ('짜', 970), ('핑', 971), ('된장찌개', 972), ('수갑', 973), ('질', 974), ('삼겹살', 975), ('모시', 976), ('노릇', 977), ('어깨', 978), ('아름', 979), ('슥', 980), ('아야지', 981), ('심하', 982), ('밤', 983), ('마음', 984), ('떨', 985), ('우습', 986), ('손가락', 987), ('남편', 988), ('힘', 989), ('이놈', 990), ('운동', 991), ('와락', 992), ('헥헥', 993), ('지쳤', 994), ('땀범벅', 995), ('헤', 996), ('벌레', 997), ('시작', 998), ('어른', 999), ('주범', 1000), ('빨', 1001), ('틈', 1002), ('명품', 1003), ('숨차', 1004), ('빨랑', 1005), ('아픈', 1006), ('사이', 1007), ('챙피', 1008), ('돌아가', 1009), ('축하', 1010), ('돌려', 1011), ('어려운', 1012), ('강청', 1013), ('주문', 1014), ('달려들', 1015), ('법', 1016), ('팔자', 1017), ('고기', 1018), ('궁금', 1019), ('겨', 1020), ('조심', 1021), ('취해', 1022), ('짜리', 1023), ('밟', 1024), ('시집', 1025), ('후딱', 1026), ('들리', 1027), ('거든', 1028), ('갚', 1029), ('길래', 1030), ('선배', 1031), ('미쳤', 1032), ('잠시', 1033), ('화장', 1034), ('이태백', 1035), ('쓰러지', 1036), ('장범', 1037), ('어때', 1038), ('찍', 1039), ('봐서', 1040), ('아도', 1041), ('냐고', 1042), ('피', 1043), ('갑자기', 1044), ('부침개', 1045), ('저러', 1046), ('드릴', 1047), ('돌리', 1048), ('역시', 1049), ('꿀물', 1050), ('국수', 1051), ('쓰다듬', 1052), ('상자', 1053), ('옆자리', 1054), ('보글대', 1055), ('간보', 1056), ('중요', 1057), ('신랑', 1058), ('아네요', 1059), ('아야', 1060), ('비밀', 1061), ('요새', 1062), ('동안', 1063), ('보험', 1064), ('쓸', 1065), ('식당', 1066), ('마셨', 1067), ('세워', 1068), ('정신없이', 1069), ('봉투', 1070), ('줬', 1071), ('약', 1072), ('처음', 1073), ('들온', 1074), ('보여', 1075), ('께', 1076), ('나쁜', 1077), ('잠복근무', 1078), ('할머니', 1079), ('마누라', 1080), ('툭하면', 1081), ('떨어지', 1082), ('에미', 1083), ('섰', 1084), ('썼', 1085), ('안녕', 1086), ('행복', 1087), ('출발', 1088), ('매', 1089), ('구두', 1090), ('멀리', 1091), ('으려', 1092), ('뒤따르', 1093), ('책가방', 1094), ('꺼', 1095), ('새끼', 1096), ('알짱', 1097), ('던데', 1098), ('번쩍', 1099), ('해결', 1100), ('어머', 1101), ('이해', 1102), ('늙', 1103), ('기다려', 1104), ('근무', 1105), ('아닌데', 1106), ('겁', 1107), ('웬만', 1108), ('주유소', 1109), ('김치', 1110), ('단', 1111), ('으론', 1112), ('죽도', 1113), ('공격', 1114), ('쫓아오', 1115), ('다가가', 1116), ('등등', 1117), ('액자', 1118), ('보따리', 1119), ('간단', 1120), ('수술', 1121), ('미리', 1122), ('내놓', 1123), ('동네', 1124), ('편', 1125), ('심심', 1126), ('구만', 1127), ('수사', 1128), ('실망', 1129), ('봐도', 1130), ('던가', 1131), ('거의', 1132), ('탁탁', 1133), ('종업원', 1134), ('이어지', 1135), ('떨어뜨리', 1136), ('기대선', 1137), ('빙긋이', 1138), ('쪽마루', 1139), ('직원', 1140), ('맨', 1141), ('어야지', 1142), ('다면', 1143), ('진작', 1144), ('냉장고', 1145), ('애요', 1146), ('넘기', 1147), ('이상이', 1148), ('주일', 1149), ('한지', 1150), ('슬슬', 1151), ('소개', 1152), ('당연히', 1153), ('풀', 1154), ('내려', 1155), ('아무것', 1156), ('형부', 1157), ('아무래도', 1158), ('의논', 1159), ('골목길', 1160), ('다신', 1161), ('엄청난', 1162), ('줘야', 1163), ('걸로', 1164), ('똑같이', 1165), ('대답', 1166), ('조용', 1167), ('시켜', 1168), ('바쁜', 1169), ('이유', 1170), ('다녀오', 1171), ('다녀', 1172), ('쇼핑', 1173), ('순간', 1174), ('진', 1175), ('반갑', 1176), ('쫓아와', 1177), ('고르', 1178), ('끙끙', 1179), ('으려다', 1180), ('유리창', 1181), ('올리', 1182), ('끼리', 1183), ('도우미', 1184), ('생겼', 1185), ('품', 1186), ('불쌍', 1187), ('농담', 1188), ('으라', 1189), ('다가오', 1190), ('얌전히', 1191), ('버선', 1192), ('한복', 1193), ('지켜보', 1194), ('허걱', 1195), ('잊', 1196), ('후', 1197), ('맘대로', 1198), ('닮', 1199), ('암만', 1200), ('주인', 1201), ('자세', 1202), ('파', 1203), ('던지', 1204), ('<', 1205), ('>', 1206), ('울음', 1207), ('터뜨리', 1208), ('수레', 1209), ('연탄', 1210), ('씨', 1211), ('통', 1212), ('얻', 1213), ('그러니까', 1214), ('여긴', 1215), ('기억', 1216), ('열받', 1217), ('가지', 1218), ('묻', 1219), ('의심', 1220), ('새', 1221), ('재', 1222), ('지방', 1223), ('쉿', 1224), ('아닌', 1225), ('나요', 1226), ('도록', 1227), ('놔두', 1228), ('할지', 1229), ('신혼', 1230), ('정식', 1231), ('간다', 1232), ('려고', 1233), ('일어났', 1234), ('당하', 1235), ('오래', 1236), ('예에', 1237), ('청구서', 1238), ('제사', 1239), ('후회', 1240), ('그리고', 1241), ('판', 1242), ('보통', 1243), ('저렇게', 1244), ('부', 1245), ('주먹', 1246), ('거리', 1247), ('애타', 1248), ('켜', 1249), ('이어', 1250), ('띵동', 1251), ('꽃다발', 1252), ('드레스', 1253), ('넘', 1254), ('애인', 1255), ('주무세요', 1256), ('려는', 1257), ('으시', 1258), ('풀리', 1259), ('다는데', 1260), ('입니까', 1261), ('불러', 1262), ('당분간', 1263), ('밤새', 1264), ('자는', 1265), ('회사', 1266), ('빽', 1267), ('해장국', 1268), ('김밥', 1269), ('할라', 1270), ('똑같', 1271), ('왕', 1272), ('함부로', 1273), ('이따', 1274), ('갈게', 1275), ('처남', 1276), ('라구요', 1277), ('아하하', 1278), ('사과', 1279), ('비닐봉지', 1280), ('오죽', 1281), ('차안', 1282), ('붙이', 1283), ('무심코', 1284), ('카운터', 1285), ('돌아누웠', 1286), ('목례', 1287), ('냉전', 1288), ('느그', 1289), ('이것', 1290), ('넘겨', 1291), ('더라도', 1292), ('학교', 1293), ('할려면', 1294), ('눈감', 1295), ('꽉', 1296), ('어느', 1297), ('아이', 1298), ('나갔', 1299), ('조사', 1300), ('앓', 1301), ('동시', 1302), ('물주', 1303), ('전자', 1304), ('고선', 1305), ('취객', 1306), ('걸레질', 1307), ('오해', 1308), ('급하', 1309), ('부족', 1310), ('큰형', 1311), ('줄게', 1312), ('볼일', 1313), ('얘긴', 1314), ('재밌', 1315), ('일루', 1316), ('바짝', 1317), ('그치', 1318), ('나라', 1319), ('끝내', 1320), ('쌀', 1321), ('인생', 1322), ('슬쩍', 1323), ('각서', 1324), ('번호', 1325), ('연채', 1326), ('끄집어내', 1327), ('환자복', 1328), ('움직여', 1329), ('하여간', 1330), ('사고', 1331), ('니다', 1332), ('사업', 1333), ('뜻', 1334), ('꿈', 1335), ('쫌', 1336), ('못난', 1337), ('놓치', 1338), ('어서요', 1339), ('며칠', 1340), ('듯이', 1341), ('는겨', 1342), ('산', 1343), ('는다고', 1344), ('인연', 1345), ('씽크', 1346), ('지폐', 1347), ('맛', 1348), ('뭣', 1349), ('으러', 1350), ('대신', 1351), ('과거', 1352), ('꼬', 1353), ('감', 1354), ('하긴', 1355), ('어떤', 1356), ('올려', 1357), ('셔', 1358), ('정', 1359), ('그러다', 1360), ('셔도', 1361), ('와라', 1362), ('떠', 1363), ('어쩜', 1364), ('라며', 1365), ('고객', 1366), ('다녀왔', 1367), ('상처', 1368), ('성', 1369), ('드세요', 1370), ('여보세요', 1371), ('줘요', 1372), ('여태', 1373), ('주유', 1374), ('딱한', 1375), ('눈물나', 1376), ('손들', 1377), ('오징어', 1378), ('떠올리', 1379), ('날려', 1380), ('붕대', 1381), ('울먹', 1382), ('앉히', 1383), ('댄다', 1384), ('용서', 1385), ('넓', 1386), ('뭔데', 1387), ('순', 1388), ('모른', 1389), ('애서', 1390), ('자네', 1391), ('이사', 1392), ('퇴원', 1393), ('쓸데없이', 1394), ('김주임', 1395), ('다쳤', 1396), ('더라', 1397), ('힘든', 1398), ('사모님', 1399), ('태연', 1400), ('희', 1401), ('쌓인', 1402), ('티비', 1403), ('지성', 1404), ('잡아채', 1405), ('자전거', 1406), ('툭', 1407), ('발소리', 1408), ('출구', 1409), ('용사', 1410), ('시련', 1411), ('즐거운', 1412), ('우린', 1413), ('사실', 1414), ('쪼르르', 1415), ('반', 1416), ('읽', 1417), ('십시오', 1418), ('현장', 1419), ('드렸', 1420), ('인가', 1421), ('일일이', 1422), ('엄청나', 1423), ('시어머니', 1424), ('낫', 1425), ('나와서', 1426), ('몰래', 1427), ('느냐', 1428), ('내일', 1429), ('조회', 1430), ('작전', 1431), ('터지', 1432), ('끓여', 1433), ('어머닌', 1434), ('귀', 1435), ('전과자', 1436), ('쪼그려', 1437), ('돈세', 1438), ('한가득', 1439), ('우루루', 1440), ('머니', 1441), ('못했', 1442), ('꼬라지', 1443), ('줘서', 1444), ('봐야지', 1445), ('허리', 1446), ('편하', 1447), ('노', 1448), ('확실', 1449), ('몰라요', 1450), ('들왔', 1451), ('명', 1452), ('지저분', 1453), ('배운', 1454), ('개떡', 1455), ('보태', 1456), ('검찰청', 1457), ('샤워', 1458), ('제기', 1459), ('돌아앉', 1460), ('째', 1461), ('계세요', 1462), ('래요', 1463), ('쳐', 1464), ('오랜만', 1465), ('원래', 1466), ('댕기', 1467), ('저렇', 1468), ('제발', 1469), ('장인어른', 1470), ('형사', 1471), ('경위', 1472), ('이쪽', 1473), ('할려고', 1474), ('든데', 1475), ('결정', 1476), ('됩니다', 1477), ('조용히', 1478), ('은지', 1479), ('계산', 1480), ('시켰', 1481), ('때려', 1482), ('깔', 1483), ('겉절이', 1484), ('어렵', 1485), ('비상', 1486), ('떠나', 1487), ('월급', 1488), ('당황', 1489), ('질려', 1490), ('여행', 1491), ('업', 1492), ('까놓', 1493), ('봉지', 1494), ('양반', 1495), ('얌전', 1496), ('긴장감', 1497), ('상보', 1498), ('착잡', 1499), ('바르', 1500), ('사내', 1501), ('이래', 1502), ('노력', 1503), ('대학', 1504), ('가끔', 1505), ('고마워', 1506), ('십니다', 1507), ('지난번', 1508), ('백마', 1509), ('자존심', 1510), ('올라가', 1511), ('저런', 1512), ('놔', 1513), ('대유', 1514), ('아퍼', 1515), ('바빠', 1516), ('화분', 1517), ('저희', 1518), ('비', 1519), ('키우', 1520), ('저번', 1521), ('잔소리', 1522), ('드립니다', 1523), ('대체', 1524), ('입장', 1525), ('남이', 1526), ('때문', 1527), ('추운데', 1528), ('반찬', 1529), ('온갖', 1530), ('멋', 1531), ('넷', 1532), ('굴러', 1533), ('순대', 1534), ('우왕좌왕', 1535), ('상관', 1536), ('차려', 1537), ('으면서', 1538), ('억지로', 1539), ('형제간', 1540), ('선택', 1541), ('사건', 1542), ('붙여', 1543), ('안주', 1544), ('방법', 1545), ('싸매', 1546), ('무섭', 1547), ('장가', 1548), ('방송', 1549), ('시끄럽', 1550), ('걷', 1551), ('올해', 1552), ('영화', 1553), ('뺏', 1554), ('복', 1555), ('옷장', 1556), ('두르', 1557), ('쳐다보', 1558), ('어딘가', 1559), ('생태', 1560), ('빼꼼', 1561), ('우세', 1562), ('몰려', 1563), ('기어들어가', 1564), ('잠긴', 1565), ('떠오르', 1566), ('씁쓸', 1567), ('부러운', 1568), ('명절', 1569), ('마지막', 1570), ('을까', 1571), ('홈', 1572), ('천천히', 1573), ('라서', 1574), ('아유', 1575), ('네유', 1576), ('김순경', 1577), ('키웠', 1578), ('영아', 1579), ('싸웠', 1580), ('뻥튀기', 1581), ('돼서', 1582), ('감동', 1583), ('뒤지', 1584), ('팅', 1585), ('드려요', 1586), ('테레비', 1587), ('소파', 1588), ('용마', 1589), ('보리차', 1590), ('다가서', 1591), ('어째', 1592), ('시킬', 1593), ('다니까', 1594), ('생각나', 1595), ('기집애', 1596), ('덕', 1597), ('책임', 1598), ('어때요', 1599), ('정돈', 1600), ('빚', 1601), ('가족', 1602), ('뜨겁', 1603), ('하늘', 1604), ('셔서', 1605), ('해야죠', 1606), ('그래야', 1607), ('부장', 1608), ('이젠', 1609), ('걸리', 1610), ('숑숑', 1611), ('내년', 1612), ('장모님', 1613), ('여러', 1614), ('는디', 1615), ('뚝', 1616), ('넘어지', 1617), ('무지하', 1618), ('처', 1619), ('긁', 1620), ('둬', 1621), ('만난', 1622), ('검', 1623), ('맥주', 1624), ('빨랫감', 1625), ('동기', 1626), ('이라도', 1627), ('짜증', 1628), ('꿇', 1629), ('묶', 1630), ('쌓', 1631), ('해서요', 1632), ('담요', 1633), ('여배우', 1634), ('으흑', 1635), ('들어', 1636), ('헐떡이', 1637), ('멈춰서', 1638), ('시댁', 1639), ('장사', 1640), ('1', 1641), ('직접', 1642), ('인정', 1643), ('아예', 1644), ('까진', 1645), ('롭', 1646), ('할게요', 1647), ('도망가', 1648), ('여잔', 1649), ('쯧쯧', 1650), ('기본', 1651), ('야아', 1652), ('뭡니까', 1653), ('다간', 1654), ('라서요', 1655), ('빠지', 1656), ('꼼짝', 1657), ('기죽', 1658), ('엇다', 1659), ('점심', 1660), ('잤', 1661), ('아파', 1662), ('글', 1663), ('아부진', 1664), ('혼', 1665), ('회', 1666), ('못써', 1667), ('지르', 1668), ('다면서요', 1669), ('끄뎅이', 1670), ('깨우', 1671), ('별일', 1672), ('표정', 1673), ('화장실', 1674), ('부려', 1675), ('덮여', 1676), ('쌓여', 1677), ('부지런히', 1678), ('심난', 1679), ('왕관', 1680), ('수상', 1681), ('워', 1682), ('저거', 1683), ('건지', 1684), ('회의', 1685), ('버', 1686), ('실래요', 1687), ('그러게', 1688), ('애비', 1689), ('이왕', 1690), ('워치게', 1691), ('라이', 1692), ('시킨', 1693), ('막내', 1694), ('겉', 1695), ('관리', 1696), ('책', 1697), ('에이', 1698), ('웃기', 1699), ('딸년', 1700), ('부영이', 1701), ('된다', 1702), ('겁니까', 1703), ('얻어먹', 1704), ('뿐', 1705), ('껴', 1706), ('훑', 1707), ('들어갔', 1708), ('가르쳐', 1709), ('줘야돼', 1710), ('뻥', 1711), ('기껏', 1712), ('룸', 1713), ('12', 1714), ('그런지', 1715), ('꾸미', 1716), ('끔찍', 1717), ('뒤늦', 1718), ('거하', 1719), ('전원', 1720), ('주욱', 1721), ('달려와', 1722), ('가득', 1723), ('시끌벅적', 1724), ('엘리베이터', 1725), ('가운데', 1726), ('자판기', 1727), ('맞추', 1728), ('한두', 1729), ('논', 1730), ('짝', 1731), ('답', 1732), ('임마', 1733), ('한숨', 1734), ('파주', 1735), ('훅', 1736), ('어떨까', 1737), ('영이', 1738), ('굶', 1739), ('붙', 1740), ('우선', 1741), ('단속', 1742), ('평', 1743), ('워낙', 1744), ('와야', 1745), ('맡', 1746), ('늘', 1747), ('한마디', 1748), ('거짓말', 1749), ('조금', 1750), ('그리구', 1751), ('예약', 1752), ('골치', 1753), ('도서관', 1754), ('톡', 1755), ('주머니', 1756), ('한다며', 1757), ('부치', 1758), ('션', 1759), ('꽝', 1760), ('영업', 1761), ('오갈', 1762), ('헉', 1763), ('어둠', 1764), ('베개', 1765), ('무표정', 1766), ('실내', 1767), ('별다른', 1768), ('vip', 1769), ('지점장', 1770), ('절하', 1771), ('흔드', 1772), ('분홍', 1773), ('밍크', 1774), ('숄', 1775), ('타다닥', 1776), ('벙해', 1777), ('미아', 1778), ('건네', 1779), ('차창', 1780), ('놨', 1781), ('데이트', 1782), ('피우', 1783), ('뻔', 1784), ('별로', 1785), ('지나', 1786), ('감정', 1787), ('디자인', 1788), ('바가지', 1789), ('매일', 1790), ('언젠데', 1791), ('천', 1792), ('취급', 1793), ('빨리요', 1794), ('귀찮', 1795), ('가요', 1796), ('쨘', 1797), ('자신', 1798), ('다친', 1799), ('빠져', 1800), ('쳐넣', 1801), ('배고프', 1802), ('지갑', 1803), ('어때서', 1804), ('그제야', 1805), ('취한', 1806), ('쥔', 1807), ('만족', 1808), ('따루', 1809), ('탄사', 1810), ('차갑', 1811), ('려는데', 1812), ('급한', 1813), ('병', 1814), ('양보', 1815), ('십니까', 1816), ('재미', 1817), ('건들', 1818), ('영장', 1819), ('얼래', 1820), ('설득', 1821), ('할께', 1822), ('완전', 1823), ('쏘', 1824), ('이래서', 1825), ('사무실', 1826), ('엄만', 1827), ('훌륭', 1828), ('상견례', 1829), ('배고파', 1830), ('견디', 1831), ('드셨', 1832), ('열쇠', 1833), ('느낌', 1834), ('다르', 1835), ('심정', 1836), ('나물', 1837), ('마디', 1838), ('인데요', 1839), ('이뻐', 1840), ('래도', 1841), ('이렇', 1842), ('부리', 1843), ('하필', 1844), ('하지만', 1845), ('국민', 1846), ('싸울', 1847), ('부담', 1848), ('천만', 1849), ('만만찮', 1850), ('찌개', 1851), ('생선', 1852), ('장부', 1853), ('기계', 1854), ('노랫소리', 1855), ('차려졌', 1856), ('쓴', 1857), ('그날', 1858), ('존', 1859), ('줘야지', 1860), ('드릴게요', 1861), ('갈래', 1862), ('처제', 1863), ('오케이', 1864), ('시원', 1865), ('시끄러', 1866), ('안녕히', 1867), ('장이', 1868), ('푸', 1869), ('기양', 1870), ('엉', 1871), ('싹', 1872), ('담당', 1873), ('아세요', 1874), ('드만', 1875), ('만날', 1876), ('진급', 1877), ('도대체', 1878), ('빈', 1879), ('놀랬', 1880), ('당연', 1881), ('끓', 1882), ('어린', 1883), ('박', 1884), ('한방', 1885), ('다면서', 1886), ('그까짓', 1887), ('는다는', 1888), ('받아들이', 1889), ('방탄조끼', 1890), ('말리', 1891), ('호출', 1892), ('특별히', 1893), ('싸움', 1894), ('된다니', 1895), ('때렸', 1896), ('떠받들', 1897), ('대보', 1898), ('죄진', 1899), ('내려다보', 1900), ('확대', 1901), ('물러나', 1902), ('흥얼대', 1903), ('경', 1904), ('을려고', 1905), ('빈손', 1906), ('할께요', 1907), ('쫓', 1908), ('은근히', 1909), ('하곤', 1910), ('볶', 1911), ('어유', 1912), ('선물', 1913), ('웃긴다', 1914), ('으라고', 1915), ('줄까', 1916), ('침', 1917), ('아라', 1918), ('옮기', 1919), ('80', 1920), ('수고', 1921), ('땡', 1922), ('빤', 1923), ('할래', 1924), ('냄새', 1925), ('산다', 1926), ('기운', 1927), ('빡쎄', 1928), ('에선', 1929), ('따뜻', 1930), ('더러', 1931), ('다구요', 1932), ('주무시', 1933), ('답답', 1934), ('속옷', 1935), ('어쨌든', 1936), ('비교', 1937), ('깝깝', 1938), ('전문', 1939), ('영인', 1940), ('뒤집', 1941), ('싼', 1942), ('결심', 1943), ('장면', 1944), ('귀엽', 1945), ('풍경', 1946), ('낡', 1947), ('썰', 1948), ('엣지', 1949), ('화장대', 1950), ('환영', 1951), ('독', 1952), ('속닥대', 1953), ('양손', 1954), ('멱살', 1955), ('코트', 1956), ('파도치', 1957), ('모닥불', 1958), ('둘러싸여', 1959), ('순찰차', 1960), ('허겁지겁', 1961), ('떡볶이', 1962), ('밀걸레', 1963), ('만약', 1964), ('인제', 1965), ('짤', 1966), ('으응', 1967), ('기대', 1968), ('약올리', 1969), ('은데요', 1970), ('상상', 1971), ('허', 1972), ('빼먹', 1973), ('지키', 1974), ('접', 1975), ('볼까', 1976), ('온다니', 1977), ('진작에', 1978), ('값', 1979), ('될까요', 1980), ('덮', 1981), ('잘난', 1982), ('아닙니까', 1983), ('학원', 1984), ('미친', 1985), ('시집가', 1986), ('쳤', 1987), ('새로', 1988), ('했었', 1989), ('드릴께요', 1990), ('의좋', 1991), ('장난', 1992), ('방울', 1993), ('저래', 1994), ('추운', 1995), ('던져', 1996), ('끄', 1997), ('똑바로', 1998), ('쏟', 1999), ('사골', 2000), ('뜯', 2001), ('잖여', 2002), ('간다고', 2003), ('선보', 2004), ('만드', 2005), ('벌이', 2006), ('걸어가', 2007), ('뜨거운', 2008), ('심한', 2009), ('어림', 2010), ('바라보', 2011), ('우덜', 2012), ('발악', 2013), ('생맥주', 2014), ('도둑년', 2015), ('닭', 2016), ('사내놈', 2017), ('알불', 2018), ('로비', 2019), ('채우', 2020), ('장롱', 2021), ('도배', 2022), ('그러나', 2023), ('쪽지', 2024), ('끊기', 2025), ('터덕터덕', 2026), ('떨어진', 2027), ('능숙', 2028), ('클락', 2029), ('날아오', 2030), ('주말', 2031), ('다행', 2032), ('뵈', 2033), ('바꿔', 2034), ('으셨', 2035), ('합시다', 2036), ('난아', 2037), ('느끼', 2038), ('푼', 2039), ('능력', 2040), ('억울', 2041), ('심각', 2042), ('주무셨', 2043), ('바보', 2044), ('자랑', 2045), ('바쁜가', 2046), ('팍', 2047), ('멀쩡', 2048), ('점수', 2049), ('어젯밤', 2050), ('아파서', 2051), ('지켜', 2052), ('볶음', 2053), ('멀', 2054), ('치우', 2055), ('땅', 2056), ('아니면', 2057), ('칼국수', 2058), ('패', 2059), ('복잡', 2060), ('별나', 2061), ('찍소리', 2062), ('계신', 2063), ('아깝', 2064), ('기다렸', 2065), ('까짓거', 2066), ('헤어지', 2067), ('신다', 2068), ('물론', 2069), ('갈께요', 2070), ('떠들', 2071), ('셋째', 2072), ('드라구요', 2073), ('수차', 2074), ('차문', 2075), ('다짜고짜', 2076), ('끌어내', 2077), ('몸싸움', 2078), ('어림없', 2079), ('눕힌', 2080), ('질겅', 2081), ('동치미', 2082), ('군고구마', 2083), ('눕', 2084), ('려니', 2085), ('려면', 2086), ('아뇨', 2087), ('그렸', 2088), ('지지', 2089), ('쓰이', 2090), ('니께', 2091), ('비켜', 2092), ('분명', 2093), ('까불', 2094), ('되게', 2095), ('바뻐', 2096), ('내말이', 2097), ('재주', 2098), ('시장', 2099), ('발령', 2100), ('려다', 2101), ('다치', 2102), ('신청', 2103), ('위해', 2104), ('세워서', 2105), ('신데', 2106), ('울려', 2107), ('강력', 2108), ('엿들', 2109), ('교통사고', 2110), ('보쌈', 2111), ('아니야', 2112), ('한다니', 2113), ('깜짝', 2114), ('포기', 2115), ('끝나', 2116), ('이대로', 2117), ('온다', 2118), ('중간', 2119), ('당해', 2120), ('한다는', 2121), ('박수', 2122), ('아줌만', 2123), ('했으니', 2124), ('욕심', 2125), ('어려울', 2126), ('잉', 2127), ('공사', 2128), ('커', 2129), ('원수', 2130), ('신대', 2131), ('어리', 2132), ('조카', 2133), ('내손', 2134), ('자료', 2135), ('진지', 2136), ('헤어진', 2137), ('누르', 2138), ('내비', 2139), ('헤어질', 2140), ('마지못해', 2141), ('기막힌', 2142), ('뒹굴', 2143), ('양주', 2144), ('숨기', 2145), ('냉큼', 2146), ('발견', 2147), ('오른팔', 2148), ('배낭', 2149), ('설날', 2150), ('차례', 2151), ('싸돌', 2152), ('합니까', 2153), ('착하', 2154), ('버스', 2155), ('어쩐지', 2156), ('비싼', 2157), ('할라고', 2158), ('찌', 2159), ('아버지', 2160), ('바빠서', 2161), ('멋대로', 2162), ('그저', 2163), ('고대로', 2164), ('성격', 2165), ('마무리', 2166), ('그런다고', 2167), ('줘라', 2168), ('삘이', 2169), ('썩', 2170), ('기사', 2171), ('배달', 2172), ('스', 2173), ('대강', 2174), ('했어도', 2175), ('엎', 2176), ('생기', 2177), ('각별히', 2178), ('쪼', 2179), ('샌드위치', 2180), ('항상', 2181), ('향해', 2182), ('놔둬', 2183), ('경찰대', 2184), ('동창', 2185), ('편해', 2186), ('뻔히', 2187), ('죄', 2188), ('배우', 2189), ('철딱서니', 2190), ('된다고', 2191), ('오빤', 2192), ('예민', 2193), ('압', 2194), ('그만두', 2195), ('전해', 2196), ('반말', 2197), ('저놈', 2198), ('대한민국', 2199), ('구워', 2200), ('웬', 2201), ('특히', 2202), ('무식', 2203), ('마셔', 2204), ('종류', 2205), ('개털', 2206), ('요거', 2207), ('을께', 2208), ('라면서요', 2209), ('부러워', 2210), ('갔다오', 2211), ('바라', 2212), ('모른다', 2213), ('시켜서', 2214), ('반가워', 2215), ('민망', 2216), ('니까요', 2217), ('인기', 2218), ('모델', 2219), ('벌렁', 2220), ('방문', 2221), ('거만', 2222), ('기대앉', 2223), ('널리', 2224), ('올려다보', 2225), ('헤드라이트', 2226), ('갈비탕', 2227), ('멍하니', 2228), ('올게요', 2229), ('갔었', 2230), ('태워', 2231), ('치질', 2232), ('어울리', 2233), ('몰라서', 2234), ('단지', 2235), ('스타일', 2236), ('힘드', 2237), ('들어갈', 2238), ('느', 2239), ('와봐', 2240), ('취직', 2241), ('맞짱', 2242), ('깊', 2243), ('누군데', 2244), ('울적', 2245), ('들으면', 2246), ('프로', 2247), ('서른', 2248), ('소용없', 2249), ('대한', 2250), ('이걸', 2251), ('싸이렌', 2252), ('한귀', 2253), ('미워', 2254), ('써서', 2255), ('위해서', 2256), ('암말', 2257), ('내색', 2258), ('그런다', 2259), ('공무원', 2260), ('서요', 2261), ('필', 2262), ('엉뚱', 2263), ('첫', 2264), ('겁나', 2265), ('져', 2266), ('각오', 2267), ('비용', 2268), ('암튼', 2269), ('주소', 2270), ('실컷', 2271), ('미련', 2272), ('인디', 2273), ('도둑', 2274), ('살래', 2275), ('지경', 2276), ('뚫어지', 2277), ('채이', 2278), ('교육', 2279), ('곳', 2280), ('이상아', 2281), ('짜장면', 2282), ('추워', 2283), ('목숨', 2284), ('사기', 2285), ('신호', 2286), ('이러다', 2287), ('얘길', 2288), ('집사람', 2289), ('변해', 2290), ('삶', 2291), ('해선', 2292), ('찾아오', 2293), ('요놈', 2294), ('외상', 2295), ('그나마', 2296), ('가게', 2297), ('참견', 2298), ('실실', 2299), ('결혼식장', 2300), ('어찌나', 2301), ('보인다', 2302), ('점검', 2303), ('기세', 2304), ('비키', 2305), ('문소리', 2306), ('걸으며', 2307), ('간이침대', 2308), ('냅다', 2309), ('들어선', 2310), ('치워졌', 2311), ('놓여진', 2312), ('방석', 2313), ('흐믓', 2314), ('엉거주춤', 2315), ('팬티', 2316), ('현재', 2317), ('상관없', 2318), ('뭔지', 2319), ('적어도', 2320), ('갈게요', 2321), ('댕겨', 2322), ('들려', 2323), ('근사', 2324), ('이별', 2325), ('아저씨', 2326), ('저게', 2327), ('대단', 2328), ('부럽', 2329), ('어쩌다', 2330), ('옵니다', 2331), ('키워', 2332), ('까칠', 2333), ('꺼져', 2334), ('눈뜨', 2335), ('직업', 2336), ('밉', 2337), ('합의', 2338), ('계시', 2339), ('시골', 2340), ('공짜', 2341), ('을라고', 2342), ('소중', 2343), ('꼬박꼬박', 2344), ('주변', 2345), ('손주', 2346), ('명절날', 2347), ('박스', 2348), ('게요', 2349), ('여전', 2350), ('핸드폰', 2351), ('쑤시', 2352), ('와아', 2353), ('빠', 2354), ('마찬가지', 2355), ('아끼', 2356), ('수돗가', 2357), ('한대요', 2358), ('유리', 2359), ('직장', 2360), ('계', 2361), ('놀란', 2362), ('속터지', 2363), ('반가워요', 2364), ('든데요', 2365), ('초대', 2366), ('격투', 2367), ('주눅', 2368), ('한다니까', 2369), ('빼돌리', 2370), ('짓밟', 2371), ('세탁소', 2372), ('땄', 2373), ('이따만', 2374), ('설탕', 2375), ('사귀', 2376), ('쑤셔박', 2377), ('무서워하', 2378), ('사라지', 2379), ('귀염', 2380), ('는다니까', 2381), ('쉼표', 2382), ('실까', 2383), ('한편', 2384), ('변함없', 2385), ('고려청자', 2386), ('드럽', 2387), ('주먹질', 2388), ('타일', 2389), ('수호천사', 2390), ('방구석', 2391), ('내오', 2392), ('키득대', 2393), ('명세서', 2394), ('영방', 2395), ('코너', 2396), ('개시', 2397), ('퍽', 2398), ('이때', 2399), ('머리채', 2400), ('모래', 2401), ('락', 2402), ('뒤치락', 2403), ('올라타', 2404), ('엿보', 2405), ('실제', 2406), ('대걸레질', 2407), ('울먹이', 2408), ('또래', 2409), ('회초리', 2410), ('긴박', 2411), ('총알', 2412), ('우는소리', 2413), ('선생', 2414), ('칙', 2415), ('덜', 2416), ('어떠', 2417), ('미치', 2418), ('도로', 2419), ('회식', 2420), ('대접', 2421), ('시방', 2422), ('이제야', 2423), ('설마', 2424), ('할땐', 2425), ('탈', 2426), ('장모', 2427), ('마련', 2428), ('나서', 2429), ('거봐', 2430), ('협조', 2431), ('표시', 2432), ('계신데', 2433), ('다니까요', 2434), ('무서워', 2435), ('당당', 2436), ('성적', 2437), ('했잖아', 2438), ('알아보', 2439), ('자빠진', 2440), ('갈라', 2441), ('정보', 2442), ('잠복', 2443), ('졌', 2444), ('맡겨', 2445), ('서울', 2446), ('연하', 2447), ('바랍니다', 2448), ('먹이', 2449), ('비행기', 2450), ('따지', 2451), ('기도', 2452), ('랬', 2453), ('서서', 2454), ('조만간', 2455), ('쑤', 2456), ('조', 2457), ('어려워', 2458), ('기절', 2459), ('줏', 2460), ('뽑', 2461), ('칼', 2462), ('예의', 2463), ('여섯', 2464), ('들통', 2465), ('혼내', 2466), ('부끄럽', 2467), ('달래', 2468), ('자긴', 2469), ('생긴', 2470), ('초', 2471), ('찾아왔', 2472), ('그런가', 2473), ('깊숙이', 2474), ('화해', 2475), ('다섯', 2476), ('의사', 2477), ('피하', 2478), ('배웠', 2479), ('들어간', 2480), ('귀하', 2481), ('거긴', 2482), ('인권', 2483), ('피해', 2484), ('턱', 2485), ('찬성', 2486), ('뛰가', 2487), ('장가가', 2488), ('외롭', 2489), ('으신', 2490), ('글쎄', 2491), ('무기', 2492), ('어묵', 2493), ('잠그', 2494), ('빠르', 2495), ('빤히', 2496), ('찔리', 2497), ('부러진', 2498), ('벗겨', 2499), ('도망치', 2500), ('눈빛', 2501), ('감격', 2502), ('망설이', 2503), ('펼쳐진', 2504), ('물건', 2505), ('아슬', 2506), ('어기', 2507), ('우아', 2508), ('꾸벅', 2509), ('닥', 2510), ('웨', 2511), ('딩카', 2512), ('장식', 2513), ('암말도', 2514), ('울컥', 2515), ('무시', 2516), ('예식장', 2517), ('할아버지', 2518), ('쇼', 2519), ('다야', 2520), ('한통속', 2521), ('이걸로', 2522), ('할려다', 2523), ('잊어버려', 2524), ('준다고', 2525), ('뽕', 2526), ('지나간', 2527), ('탈주범', 2528), ('못나', 2529), ('건데요', 2530), ('구체', 2531), ('보약', 2532), ('욕', 2533), ('역할', 2534), ('처가', 2535), ('알아봐', 2536), ('놔야', 2537), ('기술', 2538), ('대출', 2539), ('반쪽', 2540), ('천지', 2541), ('솔직', 2542), ('곤란', 2543), ('져요', 2544), ('꿈자리', 2545), ('께서', 2546), ('줄께', 2547), ('한꺼번에', 2548), ('범죄자', 2549), ('아닌데요', 2550), ('대기', 2551), ('첫눈', 2552), ('알려', 2553), ('자마자', 2554), ('누굴', 2555), ('뒤져', 2556), ('재미없', 2557), ('촌스럽', 2558), ('첫째', 2559), ('줄려고', 2560), ('끝난', 2561), ('경장', 2562), ('할까', 2563), ('야단치', 2564), ('날아가', 2565), ('검찰', 2566), ('스러', 2567), ('구하', 2568), ('혼날', 2569), ('냉정', 2570), ('드려야', 2571), ('누군지', 2572), ('줄래', 2573), ('외로운', 2574), ('알아주', 2575), ('가까이', 2576), ('헤이', 2577), ('보여요', 2578), ('으셨어요', 2579), ('갑니다', 2580), ('컸', 2581), ('흘리', 2582), ('전혀', 2583), ('맏', 2584), ('큰형수', 2585), ('셔야', 2586), ('싸운', 2587), ('와도', 2588), ('롱', 2589), ('딱딱', 2590), ('헌', 2591), ('그걸로', 2592), ('정상', 2593), ('쩔쩔매', 2594), ('처녀', 2595), ('퍼지', 2596), ('설레', 2597), ('뒤치다꺼리', 2598), ('똥집', 2599), ('편찮', 2600), ('드린', 2601), ('바꾸', 2602), ('망친', 2603), ('박사', 2604), ('얼결', 2605), ('덜컥', 2606), ('오른손', 2607), ('걸친', 2608), ('어수선', 2609), ('누이', 2610), ('졸', 2611), ('테이블', 2612), ('불판', 2613), ('왁자', 2614), ('침울', 2615), ('국그릇', 2616), ('씽', 2617), ('행거', 2618), ('살림살이', 2619), ('솔이', 2620), ('청약서', 2621), ('사랑스레', 2622), ('누워서', 2623), ('괘씸', 2624), ('퍼질러', 2625), ('시킨다고', 2626), ('쉬운', 2627), ('나올', 2628), ('최대한', 2629), ('깜빡했', 2630), ('거들', 2631), ('으', 2632), ('따라와', 2633), ('각', 2634), ('망정', 2635), ('실은', 2636), ('구속', 2637), ('급', 2638), ('으니께', 2639), ('새삼', 2640), ('하도', 2641), ('인정머리', 2642), ('영', 2643), ('짧', 2644), ('얕잡', 2645), ('험한', 2646), ('명심', 2647), ('엄연히', 2648), ('터져', 2649), ('여대', 2650), ('전세', 2651), ('싸가지', 2652), ('봤으니', 2653), ('빼놓', 2654), ('여사', 2655), ('떨리', 2656), ('쩐', 2657), ('볼려구요', 2658), ('닭다리', 2659), ('느라고', 2660), ('색시', 2661), ('깐깐', 2662), ('손아래', 2663), ('라뇨', 2664), ('앞장', 2665), ('호강', 2666), ('가까운', 2667), ('굴', 2668), ('고아', 2669), ('올래', 2670), ('드릴까요', 2671), ('생전', 2672), ('될까', 2673), ('된다는', 2674), ('매번', 2675), ('도시락', 2676), ('드려', 2677), ('머릿속', 2678), ('할거', 2679), ('껴안', 2680), ('칫솔', 2681), ('국가', 2682), ('유학', 2683), ('넘치', 2684), ('아까운', 2685), ('난리나', 2686), ('자부심', 2687), ('비명', 2688), ('넥타이', 2689), ('땀', 2690), ('엘', 2691), ('낸', 2692), ('나머지', 2693), ('만두', 2694), ('설령', 2695), ('툭툭', 2696), ('장래', 2697), ('협박', 2698), ('개코', 2699), ('아실', 2700), ('안심', 2701), ('미역국', 2702), ('온겨', 2703), ('할까요', 2704), ('생활비', 2705), ('남의집살이', 2706), ('재혼', 2707), ('처갓집', 2708), ('끓였', 2709), ('간부', 2710), ('묻히', 2711), ('자면', 2712), ('새벽', 2713), ('까부', 2714), ('소릴', 2715), ('날르', 2716), ('세기', 2717), ('멋진', 2718), ('링거', 2719), ('코피', 2720), ('악착같이', 2721), ('대꾸', 2722), ('수제비', 2723), ('무겁', 2724), ('부탁드려요', 2725), ('당했', 2726), ('남잔', 2727), ('누군가', 2728), ('살게', 2729), ('비위', 2730), ('이리', 2731), ('뻥치', 2732), ('의미', 2733), ('꿔', 2734), ('준다는', 2735), ('느니', 2736), ('웬수', 2737), ('케', 2738), ('삐', 2739), ('좋아하', 2740), ('대잖아', 2741), ('하우스', 2742), ('셨잖아요', 2743), ('틈나', 2744), ('나발', 2745), ('주임', 2746), ('가로막', 2747), ('척척', 2748), ('그리', 2749), ('세월', 2750), ('아부', 2751), ('전송', 2752), ('손드', 2753), ('일그러지', 2754), ('컴', 2755), ('터치', 2756), ('반기', 2757), ('뿅간', 2758), ('대야', 2759), ('집어들', 2760), ('찔끔찔끔', 2761), ('계수기', 2762), ('부동산', 2763), ('흠뻑', 2764), ('젖', 2765), ('구급대', 2766), ('원은', 2767), ('자르', 2768), ('젖히', 2769), ('못해', 2770), ('될지', 2771), ('무서워서', 2772), ('버릇', 2773), ('달라', 2774), ('할껴', 2775), ('생', 2776), ('바닷가', 2777), ('관심없', 2778), ('그새', 2779), ('놀리', 2780), ('프', 2781), ('충분', 2782), ('신지', 2783), ('큰일', 2784), ('수퍼', 2785), ('청승', 2786), ('마라', 2787), ('주민', 2788), ('덕분', 2789), ('짠', 2790), ('애교', 2791), ('확실히', 2792), ('뻔하', 2793), ('어떠세요', 2794), ('집안일', 2795), ('모범', 2796), ('사니', 2797), ('누', 2798), ('끝냈', 2799), ('허전', 2800), ('쌔', 2801), ('용의자', 2802), ('은행', 2803), ('빌', 2804), ('관계', 2805), ('덜덜', 2806), ('활짝', 2807), ('말끝', 2808), ('사리', 2809), ('설쳐', 2810), ('모른다고', 2811), ('날짜', 2812), ('메', 2813), ('누리', 2814), ('실장', 2815), ('앴', 2816), ('커서', 2817), ('자랐', 2818), ('쎄', 2819), ('왔었', 2820), ('보였', 2821), ('법대', 2822), ('용돈', 2823), ('으란', 2824), ('지시', 2825), ('최소한', 2826), ('그동안', 2827), ('팔아먹', 2828), ('시동생', 2829), ('만만', 2830), ('양복', 2831), ('찼', 2832), ('형편', 2833), ('뛰어가', 2834), ('호적', 2835), ('볼땐', 2836), ('치약', 2837), ('달려왔', 2838), ('주단', 2839), ('결론', 2840), ('몽땅', 2841), ('아야죠', 2842), ('자수', 2843), ('들어먹', 2844), ('합격', 2845), ('한창', 2846), ('치사', 2847), ('뛰어온', 2848), ('밴드', 2849), ('들이받', 2850), ('막말', 2851), ('헤어졌', 2852), ('가리', 2853), ('시집보내', 2854), ('위로', 2855), ('깨물', 2856), ('서울역', 2857), ('명예', 2858), ('접수', 2859), ('자라', 2860), ('아랫것', 2861), ('심부름', 2862), ('누군', 2863), ('뒀', 2864), ('감사', 2865), ('모든', 2866), ('꼬마', 2867), ('샀', 2868), ('비록', 2869), ('알아들', 2870), ('알아볼', 2871), ('한술', 2872), ('참말로', 2873), ('봅시다', 2874), ('계십니까', 2875), ('터질', 2876), ('푸욱', 2877), ('다만', 2878), ('끓인', 2879), ('인하', 2880), ('보호', 2881), ('생활', 2882), ('춤', 2883), ('쬐끄만', 2884), ('버르장머리', 2885), ('연락처', 2886), ('창고', 2887), ('이봐요', 2888), ('달랑', 2889), ('쪼끔', 2890), ('련', 2891), ('부지런', 2892), ('에민', 2893), ('대충', 2894), ('비워', 2895), ('밑반찬', 2896), ('외출', 2897), ('이여', 2898), ('검토', 2899), ('제주도', 2900), ('다녀올게요', 2901), ('인수', 2902), ('기어코', 2903), ('걸린지', 2904), ('하난', 2905), ('꼴리', 2906), ('수도꼭지', 2907), ('귀한', 2908), ('뜰', 2909), ('뒤숭숭', 2910), ('어다', 2911), ('할망정', 2912), ('쳐서', 2913), ('암것도', 2914), ('흥분', 2915), ('청문회', 2916), ('어여', 2917), ('치이', 2918), ('자니', 2919), ('빼내', 2920), ('못된', 2921), ('적응', 2922), ('똑', 2923), ('질질', 2924), ('기적', 2925), ('쏩니다', 2926), ('상해', 2927), ('전치', 2928), ('엄청', 2929), ('할려구요', 2930), ('다녀야', 2931), ('써야', 2932), ('닫', 2933), ('둘러싼', 2934), ('안절부절', 2935), ('결재', 2936), ('일지', 2937), ('찬찬히', 2938), ('병풍', 2939), ('치고', 2940), ('제상', 2941), ('흐느끼', 2942), ('씩씩대', 2943), ('애드립', 2944), ('떠먹이', 2945), ('일제히', 2946), ('들여놓', 2947), ('반짝', 2948), ('범', 2949), ('어쩐다니', 2950), ('모이', 2951), ('답니다', 2952), ('학년', 2953), ('거려', 2954), ('셔야죠', 2955), ('겸', 2956), ('어울려', 2957), ('꼬치꼬치', 2958), ('본다고', 2959), ('책임지', 2960), ('충성', 2961), ('도장', 2962), ('순찰', 2963), ('깨지', 2964), ('이러면', 2965), ('목소리', 2966), ('돼야', 2967), ('가니', 2968), ('바', 2969), ('도움', 2970), ('도저히', 2971), ('보석', 2972), ('점', 2973), ('다닐', 2974), ('뚜들겨', 2975), ('바쁜데', 2976), ('스토커', 2977), ('대해서', 2978), ('불붙', 2979), ('울지마', 2980), ('정확', 2981), ('고시', 2982), ('인간', 2983), ('연말', 2984), ('보냈', 2985), ('그만큼', 2986), ('던데요', 2987), ('골목', 2988), ('안쪽', 2989), ('언젠가', 2990), ('소린지', 2991), ('코빼기', 2992), ('존경', 2993), ('시켜야', 2994), ('내속', 2995), ('했다간', 2996), ('권', 2997), ('일곱', 2998), ('전활', 2999), ('데려다', 3000), ('내보내', 3001), ('질투', 3002), ('5', 3003), ('벌리', 3004), ('굳이', 3005), ('곤', 3006), ('행동', 3007), ('됩니까', 3008), ('쑈', 3009), ('설사', 3010), ('행주', 3011), ('껍질', 3012), ('쪄', 3013), ('덴', 3014), ('지유', 3015), ('할텐데', 3016), ('배워', 3017), ('마십시오', 3018), ('떡대', 3019), ('결국', 3020), ('구박', 3021), ('감싸', 3022), ('고민', 3023), ('신다고', 3024), ('몰러', 3025), ('불렀', 3026), ('반지', 3027), ('이빨', 3028), ('집어넣', 3029), ('참으', 3030), ('부대찌개', 3031), ('낯설', 3032), ('비하', 3033), ('합디다', 3034), ('집들이', 3035), ('자린', 3036), ('이쁜데', 3037), ('제주', 3038), ('계실', 3039), ('골', 3040), ('부엌', 3041), ('등록', 3042), ('소고기', 3043), ('전생', 3044), ('틀린', 3045), ('겠어요', 3046), ('힘든지', 3047), ('지치', 3048), ('쌤', 3049), ('래라', 3050), ('내쫓', 3051), ('바치', 3052), ('오지', 3053), ('빨리빨리', 3054), ('어려선', 3055), ('사적', 3056), ('발끝', 3057), ('살리', 3058), ('호구', 3059), ('뉘', 3060), ('찬다', 3061), ('나옵니다', 3062), ('달렸', 3063), ('심해', 3064), ('앨', 3065), ('출장', 3066), ('썽이', 3067), ('원숭이', 3068), ('건물', 3069), ('뭘해', 3070), ('지쳐서', 3071), ('구했', 3072), ('틀림없', 3073), ('다짐', 3074), ('얼만지', 3075), ('꾹', 3076), ('어련히', 3077), ('뻥뻥', 3078), ('내새', 3079), ('낀데', 3080), ('부러지', 3081), ('쪼들리', 3082), ('힘내', 3083), ('자유', 3084), ('독거', 3085), ('노인', 3086), ('사례', 3087), ('절대로', 3088), ('치뤄', 3089), ('어려우', 3090), ('여유', 3091), ('지멋대로', 3092), ('쥐어짜', 3093), ('홧병', 3094), ('비지찌개', 3095), ('뺑소니', 3096), ('부산', 3097), ('가정학', 3098), ('번히', 3099), ('아플', 3100), ('뎅이', 3101), ('구워삶', 3102), ('변상', 3103), ('배불러', 3104), ('도청', 3105), ('신참', 3106), ('게을러서', 3107), ('건드렸', 3108), ('이모', 3109), ('욱', 3110), ('시킵니다', 3111), ('보너스', 3112), ('애대', 3113), ('얹', 3114), ('장판', 3115), ('안들', 3116), ('불똥', 3117), ('교대', 3118), ('든든', 3119), ('나와야지', 3120), ('포장마차', 3121), ('드라니', 3122), ('시켜요', 3123), ('비누', 3124), ('참말', 3125), ('어쩌구', 3126), ('화투', 3127), ('올렸', 3128), ('스도', 3129), ('저것', 3130), ('좌악', 3131), ('찢어지', 3132), ('흩어지', 3133), ('주춤', 3134), ('마구', 3135), ('정장', 3136), ('미러', 3137), ('치마', 3138), ('윗옷', 3139), ('신경전', 3140), ('벽시계', 3141), ('기지개', 3142), ('거수경례', 3143), ('슬며시', 3144), ('큰절', 3145), ('약봉지', 3146), ('팔짱', 3147), ('난만', 3148), ('담긴', 3149), ('깡통', 3150), ('풍선', 3151), ('납작', 3152), ('보자기', 3153), ('묘하', 3154), ('통화중', 3155), ('배배', 3156), ('찹쌀', 3157), ('밀치', 3158), ('빙그르', 3159), ('슬로우', 3160), ('목재', 3161), ('장소', 3162), ('경계', 3163), ('사이트', 3164), ('신났', 3165), ('나와선', 3166), ('호', 3167), ('난다', 3168), ('바퀴', 3169), ('진정', 3170), ('핑계', 3171), ('다녔', 3172), ('는구나', 3173), ('갈께', 3174), ('대해', 3175), ('이자', 3176), ('신세', 3177), ('을게요', 3178), ('감기', 3179), ('혼인', 3180), ('꼬맹이', 3181), ('간지', 3182), ('이따가', 3183), ('안다', 3184), ('올게', 3185), ('마르', 3186), ('도망갔', 3187), ('버려', 3188), ('지도', 3189), ('뭔데요', 3190), ('고서', 3191), ('떼먹', 3192), ('혔', 3193), ('빠졌', 3194), ('온다고', 3195), ('그런데', 3196), ('간만에', 3197), ('통하', 3198), ('껀', 3199), ('흉', 3200), ('근본', 3201), ('남녀', 3202), ('소식', 3203), ('흘려', 3204), ('취했', 3205), ('쩔', 3206), ('신가', 3207), ('뽀뽀', 3208), ('때려치', 3209), ('스물', 3210), ('열통', 3211), ('고마워요', 3212), ('족발', 3213), ('놀래', 3214), ('한입', 3215), ('잠들', 3216), ('졸업', 3217), ('목적', 3218), ('한바탕', 3219), ('데려', 3220), ('뭘로', 3221), ('맘껏', 3222), ('시아버지', 3223), ('갈까', 3224), ('간다며', 3225), ('실수', 3226), ('맘먹', 3227), ('어쩔려고', 3228), ('맡기', 3229), ('지옥', 3230), ('티', 3231), ('쳐도', 3232), ('주의', 3233), ('돌아오', 3234), ('총', 3235), ('지겨워', 3236), ('짤라', 3237), ('스러워', 3238), ('버릴', 3239), ('후배', 3240), ('은혜', 3241), ('아가씨', 3242), ('소금', 3243), ('높', 3244), ('미국', 3245), ('친', 3246), ('내빼', 3247), ('아이고', 3248), ('잡아당기', 3249), ('기다릴게', 3250), ('으실', 3251), ('먼일', 3252), ('제삿날', 3253), ('까요', 3254), ('붙잡', 3255), ('코치', 3256), ('뿌리', 3257), ('아쉬운', 3258), ('급해', 3259), ('두부', 3260), ('감옥', 3261), ('친해', 3262), ('감추', 3263), ('신나', 3264), ('똘마니', 3265), ('화이팅', 3266), ('쟤', 3267), ('고소', 3268), ('통통', 3269), ('축', 3270), ('올라서', 3271), ('기회', 3272), ('끌려가', 3273), ('속상', 3274), ('스런', 3275), ('차량', 3276), ('마친', 3277), ('부르스', 3278), ('속중', 3279), ('그렁', 3280), ('잠겨', 3281), ('어설프', 3282), ('조심조심', 3283), ('배기팬츠', 3284), ('어이없', 3285), ('쌓였', 3286), ('다듬', 3287), ('침묵', 3288), ('캔커피', 3289), ('흠칫', 3290), ('밀어붙이', 3291), ('휘청', 3292), ('거칠', 3293), ('부츠', 3294), ('참고', 3295), ('언덕길', 3296), ('앞선', 3297), ('헐', 3298), ('팽팽', 3299), ('당기', 3300), ('쉬워', 3301), ('나누', 3302), ('한겨', 3303), ('전달', 3304), ('볼게', 3305), ('냐구요', 3306), ('보낼', 3307), ('동창회', 3308), ('골라서', 3309), ('아무거', 3310), ('지경사', 3311), ('먹일려고', 3312), ('태어나', 3313), ('통곡', 3314), ('몸살', 3315), ('이래요', 3316), ('따르', 3317), ('속인', 3318), ('아닐까요', 3319), ('속이', 3320), ('된대', 3321), ('실패', 3322), ('걸려', 3323), ('방학', 3324), ('이형수', 3325), ('목구멍', 3326), ('홀랑', 3327), ('말렸', 3328), ('-', 3329), ('갈려고', 3330), ('기름', 3331), ('싹싹', 3332), ('딴생각', 3333), ('자다', 3334), ('날라', 3335), ('그랬다간', 3336), ('속상하', 3337), ('아빤', 3338), ('못살', 3339), ('쫑', 3340), ('체크', 3341), ('홀라당', 3342), ('00', 3343), ('쌌', 3344), ('상대', 3345), ('미장원', 3346), ('아서요', 3347), ('먹일', 3348), ('대화', 3349), ('맞춰', 3350), ('바지', 3351), ('분리', 3352), ('심', 3353), ('막혀서', 3354), ('쓸데없', 3355), ('삽니다', 3356), ('댓', 3357), ('모를까', 3358), ('으나', 3359), ('우와', 3360), ('면목', 3361), ('매력', 3362), ('맏며느리', 3363), ('환자', 3364), ('찾아가', 3365), ('멍', 3366), ('취조', 3367), ('들어간다', 3368), ('사표', 3369), ('굉장히', 3370), ('가출', 3371), ('들어와서', 3372), ('딸린', 3373), ('어쩌면', 3374), ('체포', 3375), ('양말', 3376), ('을게', 3377), ('래유', 3378), ('손대', 3379), ('쉴', 3380), ('라매', 3381), ('본인', 3382), ('떨어졌', 3383), ('결과', 3384), ('자알', 3385), ('탓', 3386), ('수업', 3387), ('어딘데', 3388), ('돌아댕기', 3389), ('만사', 3390), ('수리', 3391), ('줘도', 3392), ('초밥', 3393), ('함께', 3394), ('착각', 3395), ('심문', 3396), ('와야지', 3397), ('업무', 3398), ('했잖아요', 3399), ('족쇄', 3400), ('근디', 3401), ('사방팔방', 3402), ('놀이터', 3403), ('빨간', 3404), ('랍니다', 3405), ('올라', 3406), ('스포츠', 3407), ('잖냐', 3408), ('싸워', 3409), ('변했', 3410), ('나쁘', 3411), ('뻐꾹뻐꾹', 3412), ('부엉부엉', 3413), ('효자', 3414), ('걸어서', 3415), ('놔둬라', 3416), ('으래', 3417), ('꾼', 3418), ('쫘악', 3419), ('꼬셔서', 3420), ('시집온', 3421), ('시부모', 3422), ('엄니', 3423), ('속상한', 3424), ('아무데', 3425), ('감히', 3426), ('엄살', 3427), ('어머님', 3428), ('교도소', 3429), ('아쉽', 3430), ('비치', 3431), ('화장지', 3432), ('피부', 3433), ('예상', 3434), ('뵙', 3435), ('잊어버리', 3436), ('찬물', 3437), ('놀랐', 3438), ('앞장서', 3439), ('감옥살이', 3440), ('워디', 3441), ('막내아들', 3442), ('잡채', 3443), ('저리', 3444), ('불러서', 3445), ('심상', 3446), ('모를', 3447), ('잡힐', 3448), ('온대요', 3449), ('손발', 3450), ('마스크', 3451), ('도망갈', 3452), ('조직', 3453), ('어어어엉', 3454), ('어딘지', 3455), ('만든', 3456), ('양해', 3457), ('뛰댕기', 3458), ('진하', 3459), ('장차', 3460), ('자연', 3461), ('옮겨', 3462), ('재산', 3463), ('앞쪽', 3464), ('적당', 3465), ('밀려', 3466), ('왼손', 3467), ('들킬', 3468), ('음모', 3469), ('엎어지', 3470), ('그라스', 3471), ('끽', 3472), ('50', 3473), ('뒷문', 3474), ('휙', 3475), ('귀마개', 3476), ('낑낑대', 3477), ('팔뚝', 3478), ('자국', 3479), ('이삿짐', 3480), ('거드', 3481), ('강종', 3482), ('창난', 3483), ('삐삐', 3484), ('난감', 3485), ('꽂', 3486), ('맥주잔', 3487), ('휘날리', 3488), ('맥없이', 3489), ('세워진', 3490), ('세숫대야', 3491), ('귓속말', 3492), ('거슬리', 3493), ('꽈당', 3494), ('킥킥대', 3495), ('부추', 3496), ('너머', 3497), ('지낼', 3498), ('어쩐', 3499), ('원망', 3500), ('당할', 3501), ('놨어요', 3502), ('밥때', 3503), ('껴서', 3504), ('아이구', 3505), ('을래', 3506), ('넘어갔', 3507), ('들어야', 3508), ('빠른', 3509), ('칠', 3510), ('부서지', 3511), ('지난', 3512), ('바란다면', 3513), ('보여도', 3514), ('데려오', 3515), ('웬지', 3516), ('된다니까', 3517), ('도리', 3518), ('아셨', 3519), ('학', 3520), ('태도', 3521), ('내맘대로', 3522), ('웃겨', 3523), ('제정신', 3524), ('댕', 3525), ('초등', 3526), ('나온다', 3527), ('으셔서', 3528), ('퍼먹', 3529), ('드디어', 3530), ('아선', 3531), ('초등학생', 3532), ('여잔데', 3533), ('모텔', 3534), ('짠돌이', 3535), ('걸릴', 3536), ('우애', 3537), ('얹혀', 3538), ('척하', 3539), ('파이팅', 3540), ('들으', 3541), ('들어도', 3542), ('사납', 3543), ('미쳐', 3544), ('근무지', 3545), ('즐기', 3546), ('훔쳤', 3547), ('얜', 3548), ('루', 3549), ('드려서', 3550), ('흔한', 3551), ('꼬이', 3552), ('질러', 3553), ('온통', 3554), ('파악', 3555), ('볼게요', 3556), ('드릴려고', 3557), ('우연히', 3558), ('복작대', 3559), ('무', 3560), ('쟈', 3561), ('된장', 3562), ('썩이', 3563), ('솜씨', 3564), ('려나', 3565), ('아들놈', 3566), ('저건', 3567), ('동반', 3568), ('시집와서', 3569), ('던가요', 3570), ('드라이브', 3571), ('도둑놈', 3572), ('말단', 3573), ('이따위', 3574), ('살펴보', 3575), ('원리', 3576), ('원칙', 3577), ('잔다', 3578), ('뉴스', 3579), ('지난주', 3580), ('범죄', 3581), ('상당히', 3582), ('바래다', 3583), ('이러실', 3584), ('준다', 3585), ('외박', 3586), ('전경', 3587), ('지구', 3588), ('대책', 3589), ('게임', 3590), ('건강아', 3591), ('명령', 3592), ('쏠께', 3593), ('오르', 3594), ('구유', 3595), ('고등학교', 3596), ('드나들', 3597), ('쥐잡', 3598), ('라더니', 3599), ('새신랑', 3600), ('갈란다', 3601), ('물결', 3602), ('청국장', 3603), ('랬더니', 3604), ('드실', 3605), ('그니까', 3606), ('왔다갔다', 3607), ('한때', 3608), ('알뜰', 3609), ('화', 3610), ('다잖아요', 3611), ('막상', 3612), ('한우', 3613), ('죽이', 3614), ('된다더니', 3615), ('만난다고', 3616), ('소린', 3617), ('키스', 3618), ('어찌', 3619), ('는가', 3620), ('재워', 3621), ('전요', 3622), ('산데', 3623), ('가중', 3624), ('처벌', 3625), ('뜯어내', 3626), ('실력', 3627), ('차근차근', 3628), ('데려가', 3629), ('쓸려면', 3630), ('당첨', 3631), ('분하', 3632), ('는대', 3633), ('가정', 3634), ('쓸쓸', 3635), ('썰렁', 3636), ('대하', 3637), ('문젠', 3638), ('계모', 3639), ('시민', 3640), ('주제', 3641), ('깔보', 3642), ('갈비', 3643), ('가진', 3644), ('했으면', 3645), ('덤볐', 3646), ('바란다', 3647), ('얼만', 3648), ('샘플', 3649), ('비상사태', 3650), ('센타', 3651), ('쫓아갈', 3652), ('존심', 3653), ('다쳐', 3654), ('큰아버지', 3655), ('떠오', 3656), ('붓', 3657), ('자야', 3658), ('맺', 3659), ('고통', 3660), ('떨려', 3661), ('낮', 3662), ('알지', 3663), ('사시', 3664), ('혼났', 3665), ('맥', 3666), ('예절', 3667), ('비슷', 3668), ('쌨', 3669), ('을라', 3670), ('올테', 3671), ('오냐오냐', 3672), ('먹여서', 3673), ('여잘', 3674), ('써먹', 3675), ('이틀', 3676), ('차이', 3677), ('지난달', 3678), ('취미', 3679), ('호박', 3680), ('냐구', 3681), ('와유', 3682), ('못쓴다', 3683), ('이날', 3684), ('보여서', 3685), ('계셔', 3686), ('임자', 3687), ('고시원', 3688), ('무턱대고', 3689), ('백만', 3690), ('큰며느리', 3691), ('올께요', 3692), ('들으라고', 3693), ('야식', 3694), ('때린', 3695), ('겠어', 3696), ('무고', 3697), ('간분', 3698), ('충분히', 3699), ('욕실', 3700), ('구해야', 3701), ('걸려서', 3702), ('섭하', 3703), ('화끈', 3704), ('죽인', 3705), ('관심', 3706), ('외', 3707), ('약오르', 3708), ('귀뜸', 3709), ('못한', 3710), ('쒀서', 3711), ('볼께', 3712), ('임', 3713), ('주저앉', 3714), ('읍시다', 3715), ('추가', 3716), ('얼맙니까', 3717), ('따박따박', 3718), ('혹은', 3719), ('도전', 3720), ('먹히', 3721), ('놀이', 3722), ('환경', 3723), ('그럴지', 3724), ('한가', 3725), ('진도', 3726), ('장내', 3727), ('흉보', 3728), ('자체', 3729), ('독서실', 3730), ('두목', 3731), ('쬐끔', 3732), ('여그', 3733), ('신다면서요', 3734), ('표창장', 3735), ('이만', 3736), ('장난감', 3737), ('바란', 3738), ('백수', 3739), ('뒷모습', 3740), ('슈퍼', 3741), ('영손', 3742), ('야채샐러드', 3743), ('한상', 3744), ('관장', 3745), ('살그머니', 3746), ('에워싸', 3747), ('매니큐어', 3748), ('뚝뚝', 3749), ('경차', 3750), ('싱크대', 3751), ('원룸', 3752), ('천정', 3753), ('어슬렁대', 3754), ('뒤척이', 3755), ('륵', 3756), ('에버랜드', 3757), ('휘둥그레', 3758), ('만원', 3759), ('노예', 3760), ('팩', 3761), ('넙죽', 3762), ('비서', 3763), ('흡족', 3764), ('반짇고리', 3765), ('빡빡', 3766), ('살며시', 3767), ('상장', 3768), ('흥정', 3769), ('엘리스', 3770), ('미끄덩', 3771), ('아이쿠', 3772), ('튀어나온', 3773), ('등짝', 3774), ('휘파람', 3775), ('동', 3776), ('벌기', 3777), ('봅니다', 3778), ('드러운', 3779), ('자격', 3780), ('터졌', 3781), ('가져', 3782), ('본데', 3783), ('드라이', 3784), ('내아', 3785), ('시위', 3786), ('잃', 3787), ('터져서', 3788), ('안건', 3789), ('야야', 3790), ('백배', 3791), ('천배', 3792), ('어긴', 3793), ('일르', 3794), ('대형', 3795), ('물러', 3796), ('접근', 3797), ('몽둥이', 3798), ('겁내', 3799), ('든다', 3800), ('지독', 3801), ('통보', 3802), ('상도동', 3803), ('딸꾹', 3804), ('아파요', 3805), ('고집', 3806), ('분란', 3807), ('까꿍', 3808), ('그럽시다', 3809), ('시상', 3810), ('감출', 3811), ('이보세요', 3812), ('숙제', 3813), ('생겼으면', 3814), ('놀려요', 3815), ('내뱉', 3816), ('단단히', 3817), ('산지', 3818), ('자주', 3819), ('쌘', 3820), ('건가요', 3821), ('찾아올', 3822), ('코', 3823), ('술집', 3824), ('수감', 3825), ('날개', 3826), ('쌩까', 3827), ('미용실', 3828), ('분별', 3829), ('올려고', 3830), ('용하', 3831), ('모임', 3832), ('갑', 3833), ('머리카락', 3834), ('질리', 3835), ('날렸', 3836), ('눈앞', 3837), ('라는디', 3838), ('대상', 3839), ('그럽니다', 3840), ('계약', 3841), ('꽤', 3842), ('주선', 3843), ('생일', 3844), ('미처', 3845), ('일어날', 3846), ('멋대가리', 3847), ('수입', 3848), ('서둘러', 3849), ('하객', 3850), ('속도', 3851), ('연', 3852), ('내비쳐', 3853), ('의지', 3854), ('돈돈', 3855), ('안다니', 3856), ('조치', 3857), ('소집', 3858), ('연결', 3859), ('걸레통', 3860), ('아닌가', 3861), ('당해야', 3862), ('신다면', 3863), ('대세', 3864), ('히', 3865), ('내조', 3866), ('그깟', 3867), ('유원', 3868), ('충고', 3869), ('찔러', 3870), ('소나', 3871), ('간다니', 3872), ('편해서', 3873), ('부릴', 3874), ('어지간히', 3875), ('관련', 3876), ('유달리', 3877), ('이래야', 3878), ('아무케나', 3879), ('시늉', 3880), ('져야', 3881), ('점점', 3882), ('목', 3883), ('헬스클럽', 3884), ('셨으니', 3885), ('엄한', 3886), ('커져서', 3887), ('못써요', 3888), ('시집간', 3889), ('이룬', 3890), ('타령', 3891), ('사회생활', 3892), ('지났', 3893), ('줄라고', 3894), ('대개', 3895), ('잇', 3896), ('놀러오', 3897), ('시킨다', 3898), ('막판', 3899), ('만난다', 3900), ('호호호', 3901), ('올거', 3902), ('좁아터진', 3903), ('징계', 3904), ('그딴', 3905), ('출출', 3906), ('의견', 3907), ('삐져', 3908), ('으라구', 3909), ('작살', 3910), ('어선', 3911), ('신발', 3912), ('딸내미', 3913), ('찾아와', 3914), ('재건축', 3915), ('아아', 3916), ('정말로', 3917), ('보통내기', 3918), ('통해서', 3919), ('꺼지', 3920), ('마주치', 3921), ('오지마', 3922), ('눈치채', 3923), ('들통나', 3924), ('혈압', 3925), ('갸', 3926), ('뭐요', 3927), ('뺏겼', 3928), ('애써', 3929), ('기는요', 3930), ('칭찬', 3931), ('지에미', 3932), ('여편네', 3933), ('탐문', 3934), ('디야', 3935), ('댁', 3936), ('침해', 3937), ('고는', 3938), ('이쁜지', 3939), ('그려서', 3940), ('찾아와서', 3941), ('야속', 3942), ('다녀와요', 3943), ('왕자', 3944), ('노름', 3945), ('이방', 3946), ('장만', 3947), ('받아들일', 3948), ('맞장뜨', 3949), ('질려고', 3950), ('빨아먹', 3951), ('잡아먹', 3952), ('영어', 3953), ('온댔', 3954), ('사명감', 3955), ('펼치', 3956), ('끝장', 3957), ('버티', 3958), ('기다려요', 3959), ('자금', 3960), ('바쳤', 3961), ('자연산', 3962), ('습관', 3963), ('떠벌리', 3964), ('모신', 3965), ('판단', 3966), ('해줘도', 3967), ('별건', 3968), ('엉덩이', 3969), ('지팡이', 3970), ('월세', 3971), ('털어놓', 3972), ('어색', 3973), ('쉬엄쉬엄', 3974), ('유분', 3975), ('수지', 3976), ('절루', 3977), ('졸이', 3978), ('이라고', 3979), ('더냐', 3980), ('찌른', 3981), ('뜻대로', 3982), ('탕수육', 3983), ('납시', 3984), ('얼씨구나', 3985), ('식탐', 3986), ('이론', 3987), ('지원', 3988), ('부자', 3989), ('마치', 3990), ('달달', 3991), ('뺀', 3992), ('위아래', 3993), ('불러요', 3994), ('씬', 3995), ('윗', 3996), ('불러내', 3997), ('변호사', 3998), ('개망신', 3999), ('당사자', 4000), ('표현', 4001), ('붙들', 4002), ('몰랐다', 4003), ('전처', 4004), ('가계부', 4005), ('찡하', 4006), ('견뎌', 4007), ('그따위', 4008), ('래치', 4009), ('낸다고', 4010), ('접어주', 4011), ('확고', 4012), ('뒤져도', 4013), ('말랐', 4014), ('치욕', 4015), ('될려고', 4016), ('그길로', 4017), ('화났', 4018), ('도울', 4019), ('누룽지', 4020), ('여리', 4021), ('착해', 4022), ('난린데', 4023), ('갖춰', 4024), ('다독여', 4025), ('어떻든', 4026), ('부분', 4027), ('어렸', 4028), ('나온다고', 4029), ('기다려줄', 4030), ('집구', 4031), ('성의', 4032), ('숟가락', 4033), ('달려', 4034), ('기척', 4035), ('따러', 4036), ('현금', 4037), ('날랐', 4038), ('진대', 4039), ('건질', 4040), ('밑천', 4041), ('가신', 4042), ('온다니까', 4043), ('내놨', 4044), ('된통', 4045), ('그럴까봐', 4046), ('져서', 4047), ('달리', 4048), ('까져', 4049), ('농담삼', 4050), ('달라지', 4051), ('긴요', 4052), ('습디다', 4053), ('참석', 4054), ('빗나가', 4055), ('키운', 4056), ('꽃뱀', 4057), ('께요', 4058), ('얄밉', 4059), ('해안', 4060), ('신종', 4061), ('생각혀', 4062), ('투입', 4063), ('공권력', 4064), ('교체', 4065), ('스무', 4066), ('달라요', 4067), ('여서', 4068), ('만져', 4069), ('구실', 4070), ('적극', 4071), ('삘만', 4072), ('는다면서요', 4073), ('사전', 4074), ('모릅니다', 4075), ('밥맛', 4076), ('미터', 4077), ('실려면', 4078), ('풀렸', 4079), ('막막', 4080), ('손실', 4081), ('징', 4082), ('한발', 4083), ('갈라섰', 4084), ('강력계', 4085), ('애정', 4086), ('지긋지긋', 4087), ('떨어져서', 4088), ('일절', 4089), ('동산', 4090), ('이인삼각', 4091), ('갔으면', 4092), ('촌', 4093), ('으니까요', 4094), ('털래털래', 4095), ('기간', 4096), ('스트레칭', 4097), ('으실까', 4098), ('인물', 4099), ('무서웠', 4100), ('여시', 4101), ('나와라', 4102), ('못혀', 4103), ('환해', 4104), ('라니까요', 4105), ('그런다며', 4106), ('끌려', 4107), ('대표', 4108), ('돌려야', 4109), ('뛰어놀', 4110), ('물정', 4111), ('몰라주', 4112), ('볼라고', 4113), ('얼', 4114), ('사유', 4115), ('야겠다', 4116), ('댕이', 4117), ('생명', 4118), ('지장', 4119), ('질린', 4120), ('들이', 4121), ('달러', 4122), ('발목', 4123), ('댕긴', 4124), ('보여야', 4125), ('경찰청', 4126), ('빠진', 4127), ('얻어맞', 4128), ('난다는', 4129), ('바쳐', 4130), ('믿음', 4131), ('내탓이', 4132), ('센스', 4133), ('닳', 4134), ('완전히', 4135), ('캥기', 4136), ('미운', 4137), ('발달', 4138), ('문제지', 4139), ('석죽', 4140), ('뺐', 4141), ('걸려도', 4142), ('다행히', 4143), ('시일', 4144), ('세계', 4145), ('반성', 4146), ('허드레', 4147), ('상무', 4148), ('인겨', 4149), ('남아나', 4150), ('조건', 4151), ('음주운전', 4152), ('말릴', 4153), ('염치없', 4154), ('나부', 4155), ('해줘', 4156), ('은가', 4157), ('패스', 4158), ('올라앉', 4159), ('따져', 4160), ('숟갈', 4161), ('비번', 4162), ('안정', 4163), ('더군요', 4164), ('가려서', 4165), ('안달', 4166), ('사거리', 4167), ('한단', 4168), ('댕길', 4169), ('상반기', 4170), ('대놓고', 4171), ('간절히', 4172), ('운전대', 4173), ('잡지', 4174), ('자빠져서', 4175), ('깽판', 4176), ('주고', 4177), ('신댔', 4178), ('따를', 4179), ('쫓겨날', 4180), ('재빠르', 4181), ('민폐', 4182), ('저질러', 4183), ('욕할', 4184), ('시끄러워', 4185), ('까다로와', 4186), ('취하', 4187), ('고마운', 4188), ('출세', 4189), ('성공', 4190), ('계급장', 4191), ('틀', 4192), ('내민', 4193), ('휴지', 4194), ('줄려', 4195), ('띵', 4196), ('셔츠', 4197), ('훌쩍', 4198), ('대리', 4199), ('나간다', 4200), ('불불', 4201), ('전화벨', 4202), ('나갈려고', 4203), ('뒷걸음질', 4204), ('힐끔', 4205), ('대장', 4206), ('의경', 4207), ('경례', 4208), ('뻘뻘', 4209), ('묻혀', 4210), ('점잖', 4211), ('중국집', 4212), ('고무장갑', 4213), ('세제', 4214), ('건들대', 4215), ('먼데', 4216), ('아침상', 4217), ('창', 4218), ('스키', 4219), ('야간', 4220), ('조명', 4221), ('아름답', 4222), ('험악', 4223), ('백주', 4224), ('안도', 4225), ('본채', 4226), ('심호흡', 4227), ('음성', 4228), ('처먹', 4229), ('그랬음', 4230), ('개월', 4231), ('두고두고', 4232), ('소화', 4233), ('돕', 4234), ('선수', 4235), ('팀원', 4236), ('별거', 4237), ('들렀', 4238), ('살려', 4239), ('거꾸로', 4240), ('아주머니', 4241), ('쐬', 4242), ('작정', 4243), ('사위', 4244), ('차지', 4245), ('위하', 4246), ('발령장', 4247), ('한데요', 4248), ('첫날밤', 4249), ('리', 4250), ('혼난다', 4251), ('정해', 4252), ('내방', 4253), ('계획', 4254), ('무서운', 4255), ('포즈', 4256), ('라셔', 4257), ('터미널', 4258), ('진행', 4259), ('재판', 4260), ('어쨌', 4261), ('아녀', 4262), ('시집살이', 4263), ('똥', 4264), ('오줌', 4265), ('나무', 4266), ('쫓아왔', 4267), ('짓거리', 4268), ('질색', 4269), ('막히', 4270), ('사식', 4271), ('을걸', 4272), ('고치', 4273), ('이태리', 4274), ('까졌', 4275), ('최선', 4276), ('시위대', 4277), ('다기', 4278), ('놔라', 4279), ('양심', 4280), ('언닌', 4281), ('빚쟁이', 4282), ('볼래', 4283), ('된다면', 4284), ('진땀', 4285), ('줍', 4286), ('삘', 4287), ('방금', 4288), ('실적', 4289), ('고쳐', 4290), ('방해', 4291), ('찻집', 4292), ('약사', 4293), ('경험', 4294), ('주전자', 4295), ('표', 4296), ('약점', 4297), ('찬바람', 4298), ('부러워서', 4299), ('내린다', 4300), ('쥐', 4301), ('양쪽', 4302), ('건너', 4303), ('갈라서', 4304), ('잡히', 4305), ('현', 4306), ('날치기', 4307), ('는대서', 4308), ('뭉갠', 4309), ('모범경찰', 4310), ('수여', 4311), ('곈데', 4312), ('욕심나', 4313), ('고집불통', 4314), ('냅', 4315), ('온도', 4316), ('애먹', 4317), ('본지', 4318), ('축하주', 4319), ('때래잡', 4320), ('을라면', 4321), ('중계방송', 4322), ('떠라', 4323), ('방망', 4324), ('지팡', 4325), ('준다구요', 4326), ('기둥', 4327), ('깨울', 4328), ('넘친다', 4329), ('알콩달콩', 4330), ('스펠링', 4331), ('부쳐서', 4332), ('주번', 4333), ('당번', 4334), ('월요일', 4335), ('교장', 4336), ('연설', 4337), ('쓰러져서', 4338), ('고장나', 4339), ('알리바', 4340), ('용어', 4341), ('낼모레', 4342), ('래면', 4343), ('꾸며', 4344), ('약장사', 4345), ('버려요', 4346), ('메치', 4347), ('둘러치', 4348), ('못내', 4349), ('논지', 4350), ('못해요', 4351), ('소꿉장난', 4352), ('집사', 4353), ('사서', 4354), ('영감탱이', 4355), ('구청장', 4356), ('주무신다', 4357), ('어머머', 4358), ('유소', 4359), ('쟁', 4360), ('조카사위', 4361), ('후원', 4362), ('내무부', 4363), ('장관', 4364), ('부러워요', 4365), ('한곡', 4366), ('말달리', 4367), ('홀', 4368), ('이뻐서', 4369), ('어리버리', 4370), ('초짜', 4371), ('한참', 4372), ('일테', 4373), ('극진', 4374), ('해물탕', 4375), ('봐왔', 4376), ('마트', 4377), ('재래', 4378), ('맞붙', 4379), ('단기', 4380), ('속성', 4381), ('박살내', 4382), ('보관', 4383), ('취해서', 4384), ('마실', 4385), ('무서운데', 4386), ('온대', 4387), ('어째야', 4388), ('헹구', 4389), ('옷걸이', 4390), ('미래', 4391), ('으신다', 4392), ('보입니까', 4393), ('부여', 4394), ('말기', 4395), ('비로소', 4396), ('돌아봤', 4397), ('비긴', 4398), ('국과수', 4399), ('의뢰', 4400), ('지문', 4401), ('감식', 4402), ('미용', 4403), ('황당', 4404), ('츄', 4405), ('고쳐요', 4406), ('별것', 4407), ('온겁니다', 4408), ('실려구', 4409), ('달성', 4410), ('인요', 4411), ('올라갔', 4412), ('운지', 4413), ('임금', 4414), ('부귀영화', 4415), ('세배', 4416), ('얏', 4417), ('위독', 4418), ('놀려도', 4419), ('계탕', 4420), ('을려다', 4421), ('절호', 4422), ('찬스', 4423), ('으실지', 4424), ('바쳐야', 4425), ('못해서', 4426), ('풀어질', 4427), ('들오라', 4428), ('지긋지긋하', 4429), ('훨훨', 4430), ('살아남', 4431), ('내짐', 4432), ('올라면', 4433), ('트럭', 4434), ('모지라', 4435), ('기유', 4436), ('들어와요', 4437), ('으라며', 4438), ('담보', 4439), ('마구잡이', 4440), ('생사람', 4441), ('간섭', 4442), ('로버트', 4443), ('씨부려', 4444), ('지껄이', 4445), ('짱나', 4446), ('까뒤집', 4447), ('여쭤', 4448), ('내놔봐요', 4449), ('애걸복걸', 4450), ('실까요', 4451), ('다저녁때', 4452), ('벌릴', 4453), ('꼴려서', 4454), ('돌린다고', 4455), ('즈이', 4456), ('덕대', 4457), ('변한', 4458), ('변해서', 4459), ('차였', 4460), ('끝났', 4461), ('급해서', 4462), ('제법', 4463), ('총명', 4464), ('막걸리', 4465), ('호적수', 4466), ('계산기', 4467), ('두들기', 4468), ('금물', 4469), ('낸다', 4470), ('대해선', 4471), ('멋모르고', 4472), ('어린놈', 4473), ('악명', 4474), ('실없', 4475), ('죽일', 4476), ('번건', 4477), ('우려낸', 4478), ('남기', 4479), ('큰돈', 4480), ('구치소', 4481), ('변사체', 4482), ('끼칠', 4483), ('돌볼', 4484), ('데려와서', 4485), ('따라서', 4486), ('쥔집', 4487), ('큰딸', 4488), ('된겨', 4489), ('뚝딱', 4490), ('사갈', 4491), ('빗발친다', 4492), ('까나', 4493), ('엊저녁', 4494), ('어지러우', 4495), ('오백', 4496), ('출', 4497), ('세고', 4498), ('튼실', 4499), ('목욕탕', 4500), ('김주상', 4501), ('304', 4502), ('응급', 4503), ('달째', 4504), ('받쳐서', 4505), ('끝낸다', 4506), ('기차', 4507), ('빼돌렸', 4508), ('생겼으니', 4509), ('내팽개치', 4510), ('처자식', 4511), ('자래', 4512), ('구구', 4513), ('절절히', 4514), ('옳', 4515), ('줍디다', 4516), ('지속', 4517), ('몰아쳐', 4518), ('노숙', 4519), ('일자리', 4520), ('알아본다고', 4521), ('셈', 4522), ('맡겨서', 4523), ('남두', 4524), ('갈까봐', 4525), ('첨부', 4526), ('열중', 4527), ('따라다녔', 4528), ('친히', 4529), ('뛰어올', 4530), ('드라니까', 4531), ('옮겨야', 4532), ('어린이', 4533), ('줄려구', 4534), ('치가', 4535), ('놔둘', 4536), ('다른데', 4537), ('답사', 4538), ('유럽', 4539), ('짓물렀', 4540), ('난다더니', 4541), ('해보인다', 4542), ('일인자', 4543), ('총장', 4544), ('반드시', 4545), ('용납', 4546), ('풀려', 4547), ('줄라', 4548), ('흐', 4549), ('동물', 4550), ('동물원', 4551), ('허파', 4552), ('실성', 4553), ('쪼개', 4554), ('산통', 4555), ('졌잖아', 4556), ('대드라', 4557), ('잘살', 4558), ('들을려고', 4559), ('아신다', 4560), ('프라이버시', 4561), ('융자', 4562), ('기다려야지', 4563), ('말뚝', 4564), ('깜짝쇼', 4565), ('세미', 4566), ('어땠어', 4567), ('세미나', 4568), ('공장', 4569), ('밤샜', 4570), ('담날', 4571), ('발딱발딱', 4572), ('직감', 4573), ('장지', 4574), ('뜬구름', 4575), ('그래에', 4576), ('배려', 4577), ('최악', 4578), ('눈치챘', 4579), ('타이밍', 4580), ('더라면', 4581), ('수월', 4582), ('온다면', 4583), ('낙엽', 4584), ('찔기', 4585), ('찔', 4586), ('숙', 4587), ('장닭', 4588), ('깔려서', 4589), ('올라왔', 4590), ('평소', 4591), ('골방', 4592), ('자린데', 4593), ('주라', 4594), ('불러라', 4595), ('브리핑', 4596), ('매출', 4597), ('순수익', 4598), ('성수기', 4599), ('비수', 4600), ('긴지', 4601), ('인정사정', 4602), ('호칭', 4603), ('전무', 4604), ('돼야지', 4605), ('직함', 4606), ('시찰', 4607), ('생각났', 4608), ('수요', 4609), ('받치', 4610), ('휘감', 4611), ('파고', 4612), ('도씨', 4613), ('손바닥', 4614), ('때려도', 4615), ('물드', 4616), ('룬', 4617), ('뽕뽕', 4618), ('핑핑', 4619), ('번짼', 4620), ('정답', 4621), ('착해서', 4622), ('하이구야', 4623), ('착한', 4624), ('달라붙', 4625), ('거들떠', 4626), ('승자', 4627), ('로서', 4628), ('패자', 4629), ('연적', 4630), ('잔인', 4631), ('트러블', 4632), ('즉석', 4633), ('지날수록', 4634), ('강해서', 4635), ('부러졌', 4636), ('휘어지', 4637), ('달려올', 4638), ('따위', 4639), ('상환', 4640), ('십시다', 4641), ('브이아이피', 4642), ('나긋나긋', 4643), ('착착', 4644), ('배겨', 4645), ('미투', 4646), ('언젠간', 4647), ('변할', 4648), ('장담', 4649), ('변하', 4650), ('타오른', 4651), ('참나무', 4652), ('숯', 4653), ('쓰레기', 4654), ('타올랐', 4655), ('재도', 4656), ('먼지', 4657), ('단단', 4658), ('내세우', 4659), ('두려워', 4660), ('따라올', 4661), ('여길지', 4662), ('설명', 4663), ('원동력', 4664), ('넘긴다', 4665), ('찾아봐야지', 4666), ('숨통', 4667), ('트인다', 4668), ('태양', 4669), ('일수록', 4670), ('10', 4671), ('눈뜰', 4672), ('지레', 4673), ('다잖아', 4674), ('바뀌', 4675), ('최후통첩', 4676), ('일주일', 4677), ('식도', 4678), ('구해요', 4679), ('더래도', 4680), ('살집', 4681), ('놔뒀', 4682), ('는대요', 4683), ('부엌일', 4684), ('식이', 4685), ('땁니다', 4686), ('부턴지', 4687), ('귀담', 4688), ('내려와', 4689), ('힘없이', 4690), ('차려요', 4691), ('박박', 4692), ('긁어모으', 4693), ('쳐야', 4694), ('받아쓰', 4695), ('지나갔', 4696), ('랍니까', 4697), ('펄펄', 4698), ('오붓', 4699), ('이상인', 4700), ('줍니다', 4701), ('배짱', 4702), ('으십', 4703), ('시요', 4704), ('오산', 4705), ('반칙', 4706), ('기다린다', 4707), ('솜', 4708), ('한다는디', 4709), ('얼굴색', 4710), ('투정', 4711), ('끓여졌', 4712), ('만날까', 4713), ('나몰라', 4714), ('유난히', 4715), ('가끔가다', 4716), ('제일', 4717), ('귀부인', 4718), ('흔하', 4719), ('플', 4720), ('잠잠', 4721), ('고아원', 4722), ('중학교', 4723), ('중퇴', 4724), ('오지랖', 4725), ('다니께', 4726), ('까다로우', 4727), ('워딨어', 4728), ('기다릴게요', 4729), ('몰라라', 4730), ('남일', 4731), ('발벗고', 4732), ('나선다', 4733), ('광', 4734), ('빌리', 4735), ('엄청날', 4736), ('보탰', 4737), ('삐진', 4738), ('입디다', 4739), ('벗겨지', 4740), ('화신', 4741), ('갖추', 4742), ('구만리', 4743), ('큰소리치', 4744), ('고쳤으면', 4745), ('속병', 4746), ('두근거리', 4747), ('심장', 4748), ('체한', 4749), ('거둬', 4750), ('떠보', 4751), ('드렸으니', 4752), ('드셔', 4753), ('까라앉', 4754), ('데워', 4755), ('쓴다고', 4756), ('됐으니', 4757), ('훼손', 4758), ('관두', 4759), ('처하', 4760), ('지혜', 4761), ('의리', 4762), ('악착같', 4763), ('찾아볼게', 4764), ('면직', 4765), ('밖엔', 4766), ('불명예', 4767), ('사세요', 4768), ('국문학', 4769), ('영문학', 4770), ('학문', 4771), ('뺏겨', 4772), ('이치', 4773), ('생리', 4774), ('터', 4775), ('감수', 4776), ('목표', 4777), ('특기', 4778), ('돈쓰', 4779), ('유일', 4780), ('챙겼', 4781), ('어린데도', 4782), ('약해서', 4783), ('몬', 4784), ('선뜻', 4785), ('작은형', 4786), ('아파도', 4787), ('안겨', 4788), ('모였', 4789), ('내려온', 4790), ('떠맡기', 4791), ('아무렴', 4792), ('나기', 4793), ('소름', 4794), ('끼쳐', 4795), ('순간순간', 4796), ('멀뚱', 4797), ('쳐다봐', 4798), ('우편', 4799), ('함', 4800), ('챙겨왔', 4801), ('내건', 4802), ('봉식', 4803), ('절실', 4804), ('왈가왈부', 4805), ('찡그리', 4806), ('시어른', 4807), ('말조심', 4808), ('하구', 4809), ('찔렀', 4810), ('때로', 4811), ('정하', 4812), ('날라가', 4813), ('까봐', 4814), ('피했', 4815), ('사주', 4816), ('청자', 4817), ('백자', 4818), ('대대로', 4819), ('가졌', 4820), ('가질지', 4821), ('이을', 4822), ('장손', 4823), ('액정', 4824), ('구입', 4825), ('깬', 4826), ('얕', 4827), ('요점', 4828), ('쥐어박', 4829), ('통사정', 4830), ('글씨', 4831), ('처가댁', 4832), ('부양', 4833), ('드림', 4834), ('폭력', 4835), ('해대서', 4836), ('섭니', 4837), ('합의금', 4838), ('합쳐도', 4839), ('찾아갈테니', 4840), ('스러운데요', 4841), ('벌컥벌컥', 4842), ('연다', 4843), ('역겹', 4844), ('대면', 4845), ('보일', 4846), ('법질서', 4847), ('구별', 4848), ('유기', 4849), ('협력', 4850), ('불법', 4851), ('정확히', 4852), ('반경', 4853), ('보고서', 4854), ('난데', 4855), ('이겨요', 4856), ('그럴게', 4857), ('23', 4858), ('식당가', 4859), ('푸짐', 4860), ('귀가', 4861), ('매진', 4862), ('난방', 4863), ('아껴야', 4864), ('혈세', 4865), ('날릴', 4866), ('하얀', 4867), ('빳빳', 4868), ('다려', 4869), ('벅찬데', 4870), ('냅니까', 4871), ('못합니다', 4872), ('내래', 4873), ('고라도', 4874), ('뺀질뺀질', 4875), ('머리털', 4876), ('뭔진', 4877), ('복닥대', 4878), ('벌어진', 4879), ('노래방', 4880), ('쌍불', 4881), ('덤벼서', 4882), ('젠', 4883), ('안사람', 4884), ('가시방석', 4885), ('문제없', 4886), ('팼', 4887), ('떽', 4888), ('니들', 4889), ('섣불리', 4890), ('요만', 4891), ('웁', 4892), ('마중', 4893), ('엇갈렸', 4894), ('찾아다녔', 4895), ('올까', 4896), ('살아나', 4897), ('16', 4898), ('늘리', 4899), ('방해죄', 4900), ('가볍', 4901), ('요렇게', 4902), ('나와야', 4903), ('썽에', 4904), ('어쩝니까', 4905), ('밥집', 4906), ('으아', 4907), ('에고', 4908), ('잠잘', 4909), ('잡혀온', 4910), ('이박', 4911), ('텐트', 4912), ('열불', 4913), ('청문', 4914), ('횐가', 4915), ('불려', 4916), ('말려도', 4917), ('막혔', 4918), ('하나같이', 4919), ('닭죽', 4920), ('여라', 4921), ('시킬려구', 4922), ('면담', 4923), ('요청', 4924), ('이상일', 4925), ('걜', 4926), ('해논', 4927), ('작업', 4928), ('힘쎄', 4929), ('뛸', 4930), ('른다는게', 4931), ('진담', 4932), ('도배지', 4933), ('쓱쓱', 4934), ('발라서', 4935), ('불미', 4936), ('발등', 4937), ('거지', 4938), ('속일려고', 4939), ('겠기에', 4940), ('니놈', 4941), ('비니', 4942), ('시절', 4943), ('무참히', 4944), ('머물', 4945), ('먹구름', 4946), ('책임져', 4947), ('지울', 4948), ('그땐', 4949), ('사죄', 4950), ('다닌다', 4951), ('염치', 4952), ('퍼센트', 4953), ('뺨', 4954), ('쓰러져', 4955), ('성실', 4956), ('감원', 4957), ('들러', 4958), ('주기', 4959), ('24', 4960), ('군데', 4961), ('뿌수', 4962), ('특공대', 4963), ('긴밀히', 4964), ('투항', 4965), ('팔잔데', 4966), ('건졌', 4967), ('살아났', 4968), ('거길', 4969), ('다쳐서', 4970), ('진다며', 4971), ('영업장', 4972), ('들락날락', 4973), ('한나절', 4974), ('비우', 4975), ('짜른', 4976), ('구린내', 4977), ('실감', 4978), ('절감', 4979), ('올지', 4980), ('비켜간', 4981), ('쉰다는', 4982), ('맹물', 4983), ('취한다', 4984), ('떨어질', 4985), ('서쪽', 4986), ('석양', 4987), ('슬퍼', 4988), ('마쳐서', 4989), ('쐰', 4990), ('왠지', 4991), ('느껴져', 4992), ('호빵', 4993), ('지겨우', 4994), ('거저', 4995), ('생떼', 4996), ('알려야', 4997), ('생겨요', 4998), ('심려', 4999), ('될래요', 5000), ('책임질', 5001), ('반짝반짝', 5002), ('아닙디다', 5003), ('가마떼기', 5004), ('짊', 5005), ('어다가', 5006), ('먹여야', 5007), ('들를', 5008), ('드나드', 5009), ('해봐야', 5010), ('물품', 5011), ('전하', 5012), ('항의', 5013), ('일손', 5014), ('라야지', 5015), ('라디', 5016), ('드문', 5017), ('편복', 5018), ('채릴', 5019), ('재수없', 5020), ('우로', 5021), ('청량리', 5022), ('도끼', 5023), ('섭니다', 5024), ('속풀이', 5025), ('호감', 5026), ('해져', 5027), ('찾아온', 5028), ('내몰', 5029), ('별소릴', 5030), ('미주알고주알', 5031), ('주고받', 5032), ('상해서', 5033), ('들켜야', 5034), ('들켰', 5035), ('랄', 5036), ('몸뚱아리', 5037), ('굴려', 5038), ('씨티', 5039), ('고이', 5040), ('골절', 5041), ('타박상', 5042), ('치료비', 5043), ('입원비', 5044), ('치지는', 5045), ('깔렸', 5046), ('깔린', 5047), ('부딪혔', 5048), ('깔리', 5049), ('오른쪽', 5050), ('가해', 5051), ('그런겨', 5052), ('꺼칠', 5053), ('들러서', 5054), ('원무', 5055), ('부러울', 5056), ('으라니께', 5057), ('고깝', 5058), ('뜸', 5059), ('기둘리', 5060), ('굴러가', 5061), ('유우', 5062), ('건드릴', 5063), ('실려고', 5064), ('마셔라', 5065), ('버릴까요', 5066), ('아까워도', 5067), ('좋아한다', 5068), ('임용', 5069), ('판사', 5070), ('그랬나', 5071), ('조신', 5072), ('톨톨', 5073), ('어지럽', 5074), ('이제사', 5075), ('틈틈이', 5076), ('행방불명', 5077), ('대서', 5078), ('풀려서', 5079), ('나갔으면', 5080), ('마려', 5081), ('군만두', 5082), ('뿌듯', 5083), ('유혹', 5084), ('보람', 5085), ('튿', 5086), ('간첩', 5087), ('샜', 5088), ('공조', 5089), ('졸라서', 5090), ('색다르', 5091), ('맥락', 5092), ('예방', 5093), ('위원', 5094), ('아동', 5095), ('성과', 5096), ('일선', 5097), ('헤헤', 5098), ('부끄러워', 5099), ('밥심', 5100), ('둬야', 5101), ('이긴', 5102), ('싼걸로', 5103), ('이런가', 5104), ('계셔서', 5105), ('다길래', 5106), ('고말', 5107), ('올케', 5108), ('시켜라', 5109), ('해왔', 5110), ('속편', 5111), ('운수', 5112), ('운세', 5113), ('궁상떨', 5114), ('아깐', 5115), ('술안주', 5116), ('불러낼', 5117), ('처박혀', 5118), ('깨미', 5119), ('쳐박혀', 5120), ('내려간', 5121), ('하하', 5122), ('처박혀서', 5123), ('웬수야', 5124), ('부러웠', 5125), ('오라', 5126), ('미우면서도', 5127), ('뻘', 5128), ('갰', 5129), ('길러', 5130), ('옆구리', 5131), ('뿔', 5132), ('뿔면', 5133), ('일겨', 5134), ('미뤄', 5135), ('놨다', 5136), ('외로워서', 5137), ('크기', 5138), ('뿌려', 5139), ('돈방석', 5140), ('이담', 5141), ('해외여행', 5142), ('순진', 5143), ('묘', 5144), ('깔끔', 5145), ('더구만', 5146), ('다닌다면서요', 5147), ('뜨거워', 5148), ('빤짝빤짝', 5149), ('윤기', 5150), ('좌르르', 5151), ('때깔', 5152), ('이미지', 5153), ('달라져야', 5154), ('달라진다고', 5155), ('다릅니까', 5156), ('나빠', 5157), ('질까', 5158), ('처신', 5159), ('키워요', 5160), ('건성건성', 5161), ('보냅시다', 5162), ('이엄', 5163), ('할려니까', 5164), ('이동산', 5165), ('정초', 5166), ('까짓', 5167), ('분노', 5168), ('뛰쳐', 5169), ('아앙', 5170), ('문득', 5171), ('일회용', 5172), ('꾸욱', 5173), ('헐레벌떡', 5174), ('앵', 5175), ('총총', 5176), ('글썽', 5177), ('츄리닝', 5178), ('유턴', 5179), ('쏠려', 5180), ('안긴', 5181), ('핫도그', 5182), ('기어', 5183), ('상것', 5184), ('베개맡', 5185), ('콧노래', 5186), ('광내', 5187), ('든채', 5188), ('우악스레', 5189), ('엎어질', 5190), ('전형', 5191), ('억척', 5192), ('누우', 5193), ('발놀이', 5194), ('춤추', 5195), ('생과일', 5196), ('쪽쪽', 5197), ('각기', 5198), ('방향', 5199), ('세사', 5200), ('블라인드', 5201), ('북', 5202), ('소리나', 5203), ('뛰어내리', 5204), ('앞세워', 5205), ('갸웃', 5206), ('세보', 5207), ('종이컵', 5208), ('물들', 5209), ('상방', 5210), ('앉은뱅이', 5211), ('카메라', 5212), ('가리키', 5213), ('물소리', 5214), ('이어폰', 5215), ('울상', 5216), ('촉대', 5217), ('싣', 5218), ('훑어보', 5219), ('영감', 5220), ('한판', 5221), ('지요', 5222), ('갔다올게', 5223), ('로선', 5224), ('꺼정', 5225), ('감춰', 5226), ('맞딱뜨리', 5227), ('치루', 5228), ('건다', 5229), ('뒷', 5230), ('백화점', 5231), ('혼나', 5232), ('재결합', 5233), ('아드', 5234), ('갔다왔', 5235), ('병나', 5236), ('환장', 5237), ('부상', 5238), ('뛰놀', 5239), ('행여', 5240), ('걘', 5241), ('성적표', 5242), ('한눈', 5243), ('짼', 5244), ('짱', 5245), ('들여', 5246), ('어야죠', 5247), ('뿌', 5248), ('상품', 5249), ('휘발유', 5250), ('누명', 5251), ('아껴', 5252), ('안사돈', 5253), ('오만', 5254), ('방자', 5255), ('을께요', 5256), ('동선', 5257), ('만회', 5258), ('가치', 5259), ('준다면', 5260), ('스키장', 5261), ('부진', 5262), ('굴비', 5263), ('뽀', 5264), ('강', 5265), ('원석', 5266), ('고비', 5267), ('사항', 5268), ('라는데', 5269), ('밤중', 5270), ('탱', 5271), ('일러', 5272), ('간식', 5273), ('토마토', 5274), ('섞인', 5275), ('냈', 5276), ('잔디', 5277), ('넘길', 5278), ('낌새', 5279), ('까딱', 5280), ('싸인', 5281), ('피의자', 5282), ('갈지', 5283), ('삘이팍', 5284), ('집합', 5285), ('겪', 5286), ('티끌', 5287), ('깨졌', 5288), ('재우', 5289), ('팍팍', 5290), ('대변인', 5291), ('편애', 5292), ('말려', 5293), ('동료', 5294), ('둔', 5295), ('나타나', 5296), ('내려요', 5297), ('아시', 5298), ('효도', 5299), ('참나', 5300), ('폼', 5301), ('연필', 5302), ('닥치', 5303), ('저위', 5304), ('욕먹', 5305), ('랴', 5306), ('다칠', 5307), ('무엇', 5308), ('보아하니', 5309), ('근처', 5310), ('흉내', 5311), ('샵', 5312), ('묵', 5313), ('아아아아', 5314), ('후보', 5315), ('뱃속', 5316), ('먹였', 5317), ('데요', 5318), ('탔', 5319), ('꿨', 5320), ('추억', 5321), ('말귀', 5322), ('맡겼', 5323), ('지겨워서', 5324), ('신기', 5325), ('모함', 5326), ('에서부터', 5327), ('민족', 5328), ('드러', 5329), ('건배', 5330), ('었잖', 5331), ('껍데기', 5332), ('익히', 5333), ('지킬', 5334), ('거릴', 5335), ('깜빡', 5336), ('서운', 5337), ('수씨', 5338), ('들어갑니다', 5339), ('시세', 5340), ('태우', 5341), ('멋있', 5342), ('다이어트', 5343), ('내밀', 5344), ('무리', 5345), ('쒀', 5346), ('잡혀', 5347), ('충격', 5348), ('대박', 5349), ('안다고', 5350), ('잡아떼', 5351), ('닭찜', 5352), ('직', 5353), ('상갓집', 5354), ('도망', 5355), ('벌서', 5356), ('열렬히', 5357), ('야단', 5358), ('뻐꾸기', 5359), ('스프', 5360), ('꺾', 5361), ('악', 5362), ('부수', 5363), ('관탕', 5364), ('건장', 5365), ('막아선다', 5366), ('충청도', 5367), ('휘이', 5368), ('승객', 5369), ('막혀', 5370), ('밀린다', 5371), ('아랑곳없이', 5372), ('폼잡', 5373), ('재빨리', 5374), ('벌려', 5375), ('털썩', 5376), ('갯', 5377), ('당겨', 5378), ('헝클어지', 5379), ('할려', 5380), ('구급차', 5381), ('기막혀', 5382), ('무심결', 5383), ('돌아누운', 5384), ('앞장선', 5385), ('향하', 5386), ('문지르', 5387), ('우지', 5388), ('뛰어나와', 5389), ('삘받아', 5390), ('난도', 5391), ('웨딩', 5392), ('밀어내', 5393), ('대학교', 5394), ('이까짓', 5395), ('아픈데', 5396), ('죄짓', 5397), ('유부남', 5398), ('복수', 5399), ('길목', 5400), ('연애질', 5401), ('거진', 5402), ('다정', 5403), ('그런다니', 5404), ('들키', 5405), ('손해', 5406), ('예비', 5407), ('모여서', 5408), ('이왕이면', 5409), ('홀가분', 5410), ('꺼뻑', 5411), ('깡', 5412), ('효과', 5413), ('부드럽', 5414), ('패물', 5415), ('메롱', 5416), ('출퇴근', 5417), ('멋져', 5418), ('찧', 5419), ('가해자', 5420), ('떠난', 5421), ('바깥일', 5422), ('내배', 5423), ('곧', 5424), ('집게', 5425), ('턴', 5426), ('존댓말', 5427), ('지냈', 5428), ('정보망', 5429), ('야단맞', 5430), ('깰', 5431), ('석', 5432), ('밀렸', 5433), ('쏙', 5434), ('생겨서', 5435), ('어려', 5436), ('방방', 5437), ('산소', 5438), ('어우', 5439), ('못한다', 5440), ('꽃', 5441), ('넨', 5442), ('뜬', 5443), ('욕봤', 5444), ('겁나게', 5445), ('익', 5446), ('무전', 5447), ('부러우', 5448), ('떠넘기', 5449), ('솟', 5450), ('봐줄', 5451), ('시원찮', 5452), ('아메리칸', 5453), ('따라오', 5454), ('시험', 5455), ('진심', 5456), ('뭉개', 5457), ('무사히', 5458), ('언뜻', 5459), ('쓰여', 5460), ('저지르', 5461), ('벌벌', 5462), ('끌어안', 5463), ('지휘', 5464), ('발길', 5465), ('김건', 5466), ('가을', 5467), ('소풍', 5468), ('기억나', 5469), ('확보', 5470), ('부킹', 5471), ('어지간', 5472), ('검문', 5473), ('어허', 5474), ('특단', 5475), ('물어볼', 5476), ('묵비', 5477), ('짐작', 5478), ('나름', 5479), ('놨는데', 5480), ('이래도', 5481), ('우릴', 5482), ('당근', 5483), ('어려도', 5484), ('쌈', 5485), ('어떤지', 5486), ('주물러', 5487), ('구녕', 5488), ('풀릴', 5489), ('야박', 5490), ('신데요', 5491), ('갈껴', 5492), ('당한', 5493), ('굽', 5494), ('상대방', 5495), ('딱감', 5496), ('일본', 5497), ('모아', 5498), ('하나하나', 5499), ('계십니다', 5500), ('통수', 5501), ('알아듣', 5502), ('휴가', 5503), ('고프', 5504), ('해졌', 5505), ('눈알', 5506), ('소원', 5507), ('빠삭', 5508), ('에라이', 5509), ('초라', 5510), ('이익', 5511), ('갈려면', 5512), ('총각', 5513), ('앞뒤', 5514), ('아부질', 5515), ('설', 5516), ('할래요', 5517), ('잔다고', 5518), ('잡힌', 5519), ('가시', 5520), ('그럴게요', 5521), ('뜨끈뜨끈', 5522), ('퉁퉁', 5523), ('쫄', 5524), ('쿨', 5525), ('물려받', 5526), ('청장', 5527), ('넘어갑시다', 5528), ('궈', 5529), ('호텔', 5530), ('불러냈', 5531), ('남인', 5532), ('진압', 5533), ('마마보이', 5534), ('손위', 5535), ('무지', 5536), ('미리미리', 5537), ('따귀', 5538), ('군기', 5539), ('올께', 5540), ('통신', 5541), ('달린', 5542), ('입력', 5543), ('공항', 5544), ('헛', 5545), ('관절', 5546), ('들여다', 5547), ('일억', 5548), ('사채', 5549), ('오후', 5550), ('가만두', 5551), ('삐지', 5552), ('텐데요', 5553), ('하드', 5554), ('복원', 5555), ('000', 5556), ('왔으니', 5557), ('정황', 5558), ('실갱이', 5559), ('부딪힐', 5560), ('그런대로', 5561), ('차려서', 5562), ('쌈박질', 5563), ('종일', 5564), ('이래뵈', 5565), ('아우', 5566), ('신혼집', 5567), ('취직자리', 5568), ('거라', 5569), ('합류', 5570), ('셋방', 5571), ('철저', 5572), ('부턴', 5573), ('다녀올께요', 5574), ('뚜껑', 5575), ('연기', 5576), ('때려요', 5577), ('퍼', 5578), ('망치', 5579), ('소린데', 5580), ('흰자', 5581), ('업혀', 5582), ('익숙', 5583), ('문젠데', 5584), ('된대요', 5585), ('막힌', 5586), ('거절', 5587), ('도덕', 5588), ('덤벼', 5589), ('낄', 5590), ('천둥', 5591), ('그만둬', 5592), ('야죠', 5593), ('하행선', 5594), ('계셨', 5595), ('자구요', 5596), ('주무실', 5597), ('납니다', 5598), ('준대요', 5599), ('길바닥', 5600), ('을려면', 5601), ('대처', 5602), ('못허', 5603), ('안타까워서', 5604), ('모으', 5605), ('해줄까', 5606), ('굳', 5607), ('차릴', 5608), ('헤쳐', 5609), ('젓가락', 5610), ('아팠', 5611), ('때우', 5612), ('올까요', 5613), ('한다면', 5614), ('긴말', 5615), ('남남', 5616), ('뼈', 5617), ('이달', 5618), ('압수', 5619), ('내놔', 5620), ('처분', 5621), ('깼', 5622), ('혜택', 5623), ('안해', 5624), ('점심때', 5625), ('식빵', 5626), ('쫓아다니', 5627), ('무치', 5628), ('떡', 5629), ('여보', 5630), ('동태', 5631), ('통박', 5632), ('목욕', 5633), ('특별', 5634), ('이세상', 5635), ('부분데', 5636), ('바꿔서', 5637), ('이만저만', 5638), ('춥', 5639), ('밀리', 5640), ('환상', 5641), ('배신', 5642), ('을껴', 5643), ('귀경', 5644), ('아래', 5645), ('못할', 5646), ('잘사', 5647), ('코앞', 5648), ('파스', 5649), ('취해야', 5650), ('여우', 5651), ('회원', 5652), ('키워놨', 5653), ('구해', 5654), ('차원', 5655), ('기어이', 5656), ('을지', 5657), ('맺힌', 5658), ('소리지르', 5659), ('텅', 5660), ('울려도', 5661), ('찜질', 5662), ('꿈틀대', 5663), ('힐끔대', 5664), ('시침', 5665), ('가려', 5666), ('수화기', 5667), ('부르르', 5668), ('털석', 5669), ('멈춘다', 5670), ('밀려와', 5671), ('스카프', 5672), ('다소', 5673), ('화려', 5674), ('초인종', 5675), ('기막히', 5676), ('묶인', 5677), ('전봇대', 5678), ('드린다고', 5679), ('간장', 5680), ('슥슥', 5681), ('비벼서', 5682), ('통째', 5683), ('뒤따라오', 5684), ('뚱', 5685), ('녀', 5686), ('스쳐지나간다', 5687), ('끼익', 5688), ('휘둥그레지', 5689), ('둘레', 5690), ('시설', 5691), ('걸쳐', 5692), ('스타킹', 5693), ('운동복', 5694), ('소주병', 5695), ('옷자락', 5696), ('호흡', 5697), ('통과', 5698), ('로봇', 5699), ('자안', 5700), ('매달려', 5701), ('신난', 5702), ('두세', 5703), ('타로', 5704), ('점보', 5705), ('미모', 5706), ('헬', 5707), ('맷', 5708), ('적힌', 5709), ('쪼그라드', 5710), ('밀쳐', 5711), ('일으키', 5712), ('계약서', 5713), ('대여섯', 5714), ('보온병', 5715), ('불개', 5716), ('치운', 5717), ('303', 5718), ('이럼', 5719), ('쉰', 5720), ('이럴바엔', 5721), ('추석', 5722), ('소매치기', 5723), ('뜹시다', 5724), ('장녀', 5725), ('징징', 5726), ('이런다고', 5727), ('집니까', 5728), ('해치우', 5729), ('갈테', 5730), ('여차저차', 5731), ('서유', 5732), ('담배', 5733), ('괴롭', 5734), ('말아먹', 5735), ('건드렸다간', 5736), ('벼', 5737), ('렸', 5738), ('더러운', 5739), ('어떨지', 5740), ('소문', 5741), ('검경', 5742), ('합동', 5743), ('쫄따구', 5744), ('버린다', 5745), ('고마워서', 5746), ('빌려간', 5747), ('의외', 5748), ('체포영장', 5749), ('모자라', 5750), ('갈수록', 5751), ('시아주버님', 5752), ('얼씬', 5753), ('약해', 5754), ('옷차림', 5755), ('덩달', 5756), ('샌다', 5757), ('어딥니까', 5758), ('부득이', 5759), ('부자연', 5760), ('질일', 5761), ('중심', 5762), ('때려쳐', 5763), ('기록', 5764), ('치뤘', 5765), ('속여요', 5766), ('내놔요', 5767), ('꼼장어에', 5768), ('민간', 5769), ('볼테', 5770), ('등치', 5771), ('뗐', 5772), ('모셔', 5773), ('바래', 5774), ('불리', 5775), ('피해자', 5776), ('더구나', 5777), ('인터넷', 5778), ('쓴다', 5779), ('숨겨', 5780), ('말썽', 5781), ('깡패', 5782), ('체했', 5783), ('느닷없이', 5784), ('얼매나', 5785), ('갈라진다', 5786), ('홍삼', 5787), ('경제', 5788), ('급허', 5789), ('내놔야', 5790), ('담부', 5791), ('해드려', 5792), ('멀리서', 5793), ('깨소금', 5794), ('화내', 5795), ('갑시다', 5796), ('가구', 5797), ('부렸', 5798), ('보안', 5799), ('거래처', 5800), ('금수장', 5801), ('살인', 5802), ('발부', 5803), ('모셨으면', 5804), ('마주쳐도', 5805), ('김상태', 5806), ('나갈게', 5807), ('끌어온', 5808), ('무사', 5809), ('폈', 5810), ('천하', 5811), ('갔다온', 5812), ('두드리', 5813), ('볏단', 5814), ('더럽', 5815), ('먹혀', 5816), ('넘어갈', 5817), ('마흔', 5818), ('챙겨서', 5819), ('노리', 5820), ('앞면', 5821), ('뒷면', 5822), ('싫증', 5823), ('내편', 5824), ('칩니다', 5825), ('긴급', 5826), ('그나저나', 5827), ('첩보', 5828), ('샌', 5829), ('란다', 5830), ('맞춘', 5831), ('뒤집어쓰', 5832), ('편해요', 5833), ('흔들리', 5834), ('금', 5835), ('오호', 5836), ('약하', 5837), ('밝히', 5838), ('뭐한', 5839), ('친데', 5840), ('세유', 5841), ('소용', 5842), ('발전', 5843), ('신임', 5844), ('단순히', 5845), ('치워', 5846), ('떠봐', 5847), ('타요', 5848), ('미워하', 5849), ('따라다니', 5850), ('순전히', 5851), ('도졌', 5852), ('뜯어먹', 5853), ('뉘우치', 5854), ('짰', 5855), ('신다구요', 5856), ('뿅가', 5857), ('영혼', 5858), ('취향', 5859), ('나마', 5860), ('암호', 5861), ('빠질', 5862), ('어떡할래', 5863), ('걸치', 5864), ('유치', 5865), ('꿈꿀', 5866), ('너스', 5867), ('부하', 5868), ('융통', 5869), ('입감', 5870), ('덧나', 5871), ('이탈자', 5872), ('뻔뻔', 5873), ('잃어버렸', 5874), ('들렸', 5875), ('죄지', 5876), ('위험', 5877), ('씌우', 5878), ('어려워하', 5879), ('윷놀이', 5880), ('극비', 5881), ('따님', 5882), ('해놨', 5883), ('대뜸', 5884), ('스포츠센터', 5885), ('대나', 5886), ('푸닥거리', 5887), ('이랬', 5888), ('저럴', 5889), ('저랬', 5890), ('치킨', 5891), ('차려라', 5892), ('허드렛일', 5893), ('내줄', 5894), ('할걸', 5895), ('거래', 5896), ('이럴래', 5897), ('진단서', 5898), ('선입견', 5899), ('쟁이', 5900), ('자격지심', 5901), ('그렇겐', 5902), ('잘려고', 5903), ('올려요', 5904), ('독수공방', 5905), ('그러신', 5906), ('깜빡깜빡', 5907), ('추천', 5908), ('메뉴', 5909), ('이천', 5910), ('쒔', 5911), ('하기는', 5912), ('사이사이', 5913), ('찐하', 5914), ('여길', 5915), ('땡큐', 5916), ('우범', 5917), ('지역', 5918), ('캔', 5919), ('별루', 5920), ('비쌀텐데', 5921), ('잔칫상', 5922), ('떠났', 5923), ('겸사겸사', 5924), ('관내', 5925), ('사업가', 5926), ('신분', 5927), ('급체포', 5928), ('들으니까', 5929), ('건가', 5930), ('올릴', 5931), ('즉', 5932), ('내복', 5933), ('보글보글', 5934), ('지져', 5935), ('데릴사위', 5936), ('간고등어', 5937), ('귀여워', 5938), ('목요일', 5939), ('상담', 5940), ('대환영', 5941), ('깐다', 5942), ('두루두루', 5943), ('간다는', 5944), ('미워해', 5945), ('준댔', 5946), ('내서', 5947), ('응급실', 5948), ('났으니', 5949), ('얘긴데', 5950), ('일났', 5951), ('시끄러우', 5952), ('커플링', 5953), ('는진', 5954), ('몰', 5955), ('날새', 5956), ('만점', 5957), ('무모', 5958), ('졸졸', 5959), ('마누란', 5960), ('래는', 5961), ('너무나', 5962), ('일생', 5963), ('양', 5964), ('탄다', 5965), ('레스토랑', 5966), ('치명', 5967), ('한고비', 5968), ('갈등', 5969), ('드니', 5970), ('차분히', 5971), ('화재', 5972), ('난처', 5973), ('빨라요', 5974), ('도왔', 5975), ('말대꾸', 5976), ('내주', 5977), ('애새끼', 5978), ('실텐데', 5979), ('쓰러졌', 5980), ('가까운데', 5981), ('뜨신', 5982), ('해먹', 5983), ('뎅', 5984), ('보충', 5985), ('내보낼', 5986), ('그래야지', 5987), ('트', 5988), ('출신', 5989), ('차출', 5990), ('변덕', 5991), ('갈려구요', 5992), ('부어서', 5993), ('내릴', 5994), ('이겨서', 5995), ('여차하면', 5996), ('괴롭힐', 5997), ('곤욕', 5998), ('티켓', 5999), ('두들겨', 6000), ('밥벌이', 6001), ('썼잖아요', 6002), ('환', 6003), ('잔데', 6004), ('떴', 6005), ('장가갈', 6006), ('으신데', 6007), ('맛없', 6008), ('젓갈', 6009), ('빨랑빨랑', 6010), ('보증금', 6011), ('사겼', 6012), ('후진', 6013), ('가관', 6014), ('언놈', 6015), ('섭외', 6016), ('끌리', 6017), ('짝퉁', 6018), ('가만있', 6019), ('괴로워', 6020), ('매스컴', 6021), ('마마', 6022), ('바꿀', 6023), ('끝낸', 6024), ('바래요', 6025), ('시정', 6026), ('야근', 6027), ('아무렇', 6028), ('살아왔', 6029), ('들른', 6030), ('긴데', 6031), ('둘려', 6032), ('는다니', 6033), ('콩', 6034), ('드라마', 6035), ('잡니다', 6036), ('갈비찜', 6037), ('연한', 6038), ('까다로운', 6039), ('비쳐', 6040), ('제까닥', 6041), ('아님', 6042), ('발휘', 6043), ('꼬지', 6044), ('큰언니', 6045), ('인가요', 6046), ('생각난다', 6047), ('연봉', 6048), ('때워야', 6049), ('쫑쫑', 6050), ('반개', 6051), ('오빨', 6052), ('귀신', 6053), ('안부', 6054), ('립니', 6055), ('써라', 6056), ('순서', 6057), ('숨길', 6058), ('월', 6059), ('생략', 6060), ('돌아다니', 6061), ('입맛', 6062), ('눈썰매장', 6063), ('물어봐라', 6064), ('멋쟁이', 6065), ('지나치', 6066), ('대체로', 6067), ('끝장냈', 6068), ('아저씬', 6069), ('장한', 6070), ('장혀', 6071), ('해줄께', 6072), ('습', 6073), ('딸렸', 6074), ('아하', 6075), ('해진다', 6076), ('벌주', 6077), ('줄려구요', 6078), ('홍길동', 6079), ('담판', 6080), ('데릴러', 6081), ('콩닥콩닥', 6082), ('여야지', 6083), ('비해', 6084), ('집니다', 6085), ('흔들릴', 6086), ('오래가', 6087), ('별명', 6088), ('딱지', 6089), ('저래요', 6090), ('갇혀', 6091), ('오래오래', 6092), ('천사', 6093), ('청아', 6094), ('내꺼야', 6095), ('그럴수록', 6096), ('세일', 6097), ('민주', 6098), ('진실', 6099), ('자넨', 6100), ('나갈려면', 6101), ('당해서', 6102), ('하마', 6103), ('나아', 6104), ('유지', 6105), ('돼지', 6106), ('담주', 6107), ('밧데리', 6108), ('는다더니', 6109), ('반방', 6110), ('설레임', 6111), ('단다', 6112), ('엿듣', 6113), ('왕래', 6114), ('중대', 6115), ('바빴', 6116), ('모실', 6117), ('쥐어뜯', 6118), ('비싸', 6119), ('헤어', 6120), ('바쁠', 6121), ('어울려요', 6122), ('존대', 6123), ('살랑살랑', 6124), ('천재', 6125), ('찾아뵙', 6126), ('나눠서', 6127), ('을까요', 6128), ('누우셨', 6129), ('꿰', 6130), ('양호', 6131), ('무안', 6132), ('납니까', 6133), ('경찰차', 6134), ('못지', 6135), ('그러면', 6136), ('맹세', 6137), ('어젠', 6138), ('퍼석퍼석', 6139), ('치룬', 6140), ('넉넉히', 6141), ('미스타', 6142), ('킴', 6143), ('증인', 6144), ('배고파서', 6145), ('그분', 6146), ('대든', 6147), ('경고', 6148), ('응원', 6149), ('기준', 6150), ('고친', 6151), ('으라면', 6152), ('속상해서', 6153), ('중독', 6154), ('출동', 6155), ('계좌', 6156), ('사연', 6157), ('차마', 6158), ('조개', 6159), ('덤빌', 6160), ('온다면서', 6161), ('맘고생', 6162), ('큰일날', 6163), ('공무', 6164), ('이민', 6165), ('실례', 6166), ('연체', 6167), ('죽인다고', 6168), ('어울린다', 6169), ('낚아채', 6170), ('아랫사람', 6171), ('신바람', 6172), ('빠져서', 6173), ('자빠져', 6174), ('는구만', 6175), ('형아', 6176), ('모아서', 6177), ('안내', 6178), ('까무라치', 6179), ('들어왔', 6180), ('쑬', 6181), ('축상', 6182), ('모여', 6183), ('억', 6184), ('모닝', 6185), ('아닌디', 6186), ('구경', 6187), ('언론', 6188), ('반복', 6189), ('단합', 6190), ('대회', 6191), ('된다구요', 6192), ('짜식', 6193), ('막일', 6194), ('큰소리', 6195), ('쑤셔', 6196), ('신다는', 6197), ('제산', 6198), ('열렸', 6199), ('0000', 6200), ('십쇼', 6201), ('위쪽', 6202), ('아까워서', 6203), ('생길', 6204), ('돌아다녀', 6205), ('반듯', 6206), ('뺄', 6207), ('과부', 6208), ('말린', 6209), ('터진', 6210), ('처리', 6211), ('잠가', 6212), ('빨빨거리', 6213), ('수록', 6214), ('할까봐', 6215), ('얼만데', 6216), ('시킬려고', 6217), ('자니까', 6218), ('재료비', 6219), ('치워야', 6220), ('러라', 6221), ('힘듭니다', 6222), ('선본', 6223), ('깨끗이', 6224), ('상하', 6225), ('까발려', 6226), ('깃', 6227), ('외식', 6228), ('전쟁', 6229), ('무너지', 6230), ('안가', 6231), ('철', 6232), ('고깃집', 6233), ('불나', 6234), ('합동결혼식', 6235), ('본다니까', 6236), ('깨워서', 6237), ('물를', 6238), ('불만', 6239), ('힘든데', 6240), ('볼수록', 6241), ('파티', 6242), ('대낮', 6243), ('13', 6244), ('엄살쟁이', 6245), ('진다', 6246), ('장례식장', 6247), ('자씨', 6248), ('길들여', 6249), ('밀가루', 6250), ('써야지', 6251), ('벼락', 6252), ('든디', 6253), ('뒷바라지', 6254), ('내다보', 6255), ('수선', 6256), ('걸린다니', 6257), ('잡혔', 6258), ('일나', 6259), ('역', 6260), ('겠다', 6261), ('관절염', 6262), ('으이구', 6263), ('온몸', 6264), ('바빠도', 6265), ('나야', 6266), ('트집', 6267), ('등골', 6268), ('허가서', 6269), ('마음가짐', 6270), ('그러고', 6271), ('아픈가', 6272), ('튄', 6273), ('넘어왔', 6274), ('그만한', 6275), ('도망간', 6276), ('찜', 6277), ('난이', 6278), ('남용', 6279), ('광고지', 6280), ('늦잠', 6281), ('을란다', 6282), ('얼굴도장', 6283), ('번개', 6284), ('쥴', 6285), ('부엉', 6286), ('개인', 6287), ('젯밥', 6288), ('려', 6289), ('발뺌', 6290), ('냐는', 6291), ('이겨', 6292), ('열심', 6293), ('왕재', 6294), ('타가', 6295), ('펑펑', 6296), ('내뺀', 6297), ('징역', 6298), ('져야지', 6299), ('전체', 6300), ('덤', 6301), ('빠이빠이', 6302), ('댔', 6303), ('하부', 6304), ('튼튼', 6305), ('새로운', 6306), ('띠', 6307), ('장보', 6308), ('호락호락', 6309), ('죄인', 6310), ('이딴', 6311), ('러요', 6312), ('잡아오', 6313), ('이름값', 6314), ('가위바위보', 6315), ('눈떠', 6316), ('쌍', 6317), ('챙겨라', 6318), ('꼬리', 6319), ('아홉', 6320), ('20', 6321), ('갑니까', 6322), ('산다고', 6323), ('신행', 6324), ('살아오', 6325), ('찝찝', 6326), ('입방아', 6327), ('을려', 6328), ('운', 6329), ('닿', 6330), ('클났', 6331), ('맹글', 6332), ('질문', 6333), ('수송', 6334), ('강물', 6335), ('몸상', 6336), ('토요일', 6337), ('다칠까', 6338), ('기다려라', 6339), ('란다고', 6340), ('구할', 6341), ('배울', 6342), ('공주', 6343), ('길거리', 6344), ('후계자', 6345), ('빼짝', 6346), ('서부터', 6347), ('한다면서', 6348), ('노우', 6349), ('사양', 6350), ('잠겼', 6351), ('모셔다', 6352), ('에라', 6353), ('편한', 6354), ('뻔한', 6355), ('부를', 6356), ('캡', 6357), ('우회전', 6358), ('사은품', 6359), ('살려요', 6360), ('닭똥집', 6361), ('원복', 6362), ('팔목', 6363), ('으려는', 6364), ('공중', 6365), ('쳐들', 6366), ('으려고', 6367), ('밀착', 6368), ('실랑이', 6369), ('찡긋', 6370), ('튀어나오', 6371), ('떠서', 6372), ('사무', 6373), ('실문', 6374), ('줄줄이', 6375), ('종료', 6376), ('바리바리', 6377), ('다다다다', 6378), ('손목', 6379), ('시동', 6380), ('메모', 6381), ('천장', 6382), ('이장', 6383), ('남손', 6384), ('찬', 6385), ('뛰어든', 6386), ('헉헉', 6387), ('담궈', 6388), ('휘젓', 6389), ('솜사탕', 6390), ('입술', 6391), ('오뚜기', 6392), ('팔베개', 6393), ('의료진', 6394), ('응급차', 6395), ('쨍그랑', 6396), ('막아서', 6397), ('휘두르', 6398), ('반항', 6399), ('제압', 6400), ('왼팔', 6401), ('부딪힌', 6402), ('삽입', 6403), ('허우적대', 6404), ('강보', 6405), ('상석', 6406), ('때려부수', 6407), ('빵빵대', 6408), ('들어온', 6409), ('영교', 6410), ('커텐', 6411), ('걷어부치', 6412), ('놀이기구', 6413), ('턱시도', 6414), ('려다가', 6415), ('올라올', 6416), ('악물', 6417), ('전과', 6418), ('없애', 6419), ('덕담', 6420), ('무자식', 6421), ('상팔자', 6422), ('속좁', 6423), ('쳐들어갔', 6424), ('입다물', 6425), ('여동생', 6426), ('캄캄', 6427), ('걸립니다', 6428), ('닦달', 6429), ('돌릴', 6430), ('사지', 6431), ('고스', 6432), ('나았', 6433), ('맡길', 6434), ('써요', 6435), ('자세히', 6436), ('군대', 6437), ('선량', 6438), ('촛불', 6439), ('집회', 6440), ('영영', 6441), ('재떨이', 6442), ('사망', 6443), ('야심', 6444), ('덤벙대', 6445), ('허심탄회', 6446), ('꾸며서', 6447), ('일망타진', 6448), ('도망친', 6449), ('확답', 6450), ('죽여', 6451), ('을래요', 6452), ('왼쪽', 6453), ('옵시다', 6454), ('튑니다', 6455), ('되돌릴', 6456), ('쏜', 6457), ('하여튼', 6458), ('기별', 6459), ('미친개', 6460), ('먹칠', 6461), ('똥칠', 6462), ('모멸감', 6463), ('펄쩍', 6464), ('설렌다', 6465), ('내봤', 6466), ('울고불고', 6467), ('날라간', 6468), ('려구요', 6469), ('추석날', 6470), ('덜렁', 6471), ('불협화음', 6472), ('인건비', 6473), ('얼만데요', 6474), ('개판', 6475), ('냉랭', 6476), ('세울', 6477), ('학생', 6478), ('왕따', 6479), ('여긴다고', 6480), ('돌아온', 6481), ('꿀꿀', 6482), ('부끄러운', 6483), ('했으나', 6484), ('잉잉', 6485), ('겹쳐서', 6486), ('자요', 6487), ('위주', 6488), ('시비', 6489), ('겁먹', 6490), ('헌티', 6491), ('놔요', 6492), ('시집와', 6493), ('기울었', 6494), ('등록증', 6495), ('질르', 6496), ('뛴다', 6497), ('언젠지', 6498), ('가풍', 6499), ('뚫', 6500), ('희망', 6501), ('본전', 6502), ('캬', 6503), ('움직일', 6504), ('물어봐도', 6505), ('강화', 6506), ('개소리', 6507), ('심할', 6508), ('해줄테니', 6509), ('부러', 6510), ('제멋대로', 6511), ('북치', 6512), ('장구', 6513), ('불량', 6514), ('달궈져', 6515), ('뒹굴뒹굴', 6516), ('슬프', 6517), ('슬픈', 6518), ('대지', 6519), ('훌훌', 6520), ('끊겼', 6521), ('쫄래쫄래', 6522), ('두쪽나', 6523), ('납품', 6524), ('느라구요', 6525), ('사이니', 6526), ('친했', 6527), ('웃긴', 6528), ('몰상식', 6529), ('극치', 6530), ('아자씨', 6531), ('요딴', 6532), ('아작', 6533), ('만난다는', 6534), ('주워', 6535), ('빌미', 6536), ('챈', 6537), ('그러다간', 6538), ('거역', 6539), ('총동원', 6540), ('화상', 6541), ('원격', 6542), ('조정', 6543), ('으려니', 6544), ('얼만큼', 6545), ('환한데', 6546), ('넘어간다', 6547), ('내덕', 6548), ('도와드릴까요', 6549), ('여서가', 6550), ('작가', 6551), ('보냅니다', 6552), ('져본', 6553), ('으셔', 6554), ('데려간다는', 6555), ('고생문', 6556), ('훠', 6557), ('언', 6558), ('넘어온', 6559), ('단서', 6560), ('진행할', 6561), ('한마', 6562), ('딘', 6563), ('나와도', 6564), ('외근', 6565), ('정돈데', 6566), ('낭비', 6567), ('들여보내', 6568), ('조성', 6569), ('만한', 6570), ('본처', 6571), ('흘렸', 6572), ('첨보', 6573), ('물렸', 6574), ('갈라놓', 6575), ('집일', 6576), ('봉창', 6577), ('아차', 6578), ('내기', 6579), ('애매', 6580), ('파토', 6581), ('이중', 6582), ('플레이', 6583), ('요샌', 6584), ('빠져야', 6585), ('장학생', 6586), ('그늘', 6587), ('기어든', 6588), ('매정', 6589), ('우스', 6590), ('우스운', 6591), ('빨러', 6592), ('정들', 6593), ('어쩔래', 6594), ('본체만체', 6595), ('으으으', 6596), ('철판', 6597), ('아자', 6598), ('미인', 6599), ('단골', 6600), ('어쩔지', 6601), ('노려', 6602), ('치웠', 6603), ('조종', 6604), ('잠수', 6605), ('버텼', 6606), ('옵니까', 6607), ('사비', 6608), ('마누랄', 6609), ('점쟁이', 6610), ('나랏밥', 6611), ('복직', 6612), ('저물', 6613), ('우정', 6614), ('새요', 6615), ('엊', 6616), ('지냑', 6617), ('숫자', 6618), ('놨을', 6619), ('한웅', 6620), ('큼', 6621), ('미끼', 6622), ('아닐까', 6623), ('뒷마당', 6624), ('활동', 6625), ('살빼', 6626), ('마셔요', 6627), ('신다며', 6628), ('치토스', 6629), ('잊어버렸', 6630), ('날아간다', 6631), ('울고불', 6632), ('물릴', 6633), ('썽나요', 6634), ('가난', 6635), ('깎이', 6636), ('지지리', 6637), ('한다더니', 6638), ('술술', 6639), ('남잔데', 6640), ('따라와요', 6641), ('번번히', 6642), ('밀려나', 6643), ('절벽', 6644), ('곤두박질치', 6645), ('따라온', 6646), ('형편없', 6647), ('추우', 6648), ('여느', 6649), ('수제', 6650), ('연예인', 6651), ('개기', 6652), ('강사', 6653), ('장건', 6654), ('육체', 6655), ('심리', 6656), ('아셔야', 6657), ('꼬일', 6658), ('틀어질', 6659), ('틀어진', 6660), ('생각날', 6661), ('채워', 6662), ('달구', 6663), ('왔잖아', 6664), ('떠올라', 6665), ('면회', 6666), ('온지', 6667), ('퉁퉁거리', 6668), ('댑니다', 6669), ('바뻤', 6670), ('따라가', 6671), ('줬으니', 6672), ('모레', 6673), ('두발', 6674), ('무신', 6675), ('만정', 6676), ('서둘', 6677), ('카페', 6678), ('예단', 6679), ('누워', 6680), ('잔말', 6681), ('장경사', 6682), ('우유', 6683), ('챙겨야지', 6684), ('외로우', 6685), ('으셨으면', 6686), ('실지', 6687), ('엄친아', 6688), ('추접', 6689), ('글루', 6690), ('꼬인', 6691), ('호송', 6692), ('각각', 6693), ('추후', 6694), ('상할까봐', 6695), ('현실', 6696), ('파급', 6697), ('육아', 6698), ('전념', 6699), ('장난삼', 6700), ('입맞추', 6701), ('늘렸', 6702), ('정내', 6703), ('당부', 6704), ('험할', 6705), ('알리바이', 6706), ('땐가', 6707), ('보물', 6708), ('숲', 6709), ('뻔한데', 6710), ('새해', 6711), ('지났으니', 6712), ('넘겼', 6713), ('옴팡', 6714), ('다디', 6715), ('쫓아다녔', 6716), ('드셔도', 6717), ('들일', 6718), ('뭔', 6719), ('시대', 6720), ('래나', 6721), ('다닌', 6722), ('위한', 6723), ('다더니', 6724), ('얼쩡', 6725), ('설설', 6726), ('풀린다', 6727), ('지고', 6728), ('면허증', 6729), ('제시', 6730), ('문구멍', 6731), ('쫄쫄', 6732), ('무친', 6733), ('해뜨', 6734), ('쳐다봤', 6735), ('첫발', 6736), ('내딛', 6737), ('돌렸으면', 6738), ('덤벼도', 6739), ('한보', 6740), ('아까워', 6741), ('빠져요', 6742), ('그간', 6743), ('신용도', 6744), ('꼬셨', 6745), ('어린애', 6746), ('찾아다닌', 6747), ('책임감', 6748), ('물어봐야', 6749), ('답디다', 6750), ('얄미운', 6751), ('겠으니', 6752), ('까자', 6753), ('다지만', 6754), ('입혀', 6755), ('해냈', 6756), ('해둘', 6757), ('갔다올', 6758), ('재직', 6759), ('넘침', 6760), ('랜다', 6761), ('동전', 6762), ('던져서', 6763), ('호랑이', 6764), ('애칭', 6765), ('꼬실려고', 6766), ('물어본', 6767), ('놨나', 6768), ('알아맞춰', 6769), ('전임', 6770), ('후임', 6771), ('짚', 6772), ('준다잖아', 6773), ('긴긴밤', 6774), ('딱히', 6775), ('신수', 6776), ('훤하', 6777), ('건너간', 6778), ('바랬', 6779), ('홍어', 6780), ('귤', 6781), ('피앙세', 6782), ('사온', 6783), ('간다더니', 6784), ('피한', 6785), ('길들일', 6786), ('수작', 6787), ('채찍', 6788), ('독하', 6789), ('징글징글', 6790), ('동참', 6791), ('상봉', 6792), ('쨘하시고', 6793), ('걸음', 6794), ('뗄', 6795), ('울린다', 6796), ('틀려요', 6797), ('과정', 6798), ('거치', 6799), ('짬밥', 6800), ('거듭나', 6801), ('안지', 6802), ('나간', 6803), ('첫날', 6804), ('렸다', 6805), ('이봐', 6806), ('돌려도', 6807), ('공사장', 6808), ('청소년', 6809), ('커핀', 6810), ('주길', 6811), ('라지만', 6812), ('난딱', 6813), ('야자', 6814), ('인살', 6815), ('바깥바람', 6816), ('이천만', 6817), ('깨울까', 6818), ('워라', 6819), ('벤처', 6820), ('편할지', 6821), ('줘선', 6822), ('걸린다', 6823), ('땠', 6824), ('방안', 6825), ('후끈', 6826), ('보일러', 6827), ('서둘러라', 6828), ('바라지', 6829), ('구제', 6830), ('불능', 6831), ('짜릿짜릿', 6832), ('웠', 6833), ('신상', 6834), ('찢어진', 6835), ('씌워', 6836), ('통해', 6837), ('미친놈', 6838), ('수중', 6839), ('도시', 6840), ('7', 6841), ('싸돌아다니', 6842), ('평범', 6843), ('그럴려고', 6844), ('바친', 6845), ('가꾸', 6846), ('지발', 6847), ('공구', 6848), ('행방', 6849), ('묘연', 6850), ('도모', 6851), ('왔음', 6852), ('차비', 6853), ('아닌가요', 6854), ('알아먹', 6855), ('갈만', 6856), ('영일', 6857), ('뒤돌아본', 6858), ('답니까', 6859), ('내입', 6860), ('해다', 6861), ('갱', 6862), ('안자', 6863), ('부려야', 6864), ('부린다고', 6865), ('속하', 6866), ('보호자', 6867), ('놔줘', 6868), ('가지마', 6869), ('교통정리', 6870), ('식혀', 6871), ('아버질', 6872), ('붙였', 6873), ('월동', 6874), ('철저히', 6875), ('싸운다고', 6876), ('거림', 6877), ('그런데요', 6878), ('해줘야', 6879), ('열정', 6880), ('볶아치', 6881), ('재울', 6882), ('졸라', 6883), ('떠납니다', 6884), ('탑승', 6885), ('펑크', 6886), ('뻘개', 6887), ('보낸다', 6888), ('그건데', 6889), ('매맞', 6890), ('제자신이', 6891), ('미칠', 6892), ('그럴까요', 6893), ('일대', 6894), ('오점', 6895), ('남긴', 6896), ('금값', 6897), ('영향', 6898), ('늘려', 6899), ('마주쳤', 6900), ('제말이', 6901), ('떳', 6902), ('울렁', 6903), ('거린다고', 6904), ('절정', 6905), ('데려간다', 6906), ('해낼', 6907), ('철들', 6908), ('놔도', 6909), ('들먹거리', 6910), ('인자', 6911), ('따땃', 6912), ('손길', 6913), ('기필코', 6914), ('뻔질나', 6915), ('동갑', 6916), ('훨씬', 6917), ('놨으면', 6918), ('무서워해', 6919), ('씀씀이', 6920), ('준다며', 6921), ('도우', 6922), ('낼날', 6923), ('따독따독', 6924), ('진짜루', 6925), ('한가요', 6926), ('버렸', 6927), ('눈친데', 6928), ('바래다주', 6929), ('약한', 6930), ('찔려서', 6931), ('울수', 6932), ('울지', 6933), ('보단', 6934), ('입힐', 6935), ('이깟', 6936), ('퇴짜', 6937), ('스케줄', 6938), ('복장', 6939), ('입바른', 6940), ('갈데없', 6941), ('불이', 6942), ('날까', 6943), ('졸려서', 6944), ('쐴', 6945), ('제삼자', 6946), ('까발리', 6947), ('온다구', 6948), ('시끄러워서', 6949), ('이후', 6950), ('제도', 6951), ('경대', 6952), ('애국', 6953), ('아들내미', 6954), ('한결같이', 6955), ('차가워서', 6956), ('자릴', 6957), ('외우', 6958), ('차린다', 6959), ('거창', 6960), ('땅땅땅', 6961), ('뻥쳤', 6962), ('더라구요', 6963), ('이겨낼', 6964), ('애어른', 6965), ('다논', 6966), ('키워야', 6967), ('부쳤', 6968), ('종지', 6969), ('분에', 6970), ('쐐기', 6971), ('치르', 6972), ('친굽니다', 6973), ('털털이', 6974), ('보살펴', 6975), ('조른다', 6976), ('뻥끗', 6977), ('해올', 6978), ('미행', 6979), ('뒷말', 6980), ('남부러울', 6981), ('김장', 6982), ('보안관', 6983), ('계라', 6984), ('깐', 6985), ('앞길', 6986), ('망쳐', 6987), ('손안', 6988), ('날씨', 6989), ('청청', 6990), ('죽인다구', 6991), ('즐길', 6992), ('걸려요', 6993), ('시아버님', 6994), ('메누', 6995), ('앤데', 6996), ('애써서', 6997), ('종노릇', 6998), ('스나', 6999), ('커야', 7000), ('대전', 7001), ('났잖아', 7002), ('이야', 7003), ('안다며', 7004), ('아이디', 7005), ('음주', 7006), ('태어난', 7007), ('멀미', 7008), ('무서울', 7009), ('시시', 7010), ('클라', 7011), ('막스', 7012), ('터져야', 7013), ('일평생', 7014), ('짝사랑', 7015), ('달콤', 7016), ('그리웠', 7017), ('흐뭇', 7018), ('굴뚝', 7019), ('부른다', 7020), ('드냐', 7021), ('선약', 7022), ('노후', 7023), ('면허', 7024), ('취소', 7025), ('뜨끈', 7026), ('지질려', 7027), ('주무셔야', 7028), ('가정사', 7029), ('거참', 7030), ('모른답니다', 7031), ('과잉', 7032), ('수사관', 7033), ('찌질', 7034), ('최대', 7035), ('관심사', 7036), ('떨린다', 7037), ('여러분', 7038), ('배우자', 7039), ('목매', 7040), ('그쵸', 7041), ('가짜', 7042), ('방송국', 7043), ('빌려', 7044), ('문젠지', 7045), ('자글자글', 7046), ('일요일', 7047), ('냉수', 7048), ('울린', 7049), ('이봐라', 7050), ('친한', 7051), ('지실', 7052), ('숨넘어가', 7053), ('내게', 7054), ('이요', 7055), ('가까워진', 7056), ('해약', 7057), ('굽히', 7058), ('본의', 7059), ('편했', 7060), ('밀어붙여야', 7061), ('일할', 7062), ('잔챙이', 7063), ('윗선', 7064), ('으흠', 7065), ('회도', 7066), ('움직입니다', 7067), ('다구', 7068), ('일른다', 7069), ('단칸방', 7070), ('가유', 7071), ('부탁드립니다', 7072), ('티격태격', 7073), ('붜', 7074), ('귀여운', 7075), ('쫓아와서', 7076), ('성깔', 7077), ('사돈', 7078), ('임검', 7079), ('저녁때', 7080), ('맘놓', 7081), ('철든', 7082), ('봐야겠지만', 7083), ('더럽히', 7084), ('사이버', 7085), ('수사대', 7086), ('공갈', 7087), ('파렴치한', 7088), ('계약금', 7089), ('파트너', 7090), ('아몬드', 7091), ('어쩐대요', 7092), ('뛰어왔', 7093), ('차츰', 7094), ('자취', 7095), ('친군', 7096), ('내릴래', 7097), ('기합', 7098), ('접니다', 7099), ('예물', 7100), ('구금', 7101), ('틈날', 7102), ('사물', 7103), ('스트레스', 7104), ('송강호', 7105), ('설경구', 7106), ('나갈까', 7107), ('달라진', 7108), ('올가미', 7109), ('무거워', 7110), ('오호호', 7111), ('셋방살이', 7112), ('순위', 7113), ('겁난', 7114), ('약발', 7115), ('못해도', 7116), ('부상자', 7117), ('지켜야', 7118), ('의무', 7119), ('꿋꿋', 7120), ('팁', 7121), ('아녀유', 7122), ('빵꾸', 7123), ('연기력', 7124), ('찮은', 7125), ('악역', 7126), ('볼래요', 7127), ('따끈따끈', 7128), ('일어선', 7129), ('해줄래', 7130), ('매운', 7131), ('땡초', 7132), ('마늘', 7133), ('다져', 7134), ('인내', 7135), ('찾아냈', 7136), ('스펙', 7137), ('남잘', 7138), ('토익', 7139), ('즌데', 7140), ('사이좋', 7141), ('욱박지르', 7142), ('가르쳐서', 7143), ('족집게', 7144), ('뭐해', 7145), ('새끼야', 7146), ('핏줄', 7147), ('반납', 7148), ('뻐팅겨', 7149), ('거행', 7150), ('간략', 7151), ('커팅', 7152), ('땡길', 7153), ('지냅니다', 7154), ('떠난다', 7155), ('엉엉', 7156), ('열안', 7157), ('갈랍니다', 7158), ('시집왔', 7159), ('둔덕', 7160), ('바이어', 7161), ('이심전심', 7162), ('통했', 7163), ('해당', 7164), ('우연', 7165), ('질긴', 7166), ('한다는데', 7167), ('뒷설거지', 7168), ('팔짝', 7169), ('라야', 7170), ('질렀', 7171), ('잡아뗀다', 7172), ('기다릴께', 7173), ('기다릴', 7174), ('일부', 7175), ('펜', 7176), ('달치', 7177), ('산다니까', 7178), ('낼려고', 7179), ('뛰어들', 7180), ('우상', 7181), ('그림', 7182), ('대드', 7183), ('저절로', 7184), ('소속', 7185), ('비싼데', 7186), ('출입금', 7187), ('읽히', 7188), ('찔찔', 7189), ('최곤데', 7190), ('떠난다고', 7191), ('계급', 7192), ('짱박', 7193), ('와본', 7194), ('놀리나', 7195), ('지어야', 7196), ('후임자', 7197), ('인수인계', 7198), ('차질', 7199), ('어딘데요', 7200), ('외로워', 7201), ('세탁기', 7202), ('누나', 7203), ('여잔지', 7204), ('줄까요', 7205), ('해수', 7206), ('손쓸', 7207), ('게야', 7208), ('엎드려서', 7209), ('빌린', 7210), ('센터', 7211), ('으랜다', 7212), ('내보이', 7213), ('미만', 7214), ('수족', 7215), ('놀려', 7216), ('요기', 7217), ('도통', 7218), ('촌구석', 7219), ('혼요', 7220), ('언젠', 7221), ('조근조근', 7222), ('견뎌요', 7223), ('무설', 7224), ('검색', 7225), ('상대사', 7226), ('음해', 7227), ('헛소리', 7228), ('고칠', 7229), ('지대장', 7230), ('보기', 7231), ('지하', 7232), ('갈라설', 7233), ('월세방', 7234), ('기각', 7235), ('곗돈', 7236), ('까마득', 7237), ('보강', 7238), ('계신다', 7239), ('뭉개졌', 7240), ('얇', 7241), ('봐주시면', 7242), ('살께요', 7243), ('속초', 7244), ('썩을', 7245), ('으랴', 7246), ('면박', 7247), ('속빈', 7248), ('다니께유', 7249), ('개오', 7250), ('떨기', 7251), ('을려는', 7252), ('등장', 7253), ('물어볼까', 7254), ('쌀집', 7255), ('지어낸다', 7256), ('물타기', 7257), ('징징거리', 7258), ('삼거리', 7259), ('만납니까', 7260), ('낼게', 7261), ('화악', 7262), ('났으면', 7263), ('무릅쓰', 7264), ('잡아가', 7265), ('서민', 7266), ('가장', 7267), ('가깝', 7268), ('오장육부', 7269), ('선순데', 7270), ('밤늦', 7271), ('몸조심', 7272), ('의원', 7273), ('작은형수', 7274), ('쳐먹', 7275), ('습니다요', 7276), ('별났', 7277), ('라구', 7278), ('핸드백', 7279), ('훔쳐', 7280), ('콜라', 7281), ('소개팅', 7282), ('다녀도', 7283), ('악질', 7284), ('본보기', 7285), ('쓴맛', 7286), ('매운맛', 7287), ('헛나오', 7288), ('아껴서', 7289), ('꽃바구니', 7290), ('딴건', 7291), ('무서우', 7292), ('경기', 7293), ('는개', 7294), ('비유', 7295), ('역적모의', 7296), ('근', 7297), ('스가', 7298), ('딸려', 7299), ('다발', 7300), ('김서', 7301), ('신대유', 7302), ('용기', 7303), ('움직였', 7304), ('소문나', 7305), ('증거인', 7306), ('멸할', 7307), ('독해', 7308), ('서두르', 7309), ('강요', 7310), ('두렵', 7311), ('겁난다', 7312), ('편안', 7313), ('바래서', 7314), ('준거', 7315), ('처박', 7316), ('출입', 7317), ('채려', 7318), ('빙빙', 7319), ('콧구녕만', 7320), ('오케', 7321), ('들여서', 7322), ('개차반', 7323), ('편들', 7324), ('어째볼', 7325), ('웬만큼', 7326), ('할수록', 7327), ('분해서', 7328), ('처가살이', 7329), ('이바지', 7330), ('바꿨', 7331), ('문상', 7332), ('동네방네', 7333), ('횟감', 7334), ('흔들려서', 7335), ('쥬얼리', 7336), ('제품', 7337), ('쓸게요', 7338), ('어쩌다가', 7339), ('구분', 7340), ('온다는', 7341), ('볼라', 7342), ('한다길래', 7343), ('한건', 7344), ('쫓겨나', 7345), ('번개치', 7346), ('그만둔다', 7347), ('노닥거릴', 7348), ('?..', 7349), ('회화', 7350), ('사회악', 7351), ('겠다는', 7352), ('페이지', 7353), ('속상합니다', 7354), ('벌세우', 7355), ('머리통', 7356), ('때린대', 7357), ('메꾸', 7358), ('가정교육', 7359), ('세웠', 7360), ('여덟', 7361), ('부쩍', 7362), ('저지른', 7363), ('그라고', 7364), ('표내', 7365), ('느긋', 7366), ('비겁', 7367), ('거머리', 7368), ('알량', 7369), ('번짼데', 7370), ('양식', 7371), ('재웠', 7372), ('내비두', 7373), ('비켜라', 7374), ('거사', 7375), ('얽힌', 7376), ('돌덩이', 7377), ('낯', 7378), ('뜨거워서', 7379), ('리모컨', 7380), ('날아왔', 7381), ('재판정', 7382), ('프로그램', 7383), ('번호표', 7384), ('싹수', 7385), ('할애빌', 7386), ('메주', 7387), ('꼬였', 7388), ('골든', 7389), ('기다린다고', 7390), ('바램', 7391), ('압류', 7392), ('딴지', 7393), ('넘어뜨리', 7394), ('아픕니다', 7395), ('홈런', 7396), ('날린', 7397), ('맥빠지', 7398), ('들어라', 7399), ('빚지', 7400), ('펀드', 7401), ('경마', 7402), ('치룰', 7403), ('부질', 7404), ('장단', 7405), ('춘', 7406), ('밀려서', 7407), ('도난', 7408), ('합니다만', 7409), ('송금', 7410), ('충심', 7411), ('민중', 7412), ('컴퓨터', 7413), ('은하', 7414), ('경삽', 7415), ('힘쓰', 7416), ('참작', 7417), ('날아간', 7418), ('됩니', 7419), ('될걸', 7420), ('번잡', 7421), ('굴러온', 7422), ('박힌', 7423), ('설레발', 7424), ('인건', 7425), ('보낸', 7426), ('뵐', 7427), ('얼음', 7428), ('시각', 7429), ('한담', 7430), ('정류장', 7431), ('올려야', 7432), ('랫', 7433), ('본척만척', 7434), ('꺼라', 7435), ('꿔줄', 7436), ('올려달라', 7437), ('나올래', 7438), ('왕창', 7439), ('시집갈', 7440), ('백발백중', 7441), ('들킬까봐', 7442), ('도망쳤', 7443), ('짜장', 7444), ('들락대', 7445), ('끈질긴', 7446), ('저질렀', 7447), ('덜렁덜렁', 7448), ('눈칠', 7449), ('챘', 7450), ('는다구요', 7451), ('전근', 7452), ('가실', 7453), ('발칵', 7454), ('놨었', 7455), ('때기', 7456), ('실시', 7457), ('싸그리', 7458), ('천연기념물', 7459), ('통행금지', 7460), ('재미나', 7461), ('영역', 7462), ('컨디션', 7463), ('합쳐서', 7464), ('나올지', 7465), ('사바사바', 7466), ('중국', 7467), ('노닥거리', 7468), ('너무너무', 7469), ('들를게', 7470), ('언질', 7471), ('모른다니까', 7472), ('언년', 7473), ('휘잡', 7474), ('딴짓거리', 7475), ('날일', 7476), ('남다르', 7477), ('쌍꺼풀', 7478), ('저래서', 7479), ('얼른얼른', 7480), ('그러가', 7481), ('주름살', 7482), ('대질', 7483), ('못지않', 7484), ('여의', 7485), ('판단력', 7486), ('받아들여야', 7487), ('지어내', 7488), ('떠져서', 7489), ('떠졌', 7490), ('따끈', 7491), ('시킬게', 7492), ('스쳐', 7493), ('간절', 7494), ('운명', 7495), ('느껴본', 7496), ('밥숟가락', 7497), ('버틸', 7498), ('체력', 7499), ('몽', 7500), ('뿐질러', 7501), ('껄', 7502), ('뺏긴', 7503), ('랄까', 7504), ('와중', 7505), ('금새', 7506), ('힘드신', 7507), ('내와라', 7508), ('정년', 7509), ('풀려난', 7510), ('잊어버릴', 7511), ('퇴직', 7512), ('쩔쩔', 7513), ('청개구리', 7514), ('고백', 7515), ('그럴래', 7516), ('다람쥐', 7517), ('질대', 7518), ('제수', 7519), ('끝장났', 7520), ('병문안', 7521), ('머리끄댕이', 7522), ('두들겨패', 7523), ('받들', 7524), ('떠요', 7525), ('선임', 7526), ('권리', 7527), ('진술', 7528), ('거부', 7529), ('날아갈', 7530), ('수갑차', 7531), ('던진', 7532), ('화염병', 7533), ('쏜다', 7534), ('첫제사', 7535), ('어물쩡', 7536), ('드러누워', 7537), ('은겨', 7538), ('각지', 7539), ('행운', 7540), ('둔다', 7541), ('투자', 7542), ('맞혔', 7543), ('신비', 7544), ('로웠', 7545), ('오랫동안', 7546), ('차린', 7547), ('댈', 7548), ('때려서', 7549), ('태어났으면', 7550), ('알긴', 7551), ('별수', 7552), ('데려온', 7553), ('뀌', 7554), ('투성이', 7555), ('뻥친', 7556), ('짭짤', 7557), ('악담', 7558), ('산대', 7559), ('달랠', 7560), ('성함', 7561), ('깁니까', 7562), ('그럴지도', 7563), ('졌으니', 7564), ('데려와', 7565), ('시달려야', 7566), ('라잖아', 7567), ('지졌', 7568), ('왁', 7569), ('고사리', 7570), ('멸치', 7571), ('말랭이', 7572), ('보름', 7573), ('고추', 7574), ('간디', 7575), ('운전자', 7576), ('벼룩', 7577), ('동영상', 7578), ('놨어야', 7579), ('아래쪽', 7580), ('아마', 7581), ('효녀', 7582), ('반가운', 7583), ('빌렸', 7584), ('생각없이', 7585), ('메이커', 7586), ('털레털레', 7587), ('뻐', 7588), ('장살', 7589), ('냄새나', 7590), ('을려구요', 7591), ('에이비', 7592), ('찾아봐도', 7593), ('간다면서', 7594), ('터진다는', 7595), ('볶여', 7596), ('쪼여', 7597), ('핀', 7598), ('키울', 7599), ('월급날', 7600), ('괴상', 7601), ('사도', 7602), ('정품', 7603), ('똑부러지', 7604), ('먼데로', 7605), ('드래', 7606), ('대봐', 7607), ('그렇지만', 7608), ('들먹거려', 7609), ('해야겠어', 7610), ('찝쩍', 7611), ('뱃살', 7612), ('빨빨', 7613), ('말꼬리', 7614), ('늘어질', 7615), ('장인', 7616), ('뵌다고', 7617), ('쓸데', 7618), ('이르', 7619), ('카리스마', 7620), ('들이대', 7621), ('뻥뻥치', 7622), ('킵', 7623), ('그러실', 7624), ('걸림돌', 7625), ('입혀서', 7626), ('쿵쿵', 7627), ('더럽힌', 7628), ('스러워서', 7629), ('영등포', 7630), ('쌍칼', 7631), ('쓴다는', 7632), ('상식', 7633), ('얄짤없', 7634), ('으셔야', 7635), ('붙여야', 7636), ('걸러서', 7637), ('간곡', 7638), ('실까봐', 7639), ('어쭈', 7640), ('잔금', 7641), ('편할', 7642), ('부대끼', 7643), ('으유', 7644), ('열흘', 7645), ('짼데', 7646), ('손찌검', 7647), ('삼거', 7648), ('리전', 7649), ('하룻밤', 7650), ('가까워질', 7651), ('전설', 7652), ('고향', 7653), ('각시방', 7654), ('똥그란', 7655), ('말랑말랑', 7656), ('씨씨', 7657), ('떨어져야', 7658), ('견뎠', 7659), ('발자국', 7660), ('정떨어지', 7661), ('토', 7662), ('밥통', 7663), ('기에', 7664), ('정신병자', 7665), ('부칠', 7666), ('인데도', 7667), ('따끔', 7668), ('친하', 7669), ('즉시', 7670), ('큰애', 7671), ('전해라', 7672), ('퀴즈', 7673), ('눈치껏', 7674), ('달랐', 7675), ('관둬라', 7676), ('랠', 7677), ('살까', 7678), ('목말라', 7679), ('나빠서', 7680), ('더없이', 7681), ('찰밥', 7682), ('시외버스', 7683), ('아닐걸', 7684), ('요구', 7685), ('볼께요', 7686), ('욕심내', 7687), ('이쁨', 7688), ('갈라고', 7689), ('빽빽', 7690), ('질러대', 7691), ('미지기', 7692), ('까탈', 7693), ('컵', 7694), ('되새겨', 7695), ('한걸', 7696), ('진다면', 7697), ('넘버', 7698), ('주차', 7699), ('삘이상', 7700), ('남아돌', 7701), ('부으신', 7702), ('건의', 7703), ('영업시간', 7704), ('구운', 7705), ('스테이', 7706), ('큰데', 7707), ('저장', 7708), ('모아야', 7709), ('산사람', 7710), ('누가요', 7711), ('저축', 7712), ('못질', 7713), ('애간장', 7714), ('태웠', 7715), ('꽈배기', 7716), ('털어먹', 7717), ('지각', 7718), ('생겨', 7719), ('내비둬유', 7720), ('수색', 7721), ('주무', 7722), ('번듯', 7723), ('땡기', 7724), ('씻겨', 7725), ('겉보기', 7726), ('물렁살', 7727), ('닥쳐', 7728), ('섞', 7729), ('죽여라', 7730), ('상한', 7731), ('쳇', 7732), ('새콤달콤', 7733), ('냥', 7734), ('독차지', 7735), ('드러누운', 7736), ('게으른', 7737), ('세금', 7738), ('제때', 7739), ('다녀와라', 7740), ('건성', 7741), ('지겹', 7742), ('목걸이', 7743), ('다이아', 7744), ('드실지', 7745), ('미워한다고', 7746), ('죄받', 7747), ('지켜봐', 7748), ('열나', 7749), ('열렬', 7750), ('저녁거리', 7751), ('까페', 7752), ('겁난다야', 7753), ('증거물', 7754), ('어울려서', 7755), ('부렀', 7756), ('송별', 7757), ('에미야', 7758), ('방구', 7759), ('도도', 7760), ('강했', 7761), ('감탄', 7762), ('빠짐없이', 7763), ('19', 7764), ('공적', 7765), ('살려서', 7766), ('꾀', 7767), ('죄죄', 7768), ('절일', 7769), ('빠뜨리', 7770), ('틀려', 7771), ('혼날까', 7772), ('공들인', 7773), ('만났으니', 7774), ('틀려먹', 7775), ('실리', 7776), ('재수사', 7777), ('히히덕대', 7778), ('나쁠', 7779), ('장난쳤', 7780), ('골드', 7781), ('슨', 7782), ('줄줄', 7783), ('....', 7784), ('건드려', 7785), ('서재', 7786), ('침실', 7787), ('뒷마무리', 7788), ('들어갈께', 7789), ('진다는', 7790), ('일종', 7791), ('사설', 7792), ('체하', 7793), ('휴게실', 7794), ('늘어진', 7795), ('설사병', 7796), ('기동대', 7797), ('분명히', 7798), ('주도', 7799), ('뻔허', 7800), ('붙어사', 7801), ('제차', 7802), ('동쪽', 7803), ('엄연', 7804), ('낯짝', 7805), ('뚜', 7806), ('미루', 7807), ('으래서', 7808), ('물어볼게요', 7809), ('뺏겨서', 7810), ('식히', 7811), ('일방', 7812), ('막무가내', 7813), ('한집', 7814), ('아내', 7815), ('쓰레기통', 7816), ('칠까봐', 7817), ('가잔', 7818), ('종살이', 7819), ('조상', 7820), ('만든다고', 7821), ('뺏어가', 7822), ('구시렁대', 7823), ('집어쳐', 7824), ('발맞춰', 7825), ('썩인', 7826), ('친해져', 7827), ('씹', 7828), ('올라갈께요', 7829), ('주물럭주물럭', 7830), ('등록금', 7831), ('다녀올께', 7832), ('눈칫밥', 7833), ('지껄여', 7834), ('버젓이', 7835), ('뜰래', 7836), ('어긋나', 7837), ('올린', 7838), ('꺽', 7839), ('잡아들일', 7840), ('골골', 7841), ('생중', 7842), ('부끄럼', 7843), ('꺼져도', 7844), ('친척', 7845), ('끌어내리', 7846), ('머', 7847), ('즈', 7848), ('가라', 7849), ('즐겁', 7850), ('없다', 7851), ('금슬', 7852), ('실제로', 7853), ('관계자', 7854), ('이겁니다', 7855), ('협회', 7856), ('사석', 7857), ('안타까운', 7858), ('해드릴', 7859), ('소립니까', 7860), ('난다니께', 7861), ('서러워서', 7862), ('상의', 7863), ('일렀', 7864), ('시집오', 7865), ('비꼬', 7866), ('그런대', 7867), ('목소린데', 7868), ('들어줄', 7869), ('밑창', 7870), ('간대요', 7871), ('개업식', 7872), ('작작', 7873), ('친정집', 7874), ('삐뚤어지', 7875), ('위상', 7876), ('진건', 7877), ('노고', 7878), ('산더', 7879), ('민', 7880), ('에잇', 7881), ('공', 7882), ('다잖니', 7883), ('새살', 7884), ('래드라', 7885), ('홀애비', 7886), ('아름다워', 7887), ('하다못해', 7888), ('조각', 7889), ('잡숴', 7890), ('꿀꺽', 7891), ('군', 7892), ('미신', 7893), ('우러', 7894), ('들쑥날쑥', 7895), ('빚진', 7896), ('몸뚱이', 7897), ('뜯어낼', 7898), ('물르', 7899), ('대수', 7900), ('보인', 7901), ('빈말', 7902), ('솥', 7903), ('올라와서', 7904), ('철철', 7905), ('넘쳐', 7906), ('눌', 7907), ('골라도', 7908), ('업소', 7909), ('쳐죽일', 7910), ('씨알', 7911), ('전망', 7912), ('셋집', 7913), ('밥걱정', 7914), ('불효자', 7915), ('호수', 7916), ('부를까요', 7917), ('그만뒀', 7918), ('유세', 7919), ('봐줘라', 7920), ('걸루', 7921), ('휴우', 7922), ('누군데요', 7923), ('맞혀', 7924), ('얼렁뚱땅', 7925), ('꿰맞추', 7926), ('놓인다', 7927), ('장한일', 7928), ('조만', 7929), ('청첩장', 7930), ('피난', 7931), ('계셔야', 7932), ('계실까', 7933), ('살해', 7934), ('노망', 7935), ('워쩌', 7936), ('비스', 7937), ('안내서', 7938), ('분통', 7939), ('액면', 7940), ('고마', 7941), ('마이', 7942), ('져라', 7943), ('투쟁', 7944), ('바랄게', 7945), ('뜹니까', 7946), ('위원회', 7947), ('재소', 7948), ('짜를', 7949), ('옳소', 7950), ('자란', 7951), ('교통경찰', 7952), ('들을까', 7953), ('잖니', 7954), ('다닌다며', 7955), ('그래두', 7956), ('들먹', 7957), ('빡세', 7958), ('돌려요', 7959), ('신대요', 7960), ('햄', 7961), ('구워서', 7962), ('갈일', 7963), ('지금껏', 7964), ('주인공', 7965), ('떠난다는', 7966), ('미끄러운', 7967), ('검산', 7968), ('떨어져요', 7969), ('맑', 7970), ('길들이', 7971), ('식대', 7972), ('만날까요', 7973), ('밀어줄', 7974), ('깨져도', 7975), ('인색', 7976), ('너그러워', 7977), ('간간', 7978), ('돌부리', 7979), ('가르칠려고', 7980), ('서러운데', 7981), ('수때', 7982), ('끌린', 7983), ('꿈꿨', 7984), ('든가요', 7985), ('어루만져', 7986), ('가려운', 7987), ('래잖니', 7988), ('가사', 7989), ('실습', 7990), ('조숙', 7991), ('더더욱', 7992), ('해얄', 7993), ('48', 7994), ('청구', 7995), ('사무소', 7996), ('내깐엔', 7997), ('무진장', 7998), ('애썼', 7999), ('나간다는', 8000), ('호고', 8001), ('실려간', 8002), ('번데', 8003), ('이용', 8004), ('낙', 8005), ('꼬신', 8006), ('죽치', 8007), ('그리운', 8008), ('애착', 8009), ('강한', 8010), ('손끝', 8011), ('찾아봐', 8012), ('벙거지', 8013), ('장갑', 8014), ('펴도', 8015), ('와준', 8016), ('장땡', 8017), ('이럴수록', 8018), ('몸가짐', 8019), ('놓여서', 8020), ('계신데요', 8021), ('달랬', 8022), ('싱싱', 8023), ('퇴근길', 8024), ('제사상', 8025), ('나눴', 8026), ('다네요', 8027), ('손칼국수', 8028), ('허허', 8029), ('꼬시', 8030), ('셧', 8031), ('통할', 8032), ('헤어져', 8033), ('물으면', 8034), ('아구찜', 8035), ('본론', 8036), ('스러운', 8037), ('수발', 8038), ('구멍', 8039), ('쳐요', 8040), ('쉬워요', 8041), ('냐니께', 8042), ('가능', 8043), ('짜르', 8044), ('요게', 8045), ('실려나', 8046), ('벌어먹', 8047), ('메꿀', 8048), ('끙끙대', 8049), ('볕', 8050), ('장독', 8051), ('엠티비', 8052), ('멤버', 8053), ('트레이닝', 8054), ('리더', 8055), ('으신다고', 8056), ('속여', 8057), ('번돈으로', 8058), ('가늘', 8059), ('칠푼이', 8060), ('느지막이', 8061), ('부엉이', 8062), ('화나', 8063), ('사살', 8064), ('낙장불입', 8065), ('발표', 8066), ('단칼', 8067), ('어떠신가', 8068), ('능자', 8069), ('갇혔', 8070), ('계감', 8071), ('했어야', 8072), ('배정', 8073), ('다네', 8074), ('예식', 8075), ('특강', 8076), ('죽인다', 8077), ('아악', 8078), ('일개', 8079), ('칠려고', 8080), ('꿈꿔', 8081), ('해볼래', 8082), ('유진', 8083), ('각별', 8084), ('어땠', 8085), ('책상머리', 8086), ('나간다고', 8087), ('기강', 8088), ('그럴려면', 8089), ('손상', 8090), ('말린다', 8091), ('모올', 8092), ('배워야지', 8093), ('윗사람', 8094), ('옮겼', 8095), ('반지하', 8096), ('가르치', 8097), ('실전', 8098), ('쑥', 8099), ('운거', 8100), ('무릎쓰', 8101), ('본답시고', 8102), ('해본', 8103), ('궁', 8104), ('클', 8105), ('찍찍', 8106), ('약했', 8107), ('먹인다고', 8108), ('안쓰럽', 8109), ('어엉', 8110), ('흔적', 8111), ('올려구', 8112), ('윗동', 8113), ('그러다가', 8114), ('튄다', 8115), ('야비', 8116), ('잠버릇', 8117), ('조난', 8118), ('불우', 8119), ('꼬여서', 8120), ('으셨는데', 8121), ('건어물', 8122), ('기구', 8123), ('치웁니다', 8124), ('그만둔', 8125), ('망하', 8126), ('뿡뿡', 8127), ('냉동실', 8128), ('후라이팬', 8129), ('발동', 8130), ('걸기', 8131), ('늦추', 8132), ('가도', 8133), ('다양', 8134), ('들락거리', 8135), ('홧김', 8136), ('일안', 8137), ('그야', 8138), ('술판', 8139), ('스러울수록', 8140), ('끝장내', 8141), ('벌개서', 8142), ('따라다닌다는', 8143), ('던진다면', 8144), ('통금', 8145), ('지켰', 8146), ('처넣', 8147), ('영락없', 8148), ('꿈꾸', 8149), ('편한지', 8150), ('껄끄럽', 8151), ('털털', 8152), ('조취', 8153), ('장하', 8154), ('술주정', 8155), ('들으실', 8156), ('못났', 8157), ('유머', 8158), ('모른다는', 8159), ('뺄려고', 8160), ('넘깁니다', 8161), ('들린다', 8162), ('싱겁', 8163), ('픕니다', 8164), ('일등', 8165), ('잖고', 8166), ('으흐흑', 8167), ('처지', 8168), ('딸리', 8169), ('콧구녕만해서', 8170), ('태산', 8171), ('즐겨', 8172), ('겉멋', 8173), ('들려서', 8174), ('는군', 8175), ('바뀐', 8176), ('들을라', 8177), ('판대', 8178), ('연장', 8179), ('기웃거리', 8180), ('낭패', 8181), ('뛰어다니', 8182), ('내지', 8183), ('스커트', 8184), ('위자', 8185), ('룐지', 8186), ('뜯겼', 8187), ('지낸', 8188), ('컸으니', 8189), ('차멀미', 8190), ('양가', 8191), ('계신다고', 8192), ('숩니다', 8193), ('뒤척', 8194), ('려니까', 8195), ('차내', 8196), ('찾아보', 8197), ('단칸', 8198), ('처방', 8199), ('우겨서', 8200), ('갈걸', 8201), ('윤활유', 8202), ('윤활', 8203), ('이래저래', 8204), ('라이프', 8205), ('플래너', 8206), ('헤어졌으면', 8207), ('뗀', 8208), ('아이스크림', 8209), ('몰아부치', 8210), ('엇', 8211), ('여행가', 8212), ('흰쌀밥', 8213), ('돌멩이', 8214), ('섞였', 8215), ('된맛', 8216), ('기념', 8217), ('쏴라', 8218), ('꽃등심', 8219), ('쿨하', 8220), ('섣부른', 8221), ('증조할아버지', 8222), ('전용', 8223), ('더라고', 8224), ('풀려요', 8225), ('삼켰', 8226), ('전문가', 8227), ('넘어갑니다', 8228), ('회산데', 8229), ('한다구', 8230), ('졸랐', 8231), ('으신가', 8232), ('조그만', 8233), ('중소기업', 8234), ('신세진', 8235), ('외울', 8236), ('성치', 8237), ('공장장', 8238), ('청혼', 8239), ('을매나', 8240), ('중매', 8241), ('쓸개', 8242), ('나간대', 8243), ('온다더니', 8244), ('래지', 8245), ('한도', 8246), ('혹시나', 8247), ('공들여서', 8248), ('드러내', 8249), ('옆집', 8250), ('냐면서', 8251), ('낼려', 8252), ('손버릇', 8253), ('질러요', 8254), ('청렴결백', 8255), ('가방끈', 8256), ('바쳐서', 8257), ('가세', 8258), ('수준', 8259), ('이란', 8260), ('베이컨', 8261), ('라스', 8262), ('분내', 8263), ('그랬잖아', 8264), ('으십니다', 8265), ('찾아갔', 8266), ('일거', 8267), ('나온지', 8268), ('빼낸', 8269), ('결백', 8270), ('명함', 8271), ('앞가림', 8272), ('정난', 8273), ('엄밀히', 8274), ('얽매여서', 8275), ('희생', 8276), ('받아들인', 8277), ('무를', 8278), ('눈도장', 8279), ('콕', 8280), ('여요', 8281), ('프러포즈', 8282), ('연속극', 8283), ('부른대', 8284), ('조문객', 8285), ('접대', 8286), ('아물', 8287), ('왈', 8288), ('쏟아지', 8289), ('익혀서', 8290), ('미세', 8291), ('옥', 8292), ('빨려', 8293), ('선다고', 8294), ('나온대요', 8295), ('술값', 8296), ('들여가', 8297), ('손댄', 8298), ('주물럭거려서', 8299), ('불고기', 8300), ('들락거려', 8301), ('살펴봤', 8302), ('꼼꼼', 8303), ('인대도', 8304), ('학비', 8305), ('살맛', 8306), ('뒷감당', 8307), ('내력', 8308), ('속인다', 8309), ('떠야', 8310), ('미친다', 8311), ('안겨준', 8312), ('짤리', 8313), ('극단', 8314), ('쳐다볼', 8315), ('잰', 8316), ('낙제', 8317), ('수강', 8318), ('문연', 8319), ('내차', 8320), ('보채', 8321), ('불를', 8322), ('씻긴', 8323), ('늘어지', 8324), ('후벼', 8325), ('닥쳐서', 8326), ('고만', 8327), ('쑨다고', 8328), ('넘긴', 8329), ('날아올', 8330), ('간소', 8331), ('실반', 8332), ('서둘러야', 8333), ('정의감', 8334), ('불타', 8335), ('칼자루', 8336), ('보탬', 8337), ('비켜요', 8338), ('때릴', 8339), ('벗기', 8340), ('종짓', 8341), ('아슬아슬', 8342), ('혀야', 8343), ('잡수', 8344), ('상설', 8345), ('매장', 8346), ('아름다운', 8347), ('깨나', 8348), ('눈곱', 8349), ('딴딴', 8350), ('흘러간', 8351), ('돌아봐', 8352), ('똥물', 8353), ('흘러가', 8354), ('존중', 8355), ('돌아설', 8356), ('꽜', 8357), ('식품', 8358), ('초대장', 8359), ('라이벌', 8360), ('나갑니다', 8361), ('깊이', 8362), ('잠드', 8363), ('불러야', 8364), ('엿', 8365), ('꼭꼭', 8366), ('뒤적거려', 8367), ('흙탕물', 8368), ('아버진데', 8369), ('맞벌이', 8370), ('덥석', 8371), ('중학생', 8372), ('돈타령', 8373), ('빠뜨린', 8374), ('돼도', 8375), ('뻠뿌질', 8376), ('섰으니', 8377), ('모두', 8378), ('이골', 8379), ('맨손', 8380), ('후식', 8381), ('딸기', 8382), ('보상', 8383), ('가랑잎', 8384), ('뒤끝', 8385), ('아이디어', 8386), ('내보', 8387), ('웰컴', 8388), ('하이', 8389), ('박혔', 8390), ('나온다면', 8391), ('돌려줄', 8392), ('해석', 8393), ('근무자', 8394), ('아드님', 8395), ('두려웠', 8396), ('노심', 8397), ('초사', 8398), ('물어뜯', 8399), ('냈으면', 8400), ('쳐야지', 8401), ('오르락내리락', 8402), ('강당', 8403), ('독이', 8404), ('타입', 8405), ('주물럭대', 8406), ('그린다', 8407), ('뒤통수', 8408), ('어쨌거나', 8409), ('이왕준', 8410), ('개천', 8411), ('나아요', 8412), ('말버릇', 8413), ('라곤', 8414), ('어느새', 8415), ('끝납니다', 8416), ('숨겨둔', 8417), ('여겨요', 8418), ('매운탕', 8419), ('구이', 8420), ('애고', 8421), ('회산', 8422), ('아십니까', 8423), ('맞춰야지', 8424), ('돌아다닐', 8425), ('끈', 8426), ('질겨', 8427), ('외로웠을', 8428), ('봐둬', 8429), ('징징대', 8430), ('보나마나', 8431), ('군식구', 8432), ('설칠', 8433), ('하얘', 8434), ('인상', 8435), ('허용', 8436), ('실체', 8437), ('과하', 8438), ('솥뚜껑', 8439), ('놀란다고', 8440), ('마나', 8441), ('굴린', 8442), ('취조실', 8443), ('잡아뗄', 8444), ('고운', 8445), ('는디야', 8446), ('위해선', 8447), ('익수', 8448), ('건져서', 8449), ('위급', 8450), ('절망', 8451), ('황홀', 8452), ('자자', 8453), ('준지', 8454), ('차려도', 8455), ('맛보', 8456), ('신다니까', 8457), ('귀헌', 8458), ('빛바랜', 8459), ('차츰차츰', 8460), ('쪄서', 8461), ('죽일려고', 8462), ('살인자', 8463), ('견뎌낼', 8464), ('똥개', 8465), ('터진다', 8466), ('독한', 8467), ('몰라보', 8468), ('산요', 8469), ('서러운', 8470), ('렴', 8471), ('으랬', 8472), ('막가', 8473), ('고칠라고', 8474), ('고래고래', 8475), ('계셨으면', 8476), ('덴가', 8477), ('쭉', 8478), ('차려놨', 8479), ('는대유', 8480), ('탈락', 8481), ('계신가', 8482), ('노닥거려', 8483), ('내준', 8484), ('탈렌트', 8485), ('심오', 8486), ('심층', 8487), ('심도', 8488), ('임시', 8489), ('얼씨구', 8490), ('보험계약', 8491), ('럽', 8492), ('꼭대기', 8493), ('빠져나가', 8494), ('팥', 8495), ('준디야', 8496), ('제명', 8497), ('디자이너', 8498), ('디게', 8499), ('오가', 8500), ('대주', 8501), ('묵비권', 8502), ('끝내준다', 8503), ('도가니', 8504), ('매가', 8505), ('무쳤', 8506), ('신거', 8507), ('걸텐데', 8508), ('부쳐', 8509), ('그담', 8510), ('트이', 8511), ('엉기', 8512), ('차나', 8513), ('쪽팔리', 8514), ('천직', 8515), ('태어났', 8516), ('말투', 8517), ('싹뚝', 8518), ('싸워요', 8519), ('말라서', 8520), ('관리직', 8521), ('쓴지', 8522), ('극복', 8523), ('짠지', 8524), ('올릴래', 8525), ('상한다', 8526), ('감서', 8527), ('써준', 8528), ('선디', 8529), ('팅게', 8530), ('오디', 8531), ('파묻혀', 8532), ('가책', 8533), ('롤', 8534), ('쟬', 8535), ('내흉', 8536), ('동등', 8537), ('다녀갔', 8538), ('단호', 8539), ('끄떡', 8540), ('연상', 8541), ('도망다니', 8542), ('아닐', 8543), ('식모살이', 8544), ('공범', 8545), ('동승자', 8546), ('존일', 8547), ('현행범', 8548), ('꼬박', 8549), ('속알', 8550), ('마안', 8551), ('부피', 8552), ('최하', 8553), ('키워도', 8554), ('약도', 8555), ('그린', 8556), ('어거지', 8557), ('날강도', 8558), ('계신다는', 8559), ('모', 8560), ('주마', 8561), ('사겼었', 8562), ('별꼴', 8563), ('뺀질', 8564), ('경찰복', 8565), ('릴', 8566), ('살얼음판', 8567), ('그럴려구', 8568), ('엄', 8569), ('해놨으니까', 8570), ('무데기', 8571), ('쏟아진다', 8572), ('낚였', 8573), ('아담', 8574), ('타고났', 8575), ('빚더미', 8576), ('평수', 8577), ('힘든가', 8578), ('데려갈', 8579), ('일러바친', 8580), ('인정받', 8581), ('염색', 8582), ('민요', 8583), ('감시', 8584), ('신댔으니까', 8585), ('오히려', 8586), ('워낙에', 8587), ('놔서', 8588), ('어린데', 8589), ('철없', 8590), ('다독거려', 8591), ('비면', 8592), ('내줬', 8593), ('엉겨', 8594), ('가셔야', 8595), ('교사', 8596), ('찾아뵌', 8597), ('흉본', 8598), ('으로서', 8599), ('그럴까', 8600), ('뱀', 8601), ('판검사', 8602), ('종이배', 8603), ('종이비행기', 8604), ('쭈욱', 8605), ('연례행사', 8606), ('기요', 8607), ('더할', 8608), ('따돌릴', 8609), ('단체', 8610), ('쨀', 8611), ('썩여서', 8612), ('버릴란다', 8613), ('래두', 8614), ('꼬나박', 8615), ('일만', 8616), ('졸라대', 8617), ('살아온', 8618), ('맘속', 8619), ('난일', 8620), ('나빴', 8621), ('뒤지게', 8622), ('수영', 8623), ('꼬로록', 8624), ('일원', 8625), ('백통', 8626), ('통화량', 8627), ('소모', 8628), ('빈껍데기', 8629), ('응큼', 8630), ('내려갔', 8631), ('어정', 8632), ('사정사정', 8633), ('줘야겠다', 8634), ('다닌다고', 8635), ('조절', 8636), ('챙겨온', 8637), ('용건', 8638), ('하루빨리', 8639), ('발버둥', 8640), ('부아', 8641), ('치밀', 8642), ('부들부들', 8643), ('부둥켜', 8644), ('괴로워한', 8645), ('돌이킬', 8646), ('꾸려', 8647), ('힘없', 8648), ('차남', 8649), ('부랴부랴', 8650), ('천년만년', 8651), ('자선', 8652), ('해드릴까요', 8653), ('삼인', 8654), ('대안', 8655), ('원하', 8656), ('울궈먹', 8657), ('천만다행', 8658), ('죄졌', 8659), ('그래라', 8660), ('서럽', 8661), ('때렸으니', 8662), ('싼다', 8663), ('보답', 8664), ('무거웠', 8665), ('여경', 8666), ('젖혀', 8667), ('돌아왔', 8668), ('프랑스', 8669), ('여건', 8670), ('느낀', 8671), ('제갈', 8672), ('삼백', 8673), ('나머진', 8674), ('치자', 8675), ('지워진다', 8676), ('깟', 8677), ('이발', 8678), ('갈라면', 8679), ('보낸다고', 8680), ('막차', 8681), ('운동장', 8682), ('짊어지', 8683), ('온다는데', 8684), ('부정', 8685), ('맹아', 8686), ('해꼬지', 8687), ('워딜', 8688), ('파인애플', 8689), ('괄세', 8690), ('박쥐', 8691), ('빠른지', 8692), ('늘어놓', 8693), ('입장료', 8694), ('몸조리', 8695), ('샀으면', 8696), ('그려도', 8697), ('뒤집혀', 8698), ('나섰', 8699), ('래니까', 8700), ('튕겨', 8701), ('인격', 8702), ('배고픈데', 8703), ('나올걸', 8704), ('자도', 8705), ('방식', 8706), ('큰애기', 8707), ('사신', 8708), ('수상쩍', 8709), ('똑똑히', 8710), ('감당', 8711), ('다냐', 8712), ('이겁니까', 8713), ('교', 8714), ('문책', 8715), ('아플까', 8716), ('게을러', 8717), ('대목', 8718), ('김새', 8719), ('쟁여', 8720), ('작년', 8721), ('끼치', 8722), ('고자', 8723), ('찌질이', 8724), ('살쪄', 8725), ('마른', 8726), ('인근', 8727), ('뱁니다', 8728), ('철렁', 8729), ('육하원칙', 8730), ('의거', 8731), ('업보', 8732), ('추', 8733), ('춰', 8734), ('저흰', 8735), ('볼까요', 8736), ('사형', 8737), ('아셔', 8738), ('체질', 8739), ('벴', 8740), ('6', 8741), ('신다니', 8742), ('댄가', 8743), ('졸업장', 8744), ('와봐라', 8745), ('외며느리', 8746), ('쪘', 8747), ('소탈', 8748), ('부디', 8749), ('사로잡', 8750), ('살린다는', 8751), ('찬란', 8752), ('모았', 8753), ('들먹여', 8754), ('식성', 8755), ('까다롭', 8756), ('골골대', 8757), ('꼼장어랑', 8758), ('괜한', 8759), ('꼬투리', 8760), ('별짓', 8761), ('팽배', 8762), ('추울까', 8763), ('수퍼맨', 8764), ('게든', 8765), ('개고생', 8766), ('광고', 8767), ('흔들린', 8768), ('듭니다', 8769), ('애초', 8770), ('맞아들여', 8771), ('마신다', 8772), ('일찍이', 8773), ('주물러라', 8774), ('윙크', 8775), ('날리', 8776), ('칸', 8777), ('버무리', 8778), ('떠드', 8779), ('뛰어들어오', 8780), ('러브', 8781), ('샷', 8782), ('성큼', 8783), ('잡아끌', 8784), ('사방', 8785), ('유리문', 8786), ('벗겨져', 8787), ('대초', 8788), ('만지', 8789), ('시큰', 8790), ('덤벼들', 8791), ('갈기', 8792), ('묘한', 8793), ('미소', 8794), ('휴지통', 8795), ('기대서', 8796), ('스케치', 8797), ('헤벌어지', 8798), ('선글라스', 8799), ('의아', 8800), ('엎드렸', 8801), ('바구니', 8802), ('케이크', 8803), ('멈춘', 8804), ('나타난', 8805), ('달아나', 8806), ('쓸쓸히', 8807), ('벨', 8808), ('물러서', 8809), ('웅성대', 8810), ('눈짓', 8811), ('달려오', 8812), ('문틈', 8813), ('쪼르륵', 8814), ('다림질', 8815), ('일행', 8816), ('호루라기', 8817), ('삑', 8818), ('서너', 8819), ('규모', 8820), ('처방전', 8821), ('난입', 8822), ('틀어막', 8823), ('손빨래', 8824), ('허둥대', 8825), ('찮고', 8826), ('걸이', 8827), ('저녁상', 8828), ('하품', 8829), ('부축', 8830), ('뿌리치', 8831), ('거품', 8832), ('수갑찬', 8833), ('어둡', 8834), ('전등', 8835), ('발버둥치', 8836), ('땅바닥', 8837), ('으악', 8838), ('주차장', 8839), ('팬', 8840), ('승용차', 8841), ('눈부시', 8842), ('벙', 8843), ('포과', 8844), ('눈가', 8845), ('붉어지', 8846), ('빨라', 8847), ('반가워서', 8848), ('커지', 8849), ('달려온', 8850), ('돈다', 8851), ('헛웃음', 8852), ('뒤쫓아가', 8853), ('헬멧', 8854), ('하얗', 8855), ('뛰어와', 8856), ('달력', 8857), ('요란', 8858), ('분두', 8859), ('뒤뜰', 8860), ('맺히', 8861), ('꼬르륵', 8862), ('봉', 8863), ('부셔', 8864)])\n"
          ]
        }
      ]
    },
    {
      "cell_type": "code",
      "source": [
        "\"\"\"\n",
        "#embedding matrix 압축해제\n",
        "%cd /content/drive/MyDrive/KERC2022\n",
        "!unzip -qq \"/content/drive/MyDrive/KERC2022/word-embeddings.zip\"\n",
        "\"\"\""
      ],
      "metadata": {
        "colab": {
          "base_uri": "https://localhost:8080/"
        },
        "id": "EHI4Ro8e0Tu3",
        "outputId": "924eba50-5c15-4c2b-a8d0-bf1724eb5182"
      },
      "execution_count": 19,
      "outputs": [
        {
          "output_type": "stream",
          "name": "stdout",
          "text": [
            "/content/drive/MyDrive/KERC2022\n",
            "replace word-embeddings/word2vec/word2vec? [y]es, [n]o, [A]ll, [N]one, [r]ename: "
          ]
        }
      ]
    },
    {
      "cell_type": "code",
      "source": [
        "embedding_dict = dict()\n",
        "f=open('/content/drive/MyDrive/KERC2022/word-embeddings/glove/glove.txt', encoding=\"utf8\")\n",
        "\n",
        "for line in f:\n",
        "  word_vector = line.split()\n",
        "  word = word_vector[0]\n",
        "\n",
        "  word_vector_arr = np.asarray(word_vector[1:], dtype='float32')\n",
        "  embedding_dict[word]=word_vector_arr\n",
        "f.close()\n",
        "\n",
        "print('%s개의 Embedding vector가 있습니다.' %len(embedding_dict))\n"
      ],
      "metadata": {
        "colab": {
          "base_uri": "https://localhost:8080/"
        },
        "id": "_7O7lvFR1aBj",
        "outputId": "abaeebc7-f855-454c-f856-9464f814fea4"
      },
      "execution_count": 20,
      "outputs": [
        {
          "output_type": "stream",
          "name": "stdout",
          "text": [
            "358043개의 Embedding vector가 있습니다.\n"
          ]
        }
      ]
    },
    {
      "cell_type": "code",
      "source": [
        "#100차원 embedding\n",
        "print(len(embedding_dict['잘']))"
      ],
      "metadata": {
        "colab": {
          "base_uri": "https://localhost:8080/"
        },
        "id": "6mnwCsY28z20",
        "outputId": "cbbfd5d8-0eea-4a9d-f162-7ed6812925ea"
      },
      "execution_count": 21,
      "outputs": [
        {
          "output_type": "stream",
          "name": "stdout",
          "text": [
            "100\n"
          ]
        }
      ]
    },
    {
      "cell_type": "code",
      "source": [
        "embedding_matrix = np.zeros((NUM_WORDS, 100))\n",
        "print(np.shape(embedding_matrix))\n"
      ],
      "metadata": {
        "colab": {
          "base_uri": "https://localhost:8080/"
        },
        "id": "D562G1Hp_IxW",
        "outputId": "c7dd1930-aca6-448c-d2c6-808bf12b6d5a"
      },
      "execution_count": 22,
      "outputs": [
        {
          "output_type": "stream",
          "name": "stdout",
          "text": [
            "(15000, 100)\n"
          ]
        }
      ]
    },
    {
      "cell_type": "code",
      "source": [
        "print(word_index.items())\n",
        "print('단어 word index 가 4인 고에 대한 임베딩 벡터:', embedding_dict['고'])"
      ],
      "metadata": {
        "colab": {
          "base_uri": "https://localhost:8080/"
        },
        "id": "pIb4ZVIZCcvj",
        "outputId": "98c431eb-ec91-478b-aca4-8be3cacdb845"
      },
      "execution_count": 23,
      "outputs": [
        {
          "output_type": "stream",
          "name": "stdout",
          "text": [
            "dict_items([('<OOV>', 1), ('.', 2), ('는', 3), ('고', 4), ('하', 5), ('?', 6), (',', 7), ('이', 8), ('에', 9), ('가', 10), ('은', 11), ('측', 12), ('결', 13), ('어', 14), ('이상', 15), ('도', 16), ('보', 17), ('들', 18), ('다', 19), ('지', 20), ('어영', 21), ('우미', 22), ('게', 23), ('안', 24), ('거', 25), ('들오', 26), ('건강', 27), ('면', 28), ('난', 29), ('해', 30), ('있', 31), ('현찰', 32), ('며', 33), ('을', 34), ('나', 35), ('에서', 36), ('아', 37), ('청', 38), ('앉', 39), ('말', 40), ('한', 41), ('서', 42), ('나오', 43), ('으로', 44), ('야', 45), ('는데', 46), ('과자', 47), ('순경', 48), ('겠', 49), ('내', 50), ('먹', 51), ('사람', 52), ('범인', 53), ('뭐', 54), ('만', 55), ('없', 56), ('니', 57), ('오', 58), ('놓', 59), ('알', 60), ('좋', 61), ('일', 62), ('주', 63), ('좀', 64), ('재수', 65), ('했', 66), ('냐', 67), ('그', 68), ('자', 69), ('못', 70), ('로', 71), ('왜', 72), ('얼른', 73), ('님', 74), ('잘', 75), ('던', 76), ('되', 77), ('어요', 78), ('었', 79), ('너', 80), ('부영', 81), ('솔', 82), ('한테', 83), ('아니', 84), ('요', 85), ('아부지', 86), ('받', 87), ('할', 88), ('집', 89), ('뒤따라', 90), ('앞', 91), ('마', 92), ('남', 93), ('우리', 94), ('형', 95), ('..', 96), ('세요', 97), ('기', 98), ('옷', 99), ('살', 100), ('시', 101), ('들어서', 102), ('습니다', 103), ('예', 104), ('같', 105), ('선', 106), ('핸', 107), ('생각', 108), ('애', 109), ('탄', 110), ('들어오', 111), ('그런', 112), ('면서', 113), ('소리', 114), ('았', 115), ('라고', 116), ('네', 117), ('엄마', 118), ('않', 119), ('두', 120), ('봐', 121), ('대', 122), ('연희', 123), ('차', 124), ('급히', 125), ('돈', 126), ('으면', 127), ('지금', 128), ('그러', 129), ('저', 130), ('까지', 131), ('내리', 132), ('방', 133), ('잡', 134), ('문', 135), ('라', 136), ('번', 137), ('건', 138), ('종', 139), ('쪽', 140), ('마주', 141), ('줄', 142), ('때', 143), ('사', 144), ('경찰', 145), ('어머니', 146), ('입', 147), ('무슨', 148), ('!', 149), ('나가', 150), ('죠', 151), ('그대로', 152), ('와', 153), ('오빠', 154), ('싶', 155), ('중', 156), ('수', 157), ('그래', 158), ('지만', 159), ('어디', 160), ('듯', 161), ('제', 162), ('설거지', 163), ('니까', 164), ('펀', 165), ('혼수', 166), ('됐', 167), ('결혼', 168), ('어서', 169), ('치', 170), ('마시', 171), ('기다리', 172), ('데', 173), ('죽', 174), ('어떻게', 175), ('아서', 176), ('현관', 177), ('그렇게', 178), ('여자', 179), ('다고', 180), ('걸어오', 181), ('의', 182), ('뭔가', 183), ('그럼', 184), ('라도', 185), ('열', 186), ('식구', 187), ('왔', 188), ('돼', 189), ('둘러앉', 190), ('서로', 191), ('더', 192), ('하나', 193), ('를', 194), ('잖아', 195), ('그냥', 196), ('이런', 197), ('모르', 198), ('꺼내', 199), ('상태', 200), ('쓰', 201), ('밥', 202), ('셨', 203), ('옆', 204), ('한쪽', 205), ('일어나', 206), ('전', 207), ('에요', 208), ('인', 209), ('물', 210), ('열리', 211), ('손', 212), ('채', 213), ('눈', 214), ('위', 215), ('랑', 216), ('오늘', 217), ('동서', 218), ('넣', 219), ('뛰', 220), ('뒤', 221), ('태백', 222), ('부터', 223), ('몸', 224), ('침대', 225), ('앞서', 226), ('고개', 227), ('얘기', 228), ('울', 229), ('많', 230), ('대문', 231), ('혼자', 232), ('주방', 233), ('술', 234), ('맞', 235), ('당신', 236), ('놈', 237), ('준비', 238), ('자기', 239), ('봤', 240), ('그래도', 241), ('서류', 242), ('다가', 243), ('해서', 244), ('과일', 245), ('러', 246), ('해요', 247), ('는지', 248), ('과', 249), ('갔', 250), ('그게', 251), ('전화', 252), ('이렇게', 253), ('닦', 254), ('누운', 255), ('것', 256), ('적', 257), ('갖', 258), ('이나', 259), ('인데', 260), ('여기', 261), ('똑똑', 262), ('잠든', 263), ('막', 264), ('보이', 265), ('이거', 266), ('이미', 267), ('응', 268), ('치장', 269), ('사중', 270), ('신경', 271), ('벗', 272), ('난리', 273), ('언제', 274), ('으며', 275), ('들어가', 276), ('타', 277), ('같이', 278), ('어떡', 279), ('바로', 280), ('눈치보', 281), ('사진', 282), ('버리', 283), ('뭘', 284), ('인사', 285), ('탁자', 286), ('울리', 287), ('찻잔', 288), ('시간', 289), ('많이', 290), ('둘', 291), ('너무', 292), ('머리', 293), ('몇', 294), ('또', 295), ('그렇', 296), ('언니', 297), ('싫', 298), ('네요', 299), ('세', 300), ('김', 301), ('아냐', 302), ('누가', 303), ('기겁', 304), ('멈칫', 305), ('없이', 306), ('딴', 307), ('얼굴', 308), ('걸', 309), ('꼭', 310), ('얼마나', 311), ('넌', 312), ('신문', 313), ('아무', 314), ('와서', 315), ('잠깐', 316), ('아요', 317), ('한다', 318), ('입구', 319), ('줘', 320), ('멈추', 321), ('해도', 322), ('속', 323), ('공부', 324), ('웃음', 325), ('엎드려', 326), ('폰', 327), ('(', 328), (')', 329), ('진짜', 330), ('불안', 331), ('말씀', 332), ('범용', 333), ('음식', 334), ('맘', 335), ('싸', 336), ('정도', 337), ('날', 338), ('문자', 339), ('아버님', 340), ('만나', 341), ('모습', 342), ('성미', 343), ('저만치', 344), ('이게', 345), ('아주', 346), ('지나가', 347), ('아침', 348), ('전부', 349), ('웃', 350), ('느라', 351), ('사장', 352), ('빨리', 353), ('다시', 354), ('작', 355), ('잔', 356), ('상황', 357), ('식탁', 358), ('큰', 359), ('떼', 360), ('속상해', 361), ('그거', 362), ('찜질방', 363), ('다니', 364), ('아직', 365), ('아줌마', 366), ('일동', 367), ('마다', 368), ('정신없', 369), ('근데', 370), ('된', 371), ('남자', 372), ('나온', 373), ('계속', 374), ('바람', 375), ('불편', 376), ('택시', 377), ('참', 378), ('저녁', 379), ('출근', 380), ('바닥', 381), ('나란히', 382), ('서장', 383), ('자식', 384), ('불', 385), ('통화', 386), ('자리', 387), ('달', 388), ('긴', 389), ('합니다', 390), ('대로', 391), ('손잡', 392), ('이러', 393), ('신', 394), ('숙이', 395), ('걱정', 396), ('든', 397), ('처럼', 398), ('년', 399), ('딱', 400), ('그랬', 401), ('식', 402), ('정말', 403), ('박사장', 404), ('짓', 405), ('온', 406), ('될', 407), ('튀', 408), ('쟁반', 409), ('당장', 410), ('놀', 411), ('괜찮', 412), ('뜨', 413), ('우', 414), ('지구대', 415), ('가방', 416), ('노크', 417), ('일단', 418), ('죄송', 419), ('열심히', 420), ('다리', 421), ('기분', 422), ('보다', 423), ('하고', 424), ('나중', 425), ('못하', 426), ('정리', 427), ('확', 428), ('노트북', 429), ('누구', 430), ('힘들', 431), ('분', 432), ('듣', 433), ('담', 434), ('빨', 435), ('구요', 436), ('더니', 437), ('땜', 438), ('어도', 439), ('잘못', 440), ('음', 441), ('이불', 442), ('강청', 443), ('등', 444), ('끌', 445), ('덤비', 446), ('커피', 447), ('탁', 448), ('들어와', 449), ('드라', 450), ('슥', 451), ('거울', 452), ('싸우', 453), ('다른', 454), ('그만', 455), ('해야지', 456), ('잖아요', 457), ('챙겨', 458), ('씩', 459), ('그것', 460), ('이것저것', 461), ('봐요', 462), ('이제', 463), ('해야', 464), ('털', 465), ('본', 466), ('드', 467), ('에게', 468), ('어려운', 469), ('구대', 470), ('2', 471), ('몰라', 472), ('미', 473), ('숨', 474), ('주식', 475), ('구두', 476), ('뒤따르', 477), ('해라', 478), ('검사', 479), ('끊', 480), ('사랑', 481), ('김치', 482), ('어깨', 483), ('책상', 484), ('등등', 485), ('보따리', 486), ('삼', 487), ('고생', 488), ('아빠', 489), ('한데', 490), ('무조건', 491), ('찾', 492), ('맛있', 493), ('돌아서', 494), ('손가락', 495), ('척', 496), ('씻', 497), ('차리', 498), ('탁탁', 499), ('와락', 500), ('눈치', 501), ('그걸', 502), ('바쁘', 503), ('먼저', 504), ('잔뜩', 505), ('소개', 506), ('살피', 507), ('숨차', 508), ('펼쳐', 509), ('까', 510), ('엔', 511), ('테', 512), ('일찍', 513), ('친구', 514), ('섰', 515), ('용', 516), ('초조', 517), ('결혼식', 518), ('장', 519), ('세상', 520), ('걔', 521), ('빼', 522), ('그래서', 523), ('길', 524), ('상', 525), ('라면', 526), ('놀라', 527), ('창밖', 528), ('우당탕', 529), ('피곤', 530), ('옛날', 531), ('개', 532), ('절', 533), ('여', 534), ('어영부영', 535), ('잠시', 536), ('접시', 537), ('늦', 538), ('그놈', 539), ('으니까', 540), ('찍', 541), ('아프', 542), ('부침개', 543), ('두리번대', 544), ('놓인', 545), ('<', 546), ('>', 547), ('아들', 548), ('이건', 549), ('부모', 550), ('거든요', 551), ('보고', 552), ('쌩', 553), ('냉장고', 554), ('들여다보', 555), ('구', 556), ('봐야', 557), ('봐라', 558), ('가만', 559), ('데리', 560), ('들온', 561), ('연락', 562), ('보여', 563), ('준', 564), ('래', 565), ('깨', 566), ('따라', 567), ('란', 568), ('그때', 569), ('제사', 570), ('마세요', 571), ('나이', 572), ('계란', 573), ('여기저기', 574), ('거리', 575), ('살짝', 576), ('일어서', 577), ('끙끙', 578), ('잖', 579), ('그럴', 580), ('는다', 581), ('돌아보', 582), ('얌전히', 583), ('한복', 584), ('심하', 585), ('갈아입', 586), ('병원', 587), ('거기', 588), ('후', 589), ('아까', 590), ('배', 591), ('적당히', 592), ('주인', 593), ('밖', 594), ('비닐봉지', 595), ('무심코', 596), ('오토바이', 597), ('지내', 598), ('경사', 599), ('셋', 600), ('통', 601), ('돼요', 602), ('넘어가', 603), ('정신', 604), ('낼', 605), ('혹시', 606), ('아주버님', 607), ('유치장', 608), ('멋지', 609), ('명품', 610), ('재', 611), ('고선', 612), ('취객', 613), ('은데', 614), ('솔직히', 615), ('십시요', 616), ('도련', 617), ('사이', 618), ('잠', 619), ('애기', 620), ('크', 621), ('어딨', 622), ('이혼', 623), ('흔들', 624), ('팔', 625), ('형수', 626), ('떨어져', 627), ('떨어지', 628), ('방범', 629), ('외면', 630), ('연채', 631), ('끄집어내', 632), ('탕탕', 633), ('환자복', 634), ('움직여', 635), ('돌', 636), ('걸로', 637), ('자고', 638), ('고기', 639), ('이번', 640), ('원', 641), ('모양', 642), ('미안', 643), ('습니까', 644), ('쇼핑', 645), ('믿', 646), ('어쩔', 647), ('널', 648), ('다는', 649), ('주먹', 650), ('확인', 651), ('끼', 652), ('띵동', 653), ('씽크', 654), ('장바구니', 655), ('딸', 656), ('그건', 657), ('땐', 658), ('갚', 659), ('꼴', 660), ('팀장', 661), ('어떻', 662), ('감', 663), ('려는', 664), ('운전', 665), ('국', 666), ('안방', 667), ('마침', 668), ('눈물나', 669), ('벽', 670), ('오징어', 671), ('떠올리', 672), ('다가가', 673), ('층', 674), ('날려', 675), ('붕대', 676), ('액자', 677), ('울먹', 678), ('고맙', 679), ('마음', 680), ('어야', 681), ('어라', 682), ('할게', 683), ('끓이', 684), ('쌓인', 685), ('잡아채', 686), ('던지', 687), ('형제', 688), ('최고', 689), ('써', 690), ('신랑', 691), ('입니다', 692), ('나와', 693), ('밖에', 694), ('인지', 695), ('몰랐', 696), ('텐데', 697), ('넘기', 698), ('눈물', 699), ('터지', 700), ('앓', 701), ('쪼그려', 702), ('세워', 703), ('지방', 704), ('한가득', 705), ('우루루', 706), ('머니', 707), ('걸레질', 708), ('십', 709), ('필요', 710), ('동생', 711), ('이럴', 712), ('약', 713), ('아픈', 714), ('할머니', 715), ('쌀', 716), ('그릇', 717), ('샤워', 718), ('제기', 719), ('돌아앉', 720), ('내려놓', 721), ('상마', 722), ('경과', 723), ('부탁', 724), ('라는', 725), ('벌써', 726), ('법', 727), ('야지', 728), ('보내', 729), ('바쁜', 730), ('쫓아가', 731), ('첨', 732), ('겨우', 733), ('하루', 734), ('나왔', 735), ('좁', 736), ('이리저리', 737), ('업', 738), ('노래', 739), ('긴장', 740), ('봉지', 741), ('긴장감', 742), ('착잡', 743), ('이어', 744), ('바르', 745), ('서성이', 746), ('아파트', 747), ('아무리', 748), ('짐', 749), ('드리', 750), ('이랑', 751), ('연애', 752), ('간', 753), ('올리', 754), ('어머', 755), ('세우', 756), ('근무', 757), ('건데', 758), ('부부', 759), ('식사', 760), ('떠', 761), ('반찬', 762), ('딱한', 763), ('펴', 764), ('각자', 765), ('허걱', 766), ('손들', 767), ('벌', 768), ('다며', 769), ('갈', 770), ('으니', 771), ('젤', 772), ('겄', 773), ('요즘', 774), ('가슴', 775), ('형수님', 776), ('경감', 777), ('문제', 778), ('끝', 779), ('이놈', 780), ('싸매', 781), ('시끄럽', 782), ('돌리', 783), ('티비', 784), ('어딘가', 785), ('차려진', 786), ('마악', 787), ('놓였', 788), ('허공', 789), ('빼꼼', 790), ('우세', 791), ('맨날', 792), ('쪼르르', 793), ('절대', 794), ('아야', 795), ('인가', 796), ('얻', 797), ('장남', 798), ('든가', 799), ('열받', 800), ('보험', 801), ('틈', 802), ('장난치', 803), ('깎', 804), ('팅', 805), ('케익', 806), ('앞치마', 807), ('소파', 808), ('보리차', 809), ('봉투', 810), ('쉬', 811), ('몰라도', 812), ('급하', 813), ('는데요', 814), ('한다고', 815), ('가족', 816), ('허리', 817), ('마누라', 818), ('여러', 819), ('났', 820), ('엉망', 821), ('심란', 822), ('빨랫감', 823), ('배운', 824), ('축하', 825), ('슬쩍', 826), ('묶', 827), ('둘러보', 828), ('후다닥', 829), ('여배우', 830), ('으흑', 831), ('들어', 832), ('헐떡이', 833), ('내미', 834), ('태실', 835), ('며느리', 836), ('울엄마', 837), ('똑같이', 838), ('안녕', 839), ('예에', 840), ('시켜', 841), ('시키', 842), ('부르', 843), ('제대로', 844), ('따로', 845), ('올', 846), ('만났', 847), ('신부', 848), ('어제', 849), ('얼마', 850), ('...', 851), ('증거', 852), ('약속', 853), ('은지', 854), ('순간', 855), ('겉절이', 856), ('평생', 857), ('다시피', 858), ('끄뎅이', 859), ('출발', 860), ('깨우', 861), ('카드', 862), ('상보', 863), ('덮여', 864), ('심난', 865), ('꺼', 866), ('사정', 867), ('까먹', 868), ('질', 869), ('소주', 870), ('델', 871), ('그러다', 872), ('낳', 873), ('비', 874), ('발', 875), ('12', 876), ('도착', 877), ('빽', 878), ('허름', 879), ('엘리베이터', 880), ('가운데', 881), ('자판기', 882), ('운전석', 883), ('살림', 884), ('그래요', 885), ('간단', 886), ('미리', 887), ('내놓', 888), ('으세요', 889), ('시유', 890), ('잊', 891), ('훅', 892), ('한번', 893), ('붙여', 894), ('안주', 895), ('힘', 896), ('피', 897), ('허락', 898), ('아하하', 899), ('사과', 900), ('갑자기', 901), ('자세', 902), ('역시', 903), ('옷장', 904), ('쳐다보', 905), ('탕', 906), ('어영차', 907), ('종업원', 908), ('헉', 909), ('뒷자리', 910), ('툭', 911), ('우린', 912), ('명절', 913), ('거나', 914), ('피우', 915), ('중요', 916), ('괜히', 917), ('사실', 918), ('다음', 919), ('집안', 920), ('시작', 921), ('어른', 922), ('가지', 923), ('애요', 924), ('쨘', 925), ('조사', 926), ('창문', 927), ('전과자', 928), ('밥상', 929), ('그제야', 930), ('동시', 931), ('찢', 932), ('쥔', 933), ('돈세', 934), ('따루', 935), ('차갑', 936), ('정신없이', 937), ('백', 938), ('제수씨', 939), ('차라리', 940), ('빨랑', 941), ('한잔', 942), ('당연히', 943), ('든지', 944), ('빚', 945), ('나쁜', 946), ('대요', 947), ('풀', 948), ('바짝', 949), ('편하', 950), ('챙기', 951), ('아무래도', 952), ('이쁜', 953), ('연습', 954), ('지저분', 955), ('의논', 956), ('동기', 957), ('구석', 958), ('번호', 959), ('려고', 960), ('장부', 961), ('노랫소리', 962), ('담요', 963), ('차려졌', 964), ('볼', 965), ('겁니다', 966), ('분위기', 967), ('1', 968), ('쳐', 969), ('엄청난', 970), ('원래', 971), ('디', 972), ('경찰서', 973), ('쉽', 974), ('스럽', 975), ('제발', 976), ('이쪽', 977), ('할려고', 978), ('다녀오', 979), ('그리고', 980), ('한텐', 981), ('아니요', 982), ('됩니다', 983), ('계산', 984), ('진', 985), ('쥬스', 986), ('회', 987), ('당황', 988), ('한방', 989), ('행복', 990), ('짜', 991), ('손님', 992), ('짜리', 993), ('쫓아와', 994), ('격투기', 995), ('현관문', 996), ('조수석', 997), ('부지런히', 998), ('장본', 999), ('수상', 1000), ('라니', 1001), ('시집', 1002), ('이래', 1003), ('후딱', 1004), ('어딜', 1005), ('대학', 1006), ('거든', 1007), ('그려', 1008), ('혀', 1009), ('던데', 1010), ('쫓', 1011), ('라니까', 1012), ('백마', 1013), ('번쩍', 1014), ('해결', 1015), ('끼리', 1016), ('대신', 1017), ('이해', 1018), ('라이', 1019), ('어려서', 1020), ('기다려', 1021), ('길래', 1022), ('그쪽', 1023), ('책', 1024), ('선배', 1025), ('미쳤', 1026), ('진짜로', 1027), ('성', 1028), ('여보세요', 1029), ('화장', 1030), ('살살', 1031), ('뻥', 1032), ('속옷', 1033), ('다가오', 1034), ('장면', 1035), ('풍경', 1036), ('낡', 1037), ('넷', 1038), ('양손', 1039), ('가득', 1040), ('의자', 1041), ('멱살', 1042), ('코트', 1043), ('파도치', 1044), ('모닥불', 1045), ('둘러싸여', 1046), ('시끌벅적', 1047), ('순찰차', 1048), ('허겁지겁', 1049), ('순대', 1050), ('떡볶이', 1051), ('김밥', 1052), ('아야지', 1053), ('분가', 1054), ('밤', 1055), ('논', 1056), ('차려', 1057), ('수술', 1058), ('동네', 1059), ('우습', 1060), ('한숨', 1061), ('뭔데', 1062), ('지키', 1063), ('왕', 1064), ('맘대로', 1065), ('봐서', 1066), ('남편', 1067), ('느이', 1068), ('아도', 1069), ('푹', 1070), ('자네', 1071), ('빨래', 1072), ('던져', 1073), ('다쳤', 1074), ('끄', 1075), ('태연', 1076), ('희', 1077), ('벌이', 1078), ('걸어가', 1079), ('뜨거운', 1080), ('부치', 1081), ('수건', 1082), ('그러나', 1083), ('쪽지', 1084), ('끊기', 1085), ('터덕터덕', 1086), ('시선', 1087), ('맞은편', 1088), ('자꾸', 1089), ('이것', 1090), ('직원', 1091), ('아네요', 1092), ('혀서', 1093), ('읽', 1094), ('십시오', 1095), ('현장', 1096), ('어야지', 1097), ('드렸', 1098), ('심각', 1099), ('홈', 1100), ('퇴근', 1101), ('그러니까', 1102), ('여긴', 1103), ('동안', 1104), ('몰래', 1105), ('걸레', 1106), ('쓸', 1107), ('어느', 1108), ('치우', 1109), ('뻥튀기', 1110), ('먼', 1111), ('칼국수', 1112), ('깨끗', 1113), ('뒤지', 1114), ('지갑', 1115), ('진동', 1116), ('수차', 1117), ('차문', 1118), ('다짜고짜', 1119), ('끌어내', 1120), ('몸싸움', 1121), ('어림없', 1122), ('눕힌', 1123), ('질겅', 1124), ('동치미', 1125), ('군고구마', 1126), ('이부영', 1127), ('려는데', 1128), ('눕', 1129), ('취한', 1130), ('얘', 1131), ('십니까', 1132), ('아닌', 1133), ('만큼', 1134), ('줬', 1135), ('구나', 1136), ('실', 1137), ('만들', 1138), ('집구석', 1139), ('큰형', 1140), ('신고', 1141), ('쏘', 1142), ('께', 1143), ('줄게', 1144), ('정돈', 1145), ('도록', 1146), ('뜨겁', 1147), ('놔두', 1148), ('재밌', 1149), ('잠복근무', 1150), ('어쩌', 1151), ('어차피', 1152), ('둘째', 1153), ('그래야', 1154), ('유', 1155), ('내려', 1156), ('서방', 1157), ('밀', 1158), ('꾸', 1159), ('세워서', 1160), ('걸렸', 1161), ('견디', 1162), ('울려', 1163), ('쯤', 1164), ('엿들', 1165), ('아무것', 1166), ('검', 1167), ('보쌈', 1168), ('맥주', 1169), ('나라', 1170), ('끝내', 1171), ('박수', 1172), ('말없이', 1173), ('만만찮', 1174), ('찌개', 1175), ('자료', 1176), ('쌓', 1177), ('의식', 1178), ('기막힌', 1179), ('내부', 1180), ('뒹굴', 1181), ('양주', 1182), ('내려오', 1183), ('숨기', 1184), ('시계', 1185), ('냉큼', 1186), ('발견', 1187), ('오른팔', 1188), ('다신', 1189), ('성질', 1190), ('차례', 1191), ('썼', 1192), ('계세요', 1193), ('밑', 1194), ('오랜만', 1195), ('줘야', 1196), ('댕기', 1197), ('오래', 1198), ('버스', 1199), ('일부러', 1200), ('까진', 1201), ('사고', 1202), ('니다', 1203), ('대답', 1204), ('조용', 1205), ('할게요', 1206), ('처제', 1207), ('도망가', 1208), ('판', 1209), ('뜻', 1210), ('꿈', 1211), ('깔', 1212), ('보통', 1213), ('기죽', 1214), ('점심', 1215), ('기사', 1216), ('스', 1217), ('부', 1218), ('엎', 1219), ('샌드위치', 1220), ('저기', 1221), ('어서요', 1222), ('애쓰', 1223), ('듯이', 1224), ('반갑', 1225), ('화장실', 1226), ('말리', 1227), ('민망', 1228), ('대보', 1229), ('거만', 1230), ('기대앉', 1231), ('널리', 1232), ('쌓여', 1233), ('내려다보', 1234), ('올려다보', 1235), ('헤드라이트', 1236), ('갈비탕', 1237), ('놓여', 1238), ('으려다', 1239), ('책가방', 1240), ('멍하니', 1241), ('넘', 1242), ('맛', 1243), ('가끔', 1244), ('새끼', 1245), ('고마워', 1246), ('단지', 1247), ('으러', 1248), ('아닙니다', 1249), ('도우미', 1250), ('어유', 1251), ('그러게', 1252), ('생겼', 1253), ('이름', 1254), ('선물', 1255), ('꼬', 1256), ('막내', 1257), ('으시', 1258), ('어떤', 1259), ('삼겹살', 1260), ('관리', 1261), ('침', 1262), ('아닌데', 1263), ('모시', 1264), ('셔', 1265), ('주유소', 1266), ('정', 1267), ('셔도', 1268), ('와라', 1269), ('불러', 1270), ('웬일', 1271), ('상처', 1272), ('드세요', 1273), ('때문', 1274), ('마당', 1275), ('껴', 1276), ('단', 1277), ('뚫어지', 1278), ('싼', 1279), ('신호', 1280), ('쓰러지', 1281), ('점검', 1282), ('기세', 1283), ('지켜보', 1284), ('비키', 1285), ('문소리', 1286), ('속닥대', 1287), ('걸으며', 1288), ('비척', 1289), ('간이침대', 1290), ('냅다', 1291), ('들어선', 1292), ('치워졌', 1293), ('놓여진', 1294), ('방석', 1295), ('흐믓', 1296), ('엉거주춤', 1297), ('팬티', 1298), ('맞추', 1299), ('한두', 1300), ('상관', 1301), ('똑같', 1302), ('용서', 1303), ('기대', 1304), ('팀', 1305), ('으면서', 1306), ('이쁘', 1307), ('함부로', 1308), ('구만', 1309), ('였', 1310), ('억지로', 1311), ('무릎', 1312), ('닮', 1313), ('반대', 1314), ('아저씨', 1315), ('사건', 1316), ('값', 1317), ('덮', 1318), ('잘난', 1319), ('냐고', 1320), ('아닙니까', 1321), ('갈게', 1322), ('평', 1323), ('봐도', 1324), ('빵', 1325), ('무섭', 1326), ('걷', 1327), ('맡', 1328), ('추운', 1329), ('거짓말', 1330), ('바다', 1331), ('드릴', 1332), ('주변', 1333), ('손주', 1334), ('힘든', 1335), ('뺏', 1336), ('박스', 1337), ('여전', 1338), ('쑤시', 1339), ('빠', 1340), ('뜯', 1341), ('수돗가', 1342), ('유리', 1343), ('파', 1344), ('지성', 1345), ('만드', 1346), ('놀란', 1347), ('부딪히', 1348), ('차림', 1349), ('내오', 1350), ('키득대', 1351), ('명세서', 1352), ('영방', 1353), ('어둠', 1354), ('바라보', 1355), ('놔주', 1356), ('코너', 1357), ('영업', 1358), ('개시', 1359), ('퍽', 1360), ('이때', 1361), ('머리채', 1362), ('모래', 1363), ('락', 1364), ('뒤치락', 1365), ('올라타', 1366), ('엿보', 1367), ('뛰어오', 1368), ('놨', 1369), ('씨', 1370), ('반', 1371), ('별로', 1372), ('비밀', 1373), ('요새', 1374), ('맨', 1375), ('설마', 1376), ('을까', 1377), ('감정', 1378), ('디자인', 1379), ('학교', 1380), ('자랑', 1381), ('바가지', 1382), ('다면', 1383), ('기억', 1384), ('낫', 1385), ('진작', 1386), ('라서', 1387), ('나와서', 1388), ('팍', 1389), ('천', 1390), ('자빠진', 1391), ('묻', 1392), ('김순경', 1393), ('뻗', 1394), ('볶음', 1395), ('의심', 1396), ('영아', 1397), ('새', 1398), ('기도', 1399), ('작전', 1400), ('서서', 1401), ('자신', 1402), ('복잡', 1403), ('기절', 1404), ('칼', 1405), ('나갔', 1406), ('따', 1407), ('돼서', 1408), ('이상이', 1409), ('마땅', 1410), ('쳐넣', 1411), ('의사', 1412), ('떠들', 1413), ('귀', 1414), ('뛰가', 1415), ('금고', 1416), ('어묵', 1417), ('잠그', 1418), ('빤히', 1419), ('부러진', 1420), ('망설이', 1421), ('펼쳐진', 1422), ('물건', 1423), ('아슬', 1424), ('어기', 1425), ('용마', 1426), ('우아', 1427), ('떨구', 1428), ('꾸벅', 1429), ('닥', 1430), ('웨', 1431), ('딩카', 1432), ('장식', 1433), ('울컥', 1434), ('급한', 1435), ('어째', 1436), ('무시', 1437), ('영장', 1438), ('못했', 1439), ('려면', 1440), ('처음', 1441), ('기집애', 1442), ('쓰이', 1443), ('꼬라지', 1444), ('덕', 1445), ('책임', 1446), ('비켜', 1447), ('나요', 1448), ('분명', 1449), ('할려다', 1450), ('사무실', 1451), ('와요', 1452), ('얘긴', 1453), ('되게', 1454), ('엄만', 1455), ('셔서', 1456), ('봐야지', 1457), ('벌떡', 1458), ('챙피', 1459), ('부장', 1460), ('이젠', 1461), ('금방', 1462), ('툭하면', 1463), ('장모님', 1464), ('는디', 1465), ('신혼', 1466), ('넘어지', 1467), ('노', 1468), ('확실', 1469), ('느낌', 1470), ('만난', 1471), ('깜짝', 1472), ('인데요', 1473), ('간다', 1474), ('이뻐', 1475), ('돌아가', 1476), ('인생', 1477), ('키', 1478), ('꿇', 1479), ('쩔쩔매', 1480), ('일어났', 1481), ('퍼지', 1482), ('누르', 1483), ('마지못해', 1484), ('망친', 1485), ('기계', 1486), ('걸친', 1487), ('어수선', 1488), ('누이', 1489), ('졸', 1490), ('계단', 1491), ('테이블', 1492), ('불판', 1493), ('왁자', 1494), ('주문', 1495), ('침울', 1496), ('국그릇', 1497), ('씽', 1498), ('행거', 1499), ('살림살이', 1500), ('솔이', 1501), ('달려들', 1502), ('청약서', 1503), ('사랑스레', 1504), ('누워서', 1505), ('괘씸', 1506), ('퍼질러', 1507), ('나올', 1508), ('시댁', 1509), ('째', 1510), ('장사', 1511), ('래요', 1512), ('팔자', 1513), ('직접', 1514), ('그날', 1515), ('존', 1516), ('실은', 1517), ('아예', 1518), ('조서', 1519), ('줘야지', 1520), ('드릴게요', 1521), ('장인어른', 1522), ('후회', 1523), ('유경', 1524), ('바빠서', 1525), ('이유', 1526), ('시끄러', 1527), ('별', 1528), ('안녕히', 1529), ('다녀', 1530), ('든데', 1531), ('결정', 1532), ('궁금', 1533), ('조용히', 1534), ('빼놓', 1535), ('다간', 1536), ('떨리', 1537), ('삘이', 1538), ('꼼짝', 1539), ('아세요', 1540), ('때려', 1541), ('쫌', 1542), ('만날', 1543), ('호호', 1544), ('못난', 1545), ('빈', 1546), ('조심', 1547), ('어렵', 1548), ('배달', 1549), ('대강', 1550), ('저렇게', 1551), ('비상', 1552), ('잤', 1553), ('향해', 1554), ('떠나', 1555), ('끓', 1556), ('아부진', 1557), ('혼', 1558), ('어린', 1559), ('박', 1560), ('죄', 1561), ('드려', 1562), ('며칠', 1563), ('칫솔', 1564), ('유학', 1565), ('못써', 1566), ('여행', 1567), ('그까짓', 1568), ('넥타이', 1569), ('반말', 1570), ('까놓', 1571), ('툭툭', 1572), ('구워', 1573), ('는다고', 1574), ('특히', 1575), ('별일', 1576), ('안심', 1577), ('무식', 1578), ('인연', 1579), ('링거', 1580), ('코피', 1581), ('수제비', 1582), ('바라', 1583), ('누군가', 1584), ('케', 1585), ('모델', 1586), ('하우스', 1587), ('켜', 1588), ('전송', 1589), ('손드', 1590), ('일그러지', 1591), ('방문', 1592), ('죄진', 1593), ('컴', 1594), ('터치', 1595), ('걸터앉', 1596), ('반기', 1597), ('뿅간', 1598), ('빵빵', 1599), ('대야', 1600), ('집어들', 1601), ('찔끔찔끔', 1602), ('부동산', 1603), ('흠뻑', 1604), ('젖', 1605), ('구급대', 1606), ('원은', 1607), ('밟', 1608), ('자르', 1609), ('노력', 1610), ('들리', 1611), ('워', 1612), ('태워', 1613), ('치질', 1614), ('저거', 1615), ('을려고', 1616), ('건지', 1617), ('그새', 1618), ('애인', 1619), ('뭣', 1620), ('회의', 1621), ('지난번', 1622), ('버', 1623), ('마라', 1624), ('올라가', 1625), ('저런', 1626), ('과거', 1627), ('애교', 1628), ('애비', 1629), ('이왕', 1630), ('하긴', 1631), ('늙', 1632), ('놔', 1633), ('섭섭', 1634), ('맞짱', 1635), ('용의자', 1636), ('아라', 1637), ('겁', 1638), ('웬만', 1639), ('덜덜', 1640), ('대유', 1641), ('아퍼', 1642), ('겨울', 1643), ('프로', 1644), ('옮기', 1645), ('메', 1646), ('입니까', 1647), ('서른', 1648), ('저희', 1649), ('노릇', 1650), ('80', 1651), ('이기', 1652), ('수고', 1653), ('키우', 1654), ('불쌍', 1655), ('어쩜', 1656), ('라며', 1657), ('부영이', 1658), ('저번', 1659), ('고객', 1660), ('다녀왔', 1661), ('이걸', 1662), ('싸이렌', 1663), ('용돈', 1664), ('위해서', 1665), ('땡', 1666), ('빤', 1667), ('된다', 1668), ('대체', 1669), ('입장', 1670), ('밤새', 1671), ('남이', 1672), ('그동안', 1673), ('뿐', 1674), ('저쪽', 1675), ('에선', 1676), ('뛰어가', 1677), ('치약', 1678), ('도와', 1679), ('가르쳐', 1680), ('주단', 1681), ('다구요', 1682), ('주유', 1683), ('자는', 1684), ('뛰어온', 1685), ('난자', 1686), ('밴드', 1687), ('막말', 1688), ('어쨌든', 1689), ('교육', 1690), ('으론', 1691), ('봅시다', 1692), ('뒤집', 1693), ('추워', 1694), ('인하', 1695), ('춤', 1696), ('청소', 1697), ('달랑', 1698), ('밑반찬', 1699), ('외출', 1700), ('삶', 1701), ('꾸미', 1702), ('기어코', 1703), ('해선', 1704), ('쳐서', 1705), ('빼내', 1706), ('기적', 1707), ('둘러싼', 1708), ('안절부절', 1709), ('결재', 1710), ('일지', 1711), ('찬찬히', 1712), ('병풍', 1713), ('치고', 1714), ('제상', 1715), ('흐느끼', 1716), ('독', 1717), ('씩씩대', 1718), ('애드립', 1719), ('떠먹이', 1720), ('일제히', 1721), ('들여놓', 1722), ('범', 1723), ('짤', 1724), ('앉히', 1725), ('어때', 1726), ('으응', 1727), ('현재', 1728), ('댄다', 1729), ('뭔지', 1730), ('답', 1731), ('임마', 1732), ('떨', 1733), ('편', 1734), ('젊', 1735), ('상상', 1736), ('허', 1737), ('빼먹', 1738), ('도장', 1739), ('심심', 1740), ('선택', 1741), ('순', 1742), ('접', 1743), ('저게', 1744), ('굶', 1745), ('이따', 1746), ('될까요', 1747), ('붙', 1748), ('방법', 1749), ('모른', 1750), ('스토커', 1751), ('우선', 1752), ('단속', 1753), ('키워', 1754), ('인간', 1755), ('눈뜨', 1756), ('실망', 1757), ('라구요', 1758), ('이사', 1759), ('새로', 1760), ('계시', 1761), ('골목', 1762), ('안쪽', 1763), ('의좋', 1764), ('운동', 1765), ('장가', 1766), ('퇴원', 1767), ('권', 1768), ('워낙', 1769), ('던가', 1770), ('오죽', 1771), ('저러', 1772), ('그리구', 1773), ('눌러', 1774), ('행동', 1775), ('더라', 1776), ('쑈', 1777), ('도서관', 1778), ('톡', 1779), ('행주', 1780), ('핸드폰', 1781), ('복', 1782), ('똑바로', 1783), ('앉혀', 1784), ('쏟', 1785), ('사골', 1786), ('국물', 1787), ('떡대', 1788), ('주머니', 1789), ('반지', 1790), ('이빨', 1791), ('계', 1792), ('자전거', 1793), ('집어넣', 1794), ('심한', 1795), ('참으', 1796), ('속터지', 1797), ('좌악', 1798), ('찢어지', 1799), ('흩어지', 1800), ('마구', 1801), ('쓰다듬', 1802), ('꾸며진', 1803), ('정장', 1804), ('예쁘', 1805), ('미러', 1806), ('널부러져', 1807), ('치마', 1808), ('윗옷', 1809), ('잠바', 1810), ('신경전', 1811), ('벽시계', 1812), ('기지개', 1813), ('거수경례', 1814), ('슬며시', 1815), ('뤄', 1816), ('큰절', 1817), ('약봉지', 1818), ('팔짱', 1819), ('난만', 1820), ('주먹질', 1821), ('담긴', 1822), ('우르르', 1823), ('몰려', 1824), ('깡통', 1825), ('풍선', 1826), ('두리번', 1827), ('납작', 1828), ('사라지', 1829), ('떨어진', 1830), ('보자기', 1831), ('묘하', 1832), ('바퀴', 1833), ('느그', 1834), ('데이트', 1835), ('덜', 1836), ('뻔', 1837), ('뵈', 1838), ('는구나', 1839), ('갈께', 1840), ('미치', 1841), ('지나', 1842), ('도로', 1843), ('마지막', 1844), ('대접', 1845), ('으셨', 1846), ('합시다', 1847), ('난아', 1848), ('푼', 1849), ('더라도', 1850), ('꼬맹이', 1851), ('능력', 1852), ('억울', 1853), ('나서', 1854), ('거봐', 1855), ('바보', 1856), ('시어머니', 1857), ('할려면', 1858), ('천천히', 1859), ('했잖아', 1860), ('아유', 1861), ('취급', 1862), ('알아보', 1863), ('갈라', 1864), ('네유', 1865), ('귀찮', 1866), ('눈감', 1867), ('키웠', 1868), ('꽉', 1869), ('어젯밤', 1870), ('아파서', 1871), ('지켜', 1872), ('식당', 1873), ('서울', 1874), ('가요', 1875), ('싸웠', 1876), ('멀', 1877), ('족발', 1878), ('땅', 1879), ('아니면', 1880), ('놀래', 1881), ('잠들', 1882), ('조회', 1883), ('따지', 1884), ('쑤', 1885), ('조', 1886), ('다친', 1887), ('빠져', 1888), ('냄비', 1889), ('술상', 1890), ('티', 1891), ('혼내', 1892), ('감동', 1893), ('자긴', 1894), ('후배', 1895), ('아가씨', 1896), ('헤어지', 1897), ('깊숙이', 1898), ('소금', 1899), ('다섯', 1900), ('피하', 1901), ('잡아당기', 1902), ('배고프', 1903), ('뿌리', 1904), ('턱', 1905), ('두부', 1906), ('슬슬', 1907), ('신나', 1908), ('통통', 1909), ('올라서', 1910), ('찔리', 1911), ('끌려가', 1912), ('마친', 1913), ('부르스', 1914), ('물주', 1915), ('전자', 1916), ('속중', 1917), ('그렁', 1918), ('퍼뜩', 1919), ('도망치', 1920), ('손질', 1921), ('잠겨', 1922), ('탄사', 1923), ('테레비', 1924), ('다가서', 1925), ('어설프', 1926), ('조심조심', 1927), ('배기팬츠', 1928), ('어이없', 1929), ('쌓였', 1930), ('서랍', 1931), ('다듬', 1932), ('침묵', 1933), ('캔커피', 1934), ('흠칫', 1935), ('밀어붙이', 1936), ('휘청', 1937), ('거칠', 1938), ('부츠', 1939), ('참고', 1940), ('언덕길', 1941), ('앞선', 1942), ('헐', 1943), ('팽팽', 1944), ('당기', 1945), ('쉿', 1946), ('병', 1947), ('려니', 1948), ('예식장', 1949), ('동창회', 1950), ('재미', 1951), ('오해', 1952), ('골라서', 1953), ('지경사', 1954), ('얼래', 1955), ('설득', 1956), ('다니까', 1957), ('그렸', 1958), ('생각나', 1959), ('할께', 1960), ('완전', 1961), ('다야', 1962), ('부족', 1963), ('니께', 1964), ('줘서', 1965), ('이래서', 1966), ('볼일', 1967), ('뽕', 1968), ('까불', 1969), ('지나간', 1970), ('하늘', 1971), ('실패', 1972), ('걸려', 1973), ('내말이', 1974), ('구체', 1975), ('해야죠', 1976), ('훌륭', 1977), ('보약', 1978), ('처가', 1979), ('일루', 1980), ('상견례', 1981), ('놔야', 1982), ('홀랑', 1983), ('시장', 1984), ('갈려고', 1985), ('기름', 1986), ('걸리', 1987), ('딴생각', 1988), ('솔직', 1989), ('그치', 1990), ('속상하', 1991), ('할지', 1992), ('다치', 1993), ('신청', 1994), ('위해', 1995), ('께서', 1996), ('뚝', 1997), ('신데', 1998), ('쌌', 1999), ('아서요', 2000), ('드셨', 2001), ('무지하', 2002), ('처', 2003), ('맞춰', 2004), ('둬', 2005), ('바지', 2006), ('강력', 2007), ('분리', 2008), ('대기', 2009), ('심', 2010), ('몰라요', 2011), ('다르', 2012), ('자마자', 2013), ('심정', 2014), ('나물', 2015), ('아니야', 2016), ('한다니', 2017), ('포기', 2018), ('면목', 2019), ('뒤져', 2020), ('환자', 2021), ('형부', 2022), ('에미', 2023), ('나갈', 2024), ('줄려고', 2025), ('할까', 2026), ('정식', 2027), ('양말', 2028), ('들왔', 2029), ('온다', 2030), ('래도', 2031), ('명', 2032), ('작성', 2033), ('중간', 2034), ('냉정', 2035), ('하필', 2036), ('개떡', 2037), ('초밥', 2038), ('하지만', 2039), ('가까이', 2040), ('심문', 2041), ('이라도', 2042), ('헤이', 2043), ('빨간', 2044), ('짜증', 2045), ('갑니다', 2046), ('흘리', 2047), ('각서', 2048), ('했으니', 2049), ('셔야', 2050), ('친정', 2051), ('속상한', 2052), ('처녀', 2053), ('엄살', 2054), ('찬물', 2055), ('잡채', 2056), ('똥집', 2057), ('마스크', 2058), ('진하', 2059), ('장차', 2060), ('박사', 2061), ('입히', 2062), ('들킬', 2063), ('음모', 2064), ('엎어지', 2065), ('그라스', 2066), ('끽', 2067), ('50', 2068), ('뒷문', 2069), ('휙', 2070), ('귀마개', 2071), ('낑낑대', 2072), ('오른손', 2073), ('팔뚝', 2074), ('자국', 2075), ('이삿짐', 2076), ('인부', 2077), ('거드', 2078), ('강종', 2079), ('창난', 2080), ('삐삐', 2081), ('꽂', 2082), ('맥주잔', 2083), ('휘날리', 2084), ('맥없이', 2085), ('덜컥', 2086), ('배낭', 2087), ('세워진', 2088), ('멈춰서', 2089), ('세숫대야', 2090), ('귓속말', 2091), ('거슬리', 2092), ('꽈당', 2093), ('킥킥대', 2094), ('부추', 2095), ('너머', 2096), ('3', 2097), ('쓴', 2098), ('쉬운', 2099), ('설날', 2100), ('어쩐', 2101), ('원망', 2102), ('당하', 2103), ('최대한', 2104), ('깜빡했', 2105), ('거들', 2106), ('으', 2107), ('따라와', 2108), ('하여간', 2109), ('저렇', 2110), ('합니까', 2111), ('인정', 2112), ('을래', 2113), ('넘어갔', 2114), ('급', 2115), ('롭', 2116), ('갈래', 2117), ('하도', 2118), ('칠', 2119), ('형사', 2120), ('경위', 2121), ('오케이', 2122), ('아버지', 2123), ('인정머리', 2124), ('여잔', 2125), ('영', 2126), ('쯧쯧', 2127), ('시원', 2128), ('짧', 2129), ('기본', 2130), ('장이', 2131), ('명심', 2132), ('도리', 2133), ('그저', 2134), ('기양', 2135), ('고대로', 2136), ('야아', 2137), ('엉', 2138), ('터져', 2139), ('여대', 2140), ('웃겨', 2141), ('성격', 2142), ('싹', 2143), ('댕', 2144), ('초등', 2145), ('나온다', 2146), ('뭡니까', 2147), ('그런다고', 2148), ('아선', 2149), ('싸가지', 2150), ('줘라', 2151), ('모텔', 2152), ('여사', 2153), ('시켰', 2154), ('쩐', 2155), ('색시', 2156), ('빠지', 2157), ('척하', 2158), ('손아래', 2159), ('드만', 2160), ('엇다', 2161), ('미쳐', 2162), ('가까운', 2163), ('겨', 2164), ('진급', 2165), ('도대체', 2166), ('놓치', 2167), ('파악', 2168), ('드릴까요', 2169), ('했어도', 2170), ('생전', 2171), ('생기', 2172), ('될까', 2173), ('쪼', 2174), ('아파', 2175), ('항상', 2176), ('놔둬', 2177), ('된장', 2178), ('글', 2179), ('놀랬', 2180), ('동창', 2181), ('된다는', 2182), ('도둑놈', 2183), ('당연', 2184), ('월급', 2185), ('살펴보', 2186), ('뻔히', 2187), ('배우', 2188), ('국가', 2189), ('철딱서니', 2190), ('된다고', 2191), ('오빤', 2192), ('전경', 2193), ('지구', 2194), ('다면서', 2195), ('비명', 2196), ('지르', 2197), ('다면서요', 2198), ('새신랑', 2199), ('올라오', 2200), ('청국장', 2201), ('압', 2202), ('전해', 2203), ('땀', 2204), ('엘', 2205), ('낸', 2206), ('산', 2207), ('키스', 2208), ('취해', 2209), ('저놈', 2210), ('대한민국', 2211), ('데려가', 2212), ('매', 2213), ('표정', 2214), ('할까요', 2215), ('주제', 2216), ('갈비', 2217), ('개털', 2218), ('요거', 2219), ('간부', 2220), ('올테', 2221), ('세기', 2222), ('충분히', 2223), ('욕실', 2224), ('약오르', 2225), ('주저앉', 2226), ('장내', 2227), ('멀리', 2228), ('가로막', 2229), ('두목', 2230), ('영손', 2231), ('야채샐러드', 2232), ('한상', 2233), ('관장', 2234), ('살그머니', 2235), ('에워싸', 2236), ('매니큐어', 2237), ('뚝뚝', 2238), ('연거푸', 2239), ('경차', 2240), ('싱크대', 2241), ('약간', 2242), ('원룸', 2243), ('천정', 2244), ('어슬렁대', 2245), ('뒤척이', 2246), ('륵', 2247), ('에버랜드', 2248), ('휘둥그레', 2249), ('만원', 2250), ('확대', 2251), ('노예', 2252), ('지폐', 2253), ('계수기', 2254), ('팩', 2255), ('넙죽', 2256), ('비서', 2257), ('흡족', 2258), ('반짇고리', 2259), ('빡빡', 2260), ('살며시', 2261), ('상장', 2262), ('흥정', 2263), ('엘리스', 2264), ('미끄덩', 2265), ('아이쿠', 2266), ('벌렁', 2267), ('튀어나온', 2268), ('젖히', 2269), ('등짝', 2270), ('휘파람', 2271), ('유리창', 2272), ('드레스', 2273), ('동', 2274), ('봅니다', 2275), ('못해', 2276), ('될지', 2277), ('경', 2278), ('사내', 2279), ('무서워서', 2280), ('버릇', 2281), ('자격', 2282), ('터졌', 2283), ('달라', 2284), ('올게요', 2285), ('본데', 2286), ('생', 2287), ('시위', 2288), ('잃', 2289), ('터져서', 2290), ('바닷가', 2291), ('갔었', 2292), ('어울리', 2293), ('빈손', 2294), ('일르', 2295), ('몰라서', 2296), ('물러', 2297), ('프', 2298), ('할께요', 2299), ('십니다', 2300), ('몽둥이', 2301), ('충분', 2302), ('은근히', 2303), ('신지', 2304), ('하곤', 2305), ('큰일', 2306), ('볶', 2307), ('수퍼', 2308), ('자존심', 2309), ('딸꾹', 2310), ('고집', 2311), ('스타일', 2312), ('실래요', 2313), ('덕분', 2314), ('짠', 2315), ('힘드', 2316), ('확실히', 2317), ('뻔하', 2318), ('주무세요', 2319), ('워치게', 2320), ('들어갈', 2321), ('웃긴다', 2322), ('느', 2323), ('모범', 2324), ('으라고', 2325), ('겉', 2326), ('줄까', 2327), ('와봐', 2328), ('단단히', 2329), ('올려', 2330), ('누', 2331), ('끝냈', 2332), ('자주', 2333), ('쌔', 2334), ('은행', 2335), ('깊', 2336), ('풀리', 2337), ('빌', 2338), ('관계', 2339), ('코', 2340), ('술집', 2341), ('에이', 2342), ('바빠', 2343), ('쌩까', 2344), ('들으면', 2345), ('웃기', 2346), ('딸년', 2347), ('모임', 2348), ('다는데', 2349), ('날짜', 2350), ('실장', 2351), ('소용없', 2352), ('대한', 2353), ('눈앞', 2354), ('커서', 2355), ('자랐', 2356), ('쎄', 2357), ('왔었', 2358), ('보였', 2359), ('한귀', 2360), ('써서', 2361), ('잔소리', 2362), ('할래', 2363), ('지시', 2364), ('최소한', 2365), ('농담', 2366), ('수입', 2367), ('드립니다', 2368), ('암말', 2369), ('당분간', 2370), ('내색', 2371), ('하객', 2372), ('냄새', 2373), ('겁니까', 2374), ('얻어먹', 2375), ('산다', 2376), ('나눠', 2377), ('엉뚱', 2378), ('조치', 2379), ('아닌가', 2380), ('기운', 2381), ('시동생', 2382), ('첫', 2383), ('만만', 2384), ('양복', 2385), ('형편', 2386), ('빡쎄', 2387), ('줘요', 2388), ('겁나', 2389), ('호적', 2390), ('들어갔', 2391), ('따뜻', 2392), ('져', 2393), ('추운데', 2394), ('몽땅', 2395), ('아야죠', 2396), ('여태', 2397), ('점점', 2398), ('목', 2399), ('각오', 2400), ('주무시', 2401), ('치사', 2402), ('비용', 2403), ('줘야돼', 2404), ('기껏', 2405), ('답답', 2406), ('주소', 2407), ('실컷', 2408), ('헤어졌', 2409), ('미련', 2410), ('가리', 2411), ('인디', 2412), ('잇', 2413), ('위로', 2414), ('도둑', 2415), ('그딴', 2416), ('지경', 2417), ('명예', 2418), ('자라', 2419), ('깝깝', 2420), ('심부름', 2421), ('신발', 2422), ('누군', 2423), ('뒀', 2424), ('감사', 2425), ('모든', 2426), ('꼬마', 2427), ('정말로', 2428), ('샀', 2429), ('비록', 2430), ('알아들', 2431), ('뭐요', 2432), ('회사', 2433), ('애써', 2434), ('영인', 2435), ('댁', 2436), ('곳', 2437), ('이상아', 2438), ('터질', 2439), ('으라', 2440), ('다만', 2441), ('펼치', 2442), ('버티', 2443), ('판단', 2444), ('생활', 2445), ('엉덩이', 2446), ('거실', 2447), ('그런지', 2448), ('결심', 2449), ('부자', 2450), ('얘길', 2451), ('온갖', 2452), ('변호사', 2453), ('대충', 2454), ('숟가락', 2455), ('오골계', 2456), ('달리', 2457), ('귀한', 2458), ('스트레칭', 2459), ('가만히', 2460), ('질린', 2461), ('질질', 2462), ('불불', 2463), ('닫', 2464), ('전화벨', 2465), ('나갈려고', 2466), ('뒷걸음질', 2467), ('힐끔', 2468), ('달려와', 2469), ('정복', 2470), ('대장', 2471), ('의경', 2472), ('경례', 2473), ('뻘뻘', 2474), ('묻혀', 2475), ('점잖', 2476), ('밀걸레', 2477), ('장범', 2478), ('중국집', 2479), ('고무장갑', 2480), ('세제', 2481), ('건들대', 2482), ('먼데', 2483), ('창가', 2484), ('아침상', 2485), ('창', 2486), ('스키', 2487), ('야간', 2488), ('조명', 2489), ('아름답', 2490), ('험악', 2491), ('반짝', 2492), ('백주', 2493), ('안도', 2494), ('본채', 2495), ('심호흡', 2496), ('처먹', 2497), ('그랬음', 2498), ('어쩐다니', 2499), ('모이', 2500), ('개월', 2501), ('답니다', 2502), ('만약', 2503), ('두고두고', 2504), ('인제', 2505), ('학년', 2506), ('거려', 2507), ('셔야죠', 2508), ('소화', 2509), ('겸', 2510), ('돕', 2511), ('선수', 2512), ('할라', 2513), ('짝', 2514), ('팀원', 2515), ('별거', 2516), ('상관없', 2517), ('어울려', 2518), ('꼬치꼬치', 2519), ('적어도', 2520), ('들렀', 2521), ('갈게요', 2522), ('살려', 2523), ('댕겨', 2524), ('들려', 2525), ('근사', 2526), ('약올리', 2527), ('은데요', 2528), ('본다고', 2529), ('이별', 2530), ('볼려고', 2531), ('책임지', 2532), ('거꾸로', 2533), ('충성', 2534), ('넓', 2535), ('순찰', 2536), ('파주', 2537), ('깨지', 2538), ('이러면', 2539), ('목소리', 2540), ('아주머니', 2541), ('한대', 2542), ('돼야', 2543), ('가니', 2544), ('형제간', 2545), ('바', 2546), ('어떨까', 2547), ('도움', 2548), ('쐬', 2549), ('작정', 2550), ('암만', 2551), ('볼까', 2552), ('영이', 2553), ('도저히', 2554), ('보석', 2555), ('온다니', 2556), ('진작에', 2557), ('수사', 2558), ('대단', 2559), ('부럽', 2560), ('어쩌다', 2561), ('사위', 2562), ('점', 2563), ('차지', 2564), ('위하', 2565), ('다닐', 2566), ('뚜들겨', 2567), ('발령장', 2568), ('바쁜데', 2569), ('한데요', 2570), ('첫날밤', 2571), ('리', 2572), ('혼난다', 2573), ('대해서', 2574), ('옵니다', 2575), ('불붙', 2576), ('정해', 2577), ('내방', 2578), ('계획', 2579), ('울지마', 2580), ('정확', 2581), ('애서', 2582), ('까칠', 2583), ('고시', 2584), ('무서운', 2585), ('꺼져', 2586), ('학원', 2587), ('미친', 2588), ('시집가', 2589), ('쳤', 2590), ('포즈', 2591), ('직업', 2592), ('라셔', 2593), ('밉', 2594), ('처남', 2595), ('합의', 2596), ('연말', 2597), ('보냈', 2598), ('그만큼', 2599), ('했었', 2600), ('터미널', 2601), ('던데요', 2602), ('진행', 2603), ('드릴께요', 2604), ('언젠가', 2605), ('시골', 2606), ('소린지', 2607), ('재판', 2608), ('어쨌', 2609), ('아녀', 2610), ('시집살이', 2611), ('코빼기', 2612), ('방송', 2613), ('존경', 2614), ('시켜야', 2615), ('내속', 2616), ('똥', 2617), ('했다간', 2618), ('장난', 2619), ('일곱', 2620), ('와야', 2621), ('공짜', 2622), ('을라고', 2623), ('소중', 2624), ('방울', 2625), ('전활', 2626), ('늘', 2627), ('오줌', 2628), ('나무', 2629), ('올해', 2630), ('쫓아왔', 2631), ('짓거리', 2632), ('질색', 2633), ('꼬박꼬박', 2634), ('저래', 2635), ('데려다', 2636), ('내보내', 2637), ('막히', 2638), ('사식', 2639), ('질투', 2640), ('을걸', 2641), ('한마디', 2642), ('5', 2643), ('고치', 2644), ('벌리', 2645), ('이태리', 2646), ('쓸데없이', 2647), ('김주임', 2648), ('까졌', 2649), ('최선', 2650), ('시위대', 2651), ('굳이', 2652), ('다기', 2653), ('조금', 2654), ('곤', 2655), ('영화', 2656), ('놔라', 2657), ('예약', 2658), ('명절날', 2659), ('양심', 2660), ('골치', 2661), ('언닌', 2662), ('빚쟁이', 2663), ('됩니까', 2664), ('볼래', 2665), ('설사', 2666), ('된다면', 2667), ('사모님', 2668), ('진땀', 2669), ('줍', 2670), ('에다', 2671), ('삘', 2672), ('때리', 2673), ('게요', 2674), ('껍질', 2675), ('방금', 2676), ('쪄', 2677), ('덴', 2678), ('실적', 2679), ('지유', 2680), ('와아', 2681), ('마찬가지', 2682), ('할텐데', 2683), ('고쳐', 2684), ('방해', 2685), ('배워', 2686), ('거의', 2687), ('찻집', 2688), ('마십시오', 2689), ('약사', 2690), ('결국', 2691), ('구박', 2692), ('감싸', 2693), ('아끼', 2694), ('한대요', 2695), ('한다며', 2696), ('잖여', 2697), ('고민', 2698), ('신다고', 2699), ('경험', 2700), ('주전자', 2701), ('몰러', 2702), ('표', 2703), ('약점', 2704), ('간다고', 2705), ('불렀', 2706), ('직장', 2707), ('찬바람', 2708), ('부러워서', 2709), ('차안', 2710), ('내린다', 2711), ('붙이', 2712), ('선보', 2713), ('쥐', 2714), ('양쪽', 2715), ('건너', 2716), ('두르', 2717), ('갈라서', 2718), ('잡히', 2719), ('현', 2720), ('날치기', 2721), ('주춤', 2722), ('분노', 2723), ('건물', 2724), ('뛰쳐', 2725), ('선가', 2726), ('아앙', 2727), ('문득', 2728), ('일회용', 2729), ('비누', 2730), ('꾸욱', 2731), ('헐레벌떡', 2732), ('앵', 2733), ('총총', 2734), ('글썽', 2735), ('츄리닝', 2736), ('유턴', 2737), ('쏠려', 2738), ('안긴', 2739), ('핫도그', 2740), ('기어', 2741), ('상것', 2742), ('베개맡', 2743), ('차려입', 2744), ('콧노래', 2745), ('광내', 2746), ('든채', 2747), ('우악스레', 2748), ('엎어질', 2749), ('전형', 2750), ('억척', 2751), ('베개', 2752), ('누우', 2753), ('발놀이', 2754), ('꾹', 2755), ('춤추', 2756), ('생과일', 2757), ('쪽쪽', 2758), ('주말', 2759), ('호', 2760), ('난다', 2761), ('진정', 2762), ('영감', 2763), ('선생', 2764), ('한판', 2765), ('핑계', 2766), ('칙', 2767), ('지요', 2768), ('갔다올게', 2769), ('다행', 2770), ('로선', 2771), ('어떠', 2772), ('다녔', 2773), ('꺼정', 2774), ('대해', 2775), ('감춰', 2776), ('바꿔', 2777), ('이자', 2778), ('회식', 2779), ('맞딱뜨리', 2780), ('시방', 2781), ('이제야', 2782), ('치루', 2783), ('신세', 2784), ('느끼', 2785), ('넘겨', 2786), ('을게요', 2787), ('감기', 2788), ('할땐', 2789), ('건다', 2790), ('뒷', 2791), ('탈', 2792), ('장모', 2793), ('혼인', 2794), ('삐딱', 2795), ('마련', 2796), ('백화점', 2797), ('간지', 2798), ('혼나', 2799), ('이따가', 2800), ('재결합', 2801), ('아드', 2802), ('협조', 2803), ('갔다왔', 2804), ('표시', 2805), ('주무셨', 2806), ('안다', 2807), ('병나', 2808), ('계신데', 2809), ('일일이', 2810), ('다니까요', 2811), ('올게', 2812), ('매일', 2813), ('환장', 2814), ('엄청나', 2815), ('마르', 2816), ('부상', 2817), ('무서워', 2818), ('뛰놀', 2819), ('바쁜가', 2820), ('언젠데', 2821), ('당당', 2822), ('성적', 2823), ('행여', 2824), ('걘', 2825), ('성적표', 2826), ('멀쩡', 2827), ('한눈', 2828), ('도망갔', 2829), ('버려', 2830), ('짼', 2831), ('짱', 2832), ('지도', 2833), ('뭔데요', 2834), ('고서', 2835), ('들여', 2836), ('어야죠', 2837), ('뿌', 2838), ('상품', 2839), ('떼먹', 2840), ('혔', 2841), ('주범', 2842), ('휘발유', 2843), ('누명', 2844), ('빨리요', 2845), ('아껴', 2846), ('안사돈', 2847), ('빠졌', 2848), ('온다고', 2849), ('오만', 2850), ('방자', 2851), ('그런데', 2852), ('느냐', 2853), ('을께요', 2854), ('간만에', 2855), ('동선', 2856), ('만회', 2857), ('정보', 2858), ('통하', 2859), ('점수', 2860), ('가치', 2861), ('잠복', 2862), ('준다면', 2863), ('껀', 2864), ('스키장', 2865), ('졌', 2866), ('흉', 2867), ('근본', 2868), ('남녀', 2869), ('맡겨', 2870), ('소식', 2871), ('내일', 2872), ('부진', 2873), ('흘려', 2874), ('취했', 2875), ('쩔', 2876), ('굴비', 2877), ('신가', 2878), ('뽀', 2879), ('뽀뽀', 2880), ('때려치', 2881), ('강', 2882), ('원석', 2883), ('스물', 2884), ('고비', 2885), ('사항', 2886), ('라는데', 2887), ('연하', 2888), ('열통', 2889), ('밤중', 2890), ('바랍니다', 2891), ('고마워요', 2892), ('탱', 2893), ('먹이', 2894), ('한입', 2895), ('비행기', 2896), ('일러', 2897), ('졸업', 2898), ('간식', 2899), ('목적', 2900), ('한바탕', 2901), ('토마토', 2902), ('데려', 2903), ('섞인', 2904), ('랬', 2905), ('뭘로', 2906), ('냈', 2907), ('맘껏', 2908), ('잔디', 2909), ('넘길', 2910), ('낌새', 2911), ('시아버지', 2912), ('패', 2913), ('조만간', 2914), ('까딱', 2915), ('갈까', 2916), ('싸인', 2917), ('피의자', 2918), ('갈지', 2919), ('간다며', 2920), ('삘이팍', 2921), ('어려워', 2922), ('집합', 2923), ('겪', 2924), ('줏', 2925), ('뽑', 2926), ('실수', 2927), ('티끌', 2928), ('깨졌', 2929), ('아이', 2930), ('맘먹', 2931), ('어쩔려고', 2932), ('재우', 2933), ('맡기', 2934), ('예의', 2935), ('지옥', 2936), ('팍팍', 2937), ('별나', 2938), ('여섯', 2939), ('대변인', 2940), ('들통', 2941), ('쳐도', 2942), ('편애', 2943), ('말려', 2944), ('부끄럽', 2945), ('찍소리', 2946), ('동료', 2947), ('둔', 2948), ('주의', 2949), ('나타나', 2950), ('돌아오', 2951), ('달래', 2952), ('내려요', 2953), ('총', 2954), ('지겨워', 2955), ('짤라', 2956), ('계신', 2957), ('아시', 2958), ('생긴', 2959), ('효도', 2960), ('스러워', 2961), ('초', 2962), ('참나', 2963), ('찾아왔', 2964), ('버릴', 2965), ('아깝', 2966), ('폼', 2967), ('그런가', 2968), ('기다렸', 2969), ('연필', 2970), ('은혜', 2971), ('닥치', 2972), ('저위', 2973), ('욕먹', 2974), ('랴', 2975), ('까짓거', 2976), ('다칠', 2977), ('신다', 2978), ('먹여', 2979), ('무엇', 2980), ('화해', 2981), ('보아하니', 2982), ('근처', 2983), ('높', 2984), ('흉내', 2985), ('미국', 2986), ('친', 2987), ('끓여', 2988), ('샵', 2989), ('어머닌', 2990), ('묵', 2991), ('물론', 2992), ('아아아아', 2993), ('갈께요', 2994), ('후보', 2995), ('뱃속', 2996), ('먹였', 2997), ('데요', 2998), ('탔', 2999), ('꿨', 3000), ('배웠', 3001), ('들어간', 3002), ('셋째', 3003), ('귀하', 3004), ('내빼', 3005), ('추억', 3006), ('거긴', 3007), ('말귀', 3008), ('주일', 3009), ('맡겼', 3010), ('아이고', 3011), ('지겨워서', 3012), ('신기', 3013), ('기다릴게', 3014), ('으실', 3015), ('모함', 3016), ('에서부터', 3017), ('민족', 3018), ('먼일', 3019), ('드러', 3020), ('인권', 3021), ('건배', 3022), ('제삿날', 3023), ('까요', 3024), ('었잖', 3025), ('노른자', 3026), ('껍데기', 3027), ('익히', 3028), ('지킬', 3029), ('거릴', 3030), ('붙잡', 3031), ('깜빡', 3032), ('코치', 3033), ('골라', 3034), ('서운', 3035), ('수씨', 3036), ('드라구요', 3037), ('들어갑니다', 3038), ('아쉬운', 3039), ('피해', 3040), ('마셨', 3041), ('시세', 3042), ('태우', 3043), ('급해', 3044), ('한지', 3045), ('멋있', 3046), ('다이어트', 3047), ('내밀', 3048), ('무리', 3049), ('쒀', 3050), ('찬성', 3051), ('감옥', 3052), ('친해', 3053), ('잡혀', 3054), ('충격', 3055), ('감추', 3056), ('드려요', 3057), ('대박', 3058), ('안다고', 3059), ('장가가', 3060), ('외롭', 3061), ('으신', 3062), ('잡아떼', 3063), ('닭찜', 3064), ('글쎄', 3065), ('똘마니', 3066), ('직', 3067), ('화이팅', 3068), ('어때서', 3069), ('쟤', 3070), ('상갓집', 3071), ('도망', 3072), ('고소', 3073), ('무기', 3074), ('벌서', 3075), ('열렬히', 3076), ('야단', 3077), ('뻐꾸기', 3078), ('스프', 3079), ('축', 3080), ('빠르', 3081), ('기회', 3082), ('꺾', 3083), ('벗겨', 3084), ('악', 3085), ('부수', 3086), ('만족', 3087), ('관탕', 3088), ('건장', 3089), ('막아선다', 3090), ('충청도', 3091), ('감격', 3092), ('스런', 3093), ('휘이', 3094), ('승객', 3095), ('막혀', 3096), ('밀린다', 3097), ('아랑곳없이', 3098), ('폼잡', 3099), ('재빨리', 3100), ('벌려', 3101), ('털썩', 3102), ('눈빛', 3103), ('갯', 3104), ('당겨', 3105), ('헝클어지', 3106), ('할려', 3107), ('구급차', 3108), ('기막혀', 3109), ('차량', 3110), ('속상', 3111), ('무심결', 3112), ('돌아누운', 3113), ('앞장선', 3114), ('향하', 3115), ('려던', 3116), ('문지르', 3117), ('우지', 3118), ('뛰어나와', 3119), ('삘받아', 3120), ('난도', 3121), ('웨딩', 3122), ('쉬워', 3123), ('암말도', 3124), ('나누', 3125), ('밀어내', 3126), ('한겨', 3127), ('대학교', 3128), ('전달', 3129), ('볼게', 3130), ('양보', 3131), ('시킬', 3132), ('이까짓', 3133), ('냐구요', 3134), ('아픈데', 3135), ('죄짓', 3136), ('유부남', 3137), ('보낼', 3138), ('건들', 3139), ('복수', 3140), ('길목', 3141), ('연애질', 3142), ('할아버지', 3143), ('거진', 3144), ('다정', 3145), ('그런다니', 3146), ('아무거', 3147), ('들키', 3148), ('먹일려고', 3149), ('태어나', 3150), ('아뇨', 3151), ('쇼', 3152), ('손해', 3153), ('예비', 3154), ('모여서', 3155), ('통곡', 3156), ('이왕이면', 3157), ('홀가분', 3158), ('지지', 3159), ('꺼뻑', 3160), ('깡', 3161), ('효과', 3162), ('한통속', 3163), ('부드럽', 3164), ('몸살', 3165), ('패물', 3166), ('이걸로', 3167), ('이래요', 3168), ('어때요', 3169), ('메롱', 3170), ('잊어버려', 3171), ('출퇴근', 3172), ('따르', 3173), ('준다고', 3174), ('멋져', 3175), ('찧', 3176), ('가해자', 3177), ('속인', 3178), ('아닐까요', 3179), ('속이', 3180), ('떠난', 3181), ('탈주범', 3182), ('바깥일', 3183), ('된대', 3184), ('바뻐', 3185), ('내배', 3186), ('못나', 3187), ('건데요', 3188), ('곧', 3189), ('집게', 3190), ('턴', 3191), ('욕', 3192), ('존댓말', 3193), ('지냈', 3194), ('역할', 3195), ('알아봐', 3196), ('정보망', 3197), ('야단맞', 3198), ('방학', 3199), ('이형수', 3200), ('목구멍', 3201), ('재주', 3202), ('기술', 3203), ('말렸', 3204), ('-', 3205), ('깰', 3206), ('석', 3207), ('밀렸', 3208), ('쏙', 3209), ('생겨서', 3210), ('대출', 3211), ('어려', 3212), ('방방', 3213), ('싹싹', 3214), ('반쪽', 3215), ('천지', 3216), ('산소', 3217), ('어우', 3218), ('자다', 3219), ('숑숑', 3220), ('날라', 3221), ('그랬다간', 3222), ('못한다', 3223), ('곤란', 3224), ('내년', 3225), ('져요', 3226), ('발령', 3227), ('꽃', 3228), ('아빤', 3229), ('넨', 3230), ('려다', 3231), ('못살', 3232), ('뜬', 3233), ('욕봤', 3234), ('쫑', 3235), ('꿈자리', 3236), ('겁나게', 3237), ('익', 3238), ('체크', 3239), ('무전', 3240), ('부러우', 3241), ('떠넘기', 3242), ('줄께', 3243), ('솟', 3244), ('봐줄', 3245), ('홀라당', 3246), ('시원찮', 3247), ('00', 3248), ('상대', 3249), ('한꺼번에', 3250), ('배고파', 3251), ('아메리칸', 3252), ('따라오', 3253), ('미장원', 3254), ('시험', 3255), ('진심', 3256), ('뭉개', 3257), ('무사히', 3258), ('먹일', 3259), ('대화', 3260), ('범죄자', 3261), ('언뜻', 3262), ('쓰여', 3263), ('저지르', 3264), ('긁', 3265), ('벌벌', 3266), ('열쇠', 3267), ('아닌데요', 3268), ('끌어안', 3269), ('지휘', 3270), ('발길', 3271), ('김건', 3272), ('가을', 3273), ('소풍', 3274), ('기억나', 3275), ('첫눈', 3276), ('알려', 3277), ('교통사고', 3278), ('막혀서', 3279), ('확보', 3280), ('쓸데없', 3281), ('부킹', 3282), ('어지간', 3283), ('검문', 3284), ('삽니다', 3285), ('마디', 3286), ('댓', 3287), ('모를까', 3288), ('으나', 3289), ('어허', 3290), ('누굴', 3291), ('특단', 3292), ('물어볼', 3293), ('묵비', 3294), ('우와', 3295), ('짐작', 3296), ('나름', 3297), ('매력', 3298), ('맏며느리', 3299), ('재미없', 3300), ('끝나', 3301), ('놨는데', 3302), ('찾아가', 3303), ('촌스럽', 3304), ('이래도', 3305), ('멍', 3306), ('우릴', 3307), ('당근', 3308), ('첫째', 3309), ('취조', 3310), ('들어간다', 3311), ('어려도', 3312), ('사표', 3313), ('쌈', 3314), ('어떤지', 3315), ('주물러', 3316), ('굉장히', 3317), ('구녕', 3318), ('이대로', 3319), ('풀릴', 3320), ('야박', 3321), ('끝난', 3322), ('가출', 3323), ('들어와서', 3324), ('딸린', 3325), ('신데요', 3326), ('경장', 3327), ('어쩌면', 3328), ('갈껴', 3329), ('체포', 3330), ('당한', 3331), ('굽', 3332), ('을게', 3333), ('상대방', 3334), ('딱감', 3335), ('일본', 3336), ('모아', 3337), ('야단치', 3338), ('하나하나', 3339), ('계십니다', 3340), ('통수', 3341), ('래유', 3342), ('알아듣', 3343), ('날아가', 3344), ('손대', 3345), ('휴가', 3346), ('쉴', 3347), ('라매', 3348), ('검찰', 3349), ('이렇', 3350), ('본인', 3351), ('고프', 3352), ('해졌', 3353), ('떨어졌', 3354), ('눈알', 3355), ('소원', 3356), ('빠삭', 3357), ('스러', 3358), ('에라이', 3359), ('초라', 3360), ('이익', 3361), ('결과', 3362), ('갈려면', 3363), ('자알', 3364), ('총각', 3365), ('앞뒤', 3366), ('아부질', 3367), ('설', 3368), ('탓', 3369), ('할래요', 3370), ('구하', 3371), ('잔다고', 3372), ('수업', 3373), ('잡힌', 3374), ('혼날', 3375), ('가시', 3376), ('부리', 3377), ('드려야', 3378), ('그럴게요', 3379), ('뜨끈뜨끈', 3380), ('퉁퉁', 3381), ('쫄', 3382), ('쿨', 3383), ('물려받', 3384), ('어딘데', 3385), ('청장', 3386), ('넘어갑시다', 3387), ('궈', 3388), ('돌아댕기', 3389), ('만사', 3390), ('호텔', 3391), ('누군지', 3392), ('수리', 3393), ('줄래', 3394), ('외로운', 3395), ('불러냈', 3396), ('알아주', 3397), ('줘도', 3398), ('당해', 3399), ('남인', 3400), ('진압', 3401), ('마마보이', 3402), ('함께', 3403), ('손위', 3404), ('착각', 3405), ('무지', 3406), ('미리미리', 3407), ('따귀', 3408), ('와야지', 3409), ('군기', 3410), ('올께', 3411), ('통신', 3412), ('국민', 3413), ('달린', 3414), ('업무', 3415), ('싸울', 3416), ('입력', 3417), ('공항', 3418), ('한다는', 3419), ('했잖아요', 3420), ('헛', 3421), ('족쇄', 3422), ('근디', 3423), ('관절', 3424), ('사방팔방', 3425), ('들여다', 3426), ('일억', 3427), ('돌려', 3428), ('사채', 3429), ('오후', 3430), ('가만두', 3431), ('삐지', 3432), ('텐데요', 3433), ('하드', 3434), ('복원', 3435), ('000', 3436), ('보여요', 3437), ('왔으니', 3438), ('으셨어요', 3439), ('놀이터', 3440), ('정황', 3441), ('실갱이', 3442), ('부딪힐', 3443), ('그런대로', 3444), ('차려서', 3445), ('쌈박질', 3446), ('종일', 3447), ('이래뵈', 3448), ('컸', 3449), ('전혀', 3450), ('랍니다', 3451), ('아우', 3452), ('올라', 3453), ('신혼집', 3454), ('스포츠', 3455), ('취직자리', 3456), ('거라', 3457), ('합류', 3458), ('잖냐', 3459), ('맏', 3460), ('셋방', 3461), ('싸워', 3462), ('부담', 3463), ('아줌만', 3464), ('큰형수', 3465), ('변했', 3466), ('나쁘', 3467), ('욕심', 3468), ('철저', 3469), ('천만', 3470), ('부턴', 3471), ('다녀올께요', 3472), ('싸운', 3473), ('뚜껑', 3474), ('뻐꾹뻐꾹', 3475), ('부엉부엉', 3476), ('효자', 3477), ('연기', 3478), ('와도', 3479), ('때려요', 3480), ('퍼', 3481), ('망치', 3482), ('어려울', 3483), ('소린데', 3484), ('롱', 3485), ('걸어서', 3486), ('딱딱', 3487), ('놔둬라', 3488), ('흰자', 3489), ('업혀', 3490), ('익숙', 3491), ('문젠데', 3492), ('으래', 3493), ('된대요', 3494), ('잉', 3495), ('꾼', 3496), ('막힌', 3497), ('쫘악', 3498), ('거절', 3499), ('도덕', 3500), ('덤벼', 3501), ('낄', 3502), ('꼬셔서', 3503), ('시집온', 3504), ('시부모', 3505), ('엄니', 3506), ('천둥', 3507), ('공사', 3508), ('그만둬', 3509), ('헌', 3510), ('야죠', 3511), ('그걸로', 3512), ('하행선', 3513), ('계셨', 3514), ('자구요', 3515), ('주무실', 3516), ('보태', 3517), ('정상', 3518), ('납니다', 3519), ('아무데', 3520), ('감히', 3521), ('준대요', 3522), ('길바닥', 3523), ('어머님', 3524), ('교도소', 3525), ('을려면', 3526), ('대처', 3527), ('못허', 3528), ('안타까워서', 3529), ('커', 3530), ('모으', 3531), ('고추장', 3532), ('해줄까', 3533), ('굳', 3534), ('원수', 3535), ('신대', 3536), ('아쉽', 3537), ('어리', 3538), ('비치', 3539), ('조카', 3540), ('차릴', 3541), ('헤쳐', 3542), ('젓가락', 3543), ('아팠', 3544), ('때우', 3545), ('화장지', 3546), ('올까요', 3547), ('한다면', 3548), ('긴말', 3549), ('남남', 3550), ('뼈', 3551), ('생선', 3552), ('피부', 3553), ('이달', 3554), ('예상', 3555), ('압수', 3556), ('내놔', 3557), ('처분', 3558), ('깼', 3559), ('혜택', 3560), ('뵙', 3561), ('설레', 3562), ('잊어버리', 3563), ('안해', 3564), ('점심때', 3565), ('식빵', 3566), ('쫓아다니', 3567), ('내손', 3568), ('무치', 3569), ('놀랐', 3570), ('떡', 3571), ('여보', 3572), ('검찰청', 3573), ('앞장서', 3574), ('감옥살이', 3575), ('워디', 3576), ('진지', 3577), ('동태', 3578), ('통박', 3579), ('목욕', 3580), ('특별', 3581), ('막내아들', 3582), ('저리', 3583), ('이세상', 3584), ('부분데', 3585), ('헤어진', 3586), ('불러서', 3587), ('바꿔서', 3588), ('이만저만', 3589), ('심상', 3590), ('춥', 3591), ('밀리', 3592), ('환상', 3593), ('배신', 3594), ('모를', 3595), ('뒤치다꺼리', 3596), ('잡힐', 3597), ('을껴', 3598), ('내비', 3599), ('귀경', 3600), ('편찮', 3601), ('아래', 3602), ('온대요', 3603), ('손발', 3604), ('드린', 3605), ('헤어질', 3606), ('해서요', 3607), ('못할', 3608), ('잘사', 3609), ('도망갈', 3610), ('코앞', 3611), ('바꾸', 3612), ('파스', 3613), ('조직', 3614), ('어어어엉', 3615), ('행사', 3616), ('어딘지', 3617), ('만든', 3618), ('취해야', 3619), ('여우', 3620), ('회원', 3621), ('양해', 3622), ('키워놨', 3623), ('뛰댕기', 3624), ('구해', 3625), ('차원', 3626), ('기어이', 3627), ('을지', 3628), ('맺힌', 3629), ('자연', 3630), ('소리지르', 3631), ('텅', 3632), ('옮겨', 3633), ('재산', 3634), ('울려도', 3635), ('찜질', 3636), ('꿈틀대', 3637), ('힐끔대', 3638), ('시침', 3639), ('가려', 3640), ('수화기', 3641), ('부르르', 3642), ('털석', 3643), ('골목길', 3644), ('멈춘다', 3645), ('밀려와', 3646), ('스카프', 3647), ('다소', 3648), ('화려', 3649), ('초인종', 3650), ('앞쪽', 3651), ('기막히', 3652), ('왼손', 3653), ('묶인', 3654), ('전봇대', 3655), ('난감', 3656), ('드린다고', 3657), ('간장', 3658), ('슥슥', 3659), ('비벼서', 3660), ('통째', 3661), ('뒤따라오', 3662), ('뚱', 3663), ('녀', 3664), ('스쳐지나간다', 3665), ('끼익', 3666), ('휘둥그레지', 3667), ('둘레', 3668), ('시설', 3669), ('걸쳐', 3670), ('스타킹', 3671), ('운동복', 3672), ('소주병', 3673), ('옷자락', 3674), ('호흡', 3675), ('통과', 3676), ('낑낑', 3677), ('로봇', 3678), ('자안', 3679), ('매달려', 3680), ('신난', 3681), ('두세', 3682), ('타로', 3683), ('점보', 3684), ('적당', 3685), ('밀려', 3686), ('미모', 3687), ('헬', 3688), ('맷', 3689), ('적힌', 3690), ('쪼그라드', 3691), ('밀쳐', 3692), ('일으키', 3693), ('계약서', 3694), ('대여섯', 3695), ('소꼬리', 3696), ('보온병', 3697), ('불개', 3698), ('얼결', 3699), ('치운', 3700), ('303', 3701), ('시킨다고', 3702), ('이럼', 3703), ('쉰', 3704), ('이럴바엔', 3705), ('추석', 3706), ('지낼', 3707), ('소매치기', 3708), ('뜹시다', 3709), ('장녀', 3710), ('당할', 3711), ('징징', 3712), ('이런다고', 3713), ('집니까', 3714), ('해치우', 3715), ('놨어요', 3716), ('밥때', 3717), ('싸돌', 3718), ('갈테', 3719), ('여차저차', 3720), ('껴서', 3721), ('아이구', 3722), ('각', 3723), ('서유', 3724), ('담배', 3725), ('착하', 3726), ('괴롭', 3727), ('말아먹', 3728), ('망정', 3729), ('건드렸다간', 3730), ('벼', 3731), ('렸', 3732), ('구속', 3733), ('더러운', 3734), ('으니께', 3735), ('들어야', 3736), ('어떨지', 3737), ('어쩐지', 3738), ('소문', 3739), ('빠른', 3740), ('검경', 3741), ('합동', 3742), ('새삼', 3743), ('쫄따구', 3744), ('비싼', 3745), ('버린다', 3746), ('청구서', 3747), ('고마워서', 3748), ('할라고', 3749), ('빌려간', 3750), ('의외', 3751), ('체포영장', 3752), ('찌', 3753), ('부서지', 3754), ('지난', 3755), ('깨진', 3756), ('바란다면', 3757), ('모자라', 3758), ('갈수록', 3759), ('시아주버님', 3760), ('얼씬', 3761), ('약해', 3762), ('보여도', 3763), ('데려오', 3764), ('옷차림', 3765), ('웬지', 3766), ('덩달', 3767), ('얕잡', 3768), ('샌다', 3769), ('어딥니까', 3770), ('부득이', 3771), ('부자연', 3772), ('질일', 3773), ('험한', 3774), ('중심', 3775), ('사업', 3776), ('때려쳐', 3777), ('기록', 3778), ('치뤘', 3779), ('속여요', 3780), ('내놔요', 3781), ('된다니까', 3782), ('멋대로', 3783), ('꼼장어에', 3784), ('아셨', 3785), ('푸', 3786), ('민간', 3787), ('볼테', 3788), ('등치', 3789), ('학', 3790), ('뗐', 3791), ('모셔', 3792), ('바래', 3793), ('불리', 3794), ('엄연히', 3795), ('태도', 3796), ('피해자', 3797), ('더구나', 3798), ('인터넷', 3799), ('내맘대로', 3800), ('쓴다', 3801), ('숨겨', 3802), ('말썽', 3803), ('깡패', 3804), ('제정신', 3805), ('체했', 3806), ('느닷없이', 3807), ('얼매나', 3808), ('마무리', 3809), ('갈라진다', 3810), ('홍삼', 3811), ('전세', 3812), ('경제', 3813), ('급허', 3814), ('으셔서', 3815), ('내놔야', 3816), ('담부', 3817), ('해드려', 3818), ('퍼먹', 3819), ('멀리서', 3820), ('드디어', 3821), ('봤으니', 3822), ('깨소금', 3823), ('화내', 3824), ('초등학생', 3825), ('갑시다', 3826), ('가구', 3827), ('부렸', 3828), ('보안', 3829), ('담당', 3830), ('거래처', 3831), ('여잔데', 3832), ('금수장', 3833), ('살인', 3834), ('발부', 3835), ('모셨으면', 3836), ('마주쳐도', 3837), ('김상태', 3838), ('나갈게', 3839), ('끌어온', 3840), ('휠', 3841), ('짠돌이', 3842), ('걸릴', 3843), ('무사', 3844), ('폈', 3845), ('천하', 3846), ('갔다온', 3847), ('라서요', 3848), ('볼려구요', 3849), ('우애', 3850), ('두드리', 3851), ('닭다리', 3852), ('느라고', 3853), ('볏단', 3854), ('더럽', 3855), ('먹혀', 3856), ('넘어갈', 3857), ('마흔', 3858), ('얹혀', 3859), ('파이팅', 3860), ('깐깐', 3861), ('챙겨서', 3862), ('노리', 3863), ('앞면', 3864), ('뒷면', 3865), ('라뇨', 3866), ('싫증', 3867), ('내편', 3868), ('칩니다', 3869), ('긴급', 3870), ('그나저나', 3871), ('첩보', 3872), ('샌', 3873), ('앞장', 3874), ('란다', 3875), ('맞춘', 3876), ('뒤집어쓰', 3877), ('편해요', 3878), ('밝', 3879), ('들으', 3880), ('흔들리', 3881), ('금', 3882), ('들어도', 3883), ('사납', 3884), ('오호', 3885), ('약하', 3886), ('밝히', 3887), ('뭐한', 3888), ('친데', 3889), ('근무지', 3890), ('세유', 3891), ('소용', 3892), ('호강', 3893), ('즐기', 3894), ('발전', 3895), ('신임', 3896), ('단순히', 3897), ('굴', 3898), ('훔쳤', 3899), ('치워', 3900), ('얜', 3901), ('떠봐', 3902), ('타요', 3903), ('미워하', 3904), ('루', 3905), ('따라다니', 3906), ('순전히', 3907), ('도졌', 3908), ('썩', 3909), ('뜯어먹', 3910), ('뉘우치', 3911), ('짰', 3912), ('신다구요', 3913), ('드려서', 3914), ('뿅가', 3915), ('흔한', 3916), ('영혼', 3917), ('꼬이', 3918), ('고아', 3919), ('질러', 3920), ('온통', 3921), ('취향', 3922), ('나마', 3923), ('올래', 3924), ('암호', 3925), ('빠질', 3926), ('어떡할래', 3927), ('걸치', 3928), ('유치', 3929), ('꿈꿀', 3930), ('너스', 3931), ('부하', 3932), ('융통', 3933), ('입감', 3934), ('볼게요', 3935), ('덧나', 3936), ('드릴려고', 3937), ('이탈자', 3938), ('각별히', 3939), ('뻔뻔', 3940), ('잃어버렸', 3941), ('들렸', 3942), ('죄지', 3943), ('위험', 3944), ('씌우', 3945), ('어려워하', 3946), ('우연히', 3947), ('윷놀이', 3948), ('극비', 3949), ('복작대', 3950), ('따님', 3951), ('해놨', 3952), ('대뜸', 3953), ('스포츠센터', 3954), ('대나', 3955), ('푸닥거리', 3956), ('이랬', 3957), ('저럴', 3958), ('저랬', 3959), ('치킨', 3960), ('무', 3961), ('쟈', 3962), ('차려라', 3963), ('허드렛일', 3964), ('내줄', 3965), ('할걸', 3966), ('거래', 3967), ('이럴래', 3968), ('썩이', 3969), ('솜씨', 3970), ('진단서', 3971), ('선입견', 3972), ('쟁이', 3973), ('려나', 3974), ('아들놈', 3975), ('저건', 3976), ('경찰대', 3977), ('동반', 3978), ('시집와서', 3979), ('자격지심', 3980), ('던가요', 3981), ('그렇겐', 3982), ('드라이브', 3983), ('잘려고', 3984), ('올려요', 3985), ('독수공방', 3986), ('그러신', 3987), ('깜빡깜빡', 3988), ('추천', 3989), ('메뉴', 3990), ('이천', 3991), ('쒔', 3992), ('하기는', 3993), ('사이사이', 3994), ('편해', 3995), ('찐하', 3996), ('여길', 3997), ('말단', 3998), ('이따위', 3999), ('땡큐', 4000), ('우범', 4001), ('지역', 4002), ('매번', 4003), ('원리', 4004), ('원칙', 4005), ('캔', 4006), ('별루', 4007), ('비쌀텐데', 4008), ('잔칫상', 4009), ('떠났', 4010), ('겸사겸사', 4011), ('관내', 4012), ('도시락', 4013), ('사업가', 4014), ('잔다', 4015), ('신분', 4016), ('급체포', 4017), ('뉴스', 4018), ('들으니까', 4019), ('머릿속', 4020), ('건가', 4021), ('할거', 4022), ('올릴', 4023), ('즉', 4024), ('껴안', 4025), ('내복', 4026), ('보글보글', 4027), ('지져', 4028), ('데릴사위', 4029), ('간고등어', 4030), ('귀여워', 4031), ('지난주', 4032), ('목요일', 4033), ('범죄', 4034), ('질려', 4035), ('상담', 4036), ('상당히', 4037), ('대환영', 4038), ('깐다', 4039), ('두루두루', 4040), ('간다는', 4041), ('미워해', 4042), ('준댔', 4043), ('바래다', 4044), ('내서', 4045), ('응급실', 4046), ('났으니', 4047), ('이러실', 4048), ('얘긴데', 4049), ('일났', 4050), ('시끄러우', 4051), ('준다', 4052), ('커플링', 4053), ('는진', 4054), ('외박', 4055), ('몰', 4056), ('날새', 4057), ('만점', 4058), ('대책', 4059), ('넘치', 4060), ('무모', 4061), ('게임', 4062), ('건강아', 4063), ('졸졸', 4064), ('명령', 4065), ('마누란', 4066), ('래는', 4067), ('너무나', 4068), ('쏠께', 4069), ('일생', 4070), ('오르', 4071), ('양', 4072), ('탄다', 4073), ('아까운', 4074), ('난리나', 4075), ('레스토랑', 4076), ('치명', 4077), ('한고비', 4078), ('자부심', 4079), ('달려가', 4080), ('구유', 4081), ('고등학교', 4082), ('드나들', 4083), ('갈등', 4084), ('드니', 4085), ('차분히', 4086), ('화재', 4087), ('쥐잡', 4088), ('난처', 4089), ('라더니', 4090), ('빨라요', 4091), ('도왔', 4092), ('말대꾸', 4093), ('내주', 4094), ('애새끼', 4095), ('갈란다', 4096), ('실텐데', 4097), ('쓰러졌', 4098), ('가까운데', 4099), ('물결', 4100), ('뜨신', 4101), ('해먹', 4102), ('뎅', 4103), ('보충', 4104), ('예민', 4105), ('내보낼', 4106), ('그래야지', 4107), ('랬더니', 4108), ('트', 4109), ('출신', 4110), ('차출', 4111), ('변덕', 4112), ('드실', 4113), ('그니까', 4114), ('그만두', 4115), ('갈려구요', 4116), ('는겨', 4117), ('부어서', 4118), ('내릴', 4119), ('이겨서', 4120), ('여차하면', 4121), ('괴롭힐', 4122), ('왔다갔다', 4123), ('곤욕', 4124), ('티켓', 4125), ('두들겨', 4126), ('한때', 4127), ('알뜰', 4128), ('밥벌이', 4129), ('썼잖아요', 4130), ('화', 4131), ('환', 4132), ('잔데', 4133), ('떴', 4134), ('장가갈', 4135), ('으신데', 4136), ('맛없', 4137), ('젓갈', 4138), ('빨랑빨랑', 4139), ('보증금', 4140), ('사겼', 4141), ('다잖아요', 4142), ('후진', 4143), ('막상', 4144), ('한우', 4145), ('죽이', 4146), ('가관', 4147), ('는다는', 4148), ('된다더니', 4149), ('언놈', 4150), ('만난다고', 4151), ('섭외', 4152), ('소린', 4153), ('끌리', 4154), ('짝퉁', 4155), ('어찌', 4156), ('가만있', 4157), ('괴로워', 4158), ('매스컴', 4159), ('마마', 4160), ('는가', 4161), ('나머지', 4162), ('바꿀', 4163), ('만두', 4164), ('끝낸', 4165), ('바래요', 4166), ('시정', 4167), ('야근', 4168), ('아무렇', 4169), ('살아왔', 4170), ('들른', 4171), ('설령', 4172), ('긴데', 4173), ('둘려', 4174), ('는다니', 4175), ('재워', 4176), ('콩', 4177), ('드라마', 4178), ('잡니다', 4179), ('갈비찜', 4180), ('연한', 4181), ('전요', 4182), ('산데', 4183), ('까다로운', 4184), ('비쳐', 4185), ('제까닥', 4186), ('장래', 4187), ('가중', 4188), ('처벌', 4189), ('협박', 4190), ('뜯어내', 4191), ('아님', 4192), ('실력', 4193), ('발휘', 4194), ('받아들이', 4195), ('꼬지', 4196), ('큰언니', 4197), ('인가요', 4198), ('생각난다', 4199), ('웬', 4200), ('연봉', 4201), ('개코', 4202), ('때워야', 4203), ('쫑쫑', 4204), ('반개', 4205), ('오빨', 4206), ('귀신', 4207), ('안부', 4208), ('립니', 4209), ('차근차근', 4210), ('쓸려면', 4211), ('써라', 4212), ('아실', 4213), ('당첨', 4214), ('순서', 4215), ('숨길', 4216), ('월', 4217), ('분하', 4218), ('생략', 4219), ('돌아다니', 4220), ('입맛', 4221), ('눈썰매장', 4222), ('물어봐라', 4223), ('는대', 4224), ('가정', 4225), ('멋쟁이', 4226), ('지나치', 4227), ('대체로', 4228), ('끝장냈', 4229), ('아저씬', 4230), ('장한', 4231), ('장혀', 4232), ('해줄께', 4233), ('습', 4234), ('딸렸', 4235), ('아하', 4236), ('해진다', 4237), ('벌주', 4238), ('줄려구요', 4239), ('홍길동', 4240), ('담판', 4241), ('쓸쓸', 4242), ('데릴러', 4243), ('콩닥콩닥', 4244), ('여야지', 4245), ('비해', 4246), ('썰렁', 4247), ('방탄조끼', 4248), ('집니다', 4249), ('흔들릴', 4250), ('대하', 4251), ('오래가', 4252), ('별명', 4253), ('딱지', 4254), ('문젠', 4255), ('저래요', 4256), ('미역국', 4257), ('갇혀', 4258), ('오래오래', 4259), ('온겨', 4260), ('천사', 4261), ('계모', 4262), ('청아', 4263), ('내꺼야', 4264), ('그럴수록', 4265), ('세일', 4266), ('민주', 4267), ('시민', 4268), ('마셔', 4269), ('진실', 4270), ('종류', 4271), ('자넨', 4272), ('나갈려면', 4273), ('당해서', 4274), ('하마', 4275), ('생활비', 4276), ('나아', 4277), ('유지', 4278), ('돼지', 4279), ('남의집살이', 4280), ('깔보', 4281), ('담주', 4282), ('밧데리', 4283), ('는다더니', 4284), ('반방', 4285), ('설레임', 4286), ('단다', 4287), ('가진', 4288), ('엿듣', 4289), ('했으면', 4290), ('왕래', 4291), ('중대', 4292), ('바빴', 4293), ('모실', 4294), ('쥐어뜯', 4295), ('비싸', 4296), ('헤어', 4297), ('바쁠', 4298), ('덤볐', 4299), ('바란다', 4300), ('재혼', 4301), ('어울려요', 4302), ('존대', 4303), ('살랑살랑', 4304), ('천재', 4305), ('얼만', 4306), ('찾아뵙', 4307), ('샘플', 4308), ('나눠서', 4309), ('을까요', 4310), ('누우셨', 4311), ('꿰', 4312), ('양호', 4313), ('비상사태', 4314), ('무안', 4315), ('납니까', 4316), ('경찰차', 4317), ('센타', 4318), ('못지', 4319), ('그러면', 4320), ('처갓집', 4321), ('쫓아갈', 4322), ('존심', 4323), ('다쳐', 4324), ('맹세', 4325), ('큰아버지', 4326), ('어젠', 4327), ('떠오', 4328), ('퍼석퍼석', 4329), ('치룬', 4330), ('넉넉히', 4331), ('붓', 4332), ('끓였', 4333), ('미스타', 4334), ('킴', 4335), ('증인', 4336), ('자야', 4337), ('배고파서', 4338), ('그분', 4339), ('대든', 4340), ('경고', 4341), ('응원', 4342), ('맺', 4343), ('고통', 4344), ('기준', 4345), ('고친', 4346), ('으라면', 4347), ('을께', 4348), ('속상해서', 4349), ('중독', 4350), ('묻히', 4351), ('출동', 4352), ('계좌', 4353), ('사연', 4354), ('자면', 4355), ('떨려', 4356), ('낮', 4357), ('알지', 4358), ('본다', 4359), ('새벽', 4360), ('차마', 4361), ('조개', 4362), ('덤빌', 4363), ('라면서요', 4364), ('사시', 4365), ('온다면서', 4366), ('맘고생', 4367), ('큰일날', 4368), ('공무', 4369), ('이민', 4370), ('실례', 4371), ('연체', 4372), ('죽인다고', 4373), ('혼났', 4374), ('어울린다', 4375), ('낚아채', 4376), ('아랫사람', 4377), ('신바람', 4378), ('맥', 4379), ('빠져서', 4380), ('자빠져', 4381), ('는구만', 4382), ('형아', 4383), ('모아서', 4384), ('예절', 4385), ('안내', 4386), ('까무라치', 4387), ('들어왔', 4388), ('비슷', 4389), ('쑬', 4390), ('까부', 4391), ('쌨', 4392), ('축상', 4393), ('모여', 4394), ('억', 4395), ('모닝', 4396), ('을라', 4397), ('아닌디', 4398), ('소릴', 4399), ('날르', 4400), ('오냐오냐', 4401), ('구경', 4402), ('멋진', 4403), ('언론', 4404), ('반복', 4405), ('단합', 4406), ('대회', 4407), ('먹여서', 4408), ('된다구요', 4409), ('짜식', 4410), ('여잘', 4411), ('막일', 4412), ('큰소리', 4413), ('써먹', 4414), ('쑤셔', 4415), ('신다는', 4416), ('호출', 4417), ('부러워', 4418), ('제산', 4419), ('열렸', 4420), ('이틀', 4421), ('차이', 4422), ('지난달', 4423), ('핑', 4424), ('취미', 4425), ('호박', 4426), ('0000', 4427), ('십쇼', 4428), ('위쪽', 4429), ('아까워서', 4430), ('갔다오', 4431), ('생길', 4432), ('냐구', 4433), ('악착같이', 4434), ('특별히', 4435), ('돌아다녀', 4436), ('반듯', 4437), ('대꾸', 4438), ('뺄', 4439), ('와유', 4440), ('못쓴다', 4441), ('과부', 4442), ('말린', 4443), ('터진', 4444), ('처리', 4445), ('잠가', 4446), ('빨빨거리', 4447), ('수록', 4448), ('이날', 4449), ('할까봐', 4450), ('부려', 4451), ('얼만데', 4452), ('시킬려고', 4453), ('자니까', 4454), ('보여서', 4455), ('재료비', 4456), ('치워야', 4457), ('계셔', 4458), ('러라', 4459), ('임자', 4460), ('고시원', 4461), ('힘듭니다', 4462), ('선본', 4463), ('무턱대고', 4464), ('깨끗이', 4465), ('상하', 4466), ('까발려', 4467), ('깃', 4468), ('백만', 4469), ('외식', 4470), ('전쟁', 4471), ('무너지', 4472), ('안가', 4473), ('철', 4474), ('고깃집', 4475), ('큰며느리', 4476), ('불나', 4477), ('합동결혼식', 4478), ('본다니까', 4479), ('올께요', 4480), ('깨워서', 4481), ('물를', 4482), ('불만', 4483), ('무겁', 4484), ('들으라고', 4485), ('힘든데', 4486), ('볼수록', 4487), ('야식', 4488), ('때린', 4489), ('겠어', 4490), ('파티', 4491), ('부탁드려요', 4492), ('대낮', 4493), ('무고', 4494), ('당했', 4495), ('13', 4496), ('간분', 4497), ('엄살쟁이', 4498), ('남잔', 4499), ('진다', 4500), ('장례식장', 4501), ('자씨', 4502), ('애타', 4503), ('길들여', 4504), ('밀가루', 4505), ('써야지', 4506), ('벼락', 4507), ('든디', 4508), ('뒷바라지', 4509), ('내다보', 4510), ('모른다', 4511), ('수선', 4512), ('걸린다니', 4513), ('잡혔', 4514), ('일나', 4515), ('구해야', 4516), ('역', 4517), ('걸려서', 4518), ('겠다', 4519), ('섭하', 4520), ('화끈', 4521), ('살게', 4522), ('죽인', 4523), ('싸움', 4524), ('관절염', 4525), ('비위', 4526), ('으이구', 4527), ('관심', 4528), ('외', 4529), ('온몸', 4530), ('바빠도', 4531), ('귀뜸', 4532), ('나야', 4533), ('못한', 4534), ('트집', 4535), ('등골', 4536), ('허가서', 4537), ('마음가짐', 4538), ('그러고', 4539), ('이리', 4540), ('쒀서', 4541), ('아픈가', 4542), ('튄', 4543), ('된다니', 4544), ('볼께', 4545), ('베', 4546), ('넘어왔', 4547), ('임', 4548), ('그만한', 4549), ('도망간', 4550), ('찜', 4551), ('난이', 4552), ('뻥치', 4553), ('남용', 4554), ('때렸', 4555), ('의미', 4556), ('꿔', 4557), ('광고지', 4558), ('준다는', 4559), ('늦잠', 4560), ('느니', 4561), ('웬수', 4562), ('을란다', 4563), ('얼굴도장', 4564), ('번개', 4565), ('읍시다', 4566), ('쥴', 4567), ('시켜서', 4568), ('부엉', 4569), ('개인', 4570), ('젯밥', 4571), ('삐', 4572), ('횟집', 4573), ('려', 4574), ('추가', 4575), ('발뺌', 4576), ('냐는', 4577), ('얼맙니까', 4578), ('이겨', 4579), ('열심', 4580), ('왕재', 4581), ('타가', 4582), ('펑펑', 4583), ('내뺀', 4584), ('반가워', 4585), ('따박따박', 4586), ('혹은', 4587), ('징역', 4588), ('도전', 4589), ('져야지', 4590), ('전체', 4591), ('덤', 4592), ('빠이빠이', 4593), ('댔', 4594), ('하부', 4595), ('튼튼', 4596), ('새로운', 4597), ('먹히', 4598), ('띠', 4599), ('장보', 4600), ('호락호락', 4601), ('니까요', 4602), ('놀이', 4603), ('죄인', 4604), ('환경', 4605), ('이딴', 4606), ('좋아하', 4607), ('러요', 4608), ('잡아오', 4609), ('이름값', 4610), ('그럴지', 4611), ('가위바위보', 4612), ('눈떠', 4613), ('쌍', 4614), ('챙겨라', 4615), ('한가', 4616), ('진도', 4617), ('고급', 4618), ('꼬리', 4619), ('아홉', 4620), ('20', 4621), ('인기', 4622), ('갑니까', 4623), ('산다고', 4624), ('신행', 4625), ('흉보', 4626), ('대잖아', 4627), ('살아오', 4628), ('찝찝', 4629), ('셨잖아요', 4630), ('자체', 4631), ('입방아', 4632), ('틈나', 4633), ('을려', 4634), ('운', 4635), ('닿', 4636), ('클났', 4637), ('맹글', 4638), ('질문', 4639), ('수송', 4640), ('나발', 4641), ('강물', 4642), ('독서실', 4643), ('몸상', 4644), ('주임', 4645), ('척척', 4646), ('토요일', 4647), ('다칠까', 4648), ('그리', 4649), ('세월', 4650), ('양반', 4651), ('기다려라', 4652), ('란다고', 4653), ('구할', 4654), ('배울', 4655), ('얌전', 4656), ('공주', 4657), ('쬐끔', 4658), ('길거리', 4659), ('후계자', 4660), ('빼짝', 4661), ('서부터', 4662), ('한다면서', 4663), ('노우', 4664), ('사양', 4665), ('여그', 4666), ('신다면서요', 4667), ('표창장', 4668), ('잠겼', 4669), ('모셔다', 4670), ('떠받들', 4671), ('에라', 4672), ('편한', 4673), ('뻔한', 4674), ('부를', 4675), ('캡', 4676), ('우회전', 4677), ('사은품', 4678), ('아부', 4679), ('이만', 4680), ('살려요', 4681), ('장난감', 4682), ('닭똥집', 4683), ('바란', 4684), ('백수', 4685), ('원복', 4686), ('팔목', 4687), ('으려는', 4688), ('공중', 4689), ('쳐들', 4690), ('으려고', 4691), ('밀착', 4692), ('실랑이', 4693), ('찡긋', 4694), ('튀어나오', 4695), ('뒤쫓', 4696), ('된장찌개', 4697), ('떠서', 4698), ('내려서', 4699), ('사무', 4700), ('실문', 4701), ('줄줄이', 4702), ('종료', 4703), ('바리바리', 4704), ('다다다다', 4705), ('손목', 4706), ('시동', 4707), ('메모', 4708), ('천장', 4709), ('고르', 4710), ('이장', 4711), ('남손', 4712), ('수갑', 4713), ('찬', 4714), ('물러나', 4715), ('뛰어든', 4716), ('헉헉', 4717), ('담궈', 4718), ('휘젓', 4719), ('으려', 4720), ('솜사탕', 4721), ('슈퍼', 4722), ('입술', 4723), ('오뚜기', 4724), ('팔베개', 4725), ('의료진', 4726), ('응급차', 4727), ('꽃다발', 4728), ('쨍그랑', 4729), ('삑삑', 4730), ('막아서', 4731), ('휘두르', 4732), ('반항', 4733), ('제압', 4734), ('왼팔', 4735), ('부딪힌', 4736), ('삽입', 4737), ('허우적대', 4738), ('강보', 4739), ('상석', 4740), ('흥얼대', 4741), ('때려부수', 4742), ('빵빵대', 4743), ('들어온', 4744), ('뒷모습', 4745), ('영교', 4746), ('커텐', 4747), ('왕관', 4748), ('걷어부치', 4749), ('놀이기구', 4750), ('턱시도', 4751), ('벌기', 4752), ('려다가', 4753), ('드러운', 4754), ('올라올', 4755), ('악물', 4756), ('전과', 4757), ('없애', 4758), ('덕담', 4759), ('무자식', 4760), ('상팔자', 4761), ('속좁', 4762), ('쳐들어갔', 4763), ('입다물', 4764), ('여동생', 4765), ('캄캄', 4766), ('걸립니다', 4767), ('닦달', 4768), ('돌릴', 4769), ('가져', 4770), ('사지', 4771), ('고스', 4772), ('나았', 4773), ('드라이', 4774), ('맡길', 4775), ('할껴', 4776), ('써요', 4777), ('자세히', 4778), ('내아', 4779), ('군대', 4780), ('선량', 4781), ('촛불', 4782), ('집회', 4783), ('영영', 4784), ('재떨이', 4785), ('사망', 4786), ('야심', 4787), ('관심없', 4788), ('안건', 4789), ('야야', 4790), ('덤벙대', 4791), ('백배', 4792), ('천배', 4793), ('알짱', 4794), ('허심탄회', 4795), ('꾸며서', 4796), ('일망타진', 4797), ('도망친', 4798), ('어긴', 4799), ('확답', 4800), ('죽여', 4801), ('놀리', 4802), ('대형', 4803), ('을래요', 4804), ('왼쪽', 4805), ('옵시다', 4806), ('튑니다', 4807), ('되돌릴', 4808), ('쏜', 4809), ('하여튼', 4810), ('접근', 4811), ('기별', 4812), ('미친개', 4813), ('먹칠', 4814), ('똥칠', 4815), ('모멸감', 4816), ('겁내', 4817), ('펄쩍', 4818), ('설렌다', 4819), ('내봤', 4820), ('든다', 4821), ('울고불고', 4822), ('날라간', 4823), ('려구요', 4824), ('추석날', 4825), ('덜렁', 4826), ('불협화음', 4827), ('인건비', 4828), ('얼만데요', 4829), ('청승', 4830), ('개판', 4831), ('냉랭', 4832), ('세울', 4833), ('학생', 4834), ('왕따', 4835), ('여긴다고', 4836), ('지독', 4837), ('통보', 4838), ('돌아온', 4839), ('꿀꿀', 4840), ('상도동', 4841), ('부끄러운', 4842), ('했으나', 4843), ('잉잉', 4844), ('아파요', 4845), ('겹쳐서', 4846), ('자요', 4847), ('위주', 4848), ('시비', 4849), ('겁먹', 4850), ('헌티', 4851), ('놔요', 4852), ('시집와', 4853), ('기울었', 4854), ('분란', 4855), ('주민', 4856), ('등록증', 4857), ('질르', 4858), ('까꿍', 4859), ('뛴다', 4860), ('언젠지', 4861), ('가풍', 4862), ('그럽시다', 4863), ('뚫', 4864), ('희망', 4865), ('본전', 4866), ('캬', 4867), ('움직일', 4868), ('물어봐도', 4869), ('강화', 4870), ('개소리', 4871), ('시상', 4872), ('심할', 4873), ('해줄테니', 4874), ('부러', 4875), ('제멋대로', 4876), ('북치', 4877), ('장구', 4878), ('시킨', 4879), ('불량', 4880), ('달궈져', 4881), ('뒹굴뒹굴', 4882), ('슬프', 4883), ('슬픈', 4884), ('감출', 4885), ('어떠세요', 4886), ('대지', 4887), ('집안일', 4888), ('훌훌', 4889), ('끊겼', 4890), ('쫄래쫄래', 4891), ('이보세요', 4892), ('두쪽나', 4893), ('납품', 4894), ('느라구요', 4895), ('숙제', 4896), ('생겼으면', 4897), ('사이니', 4898), ('친했', 4899), ('웃긴', 4900), ('몰상식', 4901), ('극치', 4902), ('아자씨', 4903), ('요딴', 4904), ('아작', 4905), ('만난다는', 4906), ('놀려요', 4907), ('내뱉', 4908), ('주워', 4909), ('빌미', 4910), ('챈', 4911), ('그러다간', 4912), ('거역', 4913), ('사니', 4914), ('총동원', 4915), ('화상', 4916), ('원격', 4917), ('조정', 4918), ('으려니', 4919), ('얼만큼', 4920), ('산지', 4921), ('허전', 4922), ('환한데', 4923), ('넘어간다', 4924), ('내덕', 4925), ('취직', 4926), ('도와드릴까요', 4927), ('여서가', 4928), ('작가', 4929), ('보냅니다', 4930), ('져본', 4931), ('으셔', 4932), ('데려간다는', 4933), ('고생문', 4934), ('훠', 4935), ('언', 4936), ('쌘', 4937), ('넘어온', 4938), ('단서', 4939), ('진행할', 4940), ('한마', 4941), ('딘', 4942), ('나와도', 4943), ('건가요', 4944), ('외근', 4945), ('정돈데', 4946), ('찾아올', 4947), ('낭비', 4948), ('누군데', 4949), ('들여보내', 4950), ('조성', 4951), ('만한', 4952), ('본처', 4953), ('흘렸', 4954), ('첨보', 4955), ('물렸', 4956), ('갈라놓', 4957), ('집일', 4958), ('봉창', 4959), ('아차', 4960), ('울적', 4961), ('내기', 4962), ('애매', 4963), ('파토', 4964), ('이중', 4965), ('플레이', 4966), ('요샌', 4967), ('빠져야', 4968), ('장학생', 4969), ('수감', 4970), ('그늘', 4971), ('품', 4972), ('날개', 4973), ('기어든', 4974), ('매정', 4975), ('우스', 4976), ('우스운', 4977), ('빨러', 4978), ('정들', 4979), ('어쩔래', 4980), ('본체만체', 4981), ('으으으', 4982), ('철판', 4983), ('아자', 4984), ('미용실', 4985), ('미인', 4986), ('단골', 4987), ('어쩔지', 4988), ('활짝', 4989), ('말끝', 4990), ('사리', 4991), ('분별', 4992), ('설쳐', 4993), ('화분', 4994), ('노려', 4995), ('치웠', 4996), ('조종', 4997), ('잠수', 4998), ('모른다고', 4999), ('버텼', 5000), ('올려고', 5001), ('옵니까', 5002), ('사비', 5003), ('마누랄', 5004), ('용하', 5005), ('점쟁이', 5006), ('나랏밥', 5007), ('복직', 5008), ('저물', 5009), ('우정', 5010), ('새요', 5011), ('엊', 5012), ('지냑', 5013), ('갑', 5014), ('숫자', 5015), ('놨을', 5016), ('머리카락', 5017), ('한웅', 5018), ('큼', 5019), ('미끼', 5020), ('아닐까', 5021), ('뒷마당', 5022), ('활동', 5023), ('살빼', 5024), ('누리', 5025), ('마셔요', 5026), ('신다며', 5027), ('치토스', 5028), ('질리', 5029), ('잊어버렸', 5030), ('날아간다', 5031), ('날렸', 5032), ('울고불', 5033), ('물릴', 5034), ('썽나요', 5035), ('가난', 5036), ('깎이', 5037), ('지지리', 5038), ('한다더니', 5039), ('술술', 5040), ('남잔데', 5041), ('라는디', 5042), ('따라와요', 5043), ('번번히', 5044), ('밀려나', 5045), ('절벽', 5046), ('곤두박질치', 5047), ('따라온', 5048), ('형편없', 5049), ('추우', 5050), ('여느', 5051), ('수제', 5052), ('대상', 5053), ('그럽니다', 5054), ('앴', 5055), ('연예인', 5056), ('개기', 5057), ('계약', 5058), ('강사', 5059), ('장건', 5060), ('육체', 5061), ('심리', 5062), ('아셔야', 5063), ('꼬일', 5064), ('틀어질', 5065), ('틀어진', 5066), ('생각날', 5067), ('채워', 5068), ('달구', 5069), ('왔잖아', 5070), ('떠올라', 5071), ('면회', 5072), ('온지', 5073), ('꽤', 5074), ('퉁퉁거리', 5075), ('댑니다', 5076), ('바뻤', 5077), ('주선', 5078), ('따라가', 5079), ('줬으니', 5080), ('모레', 5081), ('두발', 5082), ('무신', 5083), ('만정', 5084), ('미워', 5085), ('서둘', 5086), ('법대', 5087), ('카페', 5088), ('예단', 5089), ('누워', 5090), ('으란', 5091), ('잔말', 5092), ('장경사', 5093), ('우유', 5094), ('생일', 5095), ('챙겨야지', 5096), ('외로우', 5097), ('으셨으면', 5098), ('실지', 5099), ('엄친아', 5100), ('추접', 5101), ('글루', 5102), ('꼬인', 5103), ('호송', 5104), ('각각', 5105), ('추후', 5106), ('상할까봐', 5107), ('미처', 5108), ('현실', 5109), ('일어날', 5110), ('파급', 5111), ('육아', 5112), ('전념', 5113), ('멋대가리', 5114), ('장난삼', 5115), ('입맞추', 5116), ('늘렸', 5117), ('정내', 5118), ('당부', 5119), ('험할', 5120), ('알리바이', 5121), ('땐가', 5122), ('보물', 5123), ('숲', 5124), ('뻔한데', 5125), ('새해', 5126), ('지났으니', 5127), ('넘겼', 5128), ('서둘러', 5129), ('옴팡', 5130), ('다디', 5131), ('쫓아다녔', 5132), ('드셔도', 5133), ('들일', 5134), ('뭔', 5135), ('시대', 5136), ('그런다', 5137), ('래나', 5138), ('다닌', 5139), ('공무원', 5140), ('위한', 5141), ('다더니', 5142), ('속도', 5143), ('연', 5144), ('얼쩡', 5145), ('내비쳐', 5146), ('설설', 5147), ('의지', 5148), ('풀린다', 5149), ('지고', 5150), ('면허증', 5151), ('제시', 5152), ('서요', 5153), ('문구멍', 5154), ('쫄쫄', 5155), ('무친', 5156), ('해뜨', 5157), ('쳐다봤', 5158), ('첫발', 5159), ('내딛', 5160), ('돌렸으면', 5161), ('필', 5162), ('덤벼도', 5163), ('한보', 5164), ('돈돈', 5165), ('아까워', 5166), ('빠져요', 5167), ('그간', 5168), ('신용도', 5169), ('꼬셨', 5170), ('안다니', 5171), ('어린애', 5172), ('찾아다닌', 5173), ('책임감', 5174), ('물어봐야', 5175), ('답디다', 5176), ('얄미운', 5177), ('겠으니', 5178), ('까자', 5179), ('다지만', 5180), ('입혀', 5181), ('해냈', 5182), ('해둘', 5183), ('소집', 5184), ('연결', 5185), ('갔다올', 5186), ('걸레통', 5187), ('재직', 5188), ('넘침', 5189), ('랜다', 5190), ('동전', 5191), ('던져서', 5192), ('호랑이', 5193), ('애칭', 5194), ('꼬실려고', 5195), ('팔아먹', 5196), ('물어본', 5197), ('놨나', 5198), ('알아맞춰', 5199), ('전임', 5200), ('후임', 5201), ('짚', 5202), ('준다잖아', 5203), ('긴긴밤', 5204), ('딱히', 5205), ('신수', 5206), ('훤하', 5207), ('건너간', 5208), ('바랬', 5209), ('홍어', 5210), ('귤', 5211), ('피앙세', 5212), ('사온', 5213), ('간다더니', 5214), ('피한', 5215), ('길들일', 5216), ('수작', 5217), ('채찍', 5218), ('독하', 5219), ('당해야', 5220), ('징글징글', 5221), ('신다면', 5222), ('동참', 5223), ('상봉', 5224), ('쨘하시고', 5225), ('걸음', 5226), ('뗄', 5227), ('울린다', 5228), ('찼', 5229), ('틀려요', 5230), ('과정', 5231), ('거치', 5232), ('짬밥', 5233), ('거듭나', 5234), ('안지', 5235), ('나간', 5236), ('첫날', 5237), ('렸다', 5238), ('이봐', 5239), ('돌려도', 5240), ('훑', 5241), ('공사장', 5242), ('청소년', 5243), ('커핀', 5244), ('주길', 5245), ('대세', 5246), ('라지만', 5247), ('난딱', 5248), ('야자', 5249), ('인살', 5250), ('바깥바람', 5251), ('이천만', 5252), ('깨울까', 5253), ('워라', 5254), ('벤처', 5255), ('편할지', 5256), ('히', 5257), ('줘선', 5258), ('걸린다', 5259), ('땠', 5260), ('방안', 5261), ('후끈', 5262), ('보일러', 5263), ('서둘러라', 5264), ('내조', 5265), ('바라지', 5266), ('구제', 5267), ('불능', 5268), ('짜릿짜릿', 5269), ('볼땐', 5270), ('웠', 5271), ('신상', 5272), ('찢어진', 5273), ('씌워', 5274), ('통해', 5275), ('미친놈', 5276), ('수중', 5277), ('도시', 5278), ('7', 5279), ('싸돌아다니', 5280), ('그깟', 5281), ('평범', 5282), ('그럴려고', 5283), ('더러', 5284), ('유원', 5285), ('바친', 5286), ('가꾸', 5287), ('지발', 5288), ('공구', 5289), ('행방', 5290), ('묘연', 5291), ('도모', 5292), ('왔음', 5293), ('차비', 5294), ('충고', 5295), ('아닌가요', 5296), ('찔러', 5297), ('알아먹', 5298), ('갈만', 5299), ('영일', 5300), ('뒤돌아본', 5301), ('달려왔', 5302), ('답니까', 5303), ('소나', 5304), ('간다니', 5305), ('내입', 5306), ('편해서', 5307), ('해다', 5308), ('갱', 5309), ('안자', 5310), ('부릴', 5311), ('부려야', 5312), ('부린다고', 5313), ('속하', 5314), ('보호자', 5315), ('결론', 5316), ('놔줘', 5317), ('가지마', 5318), ('교통정리', 5319), ('어지간히', 5320), ('식혀', 5321), ('아버질', 5322), ('관련', 5323), ('유달리', 5324), ('이래야', 5325), ('붙였', 5326), ('월동', 5327), ('철저히', 5328), ('싸운다고', 5329), ('아무케나', 5330), ('거림', 5331), ('그런데요', 5332), ('시늉', 5333), ('해줘야', 5334), ('열정', 5335), ('져야', 5336), ('볶아치', 5337), ('재울', 5338), ('졸라', 5339), ('떠납니다', 5340), ('탑승', 5341), ('펑크', 5342), ('뻘개', 5343), ('헬스클럽', 5344), ('보낸다', 5345), ('그건데', 5346), ('매맞', 5347), ('제자신이', 5348), ('미칠', 5349), ('그럴까요', 5350), ('일대', 5351), ('오점', 5352), ('남긴', 5353), ('금값', 5354), ('영향', 5355), ('늘려', 5356), ('자수', 5357), ('마주쳤', 5358), ('제말이', 5359), ('떳', 5360), ('울렁', 5361), ('거린다고', 5362), ('절정', 5363), ('셨으니', 5364), ('데려간다', 5365), ('해낼', 5366), ('철들', 5367), ('들어먹', 5368), ('놔도', 5369), ('들먹거리', 5370), ('인자', 5371), ('따땃', 5372), ('손길', 5373), ('엄한', 5374), ('기필코', 5375), ('뻔질나', 5376), ('합격', 5377), ('동갑', 5378), ('훨씬', 5379), ('놨으면', 5380), ('무서워해', 5381), ('씀씀이', 5382), ('커져서', 5383), ('못써요', 5384), ('한창', 5385), ('준다며', 5386), ('도우', 5387), ('낼날', 5388), ('따독따독', 5389), ('진짜루', 5390), ('한가요', 5391), ('버렸', 5392), ('눈친데', 5393), ('바래다주', 5394), ('약한', 5395), ('찔려서', 5396), ('울수', 5397), ('울지', 5398), ('보단', 5399), ('입힐', 5400), ('이깟', 5401), ('퇴짜', 5402), ('시집간', 5403), ('스케줄', 5404), ('복장', 5405), ('입바른', 5406), ('갈데없', 5407), ('불이', 5408), ('날까', 5409), ('졸려서', 5410), ('쐴', 5411), ('제삼자', 5412), ('까발리', 5413), ('온다구', 5414), ('시끄러워서', 5415), ('이후', 5416), ('제도', 5417), ('경대', 5418), ('애국', 5419), ('아들내미', 5420), ('한결같이', 5421), ('차가워서', 5422), ('자릴', 5423), ('암튼', 5424), ('외우', 5425), ('차린다', 5426), ('거창', 5427), ('땅땅땅', 5428), ('뻥쳤', 5429), ('더라구요', 5430), ('이겨낼', 5431), ('애어른', 5432), ('다논', 5433), ('키워야', 5434), ('부쳤', 5435), ('종지', 5436), ('분에', 5437), ('이룬', 5438), ('들이받', 5439), ('쐐기', 5440), ('치르', 5441), ('친굽니다', 5442), ('털털이', 5443), ('보살펴', 5444), ('타령', 5445), ('조른다', 5446), ('뻥끗', 5447), ('해올', 5448), ('미행', 5449), ('사회생활', 5450), ('뒷말', 5451), ('남부러울', 5452), ('김장', 5453), ('보안관', 5454), ('계라', 5455), ('지났', 5456), ('깐', 5457), ('줄라고', 5458), ('앞길', 5459), ('망쳐', 5460), ('손안', 5461), ('날씨', 5462), ('청청', 5463), ('죽인다구', 5464), ('대개', 5465), ('즐길', 5466), ('걸려요', 5467), ('시아버님', 5468), ('메누', 5469), ('시집보내', 5470), ('앤데', 5471), ('애써서', 5472), ('종노릇', 5473), ('룸', 5474), ('스나', 5475), ('커야', 5476), ('대전', 5477), ('났잖아', 5478), ('이야', 5479), ('안다며', 5480), ('놀러오', 5481), ('아이디', 5482), ('음주', 5483), ('태어난', 5484), ('멀미', 5485), ('시킨다', 5486), ('무서울', 5487), ('시시', 5488), ('막판', 5489), ('클라', 5490), ('막스', 5491), ('터져야', 5492), ('일평생', 5493), ('짝사랑', 5494), ('달콤', 5495), ('그리웠', 5496), ('흐뭇', 5497), ('굴뚝', 5498), ('부른다', 5499), ('드냐', 5500), ('선약', 5501), ('깨물', 5502), ('노후', 5503), ('면허', 5504), ('취소', 5505), ('뜨끈', 5506), ('지질려', 5507), ('주무셔야', 5508), ('가정사', 5509), ('거참', 5510), ('모른답니다', 5511), ('과잉', 5512), ('수사관', 5513), ('찌질', 5514), ('최대', 5515), ('관심사', 5516), ('떨린다', 5517), ('여러분', 5518), ('배우자', 5519), ('목매', 5520), ('그쵸', 5521), ('가짜', 5522), ('방송국', 5523), ('빌려', 5524), ('문젠지', 5525), ('자글자글', 5526), ('일요일', 5527), ('냉수', 5528), ('울린', 5529), ('이봐라', 5530), ('친한', 5531), ('지실', 5532), ('숨넘어가', 5533), ('내게', 5534), ('만난다', 5535), ('비교', 5536), ('이요', 5537), ('가까워진', 5538), ('호호호', 5539), ('해약', 5540), ('굽히', 5541), ('올거', 5542), ('본의', 5543), ('편했', 5544), ('밀어붙여야', 5545), ('일할', 5546), ('잔챙이', 5547), ('윗선', 5548), ('으흠', 5549), ('회도', 5550), ('움직입니다', 5551), ('다구', 5552), ('일른다', 5553), ('좁아터진', 5554), ('단칸방', 5555), ('살래', 5556), ('가유', 5557), ('서울역', 5558), ('부탁드립니다', 5559), ('징계', 5560), ('티격태격', 5561), ('붜', 5562), ('귀여운', 5563), ('쫓아와서', 5564), ('출출', 5565), ('성깔', 5566), ('사돈', 5567), ('임검', 5568), ('저녁때', 5569), ('맘놓', 5570), ('철든', 5571), ('의견', 5572), ('봐야겠지만', 5573), ('더럽히', 5574), ('사이버', 5575), ('수사대', 5576), ('공갈', 5577), ('파렴치한', 5578), ('접수', 5579), ('계약금', 5580), ('이태백', 5581), ('파트너', 5582), ('아몬드', 5583), ('삐져', 5584), ('어쩐대요', 5585), ('뛰어왔', 5586), ('차츰', 5587), ('자취', 5588), ('친군', 5589), ('으라구', 5590), ('내릴래', 5591), ('기합', 5592), ('접니다', 5593), ('예물', 5594), ('구금', 5595), ('틈날', 5596), ('사물', 5597), ('스트레스', 5598), ('송강호', 5599), ('설경구', 5600), ('나갈까', 5601), ('달라진', 5602), ('올가미', 5603), ('무거워', 5604), ('작살', 5605), ('오호호', 5606), ('셋방살이', 5607), ('순위', 5608), ('겁난', 5609), ('약발', 5610), ('못해도', 5611), ('부상자', 5612), ('지켜야', 5613), ('의무', 5614), ('꿋꿋', 5615), ('팁', 5616), ('채이', 5617), ('아랫것', 5618), ('아녀유', 5619), ('빵꾸', 5620), ('연기력', 5621), ('찮은', 5622), ('악역', 5623), ('전문', 5624), ('볼래요', 5625), ('따끈따끈', 5626), ('일어선', 5627), ('해줄래', 5628), ('매운', 5629), ('땡초', 5630), ('마늘', 5631), ('다져', 5632), ('인내', 5633), ('어선', 5634), ('찾아냈', 5635), ('스펙', 5636), ('남잘', 5637), ('토익', 5638), ('즌데', 5639), ('사이좋', 5640), ('욱박지르', 5641), ('가르쳐서', 5642), ('족집게', 5643), ('딸내미', 5644), ('뭐해', 5645), ('새끼야', 5646), ('핏줄', 5647), ('반납', 5648), ('찾아와', 5649), ('뻐팅겨', 5650), ('재건축', 5651), ('거행', 5652), ('간략', 5653), ('커팅', 5654), ('아아', 5655), ('땡길', 5656), ('지냅니다', 5657), ('떠난다', 5658), ('엉엉', 5659), ('열안', 5660), ('갈랍니다', 5661), ('시집왔', 5662), ('보통내기', 5663), ('통해서', 5664), ('둔덕', 5665), ('바이어', 5666), ('이심전심', 5667), ('통했', 5668), ('해당', 5669), ('꺼지', 5670), ('우연', 5671), ('마주치', 5672), ('질긴', 5673), ('한다는데', 5674), ('뒷설거지', 5675), ('팔짝', 5676), ('라야', 5677), ('질렀', 5678), ('잡아뗀다', 5679), ('기다릴께', 5680), ('기다릴', 5681), ('일부', 5682), ('펜', 5683), ('달치', 5684), ('산다니까', 5685), ('낼려고', 5686), ('뛰어들', 5687), ('우상', 5688), ('그림', 5689), ('대드', 5690), ('저절로', 5691), ('소속', 5692), ('비싼데', 5693), ('출입금', 5694), ('읽히', 5695), ('찔찔', 5696), ('최곤데', 5697), ('떠난다고', 5698), ('계급', 5699), ('짱박', 5700), ('와본', 5701), ('놀리나', 5702), ('지어야', 5703), ('오지마', 5704), ('후임자', 5705), ('인수인계', 5706), ('차질', 5707), ('어딘데요', 5708), ('외로워', 5709), ('세탁기', 5710), ('눈치채', 5711), ('누나', 5712), ('여잔지', 5713), ('들통나', 5714), ('줄까요', 5715), ('해수', 5716), ('혈압', 5717), ('손쓸', 5718), ('게야', 5719), ('엎드려서', 5720), ('빌린', 5721), ('센터', 5722), ('으랜다', 5723), ('내보이', 5724), ('미만', 5725), ('수족', 5726), ('놀려', 5727), ('요기', 5728), ('갸', 5729), ('도통', 5730), ('촌구석', 5731), ('혼요', 5732), ('언젠', 5733), ('조근조근', 5734), ('알아볼', 5735), ('견뎌요', 5736), ('무설', 5737), ('검색', 5738), ('상대사', 5739), ('음해', 5740), ('헛소리', 5741), ('뺏겼', 5742), ('고칠', 5743), ('지대장', 5744), ('보기', 5745), ('지하', 5746), ('갈라설', 5747), ('월세방', 5748), ('기각', 5749), ('곗돈', 5750), ('기는요', 5751), ('칭찬', 5752), ('까마득', 5753), ('보강', 5754), ('계신다', 5755), ('한술', 5756), ('뭉개졌', 5757), ('얇', 5758), ('봐주시면', 5759), ('살께요', 5760), ('속초', 5761), ('썩을', 5762), ('지에미', 5763), ('으랴', 5764), ('참말로', 5765), ('면박', 5766), ('속빈', 5767), ('다니께유', 5768), ('개오', 5769), ('떨기', 5770), ('을려는', 5771), ('등장', 5772), ('물어볼까', 5773), ('쌀집', 5774), ('여편네', 5775), ('탐문', 5776), ('지어낸다', 5777), ('물타기', 5778), ('징징거리', 5779), ('디야', 5780), ('삼거리', 5781), ('만납니까', 5782), ('낼게', 5783), ('벤', 5784), ('화악', 5785), ('났으면', 5786), ('무릅쓰', 5787), ('침해', 5788), ('잡아가', 5789), ('서민', 5790), ('가장', 5791), ('가깝', 5792), ('오장육부', 5793), ('선순데', 5794), ('고는', 5795), ('밤늦', 5796), ('몸조심', 5797), ('의원', 5798), ('작은형수', 5799), ('쳐먹', 5800), ('습니다요', 5801), ('별났', 5802), ('라구', 5803), ('핸드백', 5804), ('훔쳐', 5805), ('이쁜지', 5806), ('콜라', 5807), ('소개팅', 5808), ('다녀도', 5809), ('악질', 5810), ('본보기', 5811), ('쓴맛', 5812), ('매운맛', 5813), ('헛나오', 5814), ('아껴서', 5815), ('꽃바구니', 5816), ('딴건', 5817), ('무서우', 5818), ('계십니까', 5819), ('경기', 5820), ('그려서', 5821), ('는개', 5822), ('비유', 5823), ('역적모의', 5824), ('근', 5825), ('스가', 5826), ('딸려', 5827), ('다발', 5828), ('찾아와서', 5829), ('김서', 5830), ('신대유', 5831), ('용기', 5832), ('움직였', 5833), ('소문나', 5834), ('증거인', 5835), ('멸할', 5836), ('야속', 5837), ('독해', 5838), ('서두르', 5839), ('강요', 5840), ('다녀와요', 5841), ('두렵', 5842), ('겁난다', 5843), ('편안', 5844), ('왕자', 5845), ('바래서', 5846), ('준거', 5847), ('노름', 5848), ('처박', 5849), ('이방', 5850), ('출입', 5851), ('장만', 5852), ('채려', 5853), ('짜장면', 5854), ('빙빙', 5855), ('콧구녕만', 5856), ('오케', 5857), ('들여서', 5858), ('개차반', 5859), ('받아들일', 5860), ('편들', 5861), ('어째볼', 5862), ('웬만큼', 5863), ('푸욱', 5864), ('할수록', 5865), ('분해서', 5866), ('처가살이', 5867), ('맞장뜨', 5868), ('이바지', 5869), ('질려고', 5870), ('바꿨', 5871), ('문상', 5872), ('동네방네', 5873), ('횟감', 5874), ('흔들려서', 5875), ('빨아먹', 5876), ('쥬얼리', 5877), ('제품', 5878), ('쓸게요', 5879), ('어쩌다가', 5880), ('목숨', 5881), ('구분', 5882), ('잡아먹', 5883), ('온다는', 5884), ('볼라', 5885), ('한다길래', 5886), ('한건', 5887), ('쫓겨나', 5888), ('번개치', 5889), ('그만둔다', 5890), ('노닥거릴', 5891), ('?..', 5892), ('영어', 5893), ('회화', 5894), ('온댔', 5895), ('사회악', 5896), ('겠다는', 5897), ('사명감', 5898), ('페이지', 5899), ('속상합니다', 5900), ('벌세우', 5901), ('머리통', 5902), ('때린대', 5903), ('메꾸', 5904), ('가정교육', 5905), ('세웠', 5906), ('여덟', 5907), ('부쩍', 5908), ('저지른', 5909), ('끓인', 5910), ('그라고', 5911), ('표내', 5912), ('느긋', 5913), ('비겁', 5914), ('끝장', 5915), ('거머리', 5916), ('알량', 5917), ('번짼데', 5918), ('기다려요', 5919), ('자금', 5920), ('바쳤', 5921), ('자연산', 5922), ('양식', 5923), ('재웠', 5924), ('내비두', 5925), ('비켜라', 5926), ('거사', 5927), ('얽힌', 5928), ('돌덩이', 5929), ('습관', 5930), ('낯', 5931), ('뜨거워서', 5932), ('리모컨', 5933), ('날아왔', 5934), ('재판정', 5935), ('보호', 5936), ('프로그램', 5937), ('번호표', 5938), ('싹수', 5939), ('할애빌', 5940), ('떠벌리', 5941), ('메주', 5942), ('꼬였', 5943), ('골든', 5944), ('기다린다고', 5945), ('모신', 5946), ('바램', 5947), ('압류', 5948), ('딴지', 5949), ('넘어뜨리', 5950), ('아픕니다', 5951), ('홈런', 5952), ('날린', 5953), ('맥빠지', 5954), ('들어라', 5955), ('빚지', 5956), ('펀드', 5957), ('경마', 5958), ('치룰', 5959), ('부질', 5960), ('해줘도', 5961), ('별건', 5962), ('장단', 5963), ('춘', 5964), ('밀려서', 5965), ('도난', 5966), ('합니다만', 5967), ('송금', 5968), ('충심', 5969), ('민중', 5970), ('지팡이', 5971), ('월세', 5972), ('털어놓', 5973), ('컴퓨터', 5974), ('은하', 5975), ('경삽', 5976), ('어색', 5977), ('냉면', 5978), ('힘쓰', 5979), ('참작', 5980), ('날아간', 5981), ('됩니', 5982), ('쬐끄만', 5983), ('될걸', 5984), ('번잡', 5985), ('쉬엄쉬엄', 5986), ('버르장머리', 5987), ('굴러온', 5988), ('박힌', 5989), ('유분', 5990), ('수지', 5991), ('절루', 5992), ('설레발', 5993), ('연락처', 5994), ('인건', 5995), ('보낸', 5996), ('뵐', 5997), ('창고', 5998), ('얼음', 5999), ('시각', 6000), ('한담', 6001), ('정류장', 6002), ('올려야', 6003), ('랫', 6004), ('본척만척', 6005), ('꺼라', 6006), ('꿔줄', 6007), ('올려달라', 6008), ('나올래', 6009), ('왕창', 6010), ('이봐요', 6011), ('시집갈', 6012), ('백발백중', 6013), ('들킬까봐', 6014), ('졸이', 6015), ('사기', 6016), ('도망쳤', 6017), ('짜장', 6018), ('들락대', 6019), ('이라고', 6020), ('끈질긴', 6021), ('저질렀', 6022), ('덜렁덜렁', 6023), ('눈칠', 6024), ('챘', 6025), ('는다구요', 6026), ('전근', 6027), ('가실', 6028), ('더냐', 6029), ('찌른', 6030), ('발칵', 6031), ('놨었', 6032), ('때기', 6033), ('실시', 6034), ('싸그리', 6035), ('뜻대로', 6036), ('천연기념물', 6037), ('통행금지', 6038), ('재미나', 6039), ('영역', 6040), ('컨디션', 6041), ('합쳐서', 6042), ('나올지', 6043), ('사바사바', 6044), ('중국', 6045), ('탕수육', 6046), ('노닥거리', 6047), ('너무너무', 6048), ('들를게', 6049), ('언질', 6050), ('납시', 6051), ('모른다니까', 6052), ('얼씨구나', 6053), ('언년', 6054), ('휘잡', 6055), ('딴짓거리', 6056), ('날일', 6057), ('식탐', 6058), ('남다르', 6059), ('쌍꺼풀', 6060), ('이러다', 6061), ('저래서', 6062), ('얼른얼른', 6063), ('그러가', 6064), ('주름살', 6065), ('대질', 6066), ('이론', 6067), ('못지않', 6068), ('지원', 6069), ('여의', 6070), ('판단력', 6071), ('받아들여야', 6072), ('지어내', 6073), ('떠져서', 6074), ('떠졌', 6075), ('따끈', 6076), ('시킬게', 6077), ('스쳐', 6078), ('간절', 6079), ('운명', 6080), ('느껴본', 6081), ('밥숟가락', 6082), ('버틸', 6083), ('체력', 6084), ('몽', 6085), ('뿐질러', 6086), ('마치', 6087), ('껄', 6088), ('뺏긴', 6089), ('랄까', 6090), ('와중', 6091), ('금새', 6092), ('힘드신', 6093), ('내와라', 6094), ('정년', 6095), ('풀려난', 6096), ('잊어버릴', 6097), ('퇴직', 6098), ('달달', 6099), ('쩔쩔', 6100), ('청개구리', 6101), ('고백', 6102), ('그럴래', 6103), ('다람쥐', 6104), ('뺀', 6105), ('질대', 6106), ('위아래', 6107), ('불러요', 6108), ('제수', 6109), ('씬', 6110), ('끝장났', 6111), ('병문안', 6112), ('머리끄댕이', 6113), ('두들겨패', 6114), ('받들', 6115), ('윗', 6116), ('불러내', 6117), ('떠요', 6118), ('선임', 6119), ('권리', 6120), ('진술', 6121), ('거부', 6122), ('날아갈', 6123), ('수갑차', 6124), ('던진', 6125), ('화염병', 6126), ('쏜다', 6127), ('첫제사', 6128), ('어물쩡', 6129), ('드러누워', 6130), ('개망신', 6131), ('은겨', 6132), ('각지', 6133), ('행운', 6134), ('당사자', 6135), ('둔다', 6136), ('투자', 6137), ('맞혔', 6138), ('신비', 6139), ('로웠', 6140), ('오랫동안', 6141), ('차린', 6142), ('댈', 6143), ('때려서', 6144), ('태어났으면', 6145), ('알긴', 6146), ('별수', 6147), ('데려온', 6148), ('뀌', 6149), ('투성이', 6150), ('뻥친', 6151), ('표현', 6152), ('짭짤', 6153), ('악담', 6154), ('쪼끔', 6155), ('산대', 6156), ('달랠', 6157), ('성함', 6158), ('깁니까', 6159), ('그럴지도', 6160), ('졌으니', 6161), ('데려와', 6162), ('시달려야', 6163), ('라잖아', 6164), ('지졌', 6165), ('붙들', 6166), ('몰랐다', 6167), ('왁', 6168), ('전처', 6169), ('련', 6170), ('가계부', 6171), ('찡하', 6172), ('고사리', 6173), ('멸치', 6174), ('말랭이', 6175), ('보름', 6176), ('고추', 6177), ('간디', 6178), ('운전자', 6179), ('벼룩', 6180), ('견뎌', 6181), ('동영상', 6182), ('놨어야', 6183), ('아래쪽', 6184), ('아마', 6185), ('효녀', 6186), ('반가운', 6187), ('그따위', 6188), ('래치', 6189), ('빌렸', 6190), ('낸다고', 6191), ('생각없이', 6192), ('메이커', 6193), ('접어주', 6194), ('털레털레', 6195), ('뻐', 6196), ('장살', 6197), ('냄새나', 6198), ('을려구요', 6199), ('에이비', 6200), ('찾아봐도', 6201), ('간다면서', 6202), ('터진다는', 6203), ('볶여', 6204), ('쪼여', 6205), ('핀', 6206), ('키울', 6207), ('월급날', 6208), ('괴상', 6209), ('사도', 6210), ('정품', 6211), ('똑부러지', 6212), ('먼데로', 6213), ('드래', 6214), ('대봐', 6215), ('그렇지만', 6216), ('들먹거려', 6217), ('해야겠어', 6218), ('확고', 6219), ('찝쩍', 6220), ('뱃살', 6221), ('빨빨', 6222), ('말꼬리', 6223), ('늘어질', 6224), ('장인', 6225), ('뵌다고', 6226), ('쓸데', 6227), ('이르', 6228), ('카리스마', 6229), ('들이대', 6230), ('뻥뻥치', 6231), ('킵', 6232), ('뒤져도', 6233), ('그러실', 6234), ('걸림돌', 6235), ('입혀서', 6236), ('말랐', 6237), ('쿵쿵', 6238), ('더럽힌', 6239), ('치욕', 6240), ('스러워서', 6241), ('영등포', 6242), ('쌍칼', 6243), ('쓴다는', 6244), ('부지런', 6245), ('될려고', 6246), ('에민', 6247), ('상식', 6248), ('얄짤없', 6249), ('으셔야', 6250), ('붙여야', 6251), ('걸러서', 6252), ('간곡', 6253), ('실까봐', 6254), ('어쭈', 6255), ('잔금', 6256), ('편할', 6257), ('부대끼', 6258), ('으유', 6259), ('열흘', 6260), ('짼데', 6261), ('손찌검', 6262), ('삼거', 6263), ('리전', 6264), ('하룻밤', 6265), ('가까워질', 6266), ('전설', 6267), ('고향', 6268), ('각시방', 6269), ('똥그란', 6270), ('말랑말랑', 6271), ('씨씨', 6272), ('떨어져야', 6273), ('그길로', 6274), ('견뎠', 6275), ('발자국', 6276), ('화났', 6277), ('정떨어지', 6278), ('도울', 6279), ('토', 6280), ('밥통', 6281), ('누룽지', 6282), ('기에', 6283), ('정신병자', 6284), ('부칠', 6285), ('비워', 6286), ('인데도', 6287), ('따끔', 6288), ('친하', 6289), ('즉시', 6290), ('큰애', 6291), ('전해라', 6292), ('퀴즈', 6293), ('눈치껏', 6294), ('달랐', 6295), ('관둬라', 6296), ('랠', 6297), ('살까', 6298), ('목말라', 6299), ('나빠서', 6300), ('더없이', 6301), ('여리', 6302), ('착해', 6303), ('찰밥', 6304), ('시외버스', 6305), ('아닐걸', 6306), ('요구', 6307), ('볼께요', 6308), ('난린데', 6309), ('욕심내', 6310), ('귀엽', 6311), ('갖춰', 6312), ('이쁨', 6313), ('갈라고', 6314), ('다독여', 6315), ('빽빽', 6316), ('질러대', 6317), ('미지기', 6318), ('까탈', 6319), ('컵', 6320), ('되새겨', 6321), ('한걸', 6322), ('진다면', 6323), ('어떻든', 6324), ('넘버', 6325), ('주차', 6326), ('삘이상', 6327), ('남아돌', 6328), ('부으신', 6329), ('건의', 6330), ('영업시간', 6331), ('구운', 6332), ('스테이', 6333), ('큰데', 6334), ('저장', 6335), ('모아야', 6336), ('산사람', 6337), ('누가요', 6338), ('부분', 6339), ('저축', 6340), ('못질', 6341), ('애간장', 6342), ('태웠', 6343), ('꽈배기', 6344), ('털어먹', 6345), ('지각', 6346), ('생겨', 6347), ('내비둬유', 6348), ('수색', 6349), ('주무', 6350), ('집사람', 6351), ('번듯', 6352), ('땡기', 6353), ('씻겨', 6354), ('겉보기', 6355), ('물렁살', 6356), ('닥쳐', 6357), ('섞', 6358), ('어렸', 6359), ('나온다고', 6360), ('죽여라', 6361), ('이여', 6362), ('상한', 6363), ('쳇', 6364), ('새콤달콤', 6365), ('냥', 6366), ('독차지', 6367), ('드러누운', 6368), ('기다려줄', 6369), ('게으른', 6370), ('세금', 6371), ('제때', 6372), ('다녀와라', 6373), ('집구', 6374), ('건성', 6375), ('지겹', 6376), ('성의', 6377), ('목걸이', 6378), ('다이아', 6379), ('드실지', 6380), ('변해', 6381), ('미워한다고', 6382), ('죄받', 6383), ('지켜봐', 6384), ('열나', 6385), ('열렬', 6386), ('저녁거리', 6387), ('까페', 6388), ('겁난다야', 6389), ('증거물', 6390), ('어울려서', 6391), ('부렀', 6392), ('송별', 6393), ('에미야', 6394), ('방구', 6395), ('도도', 6396), ('강했', 6397), ('감탄', 6398), ('빠짐없이', 6399), ('19', 6400), ('공적', 6401), ('달려', 6402), ('살려서', 6403), ('꾀', 6404), ('죄죄', 6405), ('절일', 6406), ('빠뜨리', 6407), ('틀려', 6408), ('혼날까', 6409), ('공들인', 6410), ('만났으니', 6411), ('기척', 6412), ('틀려먹', 6413), ('실리', 6414), ('검토', 6415), ('재수사', 6416), ('히히덕대', 6417), ('나쁠', 6418), ('장난쳤', 6419), ('골드', 6420), ('슨', 6421), ('줄줄', 6422), ('따러', 6423), ('제주도', 6424), ('....', 6425), ('다녀올게요', 6426), ('건드려', 6427), ('서재', 6428), ('침실', 6429), ('뒷마무리', 6430), ('들어갈께', 6431), ('진다는', 6432), ('일종', 6433), ('사설', 6434), ('체하', 6435), ('휴게실', 6436), ('늘어진', 6437), ('인수', 6438), ('설사병', 6439), ('기동대', 6440), ('분명히', 6441), ('현금', 6442), ('날랐', 6443), ('주도', 6444), ('뻔허', 6445), ('붙어사', 6446), ('제차', 6447), ('동쪽', 6448), ('엄연', 6449), ('낯짝', 6450), ('뚜', 6451), ('미루', 6452), ('으래서', 6453), ('진대', 6454), ('물어볼게요', 6455), ('뺏겨서', 6456), ('식히', 6457), ('일방', 6458), ('건질', 6459), ('밑천', 6460), ('막무가내', 6461), ('가신', 6462), ('한집', 6463), ('아내', 6464), ('온다니까', 6465), ('쓰레기통', 6466), ('칠까봐', 6467), ('가잔', 6468), ('종살이', 6469), ('조상', 6470), ('만든다고', 6471), ('뺏어가', 6472), ('구시렁대', 6473), ('집어쳐', 6474), ('발맞춰', 6475), ('내놨', 6476), ('썩인', 6477), ('된통', 6478), ('친해져', 6479), ('씹', 6480), ('올라갈께요', 6481), ('썰', 6482), ('주물럭주물럭', 6483), ('등록금', 6484), ('다녀올께', 6485), ('눈칫밥', 6486), ('지껄여', 6487), ('버젓이', 6488), ('뜰래', 6489), ('그럴까봐', 6490), ('어긋나', 6491), ('올린', 6492), ('꺽', 6493), ('잡아들일', 6494), ('골골', 6495), ('져서', 6496), ('생중', 6497), ('부끄럼', 6498), ('꺼져도', 6499), ('친척', 6500), ('끌어내리', 6501), ('머', 6502), ('즈', 6503), ('가라', 6504), ('즐겁', 6505), ('멋', 6506), ('없다', 6507), ('금슬', 6508), ('실제로', 6509), ('관계자', 6510), ('이겁니다', 6511), ('까져', 6512), ('협회', 6513), ('농담삼', 6514), ('사석', 6515), ('안타까운', 6516), ('해드릴', 6517), ('소립니까', 6518), ('난다니께', 6519), ('서러워서', 6520), ('달라지', 6521), ('긴요', 6522), ('상의', 6523), ('일렀', 6524), ('습디다', 6525), ('시집오', 6526), ('비꼬', 6527), ('그런대', 6528), ('목소린데', 6529), ('들어줄', 6530), ('밑창', 6531), ('간대요', 6532), ('개업식', 6533), ('참석', 6534), ('작작', 6535), ('친정집', 6536), ('삐뚤어지', 6537), ('빗나가', 6538), ('걸린지', 6539), ('위상', 6540), ('진건', 6541), ('노고', 6542), ('산더', 6543), ('민', 6544), ('에잇', 6545), ('키운', 6546), ('공', 6547), ('다잖니', 6548), ('새살', 6549), ('래드라', 6550), ('홀애비', 6551), ('아름다워', 6552), ('하다못해', 6553), ('조각', 6554), ('잡숴', 6555), ('꿀꺽', 6556), ('군', 6557), ('미신', 6558), ('우러', 6559), ('들쑥날쑥', 6560), ('끔찍', 6561), ('빚진', 6562), ('몸뚱이', 6563), ('뜯어낼', 6564), ('꽃뱀', 6565), ('물르', 6566), ('대수', 6567), ('보인', 6568), ('빈말', 6569), ('께요', 6570), ('죽도', 6571), ('솥', 6572), ('올라와서', 6573), ('철철', 6574), ('넘쳐', 6575), ('눌', 6576), ('골라도', 6577), ('찾아오', 6578), ('업소', 6579), ('쳐죽일', 6580), ('씨알', 6581), ('전망', 6582), ('얄밉', 6583), ('해안', 6584), ('셋집', 6585), ('밥걱정', 6586), ('불효자', 6587), ('호수', 6588), ('부를까요', 6589), ('그만뒀', 6590), ('유세', 6591), ('봐줘라', 6592), ('걸루', 6593), ('휴우', 6594), ('누군데요', 6595), ('맞혀', 6596), ('얼렁뚱땅', 6597), ('꿰맞추', 6598), ('놓인다', 6599), ('장한일', 6600), ('조만', 6601), ('청첩장', 6602), ('피난', 6603), ('계셔야', 6604), ('계실까', 6605), ('신종', 6606), ('생각혀', 6607), ('살해', 6608), ('투입', 6609), ('요놈', 6610), ('노망', 6611), ('워쩌', 6612), ('비스', 6613), ('안내서', 6614), ('분통', 6615), ('액면', 6616), ('하난', 6617), ('고마', 6618), ('마이', 6619), ('져라', 6620), ('투쟁', 6621), ('바랄게', 6622), ('외상', 6623), ('뜹니까', 6624), ('위원회', 6625), ('재소', 6626), ('짜를', 6627), ('옳소', 6628), ('자란', 6629), ('교통경찰', 6630), ('들을까', 6631), ('잖니', 6632), ('다닌다며', 6633), ('그래두', 6634), ('들먹', 6635), ('빡세', 6636), ('돌려요', 6637), ('공권력', 6638), ('꼴리', 6639), ('신대요', 6640), ('햄', 6641), ('구워서', 6642), ('갈일', 6643), ('지금껏', 6644), ('수도꼭지', 6645), ('교체', 6646), ('주인공', 6647), ('떠난다는', 6648), ('미끄러운', 6649), ('검산', 6650), ('떨어져요', 6651), ('맑', 6652), ('길들이', 6653), ('식대', 6654), ('만날까요', 6655), ('밀어줄', 6656), ('스무', 6657), ('깨져도', 6658), ('인색', 6659), ('너그러워', 6660), ('간간', 6661), ('돌부리', 6662), ('가르칠려고', 6663), ('서러운데', 6664), ('달라요', 6665), ('수때', 6666), ('끌린', 6667), ('꿈꿨', 6668), ('든가요', 6669), ('어루만져', 6670), ('가려운', 6671), ('여서', 6672), ('만져', 6673), ('래잖니', 6674), ('가사', 6675), ('실습', 6676), ('조숙', 6677), ('구실', 6678), ('더더욱', 6679), ('해얄', 6680), ('48', 6681), ('청구', 6682), ('사무소', 6683), ('내깐엔', 6684), ('무진장', 6685), ('애썼', 6686), ('적극', 6687), ('나간다는', 6688), ('호고', 6689), ('실려간', 6690), ('번데', 6691), ('뜰', 6692), ('이용', 6693), ('낙', 6694), ('꼬신', 6695), ('죽치', 6696), ('그리운', 6697), ('애착', 6698), ('강한', 6699), ('손끝', 6700), ('뒤숭숭', 6701), ('삘만', 6702), ('찾아봐', 6703), ('벙거지', 6704), ('장갑', 6705), ('펴도', 6706), ('와준', 6707), ('장땡', 6708), ('이럴수록', 6709), ('몸가짐', 6710), ('놓여서', 6711), ('계신데요', 6712), ('달랬', 6713), ('싱싱', 6714), ('퇴근길', 6715), ('는다면서요', 6716), ('제사상', 6717), ('나눴', 6718), ('다네요', 6719), ('손칼국수', 6720), ('허허', 6721), ('꼬시', 6722), ('셧', 6723), ('통할', 6724), ('헤어져', 6725), ('물으면', 6726), ('사전', 6727), ('아구찜', 6728), ('본론', 6729), ('스러운', 6730), ('공격', 6731), ('찐', 6732), ('수발', 6733), ('구멍', 6734), ('쳐요', 6735), ('쉬워요', 6736), ('냐니께', 6737), ('가능', 6738), ('짜르', 6739), ('요게', 6740), ('실려나', 6741), ('벌어먹', 6742), ('메꿀', 6743), ('끙끙대', 6744), ('볕', 6745), ('장독', 6746), ('모릅니다', 6747), ('밥맛', 6748), ('엠티비', 6749), ('멤버', 6750), ('트레이닝', 6751), ('리더', 6752), ('엣지', 6753), ('으신다고', 6754), ('속여', 6755), ('어다', 6756), ('번돈으로', 6757), ('가늘', 6758), ('미터', 6759), ('할망정', 6760), ('칠푼이', 6761), ('느지막이', 6762), ('실려면', 6763), ('부엉이', 6764), ('풀렸', 6765), ('막막', 6766), ('화나', 6767), ('사살', 6768), ('낙장불입', 6769), ('발표', 6770), ('단칼', 6771), ('어떠신가', 6772), ('능자', 6773), ('손실', 6774), ('갇혔', 6775), ('원장', 6776), ('징', 6777), ('계감', 6778), ('했어야', 6779), ('한발', 6780), ('갈라섰', 6781), ('강력계', 6782), ('배정', 6783), ('다네', 6784), ('예식', 6785), ('특강', 6786), ('애정', 6787), ('죽인다', 6788), ('아악', 6789), ('일개', 6790), ('칠려고', 6791), ('꿈꿔', 6792), ('해볼래', 6793), ('지긋지긋', 6794), ('유진', 6795), ('각별', 6796), ('어땠', 6797), ('책상머리', 6798), ('나간다고', 6799), ('기강', 6800), ('그럴려면', 6801), ('손상', 6802), ('말린다', 6803), ('모올', 6804), ('배워야지', 6805), ('윗사람', 6806), ('뒤늦', 6807), ('떨어져서', 6808), ('옮겼', 6809), ('반지하', 6810), ('가르치', 6811), ('실전', 6812), ('쑥', 6813), ('운거', 6814), ('무릎쓰', 6815), ('본답시고', 6816), ('해본', 6817), ('궁', 6818), ('클', 6819), ('찍찍', 6820), ('약했', 6821), ('먹인다고', 6822), ('안쓰럽', 6823), ('어엉', 6824), ('흔적', 6825), ('올려구', 6826), ('일절', 6827), ('윗동', 6828), ('그러다가', 6829), ('튄다', 6830), ('동산', 6831), ('야비', 6832), ('잠버릇', 6833), ('조난', 6834), ('불우', 6835), ('꼬여서', 6836), ('으셨는데', 6837), ('건어물', 6838), ('기구', 6839), ('치웁니다', 6840), ('그만둔', 6841), ('망하', 6842), ('뿡뿡', 6843), ('이인삼각', 6844), ('냉동실', 6845), ('후라이팬', 6846), ('데우', 6847), ('발동', 6848), ('걸기', 6849), ('늦추', 6850), ('가도', 6851), ('다양', 6852), ('들락거리', 6853), ('홧김', 6854), ('갔으면', 6855), ('일안', 6856), ('그야', 6857), ('술판', 6858), ('촌', 6859), ('스러울수록', 6860), ('끝장내', 6861), ('벌개서', 6862), ('따라다닌다는', 6863), ('던진다면', 6864), ('통금', 6865), ('지켰', 6866), ('처넣', 6867), ('으니까요', 6868), ('영락없', 6869), ('꿈꾸', 6870), ('편한지', 6871), ('껄끄럽', 6872), ('털털', 6873), ('조취', 6874), ('장하', 6875), ('술주정', 6876), ('들으실', 6877), ('못났', 6878), ('유머', 6879), ('모른다는', 6880), ('뺄려고', 6881), ('넘깁니다', 6882), ('털래털래', 6883), ('들린다', 6884), ('싱겁', 6885), ('픕니다', 6886), ('기간', 6887), ('일등', 6888), ('잖고', 6889), ('으흐흑', 6890), ('처지', 6891), ('딸리', 6892), ('콧구녕만해서', 6893), ('화장대', 6894), ('태산', 6895), ('즐겨', 6896), ('겉멋', 6897), ('들려서', 6898), ('는군', 6899), ('바뀐', 6900), ('들을라', 6901), ('판대', 6902), ('으실까', 6903), ('연장', 6904), ('기웃거리', 6905), ('낭패', 6906), ('인물', 6907), ('뛰어다니', 6908), ('내지', 6909), ('스커트', 6910), ('무서웠', 6911), ('위자', 6912), ('룐지', 6913), ('여시', 6914), ('뜯겼', 6915), ('나와라', 6916), ('지낸', 6917), ('컸으니', 6918), ('차멀미', 6919), ('양가', 6920), ('계신다고', 6921), ('숩니다', 6922), ('뒤척', 6923), ('려니까', 6924), ('차내', 6925), ('못혀', 6926), ('찾아보', 6927), ('단칸', 6928), ('환해', 6929), ('처방', 6930), ('우겨서', 6931), ('갈걸', 6932), ('윤활유', 6933), ('윤활', 6934), ('이래저래', 6935), ('라니까요', 6936), ('라이프', 6937), ('플래너', 6938), ('헤어졌으면', 6939), ('뗀', 6940), ('아이스크림', 6941), ('그런다며', 6942), ('몰아부치', 6943), ('엇', 6944), ('여행가', 6945), ('흰쌀밥', 6946), ('돌멩이', 6947), ('섞였', 6948), ('된맛', 6949), ('기념', 6950), ('쏴라', 6951), ('꽃등심', 6952), ('쿨하', 6953), ('섣부른', 6954), ('증조할아버지', 6955), ('전용', 6956), ('더라고', 6957), ('끌려', 6958), ('풀려요', 6959), ('삼켰', 6960), ('전문가', 6961), ('넘어갑니다', 6962), ('회산데', 6963), ('한다구', 6964), ('졸랐', 6965), ('으신가', 6966), ('조그만', 6967), ('중소기업', 6968), ('대표', 6969), ('신세진', 6970), ('외울', 6971), ('성치', 6972), ('돌려야', 6973), ('공장장', 6974), ('청혼', 6975), ('을매나', 6976), ('뛰어놀', 6977), ('중매', 6978), ('물정', 6979), ('암것도', 6980), ('몰라주', 6981), ('쓸개', 6982), ('나간대', 6983), ('온다더니', 6984), ('래지', 6985), ('한도', 6986), ('혹시나', 6987), ('공들여서', 6988), ('드러내', 6989), ('옆집', 6990), ('냐면서', 6991), ('낼려', 6992), ('손버릇', 6993), ('질러요', 6994), ('청렴결백', 6995), ('볼라고', 6996), ('가방끈', 6997), ('바쳐서', 6998), ('가세', 6999), ('수준', 7000), ('이란', 7001), ('베이컨', 7002), ('라스', 7003), ('분내', 7004), ('그랬잖아', 7005), ('으십니다', 7006), ('찾아갔', 7007), ('일거', 7008), ('나온지', 7009), ('얼', 7010), ('빼낸', 7011), ('결백', 7012), ('명함', 7013), ('앞가림', 7014), ('정난', 7015), ('엄밀히', 7016), ('사유', 7017), ('얽매여서', 7018), ('희생', 7019), ('받아들인', 7020), ('무를', 7021), ('눈도장', 7022), ('콕', 7023), ('여요', 7024), ('프러포즈', 7025), ('야겠다', 7026), ('연속극', 7027), ('부른대', 7028), ('조문객', 7029), ('접대', 7030), ('아물', 7031), ('왈', 7032), ('쏟아지', 7033), ('익혀서', 7034), ('미세', 7035), ('옥', 7036), ('빨려', 7037), ('선다고', 7038), ('나온대요', 7039), ('술값', 7040), ('잔치', 7041), ('들여가', 7042), ('손댄', 7043), ('주물럭거려서', 7044), ('불고기', 7045), ('들락거려', 7046), ('살펴봤', 7047), ('꼼꼼', 7048), ('댕이', 7049), ('인대도', 7050), ('학비', 7051), ('살맛', 7052), ('뒷감당', 7053), ('내력', 7054), ('속인다', 7055), ('떠야', 7056), ('미친다', 7057), ('안겨준', 7058), ('짤리', 7059), ('극단', 7060), ('쳐다볼', 7061), ('흥분', 7062), ('잰', 7063), ('낙제', 7064), ('수강', 7065), ('문연', 7066), ('내차', 7067), ('보채', 7068), ('불를', 7069), ('씻긴', 7070), ('늘어지', 7071), ('후벼', 7072), ('닥쳐서', 7073), ('고만', 7074), ('쑨다고', 7075), ('넘긴', 7076), ('생명', 7077), ('지장', 7078), ('날아올', 7079), ('간소', 7080), ('실반', 7081), ('서둘러야', 7082), ('정의감', 7083), ('불타', 7084), ('칼자루', 7085), ('보탬', 7086), ('비켜요', 7087), ('때릴', 7088), ('벗기', 7089), ('종짓', 7090), ('아슬아슬', 7091), ('혀야', 7092), ('잡수', 7093), ('상설', 7094), ('매장', 7095), ('아름다운', 7096), ('깨나', 7097), ('눈곱', 7098), ('딴딴', 7099), ('흘러간', 7100), ('돌아봐', 7101), ('똥물', 7102), ('흘러가', 7103), ('존중', 7104), ('돌아설', 7105), ('꽜', 7106), ('식품', 7107), ('초대장', 7108), ('라이벌', 7109), ('나갑니다', 7110), ('깊이', 7111), ('잠드', 7112), ('불러야', 7113), ('그나마', 7114), ('엿', 7115), ('꼭꼭', 7116), ('뒤적거려', 7117), ('흙탕물', 7118), ('아버진데', 7119), ('맞벌이', 7120), ('덥석', 7121), ('중학생', 7122), ('돈타령', 7123), ('빠뜨린', 7124), ('돼도', 7125), ('뻠뿌질', 7126), ('들이', 7127), ('섰으니', 7128), ('모두', 7129), ('이골', 7130), ('맨손', 7131), ('달러', 7132), ('후식', 7133), ('딸기', 7134), ('보상', 7135), ('가랑잎', 7136), ('뒤끝', 7137), ('아이디어', 7138), ('내보', 7139), ('거하', 7140), ('웰컴', 7141), ('하이', 7142), ('발목', 7143), ('박혔', 7144), ('나온다면', 7145), ('돌려줄', 7146), ('댕긴', 7147), ('보여야', 7148), ('해석', 7149), ('근무자', 7150), ('아드님', 7151), ('아름', 7152), ('두려웠', 7153), ('노심', 7154), ('초사', 7155), ('물어뜯', 7156), ('냈으면', 7157), ('쳐야지', 7158), ('오르락내리락', 7159), ('경찰청', 7160), ('강당', 7161), ('빠진', 7162), ('독이', 7163), ('타입', 7164), ('주물럭대', 7165), ('그린다', 7166), ('뒤통수', 7167), ('얻어맞', 7168), ('어쨌거나', 7169), ('이왕준', 7170), ('개천', 7171), ('난다는', 7172), ('나아요', 7173), ('말버릇', 7174), ('해장국', 7175), ('바쳐', 7176), ('라곤', 7177), ('어느새', 7178), ('청문회', 7179), ('끝납니다', 7180), ('숨겨둔', 7181), ('믿음', 7182), ('여겨요', 7183), ('매운탕', 7184), ('구이', 7185), ('내탓이', 7186), ('애고', 7187), ('회산', 7188), ('아십니까', 7189), ('맞춰야지', 7190), ('돌아다닐', 7191), ('환영', 7192), ('끈', 7193), ('질겨', 7194), ('외로웠을', 7195), ('봐둬', 7196), ('징징대', 7197), ('보나마나', 7198), ('군식구', 7199), ('설칠', 7200), ('하얘', 7201), ('인상', 7202), ('허용', 7203), ('센스', 7204), ('실체', 7205), ('닳', 7206), ('과하', 7207), ('솥뚜껑', 7208), ('놀란다고', 7209), ('마나', 7210), ('굴린', 7211), ('취조실', 7212), ('완전히', 7213), ('캥기', 7214), ('잡아뗄', 7215), ('미운', 7216), ('고운', 7217), ('는디야', 7218), ('위해선', 7219), ('익수', 7220), ('건져서', 7221), ('위급', 7222), ('절망', 7223), ('황홀', 7224), ('자자', 7225), ('발달', 7226), ('준지', 7227), ('차려도', 7228), ('맛보', 7229), ('신다니까', 7230), ('어여', 7231), ('귀헌', 7232), ('빛바랜', 7233), ('차츰차츰', 7234), ('문제지', 7235), ('석죽', 7236), ('뺐', 7237), ('쪄서', 7238), ('죽일려고', 7239), ('살인자', 7240), ('견뎌낼', 7241), ('똥개', 7242), ('터진다', 7243), ('독한', 7244), ('몰라보', 7245), ('산요', 7246), ('서러운', 7247), ('렴', 7248), ('으랬', 7249), ('막가', 7250), ('고칠라고', 7251), ('고래고래', 7252), ('계셨으면', 7253), ('걸려도', 7254), ('덴가', 7255), ('쭉', 7256), ('치이', 7257), ('자니', 7258), ('차려놨', 7259), ('는대유', 7260), ('탈락', 7261), ('계신가', 7262), ('노닥거려', 7263), ('내준', 7264), ('탈렌트', 7265), ('심오', 7266), ('심층', 7267), ('심도', 7268), ('임시', 7269), ('얼씨구', 7270), ('보험계약', 7271), ('럽', 7272), ('꼭대기', 7273), ('빠져나가', 7274), ('팥', 7275), ('준디야', 7276), ('제명', 7277), ('디자이너', 7278), ('디게', 7279), ('오가', 7280), ('대주', 7281), ('묵비권', 7282), ('끝내준다', 7283), ('도가니', 7284), ('매가', 7285), ('무쳤', 7286), ('신거', 7287), ('다행히', 7288), ('걸텐데', 7289), ('시일', 7290), ('부쳐', 7291), ('전원', 7292), ('그담', 7293), ('트이', 7294), ('엉기', 7295), ('차나', 7296), ('쪽팔리', 7297), ('천직', 7298), ('세계', 7299), ('반성', 7300), ('태어났', 7301), ('말투', 7302), ('싹뚝', 7303), ('싸워요', 7304), ('말라서', 7305), ('허드레', 7306), ('관리직', 7307), ('상무', 7308), ('쓴지', 7309), ('극복', 7310), ('짠지', 7311), ('올릴래', 7312), ('상한다', 7313), ('인겨', 7314), ('감서', 7315), ('써준', 7316), ('선디', 7317), ('팅게', 7318), ('남아나', 7319), ('오디', 7320), ('파묻혀', 7321), ('가책', 7322), ('롤', 7323), ('쟬', 7324), ('내흉', 7325), ('동등', 7326), ('조건', 7327), ('다녀갔', 7328), ('단호', 7329), ('끄떡', 7330), ('연상', 7331), ('도망다니', 7332), ('아닐', 7333), ('식모살이', 7334), ('가게', 7335), ('공범', 7336), ('음주운전', 7337), ('동승자', 7338), ('존일', 7339), ('현행범', 7340), ('꼬박', 7341), ('속알', 7342), ('마안', 7343), ('부피', 7344), ('최하', 7345), ('키워도', 7346), ('말릴', 7347), ('염치없', 7348), ('약도', 7349), ('그린', 7350), ('어거지', 7351), ('날강도', 7352), ('나부', 7353), ('계신다는', 7354), ('모', 7355), ('주마', 7356), ('사겼었', 7357), ('참견', 7358), ('별꼴', 7359), ('해줘', 7360), ('뺀질', 7361), ('경찰복', 7362), ('릴', 7363), ('살얼음판', 7364), ('실실', 7365), ('은가', 7366), ('그럴려구', 7367), ('패스', 7368), ('엄', 7369), ('해놨으니까', 7370), ('무데기', 7371), ('쏟아진다', 7372), ('낚였', 7373), ('아담', 7374), ('타고났', 7375), ('빚더미', 7376), ('올라앉', 7377), ('평수', 7378), ('따져', 7379), ('힘든가', 7380), ('주욱', 7381), ('데려갈', 7382), ('일러바친', 7383), ('인정받', 7384), ('염색', 7385), ('민요', 7386), ('감시', 7387), ('신댔으니까', 7388), ('오히려', 7389), ('워낙에', 7390), ('놔서', 7391), ('어린데', 7392), ('철없', 7393), ('다독거려', 7394), ('비면', 7395), ('내줬', 7396), ('엉겨', 7397), ('가셔야', 7398), ('교사', 7399), ('숟갈', 7400), ('비번', 7401), ('찾아뵌', 7402), ('흉본', 7403), ('으로서', 7404), ('못된', 7405), ('그럴까', 7406), ('뱀', 7407), ('판검사', 7408), ('종이배', 7409), ('종이비행기', 7410), ('쭈욱', 7411), ('안정', 7412), ('연례행사', 7413), ('기요', 7414), ('적응', 7415), ('더할', 7416), ('더군요', 7417), ('가려서', 7418), ('따돌릴', 7419), ('단체', 7420), ('쨀', 7421), ('썩여서', 7422), ('안달', 7423), ('버릴란다', 7424), ('래두', 7425), ('꼬나박', 7426), ('일만', 7427), ('사거리', 7428), ('졸라대', 7429), ('살아온', 7430), ('똑', 7431), ('맘속', 7432), ('난일', 7433), ('나빴', 7434), ('뒤지게', 7435), ('수영', 7436), ('한단', 7437), ('꼬로록', 7438), ('일원', 7439), ('백통', 7440), ('통화량', 7441), ('소모', 7442), ('빈껍데기', 7443), ('댕길', 7444), ('응큼', 7445), ('내려갔', 7446), ('어정', 7447), ('사정사정', 7448), ('상반기', 7449), ('줘야겠다', 7450), ('다닌다고', 7451), ('조절', 7452), ('챙겨온', 7453), ('용건', 7454), ('하루빨리', 7455), ('발버둥', 7456), ('부아', 7457), ('치밀', 7458), ('부들부들', 7459), ('부둥켜', 7460), ('괴로워한', 7461), ('돌이킬', 7462), ('꾸려', 7463), ('힘없', 7464), ('차남', 7465), ('부랴부랴', 7466), ('천년만년', 7467), ('자선', 7468), ('해드릴까요', 7469), ('쏩니다', 7470), ('삼인', 7471), ('대놓고', 7472), ('대안', 7473), ('간절히', 7474), ('원하', 7475), ('울궈먹', 7476), ('천만다행', 7477), ('죄졌', 7478), ('그래라', 7479), ('서럽', 7480), ('때렸으니', 7481), ('싼다', 7482), ('보답', 7483), ('무거웠', 7484), ('여경', 7485), ('젖혀', 7486), ('돌아왔', 7487), ('프랑스', 7488), ('운전대', 7489), ('잡지', 7490), ('여건', 7491), ('자빠져서', 7492), ('느낀', 7493), ('제갈', 7494), ('삼백', 7495), ('나머진', 7496), ('깽판', 7497), ('치자', 7498), ('지워진다', 7499), ('결혼식장', 7500), ('깟', 7501), ('이발', 7502), ('갈라면', 7503), ('보낸다고', 7504), ('막차', 7505), ('굴러', 7506), ('운동장', 7507), ('짊어지', 7508), ('온다는데', 7509), ('부정', 7510), ('맹아', 7511), ('해꼬지', 7512), ('워딜', 7513), ('주고', 7514), ('파인애플', 7515), ('버선', 7516), ('괄세', 7517), ('박쥐', 7518), ('어찌나', 7519), ('빠른지', 7520), ('늘어놓', 7521), ('입장료', 7522), ('몸조리', 7523), ('샀으면', 7524), ('그려도', 7525), ('상해', 7526), ('뒤집혀', 7527), ('신댔', 7528), ('나섰', 7529), ('래니까', 7530), ('튕겨', 7531), ('인격', 7532), ('배고픈데', 7533), ('나올걸', 7534), ('자도', 7535), ('방식', 7536), ('큰애기', 7537), ('사신', 7538), ('수상쩍', 7539), ('똑똑히', 7540), ('감당', 7541), ('다냐', 7542), ('이겁니까', 7543), ('교', 7544), ('문책', 7545), ('따를', 7546), ('쫓겨날', 7547), ('아플까', 7548), ('게을러', 7549), ('재빠르', 7550), ('대목', 7551), ('김새', 7552), ('쟁여', 7553), ('작년', 7554), ('민폐', 7555), ('끼치', 7556), ('고자', 7557), ('찌질이', 7558), ('저질러', 7559), ('살쪄', 7560), ('마른', 7561), ('인근', 7562), ('뱁니다', 7563), ('철렁', 7564), ('육하원칙', 7565), ('의거', 7566), ('업보', 7567), ('욕할', 7568), ('추', 7569), ('춰', 7570), ('시끄러워', 7571), ('저흰', 7572), ('볼까요', 7573), ('사형', 7574), ('아셔', 7575), ('체질', 7576), ('벴', 7577), ('전치', 7578), ('6', 7579), ('엄청', 7580), ('신다니', 7581), ('댄가', 7582), ('졸업장', 7583), ('와봐라', 7584), ('외며느리', 7585), ('쪘', 7586), ('소탈', 7587), ('부디', 7588), ('사로잡', 7589), ('살린다는', 7590), ('찬란', 7591), ('모았', 7592), ('들먹여', 7593), ('식성', 7594), ('까다롭', 7595), ('까다로와', 7596), ('골골대', 7597), ('커플', 7598), ('할려구요', 7599), ('꼼장어랑', 7600), ('괜한', 7601), ('꼬투리', 7602), ('별짓', 7603), ('팽배', 7604), ('추울까', 7605), ('보인다', 7606), ('취하', 7607), ('요리', 7608), ('고마운', 7609), ('다녀야', 7610), ('수퍼맨', 7611), ('게든', 7612), ('개고생', 7613), ('광고', 7614), ('출세', 7615), ('성공', 7616), ('흔들린', 7617), ('듭니다', 7618), ('애초', 7619), ('맞아들여', 7620), ('마신다', 7621), ('일찍이', 7622), ('주물러라', 7623), ('써야', 7624), ('계급장', 7625), ('윙크', 7626), ('날리', 7627), ('칸', 7628), ('버무리', 7629), ('떠드', 7630), ('뛰어들어오', 7631), ('러브', 7632), ('샷', 7633), ('틀', 7634), ('성큼', 7635), ('잡아끌', 7636), ('사방', 7637), ('유리문', 7638), ('벗겨져', 7639), ('대초', 7640), ('만지', 7641), ('시큰', 7642), ('덤벼들', 7643), ('갈기', 7644), ('묘한', 7645), ('미소', 7646), ('휴지통', 7647), ('기대서', 7648), ('스케치', 7649), ('휴지', 7650), ('나간다', 7651), ('헤벌어지', 7652), ('선글라스', 7653), ('의아', 7654), ('엎드렸', 7655), ('바구니', 7656), ('케이크', 7657), ('멈춘', 7658), ('나타난', 7659), ('달아나', 7660), ('쓸쓸히', 7661), ('내민', 7662), ('벨', 7663), ('물러서', 7664), ('웅성대', 7665), ('눈짓', 7666), ('달려오', 7667), ('문틈', 7668), ('쪼르륵', 7669), ('다림질', 7670), ('일행', 7671), ('호루라기', 7672), ('삑', 7673), ('훌쩍', 7674), ('서너', 7675), ('규모', 7676), ('처방전', 7677), ('난입', 7678), ('틀어막', 7679), ('우왕좌왕', 7680), ('손빨래', 7681), ('허둥대', 7682), ('찮고', 7683), ('걸이', 7684), ('저녁상', 7685), ('하품', 7686), ('부축', 7687), ('뿌리치', 7688), ('줄려', 7689), ('거품', 7690), ('수갑찬', 7691), ('어둡', 7692), ('전등', 7693), ('음성', 7694), ('발버둥치', 7695), ('땅바닥', 7696), ('으악', 7697), ('주차장', 7698), ('팬', 7699), ('승용차', 7700), ('눈부시', 7701), ('벙', 7702), ('셔츠', 7703), ('포과', 7704), ('눈가', 7705), ('붉어지', 7706), ('빨라', 7707), ('반가워서', 7708), ('대리', 7709), ('커지', 7710), ('달려온', 7711), ('돈다', 7712), ('헛웃음', 7713), ('내려가', 7714), ('뒤쫓아가', 7715), ('쫓아오', 7716), ('헬멧', 7717), ('하얗', 7718), ('뛰어와', 7719), ('띵', 7720), ('달력', 7721), ('요란', 7722), ('분두', 7723), ('뒤뜰', 7724), ('췌어', 7725), ('맺히', 7726), ('꼬르륵', 7727), ('봉', 7728), ('부셔', 7729)])\n",
            "단어 word index 가 4인 고에 대한 임베딩 벡터: [-1.110493e+00 -6.022240e-01  5.716540e-01 -3.619270e-01  7.453400e-02\n",
            " -7.517100e-02 -9.822650e-01 -3.604380e-01 -1.583386e+00 -8.546000e-02\n",
            " -1.715700e-02  1.115149e+00 -5.170020e-01 -7.871410e-01 -8.301250e-01\n",
            "  4.600240e-01  7.495900e-02  3.697100e-02  6.605000e-03  1.498370e-01\n",
            "  2.372960e+00  2.931500e-01  2.544550e-01 -8.945500e-02  3.521390e-01\n",
            " -1.351800e-01  2.522790e-01  4.240500e-02 -8.608700e-02  3.398820e-01\n",
            " -1.655350e-01 -5.741000e-03 -1.342000e-03  5.741900e-02  3.510200e-02\n",
            " -4.199060e-01  2.026880e-01  6.512030e-01  8.132660e-01  3.164260e-01\n",
            " -5.411350e-01 -3.914310e-01 -1.280480e-01  2.031750e-01  5.350910e-01\n",
            "  1.147782e+00 -4.430110e-01 -1.273559e+00  1.384526e+00  4.509460e-01\n",
            " -9.989800e-02  1.036310e-01  5.872700e-02 -5.201520e-01 -9.699700e-01\n",
            " -1.155610e-01 -3.491820e-01 -6.797600e-02  2.681100e-02 -3.589000e-03\n",
            " -8.026170e-01 -5.413400e-02  3.290480e-01  4.637800e-02  6.080650e-01\n",
            " -1.242590e-01  8.472850e-01 -1.951405e+00 -1.435237e+00  5.944940e-01\n",
            " -1.170590e-01  4.414600e-01  1.148525e+00  1.532580e-01 -6.131270e-01\n",
            " -1.317170e-01  2.263470e-01 -4.062830e-01 -5.616800e-02 -4.593040e-01\n",
            "  6.734570e-01  1.543550e-01 -6.571280e-01  5.945550e-01 -1.665460e-01\n",
            " -5.929270e-01  1.200010e-01 -6.335250e-01  5.321600e-02  1.252441e+00\n",
            " -6.460640e-01  5.905940e-01 -8.866100e-01  1.097702e+00  6.708350e-01\n",
            "  4.876010e-01  8.242400e-01  7.051240e-01  1.228172e+00 -2.754100e-01]\n"
          ]
        }
      ]
    },
    {
      "cell_type": "code",
      "source": [
        "for word, index in tokenizer.word_index.items():\n",
        "  vector_value = embedding_dict.get(word)\n",
        "  if vector_value is not None:\n",
        "    embedding_matrix[index]= vector_value"
      ],
      "metadata": {
        "id": "o0WiHHo5C7cq"
      },
      "execution_count": 24,
      "outputs": []
    },
    {
      "cell_type": "code",
      "source": [
        "embedding_matrix[4]"
      ],
      "metadata": {
        "colab": {
          "base_uri": "https://localhost:8080/"
        },
        "id": "NXPmv5PlDLfu",
        "outputId": "51021101-3ac5-42b7-a177-c417b30981ec"
      },
      "execution_count": 25,
      "outputs": [
        {
          "output_type": "execute_result",
          "data": {
            "text/plain": [
              "array([-1.11049294e+00, -6.02223992e-01,  5.71654022e-01, -3.61927003e-01,\n",
              "        7.45339990e-02, -7.51710013e-02, -9.82264996e-01, -3.60437989e-01,\n",
              "       -1.58338594e+00, -8.54599997e-02, -1.71569996e-02,  1.11514902e+00,\n",
              "       -5.17001987e-01, -7.87141025e-01, -8.30124974e-01,  4.60023999e-01,\n",
              "        7.49590024e-02,  3.69709991e-02,  6.60499977e-03,  1.49837002e-01,\n",
              "        2.37296009e+00,  2.93150008e-01,  2.54455000e-01, -8.94550011e-02,\n",
              "        3.52138996e-01, -1.35179996e-01,  2.52279013e-01,  4.24050018e-02,\n",
              "       -8.60870034e-02,  3.39881986e-01, -1.65535003e-01, -5.74100018e-03,\n",
              "       -1.34199997e-03,  5.74189983e-02,  3.51019986e-02, -4.19905990e-01,\n",
              "        2.02687994e-01,  6.51202977e-01,  8.13265979e-01,  3.16426009e-01,\n",
              "       -5.41135013e-01, -3.91431004e-01, -1.28048003e-01,  2.03174993e-01,\n",
              "        5.35090983e-01,  1.14778197e+00, -4.43010986e-01, -1.27355897e+00,\n",
              "        1.38452601e+00,  4.50946003e-01, -9.98980030e-02,  1.03630997e-01,\n",
              "        5.87269999e-02, -5.20151973e-01, -9.69969988e-01, -1.15561001e-01,\n",
              "       -3.49182010e-01, -6.79759979e-02,  2.68110000e-02, -3.58900009e-03,\n",
              "       -8.02617013e-01, -5.41340001e-02,  3.29048008e-01,  4.63780016e-02,\n",
              "        6.08065009e-01, -1.24259003e-01,  8.47284973e-01, -1.95140505e+00,\n",
              "       -1.43523705e+00,  5.94493985e-01, -1.17059000e-01,  4.41460013e-01,\n",
              "        1.14852500e+00,  1.53257996e-01, -6.13126993e-01, -1.31716996e-01,\n",
              "        2.26346999e-01, -4.06282991e-01, -5.61680011e-02, -4.59304005e-01,\n",
              "        6.73457026e-01,  1.54355004e-01, -6.57127976e-01,  5.94555020e-01,\n",
              "       -1.66546002e-01, -5.92926979e-01,  1.20001003e-01, -6.33525014e-01,\n",
              "        5.32159992e-02,  1.25244105e+00, -6.46063983e-01,  5.90593994e-01,\n",
              "       -8.86609972e-01,  1.09770203e+00,  6.70835018e-01,  4.87601012e-01,\n",
              "        8.24240029e-01,  7.05124021e-01,  1.22817194e+00, -2.75409997e-01])"
            ]
          },
          "metadata": {},
          "execution_count": 25
        }
      ]
    },
    {
      "cell_type": "code",
      "source": [
        "#label 값 0,1,2 로 Encoding\n",
        "from sklearn.preprocessing import LabelEncoder\n",
        "le = LabelEncoder()\n",
        "le = le.fit(train_data['label'])\n",
        "\n",
        "train_label_seq = le.transform(train_data['label'])\n",
        "print(le.classes_)\n",
        "print(train_data['label'][:10])\n",
        "print(train_label_seq[:10])\n",
        "\n",
        "#dysphoria:0, euphoria:1, neutral:2"
      ],
      "metadata": {
        "colab": {
          "base_uri": "https://localhost:8080/"
        },
        "id": "90Vn74jK6MP3",
        "outputId": "e55db8ed-81cb-4c4e-a8fe-e1b5820a0e64"
      },
      "execution_count": 26,
      "outputs": [
        {
          "output_type": "stream",
          "name": "stdout",
          "text": [
            "['dysphoria' 'euphoria' 'neutral']\n",
            "1523     euphoria\n",
            "301       neutral\n",
            "3621    dysphoria\n",
            "881       neutral\n",
            "6690    dysphoria\n",
            "3884    dysphoria\n",
            "6972     euphoria\n",
            "5879     euphoria\n",
            "6515     euphoria\n",
            "1308    dysphoria\n",
            "Name: label, dtype: object\n",
            "[1 2 0 2 0 0 1 1 1 0]\n"
          ]
        }
      ]
    },
    {
      "cell_type": "code",
      "source": [
        "\"\"\"\n",
        "def train_val_split(sentences, labels, training_split):\n",
        "\n",
        "  train_size = int(len(sentences)*training_split)\n",
        "\n",
        "  train_sentences = sentences[:train_size]\n",
        "  train_labels = labels[:train_size]\n",
        "\n",
        "\n",
        "  val_sentences = sentences[train_size:]\n",
        "  val_labels = labels[train_size:]\n",
        "\n",
        "  return train_sentences, train_labels, val_sentences, val_labels\n",
        "\"\"\""
      ],
      "metadata": {
        "id": "7I0qq1Mvfwwd",
        "colab": {
          "base_uri": "https://localhost:8080/",
          "height": 72
        },
        "outputId": "34f386ca-e3c6-4565-c372-01deaca0e58c"
      },
      "execution_count": 27,
      "outputs": [
        {
          "output_type": "execute_result",
          "data": {
            "text/plain": [
              "'\\ndef train_val_split(sentences, labels, training_split):\\n\\n  train_size = int(len(sentences)*training_split)\\n\\n  train_sentences = sentences[:train_size]\\n  train_labels = labels[:train_size]\\n\\n\\n  val_sentences = sentences[train_size:]\\n  val_labels = labels[train_size:]\\n\\n  return train_sentences, train_labels, val_sentences, val_labels\\n'"
            ],
            "application/vnd.google.colaboratory.intrinsic+json": {
              "type": "string"
            }
          },
          "metadata": {},
          "execution_count": 27
        }
      ]
    },
    {
      "cell_type": "code",
      "source": [
        "print(type(np.array(train_data['person'])), type(train_sentence_seq),type(train_context_seq), type(train_data['scene']) )\n",
        "\n",
        "print(np.array(train_data['person']).shape)\n",
        "print(train_sentence_seq.shape)\n",
        "print(np.array(train_data['person']))\n",
        "print(train_sentence_seq)"
      ],
      "metadata": {
        "colab": {
          "base_uri": "https://localhost:8080/"
        },
        "id": "57b-hRsOp0ND",
        "outputId": "c508d417-c747-4c29-dd19-c078e3e7476e"
      },
      "execution_count": 28,
      "outputs": [
        {
          "output_type": "stream",
          "name": "stdout",
          "text": [
            "<class 'numpy.ndarray'> <class 'numpy.ndarray'> <class 'numpy.ndarray'> <class 'pandas.core.series.Series'>\n",
            "(7339,)\n",
            "(7339, 30)\n",
            "[31  5 83 ... 36 55  5]\n",
            "[[   0    0    0 ... 1299    4    2]\n",
            " [   0    0    0 ...    2  378    7]\n",
            " [   0    0    0 ...   10   35    2]\n",
            " ...\n",
            " [   0    0    0 ...  693  558    2]\n",
            " [   0    0    0 ... 1748   69    2]\n",
            " [   0    0    0 ...    0 1974    2]]\n"
          ]
        }
      ]
    },
    {
      "cell_type": "code",
      "source": [
        "#Data split \n",
        "from sklearn.model_selection import train_test_split\n",
        "train_sentences, test_sentences = train_test_split(train_sentence_seq, test_size=0.1, shuffle=False)\n",
        "train_contexts, test_contexts = train_test_split(train_context_seq, test_size=0.1, shuffle=False)\n",
        "train_people, test_people = train_test_split(np.array(train_data['person']), test_size=0.1, shuffle=False)\n",
        "train_scenes, test_scenes = train_test_split(np.array(train_data['scene']), test_size=0.1, shuffle=False)\n",
        "train_labels, test_labels = train_test_split(train_label_seq, test_size=0.1, shuffle=False)"
      ],
      "metadata": {
        "id": "UWYlgkUtb8dY"
      },
      "execution_count": 29,
      "outputs": []
    },
    {
      "cell_type": "code",
      "source": [
        "\n",
        "print(train_sentences.shape)\n",
        "print(train_contexts.shape)\n",
        "print(train_people.shape)\n",
        "print(train_scenes.shape)\n",
        "print(train_labels.shape)\n",
        "\n",
        "print(test_sentences.shape)\n",
        "print(test_contexts.shape)\n",
        "print(test_people.shape)\n",
        "print(test_scenes.shape)\n",
        "print(test_labels.shape)\n",
        "\n"
      ],
      "metadata": {
        "id": "lU8_ZSjTeA1n",
        "colab": {
          "base_uri": "https://localhost:8080/"
        },
        "outputId": "3d93add6-ce3c-4252-c1c8-8b56106de96e"
      },
      "execution_count": 30,
      "outputs": [
        {
          "output_type": "stream",
          "name": "stdout",
          "text": [
            "(6605, 30)\n",
            "(6605, 30)\n",
            "(6605,)\n",
            "(6605,)\n",
            "(6605,)\n",
            "(734, 30)\n",
            "(734, 30)\n",
            "(734,)\n",
            "(734,)\n",
            "(734,)\n"
          ]
        }
      ]
    },
    {
      "cell_type": "code",
      "source": [
        "def create_model(num_words, embedding_dim, maxlen):\n",
        "  \n",
        "\n",
        "  input_P = Input(shape=[1], name = \"input_person\")\n",
        "  input_S = Input(shape=[1], name = \"input_scene\")\n",
        "  input_sen = Input(shape=[30], name = \"input_sentence\")\n",
        "  input_con = Input(shape=[30], name = \"input_context\")\n",
        "\n",
        "  Dense_p1 = Dense(8, activation = 'relu')(input_P)\n",
        "  Dense_p2 = Dense(4, activation = 'sigmoid')(Dense_p1)\n",
        "\n",
        "  Dense_s1 = Dense(8, activation = 'relu')(input_S)\n",
        "  Dense_s2 = Dense(1, activation = 'sigmoid')(Dense_s1)\n",
        "\n",
        "  Embedding1 = Embedding(num_words, embedding_dim, weights=[embedding_matrix], input_length=maxlen, trainable=False)(input_sen)\n",
        "  LSTM_sen = Bidirectional(LSTM(16, return_sequences=False))(Embedding1)\n",
        "  Dense_sen = Dense(16, activation = 'sigmoid')(LSTM_sen)\n",
        "\n",
        "  Embedding2 = Embedding(num_words, embedding_dim, weights=[embedding_matrix], input_length=maxlen, trainable=False)(input_con)\n",
        "  LSTM_con = Bidirectional(LSTM(16, return_sequences=False))(Embedding2)\n",
        "  Dense_con = Dense(16, activation = 'sigmoid')(LSTM_con)\n",
        "\n",
        "  \n",
        "  concat = concatenate([Dense_p2, Dense_s2, Dense_sen, Dense_con], name='concat')\n",
        "  Drp1 = Dropout(0.3)(concat)\n",
        "  Dense1 = Dense(16, activation = 'relu')(concat)\n",
        "  Dense2 = Dense(8, activation = 'relu')(Dense1)\n",
        "  Drp = Dropout(0.2)(Dense2)\n",
        "  output = Dense(3, activation = 'softmax')(Dense2)\n",
        "\n",
        "\n",
        "  model = tf.keras.Model(inputs =[input_P, input_S, input_sen, input_con], outputs=[output])\n",
        "\n",
        "\n",
        "  return model\n"
      ],
      "metadata": {
        "id": "RLjK9LxCYTZD"
      },
      "execution_count": 41,
      "outputs": []
    },
    {
      "cell_type": "code",
      "source": [
        "model = create_model(NUM_WORDS, EMBEDDING_DIM, MAXLEN)"
      ],
      "metadata": {
        "id": "V0k2h_AVkxdx"
      },
      "execution_count": 42,
      "outputs": []
    },
    {
      "cell_type": "code",
      "source": [
        "model.summary()"
      ],
      "metadata": {
        "id": "O4vnTi0do9kS",
        "colab": {
          "base_uri": "https://localhost:8080/"
        },
        "outputId": "f48c20a9-4e02-4cd8-d6fb-a7dbeaeda6d0"
      },
      "execution_count": 43,
      "outputs": [
        {
          "output_type": "stream",
          "name": "stdout",
          "text": [
            "Model: \"model\"\n",
            "__________________________________________________________________________________________________\n",
            " Layer (type)                   Output Shape         Param #     Connected to                     \n",
            "==================================================================================================\n",
            " input_sentence (InputLayer)    [(None, 30)]         0           []                               \n",
            "                                                                                                  \n",
            " input_context (InputLayer)     [(None, 30)]         0           []                               \n",
            "                                                                                                  \n",
            " input_person (InputLayer)      [(None, 1)]          0           []                               \n",
            "                                                                                                  \n",
            " input_scene (InputLayer)       [(None, 1)]          0           []                               \n",
            "                                                                                                  \n",
            " embedding (Embedding)          (None, 30, 100)      1500000     ['input_sentence[0][0]']         \n",
            "                                                                                                  \n",
            " embedding_1 (Embedding)        (None, 30, 100)      1500000     ['input_context[0][0]']          \n",
            "                                                                                                  \n",
            " dense (Dense)                  (None, 8)            16          ['input_person[0][0]']           \n",
            "                                                                                                  \n",
            " dense_2 (Dense)                (None, 8)            16          ['input_scene[0][0]']            \n",
            "                                                                                                  \n",
            " bidirectional (Bidirectional)  (None, 32)           14976       ['embedding[0][0]']              \n",
            "                                                                                                  \n",
            " bidirectional_1 (Bidirectional  (None, 32)          14976       ['embedding_1[0][0]']            \n",
            " )                                                                                                \n",
            "                                                                                                  \n",
            " dense_1 (Dense)                (None, 4)            36          ['dense[0][0]']                  \n",
            "                                                                                                  \n",
            " dense_3 (Dense)                (None, 1)            9           ['dense_2[0][0]']                \n",
            "                                                                                                  \n",
            " dense_4 (Dense)                (None, 16)           528         ['bidirectional[0][0]']          \n",
            "                                                                                                  \n",
            " dense_5 (Dense)                (None, 16)           528         ['bidirectional_1[0][0]']        \n",
            "                                                                                                  \n",
            " concat (Concatenate)           (None, 37)           0           ['dense_1[0][0]',                \n",
            "                                                                  'dense_3[0][0]',                \n",
            "                                                                  'dense_4[0][0]',                \n",
            "                                                                  'dense_5[0][0]']                \n",
            "                                                                                                  \n",
            " dense_6 (Dense)                (None, 16)           608         ['concat[0][0]']                 \n",
            "                                                                                                  \n",
            " dense_7 (Dense)                (None, 8)            136         ['dense_6[0][0]']                \n",
            "                                                                                                  \n",
            " dense_8 (Dense)                (None, 3)            27          ['dense_7[0][0]']                \n",
            "                                                                                                  \n",
            "==================================================================================================\n",
            "Total params: 3,031,856\n",
            "Trainable params: 31,856\n",
            "Non-trainable params: 3,000,000\n",
            "__________________________________________________________________________________________________\n"
          ]
        }
      ]
    },
    {
      "cell_type": "code",
      "source": [
        "\"\"\"\n",
        "lr_schedule = tf.keras.callbacks.LearningRateScheduler(\n",
        "    lambda epoch: 1e-4*10**(epoch/10))\n",
        "\"\"\"\n",
        "optimizer = tf.keras.optimizers.Adam(learning_rate = 3e-4)\n"
      ],
      "metadata": {
        "id": "j0uuOdgd0DRz"
      },
      "execution_count": 44,
      "outputs": []
    },
    {
      "cell_type": "code",
      "source": [
        "model.compile(optimizer=optimizer, loss='sparse_categorical_crossentropy', metrics=['accuracy'])"
      ],
      "metadata": {
        "id": "v-gCVpI4lFgP"
      },
      "execution_count": 45,
      "outputs": []
    },
    {
      "cell_type": "code",
      "source": [
        "from wandb.keras import WandbCallback"
      ],
      "metadata": {
        "id": "YeFkYWxckt2p"
      },
      "execution_count": 46,
      "outputs": []
    },
    {
      "cell_type": "code",
      "source": [
        "history = model.fit((train_people, train_scenes, train_sentences, train_contexts), train_labels, epochs=30, \n",
        "                    validation_data = ((test_people, test_scenes, test_sentences, test_contexts), test_labels), callbacks=[ WandbCallback()])"
      ],
      "metadata": {
        "id": "O2oJIzR4lUXh",
        "colab": {
          "base_uri": "https://localhost:8080/"
        },
        "outputId": "0a52c28f-66e7-4af6-99e7-d7e9d4562c48"
      },
      "execution_count": 47,
      "outputs": [
        {
          "output_type": "stream",
          "name": "stdout",
          "text": [
            "Epoch 1/30\n",
            "207/207 [==============================] - 21s 51ms/step - loss: 0.9336 - accuracy: 0.5731 - val_loss: 0.8748 - val_accuracy: 0.6308\n",
            "Epoch 2/30\n",
            "207/207 [==============================] - 8s 41ms/step - loss: 0.8749 - accuracy: 0.6151 - val_loss: 0.8390 - val_accuracy: 0.6308\n",
            "Epoch 3/30\n",
            "207/207 [==============================] - 8s 41ms/step - loss: 0.8439 - accuracy: 0.6182 - val_loss: 0.8131 - val_accuracy: 0.6431\n",
            "Epoch 4/30\n",
            "207/207 [==============================] - 9s 41ms/step - loss: 0.8064 - accuracy: 0.6410 - val_loss: 0.7928 - val_accuracy: 0.6649\n",
            "Epoch 5/30\n",
            "207/207 [==============================] - 11s 55ms/step - loss: 0.7762 - accuracy: 0.6612 - val_loss: 0.7729 - val_accuracy: 0.6662\n",
            "Epoch 6/30\n",
            "207/207 [==============================] - 9s 41ms/step - loss: 0.7464 - accuracy: 0.6771 - val_loss: 0.7684 - val_accuracy: 0.6717\n",
            "Epoch 7/30\n",
            "207/207 [==============================] - 9s 41ms/step - loss: 0.7244 - accuracy: 0.6898 - val_loss: 0.7428 - val_accuracy: 0.6785\n",
            "Epoch 8/30\n",
            "207/207 [==============================] - 9s 41ms/step - loss: 0.6988 - accuracy: 0.7048 - val_loss: 0.7127 - val_accuracy: 0.7003\n",
            "Epoch 9/30\n",
            "207/207 [==============================] - 8s 41ms/step - loss: 0.6756 - accuracy: 0.7151 - val_loss: 0.6915 - val_accuracy: 0.7180\n",
            "Epoch 10/30\n",
            "207/207 [==============================] - 8s 40ms/step - loss: 0.6531 - accuracy: 0.7287 - val_loss: 0.6853 - val_accuracy: 0.7166\n",
            "Epoch 11/30\n",
            "207/207 [==============================] - 9s 41ms/step - loss: 0.6314 - accuracy: 0.7394 - val_loss: 0.6542 - val_accuracy: 0.7234\n",
            "Epoch 12/30\n",
            "207/207 [==============================] - 9s 41ms/step - loss: 0.6124 - accuracy: 0.7478 - val_loss: 0.6361 - val_accuracy: 0.7493\n",
            "Epoch 13/30\n",
            "207/207 [==============================] - 9s 41ms/step - loss: 0.5936 - accuracy: 0.7528 - val_loss: 0.6477 - val_accuracy: 0.7248\n",
            "Epoch 14/30\n",
            "207/207 [==============================] - 9s 41ms/step - loss: 0.5779 - accuracy: 0.7612 - val_loss: 0.6162 - val_accuracy: 0.7493\n",
            "Epoch 15/30\n",
            "207/207 [==============================] - 8s 41ms/step - loss: 0.5620 - accuracy: 0.7709 - val_loss: 0.6088 - val_accuracy: 0.7616\n",
            "Epoch 16/30\n",
            "207/207 [==============================] - 8s 41ms/step - loss: 0.5545 - accuracy: 0.7702 - val_loss: 0.6006 - val_accuracy: 0.7602\n",
            "Epoch 17/30\n",
            "206/207 [============================>.] - ETA: 0s - loss: 0.5378 - accuracy: 0.7805"
          ]
        },
        {
          "output_type": "stream",
          "name": "stderr",
          "text": [
            "WARNING:absl:Found untraced functions such as lstm_cell_1_layer_call_fn, lstm_cell_1_layer_call_and_return_conditional_losses, lstm_cell_2_layer_call_fn, lstm_cell_2_layer_call_and_return_conditional_losses, lstm_cell_4_layer_call_fn while saving (showing 5 of 8). These functions will not be directly callable after loading.\n",
            "WARNING:absl:<keras.layers.recurrent.LSTMCell object at 0x7f823f1e20d0> has the same name 'LSTMCell' as a built-in Keras object. Consider renaming <class 'keras.layers.recurrent.LSTMCell'> to avoid naming conflicts when loading with `tf.keras.models.load_model`. If renaming is not possible, pass the object in the `custom_objects` parameter of the load function.\n",
            "WARNING:absl:<keras.layers.recurrent.LSTMCell object at 0x7f823c0828d0> has the same name 'LSTMCell' as a built-in Keras object. Consider renaming <class 'keras.layers.recurrent.LSTMCell'> to avoid naming conflicts when loading with `tf.keras.models.load_model`. If renaming is not possible, pass the object in the `custom_objects` parameter of the load function.\n",
            "WARNING:absl:<keras.layers.recurrent.LSTMCell object at 0x7f823a803310> has the same name 'LSTMCell' as a built-in Keras object. Consider renaming <class 'keras.layers.recurrent.LSTMCell'> to avoid naming conflicts when loading with `tf.keras.models.load_model`. If renaming is not possible, pass the object in the `custom_objects` parameter of the load function.\n",
            "WARNING:absl:<keras.layers.recurrent.LSTMCell object at 0x7f82390dd510> has the same name 'LSTMCell' as a built-in Keras object. Consider renaming <class 'keras.layers.recurrent.LSTMCell'> to avoid naming conflicts when loading with `tf.keras.models.load_model`. If renaming is not possible, pass the object in the `custom_objects` parameter of the load function.\n",
            "\u001b[34m\u001b[1mwandb\u001b[0m: Adding directory to artifact (/content/wandb/run-20220920_112054-14oravkz/files/model-best)... Done. 0.2s\n"
          ]
        },
        {
          "output_type": "stream",
          "name": "stdout",
          "text": [
            "\b\b\b\b\b\b\b\b\b\b\b\b\b\b\b\b\b\b\b\b\b\b\b\b\b\b\b\b\b\b\b\b\b\b\b\b\b\b\b\b\b\b\b\b\b\b\b\b\b\b\b\b\b\b\b\b\b\b\b\b\b\b\b\b\b\b\b\b\b\b\b\b\b\b\b\b\b\b\b\b\b\b\b\b\r207/207 [==============================] - 61s 294ms/step - loss: 0.5376 - accuracy: 0.7805 - val_loss: 0.5910 - val_accuracy: 0.7766\n",
            "Epoch 18/30\n",
            "206/207 [============================>.] - ETA: 0s - loss: 0.5223 - accuracy: 0.7814"
          ]
        },
        {
          "output_type": "stream",
          "name": "stderr",
          "text": [
            "WARNING:absl:Found untraced functions such as lstm_cell_1_layer_call_fn, lstm_cell_1_layer_call_and_return_conditional_losses, lstm_cell_2_layer_call_fn, lstm_cell_2_layer_call_and_return_conditional_losses, lstm_cell_4_layer_call_fn while saving (showing 5 of 8). These functions will not be directly callable after loading.\n",
            "WARNING:absl:<keras.layers.recurrent.LSTMCell object at 0x7f823f1e20d0> has the same name 'LSTMCell' as a built-in Keras object. Consider renaming <class 'keras.layers.recurrent.LSTMCell'> to avoid naming conflicts when loading with `tf.keras.models.load_model`. If renaming is not possible, pass the object in the `custom_objects` parameter of the load function.\n",
            "WARNING:absl:<keras.layers.recurrent.LSTMCell object at 0x7f823c0828d0> has the same name 'LSTMCell' as a built-in Keras object. Consider renaming <class 'keras.layers.recurrent.LSTMCell'> to avoid naming conflicts when loading with `tf.keras.models.load_model`. If renaming is not possible, pass the object in the `custom_objects` parameter of the load function.\n",
            "WARNING:absl:<keras.layers.recurrent.LSTMCell object at 0x7f823a803310> has the same name 'LSTMCell' as a built-in Keras object. Consider renaming <class 'keras.layers.recurrent.LSTMCell'> to avoid naming conflicts when loading with `tf.keras.models.load_model`. If renaming is not possible, pass the object in the `custom_objects` parameter of the load function.\n",
            "WARNING:absl:<keras.layers.recurrent.LSTMCell object at 0x7f82390dd510> has the same name 'LSTMCell' as a built-in Keras object. Consider renaming <class 'keras.layers.recurrent.LSTMCell'> to avoid naming conflicts when loading with `tf.keras.models.load_model`. If renaming is not possible, pass the object in the `custom_objects` parameter of the load function.\n",
            "\u001b[34m\u001b[1mwandb\u001b[0m: Adding directory to artifact (/content/wandb/run-20220920_112054-14oravkz/files/model-best)... Done. 0.2s\n"
          ]
        },
        {
          "output_type": "stream",
          "name": "stdout",
          "text": [
            "\b\b\b\b\b\b\b\b\b\b\b\b\b\b\b\b\b\b\b\b\b\b\b\b\b\b\b\b\b\b\b\b\b\b\b\b\b\b\b\b\b\b\b\b\b\b\b\b\b\b\b\b\b\b\b\b\b\b\b\b\b\b\b\b\b\b\b\b\b\b\b\b\b\b\b\b\b\b\b\b\b\b\b\b\r207/207 [==============================] - 44s 215ms/step - loss: 0.5223 - accuracy: 0.7814 - val_loss: 0.5882 - val_accuracy: 0.7643\n",
            "Epoch 19/30\n",
            "207/207 [==============================] - 9s 43ms/step - loss: 0.5119 - accuracy: 0.7902 - val_loss: 0.5930 - val_accuracy: 0.7589\n",
            "Epoch 20/30\n",
            "207/207 [==============================] - 9s 41ms/step - loss: 0.5061 - accuracy: 0.7900 - val_loss: 0.6074 - val_accuracy: 0.7425\n",
            "Epoch 21/30\n",
            "207/207 [==============================] - 9s 42ms/step - loss: 0.4941 - accuracy: 0.7935 - val_loss: 0.5959 - val_accuracy: 0.7711\n",
            "Epoch 22/30\n",
            "207/207 [==============================] - ETA: 0s - loss: 0.4829 - accuracy: 0.7995"
          ]
        },
        {
          "output_type": "stream",
          "name": "stderr",
          "text": [
            "WARNING:absl:Found untraced functions such as lstm_cell_1_layer_call_fn, lstm_cell_1_layer_call_and_return_conditional_losses, lstm_cell_2_layer_call_fn, lstm_cell_2_layer_call_and_return_conditional_losses, lstm_cell_4_layer_call_fn while saving (showing 5 of 8). These functions will not be directly callable after loading.\n",
            "WARNING:absl:<keras.layers.recurrent.LSTMCell object at 0x7f823f1e20d0> has the same name 'LSTMCell' as a built-in Keras object. Consider renaming <class 'keras.layers.recurrent.LSTMCell'> to avoid naming conflicts when loading with `tf.keras.models.load_model`. If renaming is not possible, pass the object in the `custom_objects` parameter of the load function.\n",
            "WARNING:absl:<keras.layers.recurrent.LSTMCell object at 0x7f823c0828d0> has the same name 'LSTMCell' as a built-in Keras object. Consider renaming <class 'keras.layers.recurrent.LSTMCell'> to avoid naming conflicts when loading with `tf.keras.models.load_model`. If renaming is not possible, pass the object in the `custom_objects` parameter of the load function.\n",
            "WARNING:absl:<keras.layers.recurrent.LSTMCell object at 0x7f823a803310> has the same name 'LSTMCell' as a built-in Keras object. Consider renaming <class 'keras.layers.recurrent.LSTMCell'> to avoid naming conflicts when loading with `tf.keras.models.load_model`. If renaming is not possible, pass the object in the `custom_objects` parameter of the load function.\n",
            "WARNING:absl:<keras.layers.recurrent.LSTMCell object at 0x7f82390dd510> has the same name 'LSTMCell' as a built-in Keras object. Consider renaming <class 'keras.layers.recurrent.LSTMCell'> to avoid naming conflicts when loading with `tf.keras.models.load_model`. If renaming is not possible, pass the object in the `custom_objects` parameter of the load function.\n",
            "\u001b[34m\u001b[1mwandb\u001b[0m: Adding directory to artifact (/content/wandb/run-20220920_112054-14oravkz/files/model-best)... Done. 0.2s\n"
          ]
        },
        {
          "output_type": "stream",
          "name": "stdout",
          "text": [
            "\b\b\b\b\b\b\b\b\b\b\b\b\b\b\b\b\b\b\b\b\b\b\b\b\b\b\b\b\b\b\b\b\b\b\b\b\b\b\b\b\b\b\b\b\b\b\b\b\b\b\b\b\b\b\b\b\b\b\b\b\b\b\b\b\b\b\b\b\b\b\b\b\b\b\b\b\b\b\b\b\b\b\b\b\r207/207 [==============================] - 46s 223ms/step - loss: 0.4829 - accuracy: 0.7995 - val_loss: 0.5835 - val_accuracy: 0.7684\n",
            "Epoch 23/30\n",
            "207/207 [==============================] - 9s 44ms/step - loss: 0.4771 - accuracy: 0.8062 - val_loss: 0.5943 - val_accuracy: 0.7480\n",
            "Epoch 24/30\n",
            "207/207 [==============================] - 9s 42ms/step - loss: 0.4652 - accuracy: 0.8103 - val_loss: 0.6021 - val_accuracy: 0.7548\n",
            "Epoch 25/30\n",
            "207/207 [==============================] - 9s 41ms/step - loss: 0.4536 - accuracy: 0.8144 - val_loss: 0.6177 - val_accuracy: 0.7411\n",
            "Epoch 26/30\n",
            "207/207 [==============================] - 9s 42ms/step - loss: 0.4480 - accuracy: 0.8144 - val_loss: 0.6111 - val_accuracy: 0.7425\n",
            "Epoch 27/30\n",
            "207/207 [==============================] - 9s 42ms/step - loss: 0.4392 - accuracy: 0.8254 - val_loss: 0.6229 - val_accuracy: 0.7398\n",
            "Epoch 28/30\n",
            "207/207 [==============================] - 9s 42ms/step - loss: 0.4361 - accuracy: 0.8238 - val_loss: 0.6240 - val_accuracy: 0.7480\n",
            "Epoch 29/30\n",
            "207/207 [==============================] - 9s 42ms/step - loss: 0.4225 - accuracy: 0.8321 - val_loss: 0.6367 - val_accuracy: 0.7357\n",
            "Epoch 30/30\n",
            "207/207 [==============================] - 9s 42ms/step - loss: 0.4176 - accuracy: 0.8339 - val_loss: 0.6103 - val_accuracy: 0.7507\n"
          ]
        }
      ]
    },
    {
      "cell_type": "code",
      "source": [
        "public_test_path = '/content/drive/MyDrive/KERC2022/KERC22Dataset_PublicTest/public_test_data.tsv'\n",
        "public_test_data = pd.read_csv(public_test_path, sep='\\t')\n",
        "\n",
        "public_test_data['context'].fillna('결측', inplace=True)\n",
        "print(train_data.isnull().sum())\n",
        "\n",
        "public_test_data['person'].value_counts()\n",
        "public_test_data['scene'].value_counts()\n",
        "\n",
        "\n",
        "public_test_data['person'] = public_test_data['person'].astype('category')\n",
        "public_test_data['scene'] = public_test_data['scene'].astype('category')\n",
        "\n",
        "\n",
        "public_test_data['person']= public_test_data['person'].cat.codes\n",
        "public_test_data['scene']= public_test_data['scene'].cat.codes\n",
        "\n",
        "\n",
        "tok_test_sentences = []\n",
        "for test_sen in tqdm(public_test_data['sentence']):\n",
        "  tok_sen = mecab.morphs(test_sen)\n",
        "  tok_test_sentences.append(tok_sen)\n",
        "\n",
        "tok_test_contexts = []\n",
        "for test_con in tqdm(public_test_data['context']):\n",
        "  tok_con = mecab.morphs(test_con)\n",
        "  tok_test_contexts.append(tok_con)\n",
        "\n",
        "test_sentence, test_context = fit_and_seq(tok_test_sentences, tok_test_contexts, MAXLEN, PADDING, TRUNCATING, tokenizer)\n",
        "\n",
        "test_people = np.array(public_test_data['person'])\n",
        "test_scenes = np.array(public_test_data['scene'])\n",
        "\n",
        "print(test_people.shape, test_scenes.shape, test_sentence.shape, test_context.shape)\n"
      ],
      "metadata": {
        "colab": {
          "base_uri": "https://localhost:8080/"
        },
        "id": "XPVB4IH6tMFB",
        "outputId": "75028669-e4ff-4ff4-946e-0223793ae0a1"
      },
      "execution_count": 67,
      "outputs": [
        {
          "output_type": "stream",
          "name": "stdout",
          "text": [
            "sentence_id    0\n",
            "person         0\n",
            "sentence       0\n",
            "scene          0\n",
            "context        0\n",
            "label          0\n",
            "dtype: int64\n"
          ]
        },
        {
          "output_type": "stream",
          "name": "stderr",
          "text": [
            "100%|██████████| 2566/2566 [00:00<00:00, 4856.77it/s]\n",
            "100%|██████████| 2566/2566 [00:00<00:00, 6982.42it/s]\n"
          ]
        },
        {
          "output_type": "stream",
          "name": "stdout",
          "text": [
            "(2566,) (2566,) (2566, 30) (2566, 30)\n"
          ]
        }
      ]
    },
    {
      "cell_type": "code",
      "source": [
        "result = model.predict((test_people, test_scenes, test_sentence, test_context))\n",
        "predict = tf.argmax(result, axis=1)\n",
        "predict = np.array(predict)\n",
        "print(predict)\n",
        "print(len(predict))\n",
        "\n",
        "predict_s = []\n",
        "for i in range(len(predict)):\n",
        "  if predict[i]==0:\n",
        "    predict_s.append('dysphoria')\n",
        "  elif predict[i]==1:\n",
        "    predict_s.append('euphoria')\n",
        "  else:\n",
        "    predict_s.append('neutral')\n",
        "print(predict_s)\n",
        "print(len(predict_s))"
      ],
      "metadata": {
        "id": "r0BeMbZ32DUO",
        "colab": {
          "base_uri": "https://localhost:8080/"
        },
        "outputId": "7ab374d3-ea2e-45a6-d011-d80ec22b40eb"
      },
      "execution_count": 81,
      "outputs": [
        {
          "output_type": "stream",
          "name": "stdout",
          "text": [
            "[0 0 0 ... 2 0 2]\n",
            "2566\n",
            "['dysphoria', 'dysphoria', 'dysphoria', 'dysphoria', 'dysphoria', 'dysphoria', 'dysphoria', 'dysphoria', 'dysphoria', 'dysphoria', 'dysphoria', 'dysphoria', 'dysphoria', 'dysphoria', 'dysphoria', 'dysphoria', 'neutral', 'dysphoria', 'dysphoria', 'dysphoria', 'dysphoria', 'neutral', 'dysphoria', 'dysphoria', 'euphoria', 'euphoria', 'euphoria', 'neutral', 'dysphoria', 'dysphoria', 'dysphoria', 'dysphoria', 'dysphoria', 'dysphoria', 'euphoria', 'dysphoria', 'dysphoria', 'euphoria', 'dysphoria', 'dysphoria', 'dysphoria', 'euphoria', 'neutral', 'neutral', 'neutral', 'dysphoria', 'neutral', 'dysphoria', 'neutral', 'neutral', 'dysphoria', 'dysphoria', 'dysphoria', 'neutral', 'neutral', 'dysphoria', 'dysphoria', 'dysphoria', 'dysphoria', 'dysphoria', 'dysphoria', 'neutral', 'dysphoria', 'dysphoria', 'dysphoria', 'dysphoria', 'dysphoria', 'dysphoria', 'neutral', 'dysphoria', 'neutral', 'neutral', 'euphoria', 'dysphoria', 'euphoria', 'euphoria', 'neutral', 'neutral', 'euphoria', 'euphoria', 'neutral', 'dysphoria', 'neutral', 'euphoria', 'neutral', 'euphoria', 'euphoria', 'euphoria', 'neutral', 'euphoria', 'euphoria', 'euphoria', 'euphoria', 'euphoria', 'euphoria', 'euphoria', 'neutral', 'euphoria', 'euphoria', 'euphoria', 'neutral', 'euphoria', 'neutral', 'neutral', 'euphoria', 'euphoria', 'euphoria', 'euphoria', 'dysphoria', 'dysphoria', 'neutral', 'dysphoria', 'dysphoria', 'dysphoria', 'dysphoria', 'dysphoria', 'dysphoria', 'dysphoria', 'dysphoria', 'dysphoria', 'dysphoria', 'dysphoria', 'dysphoria', 'dysphoria', 'dysphoria', 'dysphoria', 'dysphoria', 'dysphoria', 'dysphoria', 'dysphoria', 'dysphoria', 'dysphoria', 'dysphoria', 'dysphoria', 'dysphoria', 'dysphoria', 'dysphoria', 'dysphoria', 'dysphoria', 'dysphoria', 'dysphoria', 'dysphoria', 'dysphoria', 'dysphoria', 'dysphoria', 'dysphoria', 'dysphoria', 'dysphoria', 'dysphoria', 'dysphoria', 'neutral', 'neutral', 'dysphoria', 'dysphoria', 'dysphoria', 'dysphoria', 'dysphoria', 'dysphoria', 'dysphoria', 'dysphoria', 'dysphoria', 'neutral', 'dysphoria', 'dysphoria', 'dysphoria', 'dysphoria', 'dysphoria', 'dysphoria', 'dysphoria', 'neutral', 'dysphoria', 'dysphoria', 'dysphoria', 'dysphoria', 'dysphoria', 'dysphoria', 'neutral', 'dysphoria', 'dysphoria', 'dysphoria', 'dysphoria', 'neutral', 'euphoria', 'neutral', 'euphoria', 'euphoria', 'euphoria', 'euphoria', 'dysphoria', 'neutral', 'neutral', 'neutral', 'euphoria', 'euphoria', 'euphoria', 'neutral', 'dysphoria', 'dysphoria', 'dysphoria', 'dysphoria', 'dysphoria', 'dysphoria', 'dysphoria', 'dysphoria', 'dysphoria', 'dysphoria', 'dysphoria', 'dysphoria', 'neutral', 'neutral', 'dysphoria', 'dysphoria', 'dysphoria', 'neutral', 'neutral', 'neutral', 'neutral', 'dysphoria', 'dysphoria', 'euphoria', 'dysphoria', 'neutral', 'neutral', 'neutral', 'dysphoria', 'dysphoria', 'dysphoria', 'euphoria', 'euphoria', 'euphoria', 'euphoria', 'neutral', 'euphoria', 'euphoria', 'euphoria', 'neutral', 'euphoria', 'euphoria', 'euphoria', 'neutral', 'euphoria', 'neutral', 'dysphoria', 'neutral', 'neutral', 'neutral', 'neutral', 'neutral', 'neutral', 'dysphoria', 'dysphoria', 'dysphoria', 'dysphoria', 'neutral', 'dysphoria', 'dysphoria', 'dysphoria', 'dysphoria', 'dysphoria', 'dysphoria', 'dysphoria', 'dysphoria', 'dysphoria', 'dysphoria', 'dysphoria', 'dysphoria', 'neutral', 'dysphoria', 'dysphoria', 'neutral', 'dysphoria', 'neutral', 'neutral', 'dysphoria', 'dysphoria', 'neutral', 'dysphoria', 'dysphoria', 'dysphoria', 'dysphoria', 'dysphoria', 'dysphoria', 'dysphoria', 'dysphoria', 'dysphoria', 'dysphoria', 'dysphoria', 'dysphoria', 'dysphoria', 'dysphoria', 'neutral', 'dysphoria', 'neutral', 'dysphoria', 'dysphoria', 'dysphoria', 'dysphoria', 'dysphoria', 'dysphoria', 'dysphoria', 'dysphoria', 'dysphoria', 'euphoria', 'euphoria', 'euphoria', 'euphoria', 'euphoria', 'euphoria', 'euphoria', 'neutral', 'euphoria', 'neutral', 'euphoria', 'euphoria', 'euphoria', 'neutral', 'neutral', 'euphoria', 'neutral', 'euphoria', 'euphoria', 'neutral', 'neutral', 'dysphoria', 'dysphoria', 'dysphoria', 'dysphoria', 'dysphoria', 'neutral', 'dysphoria', 'neutral', 'dysphoria', 'dysphoria', 'dysphoria', 'dysphoria', 'dysphoria', 'dysphoria', 'dysphoria', 'neutral', 'neutral', 'euphoria', 'euphoria', 'euphoria', 'neutral', 'euphoria', 'euphoria', 'euphoria', 'dysphoria', 'dysphoria', 'dysphoria', 'dysphoria', 'dysphoria', 'dysphoria', 'dysphoria', 'dysphoria', 'dysphoria', 'dysphoria', 'neutral', 'dysphoria', 'dysphoria', 'dysphoria', 'dysphoria', 'dysphoria', 'dysphoria', 'dysphoria', 'dysphoria', 'dysphoria', 'dysphoria', 'dysphoria', 'dysphoria', 'dysphoria', 'dysphoria', 'dysphoria', 'dysphoria', 'neutral', 'dysphoria', 'neutral', 'neutral', 'neutral', 'euphoria', 'euphoria', 'euphoria', 'neutral', 'neutral', 'euphoria', 'dysphoria', 'euphoria', 'euphoria', 'euphoria', 'euphoria', 'euphoria', 'euphoria', 'euphoria', 'euphoria', 'euphoria', 'euphoria', 'dysphoria', 'euphoria', 'euphoria', 'neutral', 'euphoria', 'euphoria', 'euphoria', 'dysphoria', 'dysphoria', 'dysphoria', 'dysphoria', 'dysphoria', 'dysphoria', 'dysphoria', 'dysphoria', 'dysphoria', 'neutral', 'euphoria', 'neutral', 'euphoria', 'neutral', 'euphoria', 'neutral', 'neutral', 'neutral', 'euphoria', 'euphoria', 'neutral', 'euphoria', 'euphoria', 'neutral', 'neutral', 'euphoria', 'neutral', 'neutral', 'neutral', 'neutral', 'neutral', 'euphoria', 'euphoria', 'euphoria', 'euphoria', 'euphoria', 'euphoria', 'euphoria', 'euphoria', 'dysphoria', 'euphoria', 'euphoria', 'euphoria', 'euphoria', 'euphoria', 'neutral', 'euphoria', 'euphoria', 'neutral', 'neutral', 'neutral', 'euphoria', 'neutral', 'euphoria', 'neutral', 'euphoria', 'euphoria', 'euphoria', 'neutral', 'dysphoria', 'dysphoria', 'dysphoria', 'dysphoria', 'dysphoria', 'dysphoria', 'dysphoria', 'dysphoria', 'dysphoria', 'dysphoria', 'dysphoria', 'dysphoria', 'dysphoria', 'dysphoria', 'dysphoria', 'dysphoria', 'dysphoria', 'dysphoria', 'dysphoria', 'dysphoria', 'dysphoria', 'dysphoria', 'dysphoria', 'dysphoria', 'dysphoria', 'dysphoria', 'dysphoria', 'dysphoria', 'dysphoria', 'dysphoria', 'dysphoria', 'dysphoria', 'dysphoria', 'dysphoria', 'dysphoria', 'dysphoria', 'dysphoria', 'dysphoria', 'dysphoria', 'dysphoria', 'dysphoria', 'dysphoria', 'euphoria', 'euphoria', 'euphoria', 'euphoria', 'euphoria', 'euphoria', 'euphoria', 'euphoria', 'euphoria', 'euphoria', 'euphoria', 'neutral', 'dysphoria', 'dysphoria', 'dysphoria', 'dysphoria', 'dysphoria', 'dysphoria', 'dysphoria', 'dysphoria', 'dysphoria', 'dysphoria', 'neutral', 'dysphoria', 'euphoria', 'euphoria', 'euphoria', 'neutral', 'neutral', 'neutral', 'neutral', 'neutral', 'euphoria', 'dysphoria', 'dysphoria', 'dysphoria', 'dysphoria', 'dysphoria', 'dysphoria', 'dysphoria', 'dysphoria', 'dysphoria', 'dysphoria', 'dysphoria', 'dysphoria', 'dysphoria', 'dysphoria', 'dysphoria', 'neutral', 'dysphoria', 'neutral', 'dysphoria', 'neutral', 'dysphoria', 'dysphoria', 'dysphoria', 'dysphoria', 'dysphoria', 'dysphoria', 'neutral', 'neutral', 'neutral', 'dysphoria', 'neutral', 'neutral', 'neutral', 'dysphoria', 'neutral', 'neutral', 'euphoria', 'neutral', 'euphoria', 'neutral', 'euphoria', 'dysphoria', 'euphoria', 'euphoria', 'euphoria', 'euphoria', 'euphoria', 'neutral', 'euphoria', 'euphoria', 'euphoria', 'euphoria', 'euphoria', 'neutral', 'euphoria', 'euphoria', 'euphoria', 'dysphoria', 'dysphoria', 'dysphoria', 'dysphoria', 'dysphoria', 'dysphoria', 'dysphoria', 'dysphoria', 'dysphoria', 'dysphoria', 'dysphoria', 'dysphoria', 'euphoria', 'euphoria', 'euphoria', 'euphoria', 'dysphoria', 'neutral', 'euphoria', 'euphoria', 'neutral', 'dysphoria', 'dysphoria', 'dysphoria', 'dysphoria', 'dysphoria', 'dysphoria', 'dysphoria', 'dysphoria', 'dysphoria', 'dysphoria', 'dysphoria', 'dysphoria', 'dysphoria', 'dysphoria', 'dysphoria', 'euphoria', 'dysphoria', 'dysphoria', 'dysphoria', 'dysphoria', 'dysphoria', 'dysphoria', 'dysphoria', 'dysphoria', 'dysphoria', 'dysphoria', 'dysphoria', 'dysphoria', 'neutral', 'euphoria', 'euphoria', 'euphoria', 'euphoria', 'neutral', 'euphoria', 'dysphoria', 'dysphoria', 'dysphoria', 'dysphoria', 'dysphoria', 'dysphoria', 'dysphoria', 'dysphoria', 'dysphoria', 'dysphoria', 'dysphoria', 'dysphoria', 'dysphoria', 'dysphoria', 'euphoria', 'dysphoria', 'dysphoria', 'dysphoria', 'dysphoria', 'dysphoria', 'dysphoria', 'dysphoria', 'dysphoria', 'dysphoria', 'dysphoria', 'dysphoria', 'dysphoria', 'dysphoria', 'euphoria', 'euphoria', 'euphoria', 'neutral', 'dysphoria', 'dysphoria', 'dysphoria', 'dysphoria', 'dysphoria', 'dysphoria', 'dysphoria', 'neutral', 'neutral', 'dysphoria', 'neutral', 'dysphoria', 'neutral', 'dysphoria', 'neutral', 'euphoria', 'euphoria', 'dysphoria', 'dysphoria', 'dysphoria', 'dysphoria', 'neutral', 'neutral', 'dysphoria', 'neutral', 'neutral', 'dysphoria', 'dysphoria', 'dysphoria', 'dysphoria', 'euphoria', 'euphoria', 'euphoria', 'euphoria', 'euphoria', 'euphoria', 'dysphoria', 'euphoria', 'dysphoria', 'euphoria', 'euphoria', 'euphoria', 'neutral', 'neutral', 'euphoria', 'euphoria', 'euphoria', 'euphoria', 'euphoria', 'neutral', 'dysphoria', 'euphoria', 'neutral', 'dysphoria', 'euphoria', 'dysphoria', 'dysphoria', 'neutral', 'euphoria', 'dysphoria', 'dysphoria', 'dysphoria', 'dysphoria', 'dysphoria', 'dysphoria', 'dysphoria', 'dysphoria', 'dysphoria', 'dysphoria', 'dysphoria', 'dysphoria', 'dysphoria', 'dysphoria', 'dysphoria', 'dysphoria', 'dysphoria', 'dysphoria', 'dysphoria', 'dysphoria', 'dysphoria', 'dysphoria', 'dysphoria', 'dysphoria', 'dysphoria', 'dysphoria', 'dysphoria', 'dysphoria', 'neutral', 'dysphoria', 'euphoria', 'euphoria', 'dysphoria', 'dysphoria', 'dysphoria', 'dysphoria', 'dysphoria', 'neutral', 'dysphoria', 'dysphoria', 'dysphoria', 'dysphoria', 'neutral', 'euphoria', 'neutral', 'dysphoria', 'dysphoria', 'dysphoria', 'dysphoria', 'dysphoria', 'dysphoria', 'dysphoria', 'dysphoria', 'dysphoria', 'dysphoria', 'dysphoria', 'dysphoria', 'dysphoria', 'dysphoria', 'dysphoria', 'dysphoria', 'dysphoria', 'dysphoria', 'dysphoria', 'dysphoria', 'dysphoria', 'dysphoria', 'dysphoria', 'dysphoria', 'dysphoria', 'dysphoria', 'dysphoria', 'dysphoria', 'dysphoria', 'dysphoria', 'neutral', 'euphoria', 'dysphoria', 'euphoria', 'euphoria', 'dysphoria', 'euphoria', 'neutral', 'dysphoria', 'euphoria', 'euphoria', 'euphoria', 'euphoria', 'dysphoria', 'dysphoria', 'dysphoria', 'dysphoria', 'dysphoria', 'dysphoria', 'dysphoria', 'dysphoria', 'dysphoria', 'dysphoria', 'dysphoria', 'dysphoria', 'dysphoria', 'dysphoria', 'neutral', 'euphoria', 'neutral', 'dysphoria', 'dysphoria', 'dysphoria', 'dysphoria', 'dysphoria', 'dysphoria', 'dysphoria', 'dysphoria', 'dysphoria', 'dysphoria', 'dysphoria', 'dysphoria', 'dysphoria', 'dysphoria', 'dysphoria', 'dysphoria', 'dysphoria', 'dysphoria', 'dysphoria', 'dysphoria', 'dysphoria', 'dysphoria', 'dysphoria', 'dysphoria', 'dysphoria', 'dysphoria', 'dysphoria', 'dysphoria', 'dysphoria', 'dysphoria', 'dysphoria', 'dysphoria', 'euphoria', 'euphoria', 'euphoria', 'euphoria', 'euphoria', 'dysphoria', 'dysphoria', 'neutral', 'dysphoria', 'dysphoria', 'dysphoria', 'euphoria', 'dysphoria', 'dysphoria', 'dysphoria', 'dysphoria', 'dysphoria', 'dysphoria', 'dysphoria', 'dysphoria', 'dysphoria', 'dysphoria', 'dysphoria', 'neutral', 'neutral', 'dysphoria', 'neutral', 'dysphoria', 'dysphoria', 'euphoria', 'dysphoria', 'neutral', 'dysphoria', 'dysphoria', 'dysphoria', 'dysphoria', 'dysphoria', 'dysphoria', 'dysphoria', 'dysphoria', 'dysphoria', 'dysphoria', 'dysphoria', 'dysphoria', 'dysphoria', 'dysphoria', 'dysphoria', 'dysphoria', 'dysphoria', 'dysphoria', 'dysphoria', 'dysphoria', 'dysphoria', 'dysphoria', 'dysphoria', 'dysphoria', 'dysphoria', 'dysphoria', 'euphoria', 'euphoria', 'euphoria', 'euphoria', 'euphoria', 'euphoria', 'euphoria', 'euphoria', 'neutral', 'euphoria', 'euphoria', 'euphoria', 'dysphoria', 'dysphoria', 'dysphoria', 'dysphoria', 'dysphoria', 'dysphoria', 'dysphoria', 'neutral', 'dysphoria', 'dysphoria', 'dysphoria', 'dysphoria', 'dysphoria', 'dysphoria', 'dysphoria', 'dysphoria', 'dysphoria', 'dysphoria', 'dysphoria', 'dysphoria', 'dysphoria', 'dysphoria', 'dysphoria', 'dysphoria', 'dysphoria', 'dysphoria', 'dysphoria', 'neutral', 'dysphoria', 'dysphoria', 'dysphoria', 'dysphoria', 'dysphoria', 'dysphoria', 'dysphoria', 'dysphoria', 'dysphoria', 'euphoria', 'neutral', 'euphoria', 'dysphoria', 'dysphoria', 'dysphoria', 'dysphoria', 'dysphoria', 'euphoria', 'neutral', 'euphoria', 'euphoria', 'euphoria', 'neutral', 'euphoria', 'euphoria', 'euphoria', 'dysphoria', 'dysphoria', 'dysphoria', 'dysphoria', 'dysphoria', 'dysphoria', 'dysphoria', 'dysphoria', 'dysphoria', 'dysphoria', 'dysphoria', 'dysphoria', 'dysphoria', 'dysphoria', 'dysphoria', 'dysphoria', 'dysphoria', 'dysphoria', 'neutral', 'dysphoria', 'dysphoria', 'dysphoria', 'dysphoria', 'dysphoria', 'dysphoria', 'dysphoria', 'dysphoria', 'dysphoria', 'dysphoria', 'dysphoria', 'dysphoria', 'dysphoria', 'dysphoria', 'dysphoria', 'dysphoria', 'dysphoria', 'neutral', 'dysphoria', 'dysphoria', 'neutral', 'euphoria', 'dysphoria', 'euphoria', 'dysphoria', 'euphoria', 'dysphoria', 'euphoria', 'dysphoria', 'euphoria', 'dysphoria', 'dysphoria', 'dysphoria', 'dysphoria', 'dysphoria', 'dysphoria', 'dysphoria', 'dysphoria', 'dysphoria', 'dysphoria', 'dysphoria', 'dysphoria', 'dysphoria', 'dysphoria', 'dysphoria', 'dysphoria', 'dysphoria', 'dysphoria', 'dysphoria', 'euphoria', 'neutral', 'euphoria', 'dysphoria', 'dysphoria', 'dysphoria', 'dysphoria', 'dysphoria', 'dysphoria', 'euphoria', 'euphoria', 'dysphoria', 'dysphoria', 'dysphoria', 'neutral', 'neutral', 'dysphoria', 'dysphoria', 'neutral', 'dysphoria', 'neutral', 'euphoria', 'dysphoria', 'dysphoria', 'dysphoria', 'dysphoria', 'dysphoria', 'euphoria', 'euphoria', 'dysphoria', 'dysphoria', 'dysphoria', 'euphoria', 'euphoria', 'euphoria', 'euphoria', 'euphoria', 'euphoria', 'euphoria', 'euphoria', 'euphoria', 'euphoria', 'euphoria', 'euphoria', 'euphoria', 'euphoria', 'euphoria', 'euphoria', 'neutral', 'dysphoria', 'euphoria', 'dysphoria', 'euphoria', 'neutral', 'euphoria', 'euphoria', 'euphoria', 'neutral', 'dysphoria', 'dysphoria', 'dysphoria', 'dysphoria', 'dysphoria', 'dysphoria', 'dysphoria', 'dysphoria', 'dysphoria', 'dysphoria', 'dysphoria', 'euphoria', 'euphoria', 'euphoria', 'euphoria', 'dysphoria', 'euphoria', 'euphoria', 'euphoria', 'euphoria', 'euphoria', 'dysphoria', 'euphoria', 'euphoria', 'euphoria', 'euphoria', 'euphoria', 'euphoria', 'euphoria', 'dysphoria', 'dysphoria', 'dysphoria', 'dysphoria', 'dysphoria', 'dysphoria', 'dysphoria', 'dysphoria', 'dysphoria', 'dysphoria', 'dysphoria', 'dysphoria', 'dysphoria', 'dysphoria', 'dysphoria', 'dysphoria', 'dysphoria', 'dysphoria', 'dysphoria', 'neutral', 'euphoria', 'dysphoria', 'euphoria', 'dysphoria', 'dysphoria', 'dysphoria', 'dysphoria', 'dysphoria', 'dysphoria', 'euphoria', 'dysphoria', 'dysphoria', 'dysphoria', 'dysphoria', 'dysphoria', 'dysphoria', 'dysphoria', 'dysphoria', 'euphoria', 'euphoria', 'dysphoria', 'dysphoria', 'dysphoria', 'dysphoria', 'dysphoria', 'dysphoria', 'dysphoria', 'dysphoria', 'dysphoria', 'dysphoria', 'neutral', 'dysphoria', 'dysphoria', 'dysphoria', 'dysphoria', 'dysphoria', 'dysphoria', 'euphoria', 'neutral', 'dysphoria', 'neutral', 'neutral', 'euphoria', 'euphoria', 'euphoria', 'euphoria', 'euphoria', 'euphoria', 'euphoria', 'dysphoria', 'dysphoria', 'dysphoria', 'dysphoria', 'dysphoria', 'dysphoria', 'dysphoria', 'dysphoria', 'dysphoria', 'dysphoria', 'dysphoria', 'dysphoria', 'dysphoria', 'dysphoria', 'dysphoria', 'euphoria', 'euphoria', 'euphoria', 'euphoria', 'euphoria', 'euphoria', 'neutral', 'neutral', 'euphoria', 'neutral', 'euphoria', 'dysphoria', 'dysphoria', 'dysphoria', 'dysphoria', 'dysphoria', 'dysphoria', 'dysphoria', 'dysphoria', 'dysphoria', 'dysphoria', 'dysphoria', 'dysphoria', 'dysphoria', 'dysphoria', 'dysphoria', 'dysphoria', 'dysphoria', 'dysphoria', 'dysphoria', 'dysphoria', 'dysphoria', 'dysphoria', 'dysphoria', 'dysphoria', 'dysphoria', 'dysphoria', 'dysphoria', 'dysphoria', 'dysphoria', 'dysphoria', 'dysphoria', 'dysphoria', 'dysphoria', 'dysphoria', 'dysphoria', 'dysphoria', 'dysphoria', 'dysphoria', 'neutral', 'neutral', 'dysphoria', 'dysphoria', 'euphoria', 'neutral', 'euphoria', 'euphoria', 'euphoria', 'euphoria', 'euphoria', 'euphoria', 'euphoria', 'euphoria', 'euphoria', 'euphoria', 'euphoria', 'euphoria', 'euphoria', 'euphoria', 'neutral', 'dysphoria', 'dysphoria', 'dysphoria', 'dysphoria', 'dysphoria', 'neutral', 'dysphoria', 'dysphoria', 'neutral', 'dysphoria', 'dysphoria', 'dysphoria', 'dysphoria', 'neutral', 'dysphoria', 'neutral', 'dysphoria', 'dysphoria', 'neutral', 'dysphoria', 'dysphoria', 'dysphoria', 'dysphoria', 'dysphoria', 'dysphoria', 'dysphoria', 'dysphoria', 'dysphoria', 'dysphoria', 'dysphoria', 'dysphoria', 'dysphoria', 'dysphoria', 'dysphoria', 'neutral', 'neutral', 'dysphoria', 'dysphoria', 'dysphoria', 'dysphoria', 'dysphoria', 'dysphoria', 'dysphoria', 'neutral', 'euphoria', 'euphoria', 'neutral', 'euphoria', 'euphoria', 'euphoria', 'euphoria', 'euphoria', 'dysphoria', 'dysphoria', 'dysphoria', 'dysphoria', 'dysphoria', 'dysphoria', 'dysphoria', 'dysphoria', 'dysphoria', 'neutral', 'euphoria', 'dysphoria', 'neutral', 'dysphoria', 'euphoria', 'dysphoria', 'dysphoria', 'neutral', 'dysphoria', 'dysphoria', 'neutral', 'dysphoria', 'euphoria', 'euphoria', 'dysphoria', 'euphoria', 'dysphoria', 'euphoria', 'euphoria', 'euphoria', 'dysphoria', 'dysphoria', 'dysphoria', 'dysphoria', 'dysphoria', 'dysphoria', 'dysphoria', 'dysphoria', 'dysphoria', 'dysphoria', 'dysphoria', 'dysphoria', 'dysphoria', 'dysphoria', 'dysphoria', 'dysphoria', 'dysphoria', 'dysphoria', 'dysphoria', 'dysphoria', 'dysphoria', 'dysphoria', 'dysphoria', 'dysphoria', 'dysphoria', 'neutral', 'dysphoria', 'dysphoria', 'dysphoria', 'neutral', 'dysphoria', 'dysphoria', 'dysphoria', 'neutral', 'neutral', 'dysphoria', 'dysphoria', 'dysphoria', 'dysphoria', 'neutral', 'dysphoria', 'dysphoria', 'dysphoria', 'dysphoria', 'dysphoria', 'dysphoria', 'dysphoria', 'dysphoria', 'dysphoria', 'dysphoria', 'dysphoria', 'dysphoria', 'dysphoria', 'dysphoria', 'dysphoria', 'dysphoria', 'dysphoria', 'dysphoria', 'dysphoria', 'dysphoria', 'dysphoria', 'dysphoria', 'dysphoria', 'dysphoria', 'dysphoria', 'dysphoria', 'dysphoria', 'dysphoria', 'dysphoria', 'dysphoria', 'dysphoria', 'dysphoria', 'dysphoria', 'dysphoria', 'dysphoria', 'dysphoria', 'dysphoria', 'euphoria', 'dysphoria', 'dysphoria', 'dysphoria', 'dysphoria', 'dysphoria', 'dysphoria', 'dysphoria', 'dysphoria', 'dysphoria', 'dysphoria', 'dysphoria', 'dysphoria', 'dysphoria', 'dysphoria', 'dysphoria', 'dysphoria', 'dysphoria', 'dysphoria', 'dysphoria', 'dysphoria', 'dysphoria', 'dysphoria', 'dysphoria', 'dysphoria', 'dysphoria', 'dysphoria', 'dysphoria', 'dysphoria', 'dysphoria', 'dysphoria', 'euphoria', 'dysphoria', 'dysphoria', 'dysphoria', 'dysphoria', 'dysphoria', 'dysphoria', 'dysphoria', 'dysphoria', 'dysphoria', 'dysphoria', 'dysphoria', 'dysphoria', 'dysphoria', 'dysphoria', 'dysphoria', 'dysphoria', 'dysphoria', 'dysphoria', 'dysphoria', 'dysphoria', 'dysphoria', 'dysphoria', 'dysphoria', 'dysphoria', 'dysphoria', 'dysphoria', 'dysphoria', 'dysphoria', 'dysphoria', 'dysphoria', 'dysphoria', 'dysphoria', 'dysphoria', 'euphoria', 'neutral', 'euphoria', 'euphoria', 'euphoria', 'euphoria', 'dysphoria', 'dysphoria', 'dysphoria', 'dysphoria', 'dysphoria', 'dysphoria', 'dysphoria', 'dysphoria', 'dysphoria', 'dysphoria', 'dysphoria', 'neutral', 'dysphoria', 'dysphoria', 'dysphoria', 'dysphoria', 'dysphoria', 'dysphoria', 'dysphoria', 'dysphoria', 'dysphoria', 'dysphoria', 'dysphoria', 'dysphoria', 'dysphoria', 'dysphoria', 'dysphoria', 'dysphoria', 'dysphoria', 'dysphoria', 'dysphoria', 'dysphoria', 'dysphoria', 'dysphoria', 'dysphoria', 'dysphoria', 'dysphoria', 'dysphoria', 'dysphoria', 'dysphoria', 'dysphoria', 'dysphoria', 'euphoria', 'euphoria', 'euphoria', 'dysphoria', 'euphoria', 'dysphoria', 'euphoria', 'euphoria', 'euphoria', 'euphoria', 'dysphoria', 'dysphoria', 'dysphoria', 'dysphoria', 'dysphoria', 'dysphoria', 'dysphoria', 'dysphoria', 'dysphoria', 'dysphoria', 'dysphoria', 'dysphoria', 'dysphoria', 'dysphoria', 'dysphoria', 'dysphoria', 'dysphoria', 'dysphoria', 'dysphoria', 'dysphoria', 'dysphoria', 'dysphoria', 'dysphoria', 'dysphoria', 'dysphoria', 'dysphoria', 'dysphoria', 'dysphoria', 'dysphoria', 'dysphoria', 'euphoria', 'neutral', 'euphoria', 'euphoria', 'dysphoria', 'euphoria', 'euphoria', 'neutral', 'euphoria', 'dysphoria', 'dysphoria', 'dysphoria', 'dysphoria', 'dysphoria', 'dysphoria', 'dysphoria', 'dysphoria', 'dysphoria', 'dysphoria', 'dysphoria', 'neutral', 'neutral', 'dysphoria', 'euphoria', 'neutral', 'dysphoria', 'dysphoria', 'neutral', 'neutral', 'neutral', 'dysphoria', 'euphoria', 'euphoria', 'euphoria', 'euphoria', 'euphoria', 'euphoria', 'euphoria', 'euphoria', 'euphoria', 'euphoria', 'euphoria', 'neutral', 'dysphoria', 'euphoria', 'euphoria', 'dysphoria', 'dysphoria', 'dysphoria', 'dysphoria', 'neutral', 'dysphoria', 'dysphoria', 'dysphoria', 'dysphoria', 'dysphoria', 'dysphoria', 'dysphoria', 'dysphoria', 'dysphoria', 'dysphoria', 'dysphoria', 'dysphoria', 'dysphoria', 'dysphoria', 'dysphoria', 'dysphoria', 'neutral', 'neutral', 'euphoria', 'dysphoria', 'dysphoria', 'dysphoria', 'dysphoria', 'dysphoria', 'dysphoria', 'dysphoria', 'dysphoria', 'dysphoria', 'dysphoria', 'dysphoria', 'dysphoria', 'dysphoria', 'dysphoria', 'dysphoria', 'dysphoria', 'dysphoria', 'dysphoria', 'euphoria', 'dysphoria', 'dysphoria', 'dysphoria', 'dysphoria', 'dysphoria', 'dysphoria', 'dysphoria', 'dysphoria', 'dysphoria', 'neutral', 'dysphoria', 'dysphoria', 'dysphoria', 'dysphoria', 'dysphoria', 'dysphoria', 'dysphoria', 'dysphoria', 'dysphoria', 'dysphoria', 'dysphoria', 'dysphoria', 'dysphoria', 'dysphoria', 'dysphoria', 'dysphoria', 'dysphoria', 'euphoria', 'euphoria', 'euphoria', 'euphoria', 'euphoria', 'euphoria', 'euphoria', 'euphoria', 'neutral', 'euphoria', 'euphoria', 'dysphoria', 'dysphoria', 'dysphoria', 'dysphoria', 'dysphoria', 'dysphoria', 'neutral', 'dysphoria', 'euphoria', 'dysphoria', 'dysphoria', 'dysphoria', 'dysphoria', 'dysphoria', 'dysphoria', 'dysphoria', 'dysphoria', 'dysphoria', 'dysphoria', 'dysphoria', 'dysphoria', 'dysphoria', 'dysphoria', 'dysphoria', 'dysphoria', 'dysphoria', 'dysphoria', 'dysphoria', 'dysphoria', 'dysphoria', 'dysphoria', 'dysphoria', 'neutral', 'dysphoria', 'dysphoria', 'dysphoria', 'dysphoria', 'euphoria', 'euphoria', 'euphoria', 'euphoria', 'euphoria', 'euphoria', 'euphoria', 'euphoria', 'euphoria', 'euphoria', 'euphoria', 'euphoria', 'euphoria', 'euphoria', 'euphoria', 'euphoria', 'euphoria', 'euphoria', 'euphoria', 'euphoria', 'euphoria', 'euphoria', 'euphoria', 'euphoria', 'euphoria', 'euphoria', 'euphoria', 'euphoria', 'euphoria', 'euphoria', 'euphoria', 'euphoria', 'euphoria', 'euphoria', 'euphoria', 'euphoria', 'euphoria', 'euphoria', 'euphoria', 'euphoria', 'dysphoria', 'dysphoria', 'dysphoria', 'dysphoria', 'dysphoria', 'dysphoria', 'dysphoria', 'dysphoria', 'dysphoria', 'dysphoria', 'dysphoria', 'dysphoria', 'dysphoria', 'dysphoria', 'dysphoria', 'dysphoria', 'dysphoria', 'dysphoria', 'dysphoria', 'dysphoria', 'dysphoria', 'dysphoria', 'dysphoria', 'dysphoria', 'dysphoria', 'dysphoria', 'dysphoria', 'dysphoria', 'neutral', 'euphoria', 'euphoria', 'euphoria', 'euphoria', 'neutral', 'euphoria', 'dysphoria', 'dysphoria', 'dysphoria', 'dysphoria', 'dysphoria', 'dysphoria', 'dysphoria', 'dysphoria', 'dysphoria', 'dysphoria', 'dysphoria', 'dysphoria', 'dysphoria', 'neutral', 'dysphoria', 'dysphoria', 'dysphoria', 'neutral', 'dysphoria', 'dysphoria', 'dysphoria', 'dysphoria', 'dysphoria', 'neutral', 'dysphoria', 'dysphoria', 'dysphoria', 'dysphoria', 'dysphoria', 'dysphoria', 'dysphoria', 'dysphoria', 'dysphoria', 'dysphoria', 'dysphoria', 'dysphoria', 'dysphoria', 'dysphoria', 'dysphoria', 'dysphoria', 'dysphoria', 'dysphoria', 'dysphoria', 'dysphoria', 'dysphoria', 'dysphoria', 'dysphoria', 'dysphoria', 'dysphoria', 'dysphoria', 'dysphoria', 'euphoria', 'neutral', 'euphoria', 'dysphoria', 'dysphoria', 'dysphoria', 'dysphoria', 'dysphoria', 'neutral', 'dysphoria', 'dysphoria', 'dysphoria', 'dysphoria', 'dysphoria', 'dysphoria', 'dysphoria', 'dysphoria', 'dysphoria', 'dysphoria', 'dysphoria', 'dysphoria', 'neutral', 'neutral', 'euphoria', 'dysphoria', 'dysphoria', 'dysphoria', 'dysphoria', 'dysphoria', 'dysphoria', 'dysphoria', 'dysphoria', 'dysphoria', 'dysphoria', 'dysphoria', 'dysphoria', 'dysphoria', 'dysphoria', 'neutral', 'neutral', 'dysphoria', 'euphoria', 'dysphoria', 'euphoria', 'euphoria', 'euphoria', 'euphoria', 'dysphoria', 'dysphoria', 'dysphoria', 'neutral', 'dysphoria', 'dysphoria', 'dysphoria', 'dysphoria', 'dysphoria', 'dysphoria', 'euphoria', 'dysphoria', 'euphoria', 'neutral', 'euphoria', 'neutral', 'dysphoria', 'euphoria', 'dysphoria', 'dysphoria', 'dysphoria', 'dysphoria', 'dysphoria', 'dysphoria', 'dysphoria', 'dysphoria', 'neutral', 'euphoria', 'neutral', 'euphoria', 'euphoria', 'euphoria', 'euphoria', 'euphoria', 'euphoria', 'euphoria', 'euphoria', 'euphoria', 'euphoria', 'dysphoria', 'dysphoria', 'dysphoria', 'dysphoria', 'dysphoria', 'euphoria', 'euphoria', 'euphoria', 'euphoria', 'euphoria', 'euphoria', 'euphoria', 'euphoria', 'dysphoria', 'dysphoria', 'dysphoria', 'dysphoria', 'dysphoria', 'dysphoria', 'dysphoria', 'dysphoria', 'dysphoria', 'dysphoria', 'dysphoria', 'dysphoria', 'dysphoria', 'dysphoria', 'dysphoria', 'dysphoria', 'dysphoria', 'dysphoria', 'dysphoria', 'dysphoria', 'dysphoria', 'dysphoria', 'dysphoria', 'dysphoria', 'euphoria', 'euphoria', 'euphoria', 'euphoria', 'euphoria', 'euphoria', 'euphoria', 'euphoria', 'euphoria', 'euphoria', 'neutral', 'euphoria', 'euphoria', 'euphoria', 'euphoria', 'euphoria', 'euphoria', 'euphoria', 'neutral', 'neutral', 'euphoria', 'euphoria', 'euphoria', 'euphoria', 'euphoria', 'euphoria', 'euphoria', 'euphoria', 'euphoria', 'euphoria', 'euphoria', 'euphoria', 'euphoria', 'euphoria', 'euphoria', 'dysphoria', 'neutral', 'neutral', 'dysphoria', 'dysphoria', 'dysphoria', 'dysphoria', 'neutral', 'dysphoria', 'dysphoria', 'dysphoria', 'dysphoria', 'dysphoria', 'dysphoria', 'dysphoria', 'dysphoria', 'dysphoria', 'euphoria', 'dysphoria', 'dysphoria', 'dysphoria', 'dysphoria', 'dysphoria', 'dysphoria', 'dysphoria', 'dysphoria', 'dysphoria', 'euphoria', 'euphoria', 'euphoria', 'euphoria', 'euphoria', 'euphoria', 'euphoria', 'euphoria', 'euphoria', 'euphoria', 'euphoria', 'euphoria', 'euphoria', 'euphoria', 'euphoria', 'dysphoria', 'dysphoria', 'dysphoria', 'dysphoria', 'dysphoria', 'euphoria', 'neutral', 'euphoria', 'euphoria', 'euphoria', 'euphoria', 'euphoria', 'dysphoria', 'dysphoria', 'dysphoria', 'dysphoria', 'dysphoria', 'dysphoria', 'dysphoria', 'dysphoria', 'dysphoria', 'dysphoria', 'dysphoria', 'dysphoria', 'dysphoria', 'dysphoria', 'dysphoria', 'dysphoria', 'dysphoria', 'dysphoria', 'dysphoria', 'dysphoria', 'dysphoria', 'dysphoria', 'dysphoria', 'dysphoria', 'dysphoria', 'dysphoria', 'dysphoria', 'euphoria', 'euphoria', 'euphoria', 'dysphoria', 'euphoria', 'neutral', 'euphoria', 'euphoria', 'dysphoria', 'neutral', 'dysphoria', 'dysphoria', 'dysphoria', 'dysphoria', 'dysphoria', 'dysphoria', 'dysphoria', 'dysphoria', 'dysphoria', 'dysphoria', 'dysphoria', 'dysphoria', 'dysphoria', 'dysphoria', 'dysphoria', 'dysphoria', 'dysphoria', 'dysphoria', 'dysphoria', 'dysphoria', 'dysphoria', 'dysphoria', 'euphoria', 'euphoria', 'euphoria', 'euphoria', 'euphoria', 'euphoria', 'euphoria', 'euphoria', 'euphoria', 'euphoria', 'euphoria', 'neutral', 'euphoria', 'euphoria', 'dysphoria', 'dysphoria', 'euphoria', 'dysphoria', 'dysphoria', 'dysphoria', 'dysphoria', 'dysphoria', 'dysphoria', 'dysphoria', 'dysphoria', 'dysphoria', 'dysphoria', 'dysphoria', 'dysphoria', 'dysphoria', 'dysphoria', 'dysphoria', 'dysphoria', 'dysphoria', 'dysphoria', 'dysphoria', 'dysphoria', 'euphoria', 'dysphoria', 'neutral', 'dysphoria', 'dysphoria', 'dysphoria', 'dysphoria', 'dysphoria', 'dysphoria', 'dysphoria', 'dysphoria', 'dysphoria', 'dysphoria', 'dysphoria', 'neutral', 'dysphoria', 'dysphoria', 'dysphoria', 'dysphoria', 'dysphoria', 'neutral', 'dysphoria', 'dysphoria', 'dysphoria', 'dysphoria', 'dysphoria', 'dysphoria', 'euphoria', 'euphoria', 'dysphoria', 'euphoria', 'euphoria', 'euphoria', 'euphoria', 'euphoria', 'euphoria', 'euphoria', 'euphoria', 'euphoria', 'euphoria', 'dysphoria', 'dysphoria', 'dysphoria', 'dysphoria', 'dysphoria', 'dysphoria', 'dysphoria', 'euphoria', 'euphoria', 'neutral', 'euphoria', 'dysphoria', 'dysphoria', 'euphoria', 'euphoria', 'euphoria', 'dysphoria', 'dysphoria', 'euphoria', 'euphoria', 'euphoria', 'dysphoria', 'dysphoria', 'dysphoria', 'dysphoria', 'dysphoria', 'euphoria', 'euphoria', 'dysphoria', 'dysphoria', 'dysphoria', 'dysphoria', 'dysphoria', 'dysphoria', 'dysphoria', 'dysphoria', 'dysphoria', 'dysphoria', 'dysphoria', 'dysphoria', 'dysphoria', 'dysphoria', 'dysphoria', 'dysphoria', 'euphoria', 'dysphoria', 'dysphoria', 'dysphoria', 'dysphoria', 'dysphoria', 'dysphoria', 'neutral', 'dysphoria', 'dysphoria', 'euphoria', 'dysphoria', 'dysphoria', 'dysphoria', 'dysphoria', 'dysphoria', 'dysphoria', 'dysphoria', 'dysphoria', 'dysphoria', 'euphoria', 'euphoria', 'euphoria', 'euphoria', 'euphoria', 'euphoria', 'euphoria', 'euphoria', 'dysphoria', 'dysphoria', 'dysphoria', 'dysphoria', 'euphoria', 'neutral', 'dysphoria', 'dysphoria', 'dysphoria', 'euphoria', 'dysphoria', 'euphoria', 'dysphoria', 'dysphoria', 'dysphoria', 'dysphoria', 'dysphoria', 'dysphoria', 'dysphoria', 'dysphoria', 'dysphoria', 'dysphoria', 'dysphoria', 'dysphoria', 'dysphoria', 'dysphoria', 'euphoria', 'euphoria', 'euphoria', 'dysphoria', 'dysphoria', 'dysphoria', 'dysphoria', 'dysphoria', 'dysphoria', 'dysphoria', 'dysphoria', 'dysphoria', 'dysphoria', 'dysphoria', 'dysphoria', 'dysphoria', 'dysphoria', 'euphoria', 'euphoria', 'euphoria', 'dysphoria', 'euphoria', 'euphoria', 'euphoria', 'dysphoria', 'dysphoria', 'dysphoria', 'dysphoria', 'dysphoria', 'dysphoria', 'neutral', 'dysphoria', 'dysphoria', 'euphoria', 'dysphoria', 'dysphoria', 'neutral', 'dysphoria', 'dysphoria', 'dysphoria', 'dysphoria', 'dysphoria', 'dysphoria', 'dysphoria', 'dysphoria', 'dysphoria', 'dysphoria', 'dysphoria', 'dysphoria', 'dysphoria', 'dysphoria', 'dysphoria', 'dysphoria', 'dysphoria', 'dysphoria', 'dysphoria', 'dysphoria', 'dysphoria', 'dysphoria', 'dysphoria', 'euphoria', 'neutral', 'dysphoria', 'neutral', 'dysphoria', 'dysphoria', 'dysphoria', 'dysphoria', 'dysphoria', 'dysphoria', 'dysphoria', 'dysphoria', 'dysphoria', 'dysphoria', 'euphoria', 'dysphoria', 'dysphoria', 'dysphoria', 'dysphoria', 'dysphoria', 'dysphoria', 'dysphoria', 'dysphoria', 'neutral', 'dysphoria', 'neutral', 'dysphoria', 'dysphoria', 'dysphoria', 'neutral', 'dysphoria', 'dysphoria', 'dysphoria', 'dysphoria', 'euphoria', 'euphoria', 'euphoria', 'dysphoria', 'euphoria', 'euphoria', 'euphoria', 'dysphoria', 'dysphoria', 'dysphoria', 'dysphoria', 'dysphoria', 'dysphoria', 'dysphoria', 'dysphoria', 'dysphoria', 'dysphoria', 'neutral', 'dysphoria', 'dysphoria', 'euphoria', 'dysphoria', 'dysphoria', 'dysphoria', 'dysphoria', 'dysphoria', 'dysphoria', 'dysphoria', 'dysphoria', 'dysphoria', 'euphoria', 'euphoria', 'euphoria', 'euphoria', 'euphoria', 'euphoria', 'euphoria', 'euphoria', 'euphoria', 'euphoria', 'euphoria', 'euphoria', 'euphoria', 'euphoria', 'euphoria', 'euphoria', 'euphoria', 'euphoria', 'euphoria', 'euphoria', 'euphoria', 'euphoria', 'dysphoria', 'euphoria', 'dysphoria', 'neutral', 'euphoria', 'dysphoria', 'dysphoria', 'euphoria', 'euphoria', 'euphoria', 'euphoria', 'dysphoria', 'euphoria', 'euphoria', 'euphoria', 'dysphoria', 'dysphoria', 'dysphoria', 'euphoria', 'dysphoria', 'neutral', 'dysphoria', 'dysphoria', 'dysphoria', 'dysphoria', 'dysphoria', 'neutral', 'dysphoria', 'dysphoria', 'euphoria', 'dysphoria', 'dysphoria', 'neutral', 'dysphoria', 'dysphoria', 'dysphoria', 'dysphoria', 'dysphoria', 'dysphoria', 'dysphoria', 'dysphoria', 'dysphoria', 'neutral', 'dysphoria', 'dysphoria', 'dysphoria', 'dysphoria', 'euphoria', 'dysphoria', 'dysphoria', 'euphoria', 'euphoria', 'dysphoria', 'dysphoria', 'dysphoria', 'euphoria', 'euphoria', 'dysphoria', 'neutral', 'dysphoria', 'neutral']\n",
            "2566\n"
          ]
        }
      ]
    },
    {
      "cell_type": "code",
      "source": [
        "import csv\n",
        "with open(\"result.csv\",'w') as file:\n",
        "  writer = csv.writer(file)\n",
        "  for i in range(len(predict_s)):\n",
        "    writer.writerow([predict_s[i]])"
      ],
      "metadata": {
        "id": "dZz2Ca8rx9su"
      },
      "execution_count": 80,
      "outputs": []
    },
    {
      "cell_type": "code",
      "source": [],
      "metadata": {
        "id": "mHDjbHiRyZx6"
      },
      "execution_count": null,
      "outputs": []
    }
  ]
}