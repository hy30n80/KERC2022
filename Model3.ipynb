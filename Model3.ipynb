{
  "nbformat": 4,
  "nbformat_minor": 0,
  "metadata": {
    "colab": {
      "provenance": [],
      "name": "Model3.ipynb",
      "collapsed_sections": [],
      "authorship_tag": "ABX9TyPvxPiGLViXfw2JR9jaAxyj",
      "include_colab_link": true
    },
    "kernelspec": {
      "name": "python3",
      "display_name": "Python 3"
    },
    "language_info": {
      "name": "python"
    }
  },
  "cells": [
    {
      "cell_type": "markdown",
      "metadata": {
        "id": "view-in-github",
        "colab_type": "text"
      },
      "source": [
        "<a href=\"https://colab.research.google.com/github/hy30n80/KERC2022/blob/main/Model3.ipynb\" target=\"_parent\"><img src=\"https://colab.research.google.com/assets/colab-badge.svg\" alt=\"Open In Colab\"/></a>"
      ]
    },
    {
      "cell_type": "code",
      "execution_count": 1,
      "metadata": {
        "colab": {
          "base_uri": "https://localhost:8080/"
        },
        "id": "8E_ObtXeJEMC",
        "outputId": "eb9737d7-0422-4e99-c0ea-850e17363652"
      },
      "outputs": [
        {
          "output_type": "stream",
          "name": "stdout",
          "text": [
            "Looking in indexes: https://pypi.org/simple, https://us-python.pkg.dev/colab-wheels/public/simple/\n",
            "Collecting konlpy\n",
            "  Downloading konlpy-0.6.0-py2.py3-none-any.whl (19.4 MB)\n",
            "\u001b[K     |████████████████████████████████| 19.4 MB 1.3 MB/s \n",
            "\u001b[?25hRequirement already satisfied: lxml>=4.1.0 in /usr/local/lib/python3.7/dist-packages (from konlpy) (4.9.1)\n",
            "Requirement already satisfied: numpy>=1.6 in /usr/local/lib/python3.7/dist-packages (from konlpy) (1.21.6)\n",
            "Collecting JPype1>=0.7.0\n",
            "  Downloading JPype1-1.4.0-cp37-cp37m-manylinux_2_5_x86_64.manylinux1_x86_64.whl (453 kB)\n",
            "\u001b[K     |████████████████████████████████| 453 kB 38.8 MB/s \n",
            "\u001b[?25hRequirement already satisfied: typing-extensions in /usr/local/lib/python3.7/dist-packages (from JPype1>=0.7.0->konlpy) (4.1.1)\n",
            "Installing collected packages: JPype1, konlpy\n",
            "Successfully installed JPype1-1.4.0 konlpy-0.6.0\n"
          ]
        }
      ],
      "source": [
        "!pip install konlpy"
      ]
    },
    {
      "cell_type": "code",
      "source": [
        "from google.colab import drive\n",
        "drive.mount('/content/drive')\n",
        "\n",
        "from konlpy.tag import Hannanum, Kkma, Komoran, Okt\n",
        "from gensim.models.word2vec import Word2Vec\n",
        "from tqdm import tqdm\n",
        "from tensorflow.keras.layers import(Input, Dense, Bidirectional, LSTM, Concatenate, concatenate, Embedding, Dropout)\n",
        "import urllib.request\n",
        "import matplotlib.pyplot as plt\n",
        "import numpy as np\n",
        "import tensorflow as tf\n",
        "import pandas as pd\n",
        "import sklearn"
      ],
      "metadata": {
        "colab": {
          "base_uri": "https://localhost:8080/"
        },
        "id": "Tc3vKLnyJHBT",
        "outputId": "220bf43a-2dc8-4213-a36d-05db4e32a05f"
      },
      "execution_count": 39,
      "outputs": [
        {
          "output_type": "stream",
          "name": "stdout",
          "text": [
            "Drive already mounted at /content/drive; to attempt to forcibly remount, call drive.mount(\"/content/drive\", force_remount=True).\n"
          ]
        }
      ]
    },
    {
      "cell_type": "code",
      "source": [
        "train_x_path = './drive/MyDrive/KERC2022/KERC22Dataset_PublicTest/train_data.tsv'\n",
        "train_y_path = './drive/MyDrive/KERC2022/KERC22Dataset_PublicTest/train_labels.csv'"
      ],
      "metadata": {
        "id": "vTW-5TjiJMuc"
      },
      "execution_count": 33,
      "outputs": []
    },
    {
      "cell_type": "code",
      "source": [
        "EMBEDDING_DIM=100\n",
        "MAXLEN = 30\n",
        "TRUNCATING = 'post'\n",
        "PADDING = 'pre'\n",
        "OOV_TOKEN = '<OOV>'\n",
        "NUM_WORDS = 15000\n",
        "SPLIT_SIZE = 0.9"
      ],
      "metadata": {
        "id": "2JKkyHdHJVDk"
      },
      "execution_count": 34,
      "outputs": []
    },
    {
      "cell_type": "code",
      "source": [
        "train_data = pd.read_csv(train_x_path, sep='\\t')\n",
        "labels = pd.read_csv(train_y_path)\n",
        "#label csv 를 train_data에 병합\n",
        "train_data['label'] = labels['label']\n",
        "print(train_data[:5])\n",
        "print(len(train_data))\n",
        "print(train_data.isnull().sum())"
      ],
      "metadata": {
        "colab": {
          "base_uri": "https://localhost:8080/"
        },
        "id": "kI37L8WdJy1P",
        "outputId": "3e0a10a3-71db-4c07-a24e-abd6a292ab5e"
      },
      "execution_count": 36,
      "outputs": [
        {
          "output_type": "stream",
          "name": "stdout",
          "text": [
            "   sentence_id person                                           sentence  \\\n",
            "0            1     어영  야! 전화 받아. 아무리 바빠도 내전화는 받아야 되는거 아냐? 약속 하나도 못지키는...   \n",
            "1            2     어영     우리 아무래도 안되겠다. 이게 최선인거 같애. 평생 잊지 않을게. 행복하길 바란다.   \n",
            "2            3    지구대                          김경사님, 아직 안가셨어요? 시간 다됐을텐데.   \n",
            "3            4     순경                                         근무중인데 어딜가?   \n",
            "4            5    지구대    다녀오세요. 이런날은 무조건 가서 축하해주셔야죠. 이순경이 대신 근무선다고 나온대요.   \n",
            "\n",
            "   scene                                          context      label  \n",
            "0  S0104                                              NaN  dysphoria  \n",
            "1  S0108         포기한듯 탁 일어서는데, 띵동 문자. 후다닥 보는 어영. 기막혀 읽어보는  dysphoria  \n",
            "2  S0109  초조하게 시계보면서 왔다갔다 서성이는 김순경. 순찰차(경차)와서 멈추고 내리는 지구대    neutral  \n",
            "3  S0109  초조하게 시계보면서 왔다갔다 서성이는 김순경. 순찰차(경차)와서 멈추고 내리는 지구대  dysphoria  \n",
            "4  S0109  초조하게 시계보면서 왔다갔다 서성이는 김순경. 순찰차(경차)와서 멈추고 내리는 지구대   euphoria  \n",
            "7339\n",
            "0       dysphoria\n",
            "1       dysphoria\n",
            "2         neutral\n",
            "3       dysphoria\n",
            "4        euphoria\n",
            "          ...    \n",
            "7334     euphoria\n",
            "7335     euphoria\n",
            "7336     euphoria\n",
            "7337     euphoria\n",
            "7338     euphoria\n",
            "Name: label, Length: 7339, dtype: object\n",
            "sentence_id       0\n",
            "person            0\n",
            "sentence          0\n",
            "scene             0\n",
            "context        2017\n",
            "label             0\n",
            "dtype: int64\n"
          ]
        }
      ]
    },
    {
      "cell_type": "code",
      "source": [
        "#context null 값 '결측' 으로 채우기\n",
        "train_data['context'].fillna('결측', inplace=True)\n",
        "print(train_data.isnull().sum())"
      ],
      "metadata": {
        "colab": {
          "base_uri": "https://localhost:8080/"
        },
        "id": "zxvj2fa6S3C8",
        "outputId": "760b2292-7691-4528-eb1a-b70a915e31cc"
      },
      "execution_count": 37,
      "outputs": [
        {
          "output_type": "stream",
          "name": "stdout",
          "text": [
            "sentence_id    0\n",
            "person         0\n",
            "sentence       0\n",
            "scene          0\n",
            "context        0\n",
            "label          0\n",
            "dtype: int64\n"
          ]
        }
      ]
    },
    {
      "cell_type": "code",
      "source": [
        "# person, scene category 변형\n",
        "train_data['person'].value_counts()\n",
        "train_data['scene'].value_counts()\n",
        "train_data['person'] = train_data['person'].astype('category')\n",
        "train_data['scene'] = train_data['scene'].astype('category')\n",
        "\n",
        "\n",
        "train_data['person']= train_data['person'].cat.codes\n",
        "train_data['scene']= train_data['scene'].cat.codes\n",
        "print(train_data[:5])"
      ],
      "metadata": {
        "colab": {
          "base_uri": "https://localhost:8080/"
        },
        "id": "0sgYlEk7YTM-",
        "outputId": "33cb5136-dc8b-4dd0-aecf-29595b1e4fad"
      },
      "execution_count": 38,
      "outputs": [
        {
          "output_type": "stream",
          "name": "stdout",
          "text": [
            "   sentence_id  person                                           sentence  \\\n",
            "0            1      42  야! 전화 받아. 아무리 바빠도 내전화는 받아야 되는거 아냐? 약속 하나도 못지키는...   \n",
            "1            2      42     우리 아무래도 안되겠다. 이게 최선인거 같애. 평생 잊지 않을게. 행복하길 바란다.   \n",
            "2            3      69                          김경사님, 아직 안가셨어요? 시간 다됐을텐데.   \n",
            "3            4      36                                         근무중인데 어딜가?   \n",
            "4            5      69    다녀오세요. 이런날은 무조건 가서 축하해주셔야죠. 이순경이 대신 근무선다고 나온대요.   \n",
            "\n",
            "   scene                                          context      label  \n",
            "0      0                                               결측  dysphoria  \n",
            "1      1         포기한듯 탁 일어서는데, 띵동 문자. 후다닥 보는 어영. 기막혀 읽어보는  dysphoria  \n",
            "2      2  초조하게 시계보면서 왔다갔다 서성이는 김순경. 순찰차(경차)와서 멈추고 내리는 지구대    neutral  \n",
            "3      2  초조하게 시계보면서 왔다갔다 서성이는 김순경. 순찰차(경차)와서 멈추고 내리는 지구대  dysphoria  \n",
            "4      2  초조하게 시계보면서 왔다갔다 서성이는 김순경. 순찰차(경차)와서 멈추고 내리는 지구대   euphoria  \n"
          ]
        }
      ]
    },
    {
      "cell_type": "code",
      "source": [
        "#전체 data 셔플\n",
        "train_data=sklearn.utils.shuffle(train_data)\n",
        "print(train_data)\n"
      ],
      "metadata": {
        "colab": {
          "base_uri": "https://localhost:8080/"
        },
        "id": "syZ1EBYyubAq",
        "outputId": "475e0449-3a9b-436d-db65-7b086dbe881f"
      },
      "execution_count": 42,
      "outputs": [
        {
          "output_type": "stream",
          "name": "stdout",
          "text": [
            "      sentence_id  person                                           sentence  \\\n",
            "806          1372      48                                         그럴틈도 없었어요.   \n",
            "5015         8275      30         박쥐꼴 나게 생겼어요. 의심하는 눈치에요. 경찰들이라 어찌나 눈치가 빠른지.   \n",
            "5540         9253      83                                              그러든가.   \n",
            "5384         8910      73                                             목적이라니?   \n",
            "2334         3852       1                       예? 주유소라면, 주유소 관리를 맡아서 하라는...   \n",
            "...           ...     ...                                                ...   \n",
            "2274         3761      83                                       우리가 애냐? 싸우게.   \n",
            "2184         3639      31  누가 니 장인어른이야? 넌 울아부지 얼굴에 먹칠하고 내 얼굴에 똥칠했어. 세상에 태...   \n",
            "4727         7789      48                                          출근 안하셨어요?   \n",
            "3920         6560       5               꼭 부모가 입 뚜들겨야 된다니. 알아서 형좀 챙기면 얼마나 좋아.   \n",
            "4818         7907      72                                                말면?   \n",
            "\n",
            "      scene                             context      label  \n",
            "806     115                                  결측    neutral  \n",
            "5015    611        앉아 기다리던 태백. 들어서는 서장. 일어나는 태백  dysphoria  \n",
            "5540    675                                  결측   euphoria  \n",
            "5384    653              태백 가면 그제야 일동 달려들어 꺼내펴고   euphoria  \n",
            "2334    284  들어오는 이상, 뒤따라 눈치보며 들어오는 건강. 적당히들 앉고  dysphoria  \n",
            "...     ...                                 ...        ...  \n",
            "2274    277           저녁먹는 현찰. 국그릇 놔주며 앞에 앉는 우미  dysphoria  \n",
            "2184    268         안절부절 서성이는 재수. 대문 열리고 나오는 성미  dysphoria  \n",
            "4727    586                             청소하는 우미  dysphoria  \n",
            "3920    492                                  결측  dysphoria  \n",
            "4818    597                            마주선 청난우미  dysphoria  \n",
            "\n",
            "[7339 rows x 6 columns]\n"
          ]
        }
      ]
    },
    {
      "cell_type": "code",
      "source": [
        "# Stopwords 는 우선 고려하지 않고 실행\n",
        "# sentence , context 문자열 데이터로 처리\n",
        "hannanum = Hannanum()\n",
        "kkma = Kkma()\n",
        "komoran = Komoran()\n",
        "okt = Okt()\n",
        "\n",
        "tok_sentences = []\n",
        "for sen in tqdm(train_data['sentence']):\n",
        "  tok_sen = okt.morphs(sen)\n",
        "  tok_sentences.append(tok_sen)\n",
        "\n",
        "tok_contexts = []\n",
        "for con in tqdm(train_data['context']):\n",
        "  tok_con = okt.morphs(con)\n",
        "  tok_contexts.append(tok_con)"
      ],
      "metadata": {
        "colab": {
          "base_uri": "https://localhost:8080/"
        },
        "id": "Hc0IDAZiJYLB",
        "outputId": "3bd7390e-7633-4e44-ed88-e3836fcf3d42"
      },
      "execution_count": 43,
      "outputs": [
        {
          "output_type": "stream",
          "name": "stderr",
          "text": [
            "100%|██████████| 7339/7339 [00:15<00:00, 469.04it/s]\n",
            "100%|██████████| 7339/7339 [00:14<00:00, 491.43it/s]\n"
          ]
        }
      ]
    },
    {
      "cell_type": "code",
      "source": [
        "print(tok_sentences[:5])\n",
        "\n",
        "print('문장 최대 길이: ', max(len(sen) for sen in tok_sentences))\n",
        "print('문장 평균 길이: ', sum(map(len, tok_sentences))/len(tok_sentences))\n",
        "plt.hist([len(sen) for sen in tok_sentences], bins=50)\n",
        "plt.xlabel('length of samples')\n",
        "plt.ylabel('number of samples')\n",
        "plt.show()\n",
        "\n",
        "print('문맥 최대 길이: ', max(len(con) for sen in tok_contexts))\n",
        "print('문맥 평균 길이: ', sum(map(len, tok_contexts))/len(tok_contexts))\n",
        "plt.hist([len(con) for con in tok_contexts], bins=50)\n",
        "plt.xlabel('length of samples')\n",
        "plt.ylabel('number of samples')\n",
        "plt.show()\n",
        "\n"
      ],
      "metadata": {
        "colab": {
          "base_uri": "https://localhost:8080/",
          "height": 650
        },
        "id": "orXlACs5MDbG",
        "outputId": "5ccaef5c-5911-4353-9854-b9b62a546552"
      },
      "execution_count": 44,
      "outputs": [
        {
          "output_type": "stream",
          "name": "stdout",
          "text": [
            "[['그럴', '틈', '도', '없었어요', '.'], ['박쥐', '꼴', '나게', '생겼어요', '.', '의심', '하는', '눈치', '에요', '.', '경찰', '들', '이라', '어찌나', '눈치', '가', '빠른지', '.'], ['그러든', '가', '.'], ['목적', '이라니', '?'], ['예', '?', '주유소', '라면', ',', '주유소', '관리', '를', '맡아서', '하라', '는', '...']]\n",
            "문장 최대 길이:  73\n",
            "문장 평균 길이:  12.137212154244448\n"
          ]
        },
        {
          "output_type": "display_data",
          "data": {
            "text/plain": [
              "<Figure size 432x288 with 1 Axes>"
            ],
            "image/png": "[encoded data removed]"
          },
          "metadata": {
            "needs_background": "light"
          }
        },
        {
          "output_type": "stream",
          "name": "stdout",
          "text": [
            "문맥 최대 길이:  8\n",
            "문맥 평균 길이:  10.46000817550075\n"
          ]
        },
        {
          "output_type": "display_data",
          "data": {
            "text/plain": [
              "<Figure size 432x288 with 1 Axes>"
            ],
            "image/png": "[encoded data removed]"
          },
          "metadata": {
            "needs_background": "light"
          }
        }
      ]
    },
    {
      "cell_type": "code",
      "source": [
        "# sentence, context 각각 tokenize\n",
        "from tensorflow.keras.preprocessing.text import Tokenizer\n",
        "from tensorflow.keras.preprocessing.sequence import pad_sequences\n",
        "\n",
        "def fit_and_seq(train_sentences, oov_token, maxlen, padding, truncating):\n",
        "  \n",
        "  tokenizer = Tokenizer(oov_token = oov_token)\n",
        "  tokenizer.fit_on_texts(train_sentences)\n",
        "  \n",
        "  sequences= tokenizer.texts_to_sequences(train_sentences)\n",
        "  pad_trunc_sequences= pad_sequences(sequences, maxlen=maxlen, padding=padding, truncating=truncating)\n",
        "\n",
        "  return pad_trunc_sequences, tokenizer\n",
        "\n",
        "\"\"\"\n",
        "def tokenize_label(labels):\n",
        "\n",
        "  label_tokenizer = Tokenizer()\n",
        "  label_tokenizer.fit_on_texts(labels)\n",
        "\n",
        "  label_seq = label_tokenizer.texts_to_sequences(labels)\n",
        "  label_seq_np = np.array(label_seq)-1\n",
        "\n",
        "  return label_seq_np, label_tokenizer\n",
        "\"\"\"\n"
      ],
      "metadata": {
        "id": "wNQfwtu3SSEf",
        "colab": {
          "base_uri": "https://localhost:8080/",
          "height": 54
        },
        "outputId": "40b3bd66-39df-473a-bcc3-95d4eb08586c"
      },
      "execution_count": 45,
      "outputs": [
        {
          "output_type": "execute_result",
          "data": {
            "text/plain": [
              "'\\ndef tokenize_label(labels):\\n\\n  label_tokenizer = Tokenizer()\\n  label_tokenizer.fit_on_texts(labels)\\n\\n  label_seq = label_tokenizer.texts_to_sequences(labels)\\n  label_seq_np = np.array(label_seq)-1\\n\\n  return label_seq_np, label_tokenizer\\n'"
            ],
            "application/vnd.google.colaboratory.intrinsic+json": {
              "type": "string"
            }
          },
          "metadata": {},
          "execution_count": 45
        }
      ]
    },
    {
      "cell_type": "code",
      "source": [
        "train_sentence_seq, tokenizer = fit_and_seq(tok_sentences, OOV_TOKEN, MAXLEN, PADDING, TRUNCATING)\n",
        "train_context_seq, _ = fit_and_seq(tok_contexts, OOV_TOKEN, MAXLEN, PADDING, TRUNCATING)"
      ],
      "metadata": {
        "id": "BVAi0U7_X_jy"
      },
      "execution_count": 46,
      "outputs": []
    },
    {
      "cell_type": "code",
      "source": [
        "word_index = tokenizer.word_index\n",
        "print(train_sentence_seq[3])\n",
        "print(word_index['근무'])"
      ],
      "metadata": {
        "colab": {
          "base_uri": "https://localhost:8080/"
        },
        "id": "f_KTuiCWYQp3",
        "outputId": "9573b263-e0f7-40f5-9491-aa7e9cd7d97c"
      },
      "execution_count": 47,
      "outputs": [
        {
          "output_type": "stream",
          "name": "stdout",
          "text": [
            "[   0    0    0    0    0    0    0    0    0    0    0    0    0    0\n",
            "    0    0    0    0    0    0    0    0    0    0    0    0    0 2015\n",
            " 1167    3]\n",
            "539\n"
          ]
        }
      ]
    },
    {
      "cell_type": "code",
      "source": [
        "\"\"\" \n",
        "train_label_seq, label_tokenizer = tokenize_label(np.array(labels['label']))\n",
        "label_word_index = label_tokenizer.word_index\n",
        "print(train_label_seq[1])\n",
        "print(label_word_index)\n",
        "\"\"\""
      ],
      "metadata": {
        "colab": {
          "base_uri": "https://localhost:8080/",
          "height": 54
        },
        "id": "iUSdkwGs4Sxa",
        "outputId": "2dc8a0fa-5c99-4bcd-ccd1-0d1ec441201d"
      },
      "execution_count": 14,
      "outputs": [
        {
          "output_type": "execute_result",
          "data": {
            "text/plain": [
              "\" \\ntrain_label_seq, label_tokenizer = tokenize_label(np.array(labels['label']))\\nlabel_word_index = label_tokenizer.word_index\\nprint(train_label_seq[1])\\nprint(label_word_index)\\n\""
            ],
            "application/vnd.google.colaboratory.intrinsic+json": {
              "type": "string"
            }
          },
          "metadata": {},
          "execution_count": 14
        }
      ]
    },
    {
      "cell_type": "code",
      "source": [
        "#label 값 0,1,2 로 Encoding\n",
        "from sklearn.preprocessing import LabelEncoder\n",
        "le = LabelEncoder()\n",
        "le = le.fit(train_data['label'])\n",
        "\n",
        "train_label_seq = le.transform(train_data['label'])\n",
        "print(le.classes_)\n",
        "print(train_label_seq)"
      ],
      "metadata": {
        "colab": {
          "base_uri": "https://localhost:8080/"
        },
        "id": "90Vn74jK6MP3",
        "outputId": "f4931fb3-ded8-4105-a7c4-0f9e1eda9736"
      },
      "execution_count": 48,
      "outputs": [
        {
          "output_type": "stream",
          "name": "stdout",
          "text": [
            "['dysphoria' 'euphoria' 'neutral']\n",
            "[2 0 1 ... 0 0 0]\n"
          ]
        }
      ]
    },
    {
      "cell_type": "code",
      "source": [
        "\"\"\"\n",
        "def train_val_split(sentences, labels, training_split):\n",
        "\n",
        "  train_size = int(len(sentences)*training_split)\n",
        "\n",
        "  train_sentences = sentences[:train_size]\n",
        "  train_labels = labels[:train_size]\n",
        "\n",
        "\n",
        "  val_sentences = sentences[train_size:]\n",
        "  val_labels = labels[train_size:]\n",
        "\n",
        "  return train_sentences, train_labels, val_sentences, val_labels\n",
        "\"\"\""
      ],
      "metadata": {
        "id": "7I0qq1Mvfwwd",
        "colab": {
          "base_uri": "https://localhost:8080/",
          "height": 72
        },
        "outputId": "3b2b467d-b270-4f02-d24b-0d9398321ec2"
      },
      "execution_count": 16,
      "outputs": [
        {
          "output_type": "execute_result",
          "data": {
            "text/plain": [
              "'\\ndef train_val_split(sentences, labels, training_split):\\n\\n  train_size = int(len(sentences)*training_split)\\n\\n  train_sentences = sentences[:train_size]\\n  train_labels = labels[:train_size]\\n\\n\\n  val_sentences = sentences[train_size:]\\n  val_labels = labels[train_size:]\\n\\n  return train_sentences, train_labels, val_sentences, val_labels\\n'"
            ],
            "application/vnd.google.colaboratory.intrinsic+json": {
              "type": "string"
            }
          },
          "metadata": {},
          "execution_count": 16
        }
      ]
    },
    {
      "cell_type": "code",
      "source": [
        "print(type(np.array(train_data['person'])), type(train_sentence_seq),type(train_context_seq), type(train_data['scene']) )\n",
        "\n",
        "print(np.array(train_data['person']).shape)\n",
        "print(train_sentence_seq.shape)\n",
        "print(np.array(train_data['person']))\n",
        "print(train_sentence_seq)"
      ],
      "metadata": {
        "colab": {
          "base_uri": "https://localhost:8080/"
        },
        "id": "57b-hRsOp0ND",
        "outputId": "7e46cc01-38e5-449d-90cc-e24d23fe9756"
      },
      "execution_count": 49,
      "outputs": [
        {
          "output_type": "stream",
          "name": "stdout",
          "text": [
            "<class 'numpy.ndarray'> <class 'numpy.ndarray'> <class 'numpy.ndarray'> <class 'pandas.core.series.Series'>\n",
            "(7339,)\n",
            "(7339, 30)\n",
            "[48 30 83 ... 48  5 72]\n",
            "[[   0    0    0 ...    8 2507    2]\n",
            " [   0    0    0 ...    6 5097    2]\n",
            " [   0    0    0 ... 3304    6    2]\n",
            " ...\n",
            " [   0    0    0 ...    9  781    3]\n",
            " [   0    0    0 ...  126  262    2]\n",
            " [   0    0    0 ...   12   74    3]]\n"
          ]
        }
      ]
    },
    {
      "cell_type": "code",
      "source": [
        "#Data split \n",
        "from sklearn.model_selection import train_test_split\n",
        "train_sentences, test_sentences = train_test_split(train_sentence_seq, test_size=0.1, shuffle=False)\n",
        "train_contexts, test_contexts = train_test_split(train_context_seq, test_size=0.1, shuffle=False)\n",
        "train_people, test_people = train_test_split(np.array(train_data['person']), test_size=0.1, shuffle=False)\n",
        "train_scenes, test_scenes = train_test_split(np.array(train_data['scene']), test_size=0.1, shuffle=False)\n",
        "train_labels, test_labels = train_test_split(train_label_seq, test_size=0.1, shuffle=False)"
      ],
      "metadata": {
        "id": "UWYlgkUtb8dY"
      },
      "execution_count": 50,
      "outputs": []
    },
    {
      "cell_type": "code",
      "source": [
        "\n",
        "print(train_sentences.shape)\n",
        "print(train_contexts.shape)\n",
        "print(train_people.shape)\n",
        "print(train_scenes.shape)\n",
        "print(train_labels.shape)\n",
        "\n",
        "print(test_sentences.shape)\n",
        "print(test_contexts.shape)\n",
        "print(test_people.shape)\n",
        "print(test_scenes.shape)\n",
        "print(test_labels.shape)\n",
        "\n"
      ],
      "metadata": {
        "id": "lU8_ZSjTeA1n",
        "colab": {
          "base_uri": "https://localhost:8080/"
        },
        "outputId": "3c7b7be4-f79d-4130-a382-a105ba810b8c"
      },
      "execution_count": 57,
      "outputs": [
        {
          "output_type": "stream",
          "name": "stdout",
          "text": [
            "(6605, 30)\n",
            "(6605, 30)\n",
            "(6605,)\n",
            "(6605,)\n",
            "(6605,)\n",
            "(734, 30)\n",
            "(734, 30)\n",
            "(734,)\n",
            "(734,)\n",
            "(734,)\n",
            "<class 'numpy.ndarray'>\n",
            "<class 'numpy.ndarray'>\n",
            "<class 'numpy.ndarray'>\n"
          ]
        }
      ]
    },
    {
      "cell_type": "code",
      "source": [
        "def create_model(num_words, embedding_dim, maxlen):\n",
        "  \n",
        "\n",
        "  input_P = Input(shape=[1], name = \"input_person\")\n",
        "  input_S = Input(shape=[1], name = \"input_scene\")\n",
        "  input_sen = Input(shape=[30], name = \"input_sentence\")\n",
        "  input_con = Input(shape=[30], name = \"input_context\")\n",
        "\n",
        "  Dense_p1 = Dense(8, activation = 'relu')(input_P)\n",
        "  Dense_p2 = Dense(1, activation = 'sigmoid')(Dense_p1)\n",
        "\n",
        "  Dense_s1 = Dense(8, activation = 'relu')(input_S)\n",
        "  Dense_s2 = Dense(1, activation = 'sigmoid')(Dense_s1)\n",
        "\n",
        "  Embedding1 = Embedding(num_words, embedding_dim, input_length=maxlen)(input_sen)\n",
        "  LSTM_sen = Bidirectional(LSTM(16, return_sequences=False))(Embedding1)\n",
        "  Dense_sen = Dense(16, activation = 'sigmoid')(LSTM_sen)\n",
        "\n",
        "  Embedding2 = Embedding(num_words, embedding_dim, input_length=maxlen)(input_con)\n",
        "  LSTM_con = Bidirectional(LSTM(16, return_sequences=False))(Embedding2)\n",
        "  Dense_con = Dense(16, activation = 'sigmoid')(LSTM_con)\n",
        "\n",
        "  \n",
        "  concat = concatenate([Dense_p2, Dense_s2, Dense_sen, Dense_con], name='concat')\n",
        "  Drp1 = Dropout(0.3)(concat)\n",
        "  Dense1 = Dense(16, activation = 'relu')(concat)\n",
        "  Dense2 = Dense(8, activation = 'relu')(Dense1)\n",
        "  Drp2 = Dropout(0.3)(Dense2)\n",
        "  output = Dense(3, activation = 'softmax')(Dense2)\n",
        "\n",
        "\n",
        "  model = tf.keras.Model(inputs =[input_P, input_S, input_sen, input_con], outputs=[output])\n",
        "\n",
        "\n",
        "  return model\n"
      ],
      "metadata": {
        "id": "RLjK9LxCYTZD"
      },
      "execution_count": 62,
      "outputs": []
    },
    {
      "cell_type": "code",
      "source": [
        "model = create_model(NUM_WORDS, EMBEDDING_DIM, MAXLEN)"
      ],
      "metadata": {
        "id": "V0k2h_AVkxdx"
      },
      "execution_count": 63,
      "outputs": []
    },
    {
      "cell_type": "code",
      "source": [
        "model.summary()"
      ],
      "metadata": {
        "id": "O4vnTi0do9kS",
        "colab": {
          "base_uri": "https://localhost:8080/"
        },
        "outputId": "fd365580-aa83-4929-a2bb-1446bcf8e6f3"
      },
      "execution_count": 64,
      "outputs": [
        {
          "output_type": "stream",
          "name": "stdout",
          "text": [
            "Model: \"model_1\"\n",
            "__________________________________________________________________________________________________\n",
            " Layer (type)                   Output Shape         Param #     Connected to                     \n",
            "==================================================================================================\n",
            " input_sentence (InputLayer)    [(None, 30)]         0           []                               \n",
            "                                                                                                  \n",
            " input_context (InputLayer)     [(None, 30)]         0           []                               \n",
            "                                                                                                  \n",
            " input_person (InputLayer)      [(None, 1)]          0           []                               \n",
            "                                                                                                  \n",
            " input_scene (InputLayer)       [(None, 1)]          0           []                               \n",
            "                                                                                                  \n",
            " embedding_2 (Embedding)        (None, 30, 100)      1500000     ['input_sentence[0][0]']         \n",
            "                                                                                                  \n",
            " embedding_3 (Embedding)        (None, 30, 100)      1500000     ['input_context[0][0]']          \n",
            "                                                                                                  \n",
            " dense_9 (Dense)                (None, 8)            16          ['input_person[0][0]']           \n",
            "                                                                                                  \n",
            " dense_11 (Dense)               (None, 8)            16          ['input_scene[0][0]']            \n",
            "                                                                                                  \n",
            " bidirectional_2 (Bidirectional  (None, 32)          14976       ['embedding_2[0][0]']            \n",
            " )                                                                                                \n",
            "                                                                                                  \n",
            " bidirectional_3 (Bidirectional  (None, 32)          14976       ['embedding_3[0][0]']            \n",
            " )                                                                                                \n",
            "                                                                                                  \n",
            " dense_10 (Dense)               (None, 1)            9           ['dense_9[0][0]']                \n",
            "                                                                                                  \n",
            " dense_12 (Dense)               (None, 1)            9           ['dense_11[0][0]']               \n",
            "                                                                                                  \n",
            " dense_13 (Dense)               (None, 16)           528         ['bidirectional_2[0][0]']        \n",
            "                                                                                                  \n",
            " dense_14 (Dense)               (None, 16)           528         ['bidirectional_3[0][0]']        \n",
            "                                                                                                  \n",
            " concat (Concatenate)           (None, 34)           0           ['dense_10[0][0]',               \n",
            "                                                                  'dense_12[0][0]',               \n",
            "                                                                  'dense_13[0][0]',               \n",
            "                                                                  'dense_14[0][0]']               \n",
            "                                                                                                  \n",
            " dense_15 (Dense)               (None, 16)           560         ['concat[0][0]']                 \n",
            "                                                                                                  \n",
            " dense_16 (Dense)               (None, 8)            136         ['dense_15[0][0]']               \n",
            "                                                                                                  \n",
            " dense_17 (Dense)               (None, 3)            27          ['dense_16[0][0]']               \n",
            "                                                                                                  \n",
            "==================================================================================================\n",
            "Total params: 3,031,781\n",
            "Trainable params: 3,031,781\n",
            "Non-trainable params: 0\n",
            "__________________________________________________________________________________________________\n"
          ]
        }
      ]
    },
    {
      "cell_type": "code",
      "source": [
        "lr_schedule = tf.keras.callbacks.LearningRateScheduler(\n",
        "    lambda epoch: 1e-4*10**(epoch/10))\n",
        "optimizer = tf.keras.optimizers.Adam(learning_rate = 1e-4)\n"
      ],
      "metadata": {
        "id": "j0uuOdgd0DRz"
      },
      "execution_count": 68,
      "outputs": []
    },
    {
      "cell_type": "code",
      "source": [
        "model.compile(optimizer=optimizer, loss='sparse_categorical_crossentropy', metrics=['accuracy'])"
      ],
      "metadata": {
        "id": "v-gCVpI4lFgP"
      },
      "execution_count": 69,
      "outputs": []
    },
    {
      "cell_type": "code",
      "source": [
        "history = model.fit((train_people, train_scenes, train_sentences, train_contexts), train_labels, epochs=30, \n",
        "                    validation_data = ((test_people, test_scenes, test_sentences, test_contexts), test_labels), callbacks=[lr_schedule])"
      ],
      "metadata": {
        "id": "O2oJIzR4lUXh",
        "colab": {
          "base_uri": "https://localhost:8080/"
        },
        "outputId": "af1d905c-def4-4c26-954e-7168c7d4d617"
      },
      "execution_count": 70,
      "outputs": [
        {
          "output_type": "stream",
          "name": "stdout",
          "text": [
            "Epoch 1/30\n",
            "207/207 [==============================] - 37s 91ms/step - loss: 1.1030 - accuracy: 0.4250 - val_loss: 0.9425 - val_accuracy: 0.6403 - lr: 1.0000e-04\n",
            "Epoch 2/30\n",
            "207/207 [==============================] - 16s 76ms/step - loss: 0.9183 - accuracy: 0.6141 - val_loss: 0.8726 - val_accuracy: 0.6403 - lr: 1.2589e-04\n",
            "Epoch 3/30\n",
            "207/207 [==============================] - 18s 85ms/step - loss: 0.8764 - accuracy: 0.6141 - val_loss: 0.8199 - val_accuracy: 0.6403 - lr: 1.5849e-04\n",
            "Epoch 4/30\n",
            "207/207 [==============================] - 17s 80ms/step - loss: 0.7859 - accuracy: 0.6964 - val_loss: 0.7144 - val_accuracy: 0.7452 - lr: 1.9953e-04\n",
            "Epoch 5/30\n",
            "207/207 [==============================] - 16s 76ms/step - loss: 0.6842 - accuracy: 0.7403 - val_loss: 0.6499 - val_accuracy: 0.7589 - lr: 2.5119e-04\n",
            "Epoch 6/30\n",
            "207/207 [==============================] - 16s 75ms/step - loss: 0.5455 - accuracy: 0.7920 - val_loss: 0.6396 - val_accuracy: 0.7507 - lr: 3.1623e-04\n",
            "Epoch 7/30\n",
            "207/207 [==============================] - 16s 76ms/step - loss: 0.4148 - accuracy: 0.8324 - val_loss: 0.6423 - val_accuracy: 0.7507 - lr: 3.9811e-04\n",
            "Epoch 8/30\n",
            "207/207 [==============================] - 16s 75ms/step - loss: 0.3222 - accuracy: 0.8677 - val_loss: 0.7455 - val_accuracy: 0.7466 - lr: 5.0119e-04\n",
            "Epoch 9/30\n",
            "207/207 [==============================] - 16s 76ms/step - loss: 0.2746 - accuracy: 0.8871 - val_loss: 0.7990 - val_accuracy: 0.7398 - lr: 6.3096e-04\n",
            "Epoch 10/30\n",
            "207/207 [==============================] - 16s 76ms/step - loss: 0.2233 - accuracy: 0.9125 - val_loss: 0.9058 - val_accuracy: 0.7262 - lr: 7.9433e-04\n",
            "Epoch 11/30\n",
            "207/207 [==============================] - 16s 77ms/step - loss: 0.1795 - accuracy: 0.9337 - val_loss: 0.8886 - val_accuracy: 0.7616 - lr: 0.0010\n",
            "Epoch 12/30\n",
            "207/207 [==============================] - 16s 76ms/step - loss: 0.1621 - accuracy: 0.9376 - val_loss: 0.9227 - val_accuracy: 0.7330 - lr: 0.0013\n",
            "Epoch 13/30\n",
            "207/207 [==============================] - 17s 85ms/step - loss: 0.1551 - accuracy: 0.9397 - val_loss: 0.9471 - val_accuracy: 0.7561 - lr: 0.0016\n",
            "Epoch 14/30\n",
            "207/207 [==============================] - 16s 77ms/step - loss: 0.1442 - accuracy: 0.9449 - val_loss: 0.9486 - val_accuracy: 0.7507 - lr: 0.0020\n",
            "Epoch 15/30\n",
            "207/207 [==============================] - 16s 76ms/step - loss: 0.1142 - accuracy: 0.9581 - val_loss: 0.9799 - val_accuracy: 0.7629 - lr: 0.0025\n",
            "Epoch 16/30\n",
            "207/207 [==============================] - 16s 76ms/step - loss: 0.1309 - accuracy: 0.9502 - val_loss: 0.9260 - val_accuracy: 0.7520 - lr: 0.0032\n",
            "Epoch 17/30\n",
            "207/207 [==============================] - 16s 76ms/step - loss: 0.1224 - accuracy: 0.9531 - val_loss: 1.0063 - val_accuracy: 0.7098 - lr: 0.0040\n",
            "Epoch 18/30\n",
            "207/207 [==============================] - 16s 76ms/step - loss: 0.1300 - accuracy: 0.9493 - val_loss: 1.0516 - val_accuracy: 0.7084 - lr: 0.0050\n",
            "Epoch 19/30\n",
            "207/207 [==============================] - 16s 76ms/step - loss: 0.1458 - accuracy: 0.9438 - val_loss: 0.8906 - val_accuracy: 0.7398 - lr: 0.0063\n",
            "Epoch 20/30\n",
            "207/207 [==============================] - 16s 75ms/step - loss: 0.1341 - accuracy: 0.9479 - val_loss: 1.0085 - val_accuracy: 0.7302 - lr: 0.0079\n",
            "Epoch 21/30\n",
            "207/207 [==============================] - 16s 76ms/step - loss: 0.1192 - accuracy: 0.9562 - val_loss: 0.9437 - val_accuracy: 0.7248 - lr: 0.0100\n",
            "Epoch 22/30\n",
            "207/207 [==============================] - 17s 81ms/step - loss: 0.1160 - accuracy: 0.9579 - val_loss: 1.1826 - val_accuracy: 0.7275 - lr: 0.0126\n",
            "Epoch 23/30\n",
            "207/207 [==============================] - 17s 80ms/step - loss: 0.1179 - accuracy: 0.9538 - val_loss: 1.0046 - val_accuracy: 0.7398 - lr: 0.0158\n",
            "Epoch 24/30\n",
            "207/207 [==============================] - 16s 75ms/step - loss: 0.1446 - accuracy: 0.9438 - val_loss: 1.0425 - val_accuracy: 0.7166 - lr: 0.0200\n",
            "Epoch 25/30\n",
            "207/207 [==============================] - 16s 76ms/step - loss: 0.1670 - accuracy: 0.9357 - val_loss: 1.2184 - val_accuracy: 0.6717 - lr: 0.0251\n",
            "Epoch 26/30\n",
            "207/207 [==============================] - 16s 76ms/step - loss: 0.2322 - accuracy: 0.9132 - val_loss: 1.2439 - val_accuracy: 0.6826 - lr: 0.0316\n",
            "Epoch 27/30\n",
            "207/207 [==============================] - 16s 76ms/step - loss: 0.3552 - accuracy: 0.8692 - val_loss: 0.9297 - val_accuracy: 0.6376 - lr: 0.0398\n",
            "Epoch 28/30\n",
            "207/207 [==============================] - 16s 77ms/step - loss: 0.4690 - accuracy: 0.8239 - val_loss: 0.8872 - val_accuracy: 0.6390 - lr: 0.0501\n",
            "Epoch 29/30\n",
            "207/207 [==============================] - 16s 77ms/step - loss: 0.5661 - accuracy: 0.7734 - val_loss: 0.8793 - val_accuracy: 0.6158 - lr: 0.0631\n",
            "Epoch 30/30\n",
            "207/207 [==============================] - 16s 79ms/step - loss: 0.6702 - accuracy: 0.7337 - val_loss: 0.9234 - val_accuracy: 0.6090 - lr: 0.0794\n"
          ]
        }
      ]
    },
    {
      "cell_type": "code",
      "source": [
        "result = model.predict((train_people, train_scenes, train_sentences, train_contexts))\n",
        "predict = tf.argmax(result, axis=1)\n",
        "print(predict)"
      ],
      "metadata": {
        "id": "r0BeMbZ32DUO",
        "colab": {
          "base_uri": "https://localhost:8080/"
        },
        "outputId": "a58c1960-d854-4861-e0aa-bae42a9a9ef0"
      },
      "execution_count": 56,
      "outputs": [
        {
          "output_type": "stream",
          "name": "stdout",
          "text": [
            "tf.Tensor([2 0 1 ... 0 2 1], shape=(6605,), dtype=int64)\n"
          ]
        }
      ]
    },
    {
      "cell_type": "code",
      "source": [],
      "metadata": {
        "id": "X380rJve8SXq"
      },
      "execution_count": null,
      "outputs": []
    }
  ]
}