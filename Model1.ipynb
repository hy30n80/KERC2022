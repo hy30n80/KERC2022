{
  "nbformat": 4,
  "nbformat_minor": 0,
  "metadata": {
    "colab": {
      "provenance": [],
      "authorship_tag": "ABX9TyMGI10Wb/JN8bgxBBm2eOKW",
      "include_colab_link": true
    },
    "kernelspec": {
      "name": "python3",
      "display_name": "Python 3"
    },
    "language_info": {
      "name": "python"
    }
  },
  "cells": [
    {
      "cell_type": "markdown",
      "metadata": {
        "id": "view-in-github",
        "colab_type": "text"
      },
      "source": [
        "<a href=\"https://colab.research.google.com/github/hy30n80/KERC2022/blob/main/%08Model1.ipynb\" target=\"_parent\"><img src=\"https://colab.research.google.com/assets/colab-badge.svg\" alt=\"Open In Colab\"/></a>"
      ]
    },
    {
      "cell_type": "code",
      "execution_count": null,
      "metadata": {
        "colab": {
          "base_uri": "https://localhost:8080/"
        },
        "id": "8E_ObtXeJEMC",
        "outputId": "78ae1c45-0aa4-49ee-f94b-638303420019"
      },
      "outputs": [
        {
          "output_type": "stream",
          "name": "stdout",
          "text": [
            "Looking in indexes: https://pypi.org/simple, https://us-python.pkg.dev/colab-wheels/public/simple/\n",
            "Collecting konlpy\n",
            "  Downloading konlpy-0.6.0-py2.py3-none-any.whl (19.4 MB)\n",
            "\u001b[K     |████████████████████████████████| 19.4 MB 40.0 MB/s \n",
            "\u001b[?25hRequirement already satisfied: numpy>=1.6 in /usr/local/lib/python3.7/dist-packages (from konlpy) (1.21.6)\n",
            "Collecting JPype1>=0.7.0\n",
            "  Downloading JPype1-1.4.0-cp37-cp37m-manylinux_2_5_x86_64.manylinux1_x86_64.whl (453 kB)\n",
            "\u001b[K     |████████████████████████████████| 453 kB 40.7 MB/s \n",
            "\u001b[?25hRequirement already satisfied: lxml>=4.1.0 in /usr/local/lib/python3.7/dist-packages (from konlpy) (4.9.1)\n",
            "Requirement already satisfied: typing-extensions in /usr/local/lib/python3.7/dist-packages (from JPype1>=0.7.0->konlpy) (4.1.1)\n",
            "Installing collected packages: JPype1, konlpy\n",
            "Successfully installed JPype1-1.4.0 konlpy-0.6.0\n"
          ]
        }
      ],
      "source": [
        "!pip install konlpy"
      ]
    },
    {
      "cell_type": "code",
      "source": [
        "from google.colab import drive\n",
        "drive.mount('/content/drive')\n",
        "\n",
        "from konlpy.tag import Hannanum, Kkma, Komoran, Okt\n",
        "from gensim.models.word2vec import Word2Vec\n",
        "from tqdm import tqdm\n",
        "import urllib.request\n",
        "import matplotlib.pyplot as plt\n",
        "import numpy as np\n",
        "import tensorflow as tf\n",
        "import pandas as pd"
      ],
      "metadata": {
        "colab": {
          "base_uri": "https://localhost:8080/"
        },
        "id": "Tc3vKLnyJHBT",
        "outputId": "09ae2576-7b79-48fe-8f30-0bc83761e8c0"
      },
      "execution_count": null,
      "outputs": [
        {
          "output_type": "stream",
          "name": "stdout",
          "text": [
            "Drive already mounted at /content/drive; to attempt to forcibly remount, call drive.mount(\"/content/drive\", force_remount=True).\n"
          ]
        }
      ]
    },
    {
      "cell_type": "code",
      "source": [
        "train_x_path = './drive/MyDrive/KERC2022/KERC22Dataset_PublicTest/train_data.tsv'\n",
        "train_y_path = './drive/MyDrive/KERC2022/KERC22Dataset_PublicTest/train_labels.csv'"
      ],
      "metadata": {
        "id": "vTW-5TjiJMuc"
      },
      "execution_count": null,
      "outputs": []
    },
    {
      "cell_type": "code",
      "source": [
        "EMBEDDING_DIM=100\n",
        "MAXLEN = 30\n",
        "TRUNCATING = 'post'\n",
        "PADDING = 'pre'\n",
        "OOV_TOKEN = '<OOV>'\n",
        "NUM_WORDS = 15000\n",
        "SPLIT_SIZE = 0.9"
      ],
      "metadata": {
        "id": "2JKkyHdHJVDk"
      },
      "execution_count": null,
      "outputs": []
    },
    {
      "cell_type": "code",
      "source": [
        "#우선은 sentences 로만 모델 구성하기 때문에, context 에 대한 null 전처리 나중에 고려\n",
        "train_data = pd.read_csv(train_x_path, sep='\\t')\n",
        "print(train_data[:5])\n",
        "print(len(train_data))\n",
        "print(train_data.isnull().sum())\n",
        "\n",
        "labels = pd.read_csv(train_y_path)"
      ],
      "metadata": {
        "colab": {
          "base_uri": "https://localhost:8080/"
        },
        "id": "kI37L8WdJy1P",
        "outputId": "3f5d18a6-1f49-4b2f-faf4-681dca2e7c92"
      },
      "execution_count": null,
      "outputs": [
        {
          "output_type": "stream",
          "name": "stdout",
          "text": [
            "   sentence_id person                                           sentence  \\\n",
            "0            1     어영  야! 전화 받아. 아무리 바빠도 내전화는 받아야 되는거 아냐? 약속 하나도 못지키는...   \n",
            "1            2     어영     우리 아무래도 안되겠다. 이게 최선인거 같애. 평생 잊지 않을게. 행복하길 바란다.   \n",
            "2            3    지구대                          김경사님, 아직 안가셨어요? 시간 다됐을텐데.   \n",
            "3            4     순경                                         근무중인데 어딜가?   \n",
            "4            5    지구대    다녀오세요. 이런날은 무조건 가서 축하해주셔야죠. 이순경이 대신 근무선다고 나온대요.   \n",
            "\n",
            "   scene                                          context  \n",
            "0  S0104                                              NaN  \n",
            "1  S0108         포기한듯 탁 일어서는데, 띵동 문자. 후다닥 보는 어영. 기막혀 읽어보는  \n",
            "2  S0109  초조하게 시계보면서 왔다갔다 서성이는 김순경. 순찰차(경차)와서 멈추고 내리는 지구대  \n",
            "3  S0109  초조하게 시계보면서 왔다갔다 서성이는 김순경. 순찰차(경차)와서 멈추고 내리는 지구대  \n",
            "4  S0109  초조하게 시계보면서 왔다갔다 서성이는 김순경. 순찰차(경차)와서 멈추고 내리는 지구대  \n",
            "7339\n",
            "sentence_id       0\n",
            "person            0\n",
            "sentence          0\n",
            "scene             0\n",
            "context        2017\n",
            "dtype: int64\n"
          ]
        }
      ]
    },
    {
      "cell_type": "code",
      "source": [
        "# Stopwords 는 우선 고려하지 않고 실행\n",
        "hannanum = Hannanum()\n",
        "kkma = Kkma()\n",
        "komoran = Komoran()\n",
        "okt = Okt()\n",
        "\n",
        "tok_sentences = []\n",
        "for sen in tqdm(train_data['sentence']):\n",
        "  tok_sen = okt.morphs(sen)\n",
        "  tok_sentences.append(tok_sen)"
      ],
      "metadata": {
        "colab": {
          "base_uri": "https://localhost:8080/"
        },
        "id": "Hc0IDAZiJYLB",
        "outputId": "ff086362-3dc5-4818-d170-8a22565f846c"
      },
      "execution_count": null,
      "outputs": [
        {
          "output_type": "stream",
          "name": "stderr",
          "text": [
            "100%|██████████| 7339/7339 [00:28<00:00, 255.63it/s]\n"
          ]
        }
      ]
    },
    {
      "cell_type": "code",
      "source": [
        "print('문장 최대 길이: ', max(len(sen) for sen in tok_sentences))\n",
        "print('문장 평균 길이: ', sum(map(len, tok_sentences))/len(tok_sentences))\n",
        "plt.hist([len(sen) for sen in tok_sentences], bins=50)\n",
        "plt.xlabel('length of samples')\n",
        "plt.ylabel('number of samples')\n",
        "plt.show()"
      ],
      "metadata": {
        "colab": {
          "base_uri": "https://localhost:8080/",
          "height": 315
        },
        "id": "orXlACs5MDbG",
        "outputId": "3e5faa3b-26e4-424f-c654-0040558fa649"
      },
      "execution_count": null,
      "outputs": [
        {
          "output_type": "stream",
          "name": "stdout",
          "text": [
            "문장 최대 길이:  73\n",
            "문장 평균 길이:  12.137212154244448\n"
          ]
        },
        {
          "output_type": "display_data",
          "data": {
            "text/plain": [
              "<Figure size 432x288 with 1 Axes>"
            ],
            "image/png": "[encoded data removed]"
          },
          "metadata": {
            "needs_background": "light"
          }
        }
      ]
    },
    {
      "cell_type": "code",
      "source": [
        "\"\"\"\n",
        "model = Word2Vec(sentences = tok_sentences, size=100, window=5, min_count=1, workers=4, sg=0)\n",
        "model.wv.vectors.shape\n",
        "\"\"\""
      ],
      "metadata": {
        "colab": {
          "base_uri": "https://localhost:8080/",
          "height": 36
        },
        "id": "kWcY5O-eM472",
        "outputId": "01c8760e-798e-4ce4-be5a-8d86fd5d1b32"
      },
      "execution_count": null,
      "outputs": [
        {
          "output_type": "execute_result",
          "data": {
            "text/plain": [
              "'\\nmodel = Word2Vec(sentences = tok_sentences, size=100, window=5, min_count=1, workers=4, sg=0)\\nmodel.wv.vectors.shape\\n'"
            ],
            "application/vnd.google.colaboratory.intrinsic+json": {
              "type": "string"
            }
          },
          "metadata": {},
          "execution_count": 81
        }
      ]
    },
    {
      "cell_type": "code",
      "source": [
        "from tensorflow.keras.preprocessing.text import Tokenizer\n",
        "from tensorflow.keras.preprocessing.sequence import pad_sequences\n",
        "\n",
        "def fit_and_seq(train_sentences, oov_token, maxlen, padding, truncating):\n",
        "  \n",
        "  tokenizer = Tokenizer(oov_token = oov_token)\n",
        "  tokenizer.fit_on_texts(train_sentences)\n",
        "  \n",
        "\n",
        "  sequences= tokenizer.texts_to_sequences(train_sentences)\n",
        "  pad_trunc_sequences= pad_sequences(sequences, maxlen=maxlen, padding=padding, truncating=truncating)\n",
        "\n",
        "  return pad_trunc_sequences, tokenizer\n",
        "\n",
        "def tokenize_label(labels):\n",
        "\n",
        "  label_tokenizer = Tokenizer()\n",
        "  label_tokenizer.fit_on_texts(labels)\n",
        "\n",
        "  label_seq = label_tokenizer.texts_to_sequences(labels)\n",
        "  label_seq_np = np.array(label_seq)-1\n",
        "\n",
        "  return label_seq_np\n",
        "\n"
      ],
      "metadata": {
        "id": "wNQfwtu3SSEf"
      },
      "execution_count": null,
      "outputs": []
    },
    {
      "cell_type": "code",
      "source": [
        "train_label_seq = tokenize_label(np.array(labels['label']))"
      ],
      "metadata": {
        "id": "TLswjdj6bcwV"
      },
      "execution_count": null,
      "outputs": []
    },
    {
      "cell_type": "code",
      "source": [
        "train_sentence_seq, tokenizer = fit_and_seq(tok_sentences, OOV_TOKEN, MAXLEN, PADDING, TRUNCATING)"
      ],
      "metadata": {
        "id": "BVAi0U7_X_jy"
      },
      "execution_count": null,
      "outputs": []
    },
    {
      "cell_type": "code",
      "source": [
        "word_index = tokenizer.word_index\n",
        "print(train_sentence_seq[3])\n",
        "print(word_index['근무'])"
      ],
      "metadata": {
        "colab": {
          "base_uri": "https://localhost:8080/"
        },
        "id": "f_KTuiCWYQp3",
        "outputId": "39f3ae30-2a5d-4af6-bec9-4b89b63cbf50"
      },
      "execution_count": null,
      "outputs": [
        {
          "output_type": "stream",
          "name": "stdout",
          "text": [
            "[  0   0   0   0   0   0   0   0   0   0   0   0   0   0   0   0   0   0\n",
            "   0   0   0   0   0   0 533 370  92 482   6   3]\n",
            "533\n"
          ]
        }
      ]
    },
    {
      "cell_type": "code",
      "source": [
        "def train_val_split(sentences, labels, training_split):\n",
        "\n",
        "  train_size = int(len(sentences)*training_split)\n",
        "\n",
        "  train_sentences = sentences[:train_size]\n",
        "  train_labels = labels[:train_size]\n",
        "\n",
        "  val_sentences = sentences[train_size:]\n",
        "  val_labels = labels[train_size:]\n",
        "\n",
        "  return train_sentences, train_labels, val_sentences, val_labels"
      ],
      "metadata": {
        "id": "7I0qq1Mvfwwd"
      },
      "execution_count": null,
      "outputs": []
    },
    {
      "cell_type": "code",
      "source": [
        "train_sentences, train_labels, val_sentences, val_labels = train_val_split(train_sentence_seq, train_label_seq, SPLIT_SIZE)"
      ],
      "metadata": {
        "id": "GYZ2JRqugPk3"
      },
      "execution_count": null,
      "outputs": []
    },
    {
      "cell_type": "code",
      "source": [
        "def create_model(num_words, embedding_dim, maxlen):\n",
        "  \n",
        "  model = tf.keras.Sequential([\n",
        "      tf.keras.layers.Embedding(num_words, embedding_dim, input_length=maxlen),\n",
        "      tf.keras.layers.GlobalAveragePooling1D(),\n",
        "      tf.keras.layers.Dense(32, activation= 'relu'),\n",
        "      tf.keras.layers.Dropout(0.2),\n",
        "      tf.keras.layers.Dense(16, activation = 'relu'),\n",
        "      tf.keras.layers.Dense(3, activation = 'softmax')\n",
        "  ])\n",
        "\n",
        "  model.compile(loss='sparse_categorical_crossentropy',\n",
        "                optimizer = 'adam',\n",
        "                metrics = ['accuracy'])\n",
        "  \n",
        "  return model"
      ],
      "metadata": {
        "id": "RLjK9LxCYTZD"
      },
      "execution_count": null,
      "outputs": []
    },
    {
      "cell_type": "code",
      "source": [
        "model = create_model(NUM_WORDS, EMBEDDING_DIM, MAXLEN)\n",
        "\n",
        "history = model.fit(train_sentences, train_labels, epochs=30, validation_data = (val_sentences, val_labels) )"
      ],
      "metadata": {
        "colab": {
          "base_uri": "https://localhost:8080/"
        },
        "id": "r73as-VaeL8F",
        "outputId": "82db7cb9-a18a-4f64-ac16-d894d92bfab6"
      },
      "execution_count": null,
      "outputs": [
        {
          "output_type": "stream",
          "name": "stdout",
          "text": [
            "Epoch 1/30\n",
            "207/207 [==============================] - 6s 20ms/step - loss: 0.9493 - accuracy: 0.6017 - val_loss: 0.7395 - val_accuracy: 0.7084\n",
            "Epoch 2/30\n",
            "207/207 [==============================] - 4s 19ms/step - loss: 0.8301 - accuracy: 0.6129 - val_loss: 0.6778 - val_accuracy: 0.7057\n",
            "Epoch 3/30\n",
            "207/207 [==============================] - 4s 20ms/step - loss: 0.6756 - accuracy: 0.7031 - val_loss: 0.7327 - val_accuracy: 0.6948\n",
            "Epoch 4/30\n",
            "207/207 [==============================] - 4s 20ms/step - loss: 0.5202 - accuracy: 0.7755 - val_loss: 0.8415 - val_accuracy: 0.6662\n",
            "Epoch 5/30\n",
            "207/207 [==============================] - 4s 20ms/step - loss: 0.4145 - accuracy: 0.8276 - val_loss: 0.9351 - val_accuracy: 0.6022\n",
            "Epoch 6/30\n",
            "207/207 [==============================] - 4s 20ms/step - loss: 0.3458 - accuracy: 0.8663 - val_loss: 0.9883 - val_accuracy: 0.6308\n",
            "Epoch 7/30\n",
            "207/207 [==============================] - 4s 20ms/step - loss: 0.2833 - accuracy: 0.8921 - val_loss: 1.1097 - val_accuracy: 0.5940\n",
            "Epoch 8/30\n",
            "207/207 [==============================] - 4s 20ms/step - loss: 0.2449 - accuracy: 0.9066 - val_loss: 1.1314 - val_accuracy: 0.6185\n",
            "Epoch 9/30\n",
            "207/207 [==============================] - 4s 20ms/step - loss: 0.2209 - accuracy: 0.9111 - val_loss: 1.3041 - val_accuracy: 0.6008\n",
            "Epoch 10/30\n",
            "207/207 [==============================] - 4s 20ms/step - loss: 0.2118 - accuracy: 0.9158 - val_loss: 1.2025 - val_accuracy: 0.6635\n",
            "Epoch 11/30\n",
            "207/207 [==============================] - 4s 20ms/step - loss: 0.1959 - accuracy: 0.9207 - val_loss: 1.2090 - val_accuracy: 0.6785\n",
            "Epoch 12/30\n",
            "207/207 [==============================] - 4s 20ms/step - loss: 0.1810 - accuracy: 0.9252 - val_loss: 1.4038 - val_accuracy: 0.6281\n",
            "Epoch 13/30\n",
            "207/207 [==============================] - 4s 19ms/step - loss: 0.1762 - accuracy: 0.9254 - val_loss: 1.4039 - val_accuracy: 0.6730\n",
            "Epoch 14/30\n",
            "207/207 [==============================] - 4s 20ms/step - loss: 0.1677 - accuracy: 0.9304 - val_loss: 1.5689 - val_accuracy: 0.6076\n",
            "Epoch 15/30\n",
            "207/207 [==============================] - 4s 21ms/step - loss: 0.1603 - accuracy: 0.9296 - val_loss: 1.5339 - val_accuracy: 0.6594\n",
            "Epoch 16/30\n",
            "207/207 [==============================] - 4s 20ms/step - loss: 0.1591 - accuracy: 0.9284 - val_loss: 1.6099 - val_accuracy: 0.6717\n",
            "Epoch 17/30\n",
            "207/207 [==============================] - 4s 20ms/step - loss: 0.1506 - accuracy: 0.9340 - val_loss: 1.7490 - val_accuracy: 0.6553\n",
            "Epoch 18/30\n",
            "207/207 [==============================] - 4s 20ms/step - loss: 0.1522 - accuracy: 0.9298 - val_loss: 1.7774 - val_accuracy: 0.6308\n",
            "Epoch 19/30\n",
            "207/207 [==============================] - 5s 24ms/step - loss: 0.1466 - accuracy: 0.9349 - val_loss: 2.0282 - val_accuracy: 0.6076\n",
            "Epoch 20/30\n",
            "207/207 [==============================] - 5s 22ms/step - loss: 0.1434 - accuracy: 0.9360 - val_loss: 2.0192 - val_accuracy: 0.6335\n",
            "Epoch 21/30\n",
            "207/207 [==============================] - 4s 21ms/step - loss: 0.1396 - accuracy: 0.9373 - val_loss: 1.9369 - val_accuracy: 0.6403\n",
            "Epoch 22/30\n",
            "207/207 [==============================] - 4s 21ms/step - loss: 0.1408 - accuracy: 0.9354 - val_loss: 2.2068 - val_accuracy: 0.6335\n",
            "Epoch 23/30\n",
            "207/207 [==============================] - 4s 20ms/step - loss: 0.1366 - accuracy: 0.9369 - val_loss: 2.2207 - val_accuracy: 0.6431\n",
            "Epoch 24/30\n",
            "207/207 [==============================] - 4s 21ms/step - loss: 0.1389 - accuracy: 0.9350 - val_loss: 2.4380 - val_accuracy: 0.6240\n",
            "Epoch 25/30\n",
            "207/207 [==============================] - 4s 20ms/step - loss: 0.1323 - accuracy: 0.9373 - val_loss: 2.3780 - val_accuracy: 0.6471\n",
            "Epoch 26/30\n",
            "207/207 [==============================] - 4s 20ms/step - loss: 0.1274 - accuracy: 0.9397 - val_loss: 2.5540 - val_accuracy: 0.6117\n",
            "Epoch 27/30\n",
            "207/207 [==============================] - 4s 20ms/step - loss: 0.1301 - accuracy: 0.9396 - val_loss: 2.5324 - val_accuracy: 0.6512\n",
            "Epoch 28/30\n",
            "207/207 [==============================] - 4s 20ms/step - loss: 0.1267 - accuracy: 0.9413 - val_loss: 2.8612 - val_accuracy: 0.5845\n",
            "Epoch 29/30\n",
            "207/207 [==============================] - 4s 21ms/step - loss: 0.1230 - accuracy: 0.9447 - val_loss: 2.9481 - val_accuracy: 0.5954\n",
            "Epoch 30/30\n",
            "207/207 [==============================] - 4s 20ms/step - loss: 0.1282 - accuracy: 0.9399 - val_loss: 2.7768 - val_accuracy: 0.6104\n"
          ]
        }
      ]
    },
    {
      "cell_type": "code",
      "source": [],
      "metadata": {
        "id": "fvdH8ipIetCN"
      },
      "execution_count": null,
      "outputs": []
    }
  ]
}